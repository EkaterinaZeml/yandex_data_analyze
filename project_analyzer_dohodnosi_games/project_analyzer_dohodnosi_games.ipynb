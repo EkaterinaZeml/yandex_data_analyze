{
 "cells": [
  {
   "cell_type": "markdown",
   "metadata": {},
   "source": [
    "# АНАЛИЗ ДОХОДНОСТИ  КОМПЬЮТЕРНЫХ ИГР"
   ]
  },
  {
   "cell_type": "markdown",
   "metadata": {},
   "source": [
    "## ЦЕЛЬ ИССЛЕДОВАНИЯ\n",
    "\n",
    "1.Выявить определяющие успешность игры закономерности. Это позволит сделать ставку на потенциально популярный продукт и спланировать рекламные кампании.\n",
    "\n",
    "2.Проверить гипотезы:\n",
    "\n",
    " - Средние пользовательские рейтинги платформ Xbox One и PC одинаковые;\n",
    "\n",
    " - Средние пользовательские рейтинги жанров Action (англ. «действие», экшен-игры) и Sports (англ. «спортивные соревнования») разные.\n"
   ]
  },
  {
   "cell_type": "markdown",
   "metadata": {},
   "source": [
    "### Ход исследования\n",
    "\n",
    "Данные о поведении пользователей получим из файла /datasets/games.csv. О качестве данных ничего не известно. Поэтому перед проверкой гипотез понадобится обзор данных.\n",
    "\n",
    "Проверим данные на ошибки и оценим их влияние на исследование. Затем, на этапе предобработки мы поищем возможность исправить самые критичные ошибки данных.\n",
    "\n",
    "Таким образом, исследование пройдёт в шесть этапов:\n",
    "\n",
    "1. Ознакомление с данными.\n",
    "2. Подготовка данных.\n",
    "3. Исследователький анализ данных.\n",
    "4. Составим портрет пользователя каждого региона.\n",
    "5. Проверка гипотез.\n",
    "6. Общий вывод."
   ]
  },
  {
   "cell_type": "markdown",
   "metadata": {},
   "source": [
    "Импортируем необходимые библиотеки:"
   ]
  },
  {
   "cell_type": "code",
   "execution_count": 1,
   "metadata": {},
   "outputs": [],
   "source": [
    "import pandas as pd\n",
    "import numpy as np\n",
    "import matplotlib.pyplot as plt\n",
    "import seaborn as sns\n",
    "from scipy import stats as st\n"
   ]
  },
  {
   "cell_type": "markdown",
   "metadata": {},
   "source": [
    "# Шаг 1. Ознакомление с данными"
   ]
  },
  {
   "cell_type": "markdown",
   "metadata": {},
   "source": [
    "Откроем файл с данными, сохраним в переменной df, выведем первые 10 строк, и изучим общую информацию:"
   ]
  },
  {
   "cell_type": "code",
   "execution_count": 2,
   "metadata": {},
   "outputs": [
    {
     "data": {
      "text/html": [
       "<div>\n",
       "<style scoped>\n",
       "    .dataframe tbody tr th:only-of-type {\n",
       "        vertical-align: middle;\n",
       "    }\n",
       "\n",
       "    .dataframe tbody tr th {\n",
       "        vertical-align: top;\n",
       "    }\n",
       "\n",
       "    .dataframe thead th {\n",
       "        text-align: right;\n",
       "    }\n",
       "</style>\n",
       "<table border=\"1\" class=\"dataframe\">\n",
       "  <thead>\n",
       "    <tr style=\"text-align: right;\">\n",
       "      <th></th>\n",
       "      <th>Name</th>\n",
       "      <th>Platform</th>\n",
       "      <th>Year_of_Release</th>\n",
       "      <th>Genre</th>\n",
       "      <th>NA_sales</th>\n",
       "      <th>EU_sales</th>\n",
       "      <th>JP_sales</th>\n",
       "      <th>Other_sales</th>\n",
       "      <th>Critic_Score</th>\n",
       "      <th>User_Score</th>\n",
       "      <th>Rating</th>\n",
       "    </tr>\n",
       "  </thead>\n",
       "  <tbody>\n",
       "    <tr>\n",
       "      <th>0</th>\n",
       "      <td>Wii Sports</td>\n",
       "      <td>Wii</td>\n",
       "      <td>2006.0</td>\n",
       "      <td>Sports</td>\n",
       "      <td>41.36</td>\n",
       "      <td>28.96</td>\n",
       "      <td>3.77</td>\n",
       "      <td>8.45</td>\n",
       "      <td>76.0</td>\n",
       "      <td>8</td>\n",
       "      <td>E</td>\n",
       "    </tr>\n",
       "    <tr>\n",
       "      <th>1</th>\n",
       "      <td>Super Mario Bros.</td>\n",
       "      <td>NES</td>\n",
       "      <td>1985.0</td>\n",
       "      <td>Platform</td>\n",
       "      <td>29.08</td>\n",
       "      <td>3.58</td>\n",
       "      <td>6.81</td>\n",
       "      <td>0.77</td>\n",
       "      <td>NaN</td>\n",
       "      <td>NaN</td>\n",
       "      <td>NaN</td>\n",
       "    </tr>\n",
       "    <tr>\n",
       "      <th>2</th>\n",
       "      <td>Mario Kart Wii</td>\n",
       "      <td>Wii</td>\n",
       "      <td>2008.0</td>\n",
       "      <td>Racing</td>\n",
       "      <td>15.68</td>\n",
       "      <td>12.76</td>\n",
       "      <td>3.79</td>\n",
       "      <td>3.29</td>\n",
       "      <td>82.0</td>\n",
       "      <td>8.3</td>\n",
       "      <td>E</td>\n",
       "    </tr>\n",
       "    <tr>\n",
       "      <th>3</th>\n",
       "      <td>Wii Sports Resort</td>\n",
       "      <td>Wii</td>\n",
       "      <td>2009.0</td>\n",
       "      <td>Sports</td>\n",
       "      <td>15.61</td>\n",
       "      <td>10.93</td>\n",
       "      <td>3.28</td>\n",
       "      <td>2.95</td>\n",
       "      <td>80.0</td>\n",
       "      <td>8</td>\n",
       "      <td>E</td>\n",
       "    </tr>\n",
       "    <tr>\n",
       "      <th>4</th>\n",
       "      <td>Pokemon Red/Pokemon Blue</td>\n",
       "      <td>GB</td>\n",
       "      <td>1996.0</td>\n",
       "      <td>Role-Playing</td>\n",
       "      <td>11.27</td>\n",
       "      <td>8.89</td>\n",
       "      <td>10.22</td>\n",
       "      <td>1.00</td>\n",
       "      <td>NaN</td>\n",
       "      <td>NaN</td>\n",
       "      <td>NaN</td>\n",
       "    </tr>\n",
       "    <tr>\n",
       "      <th>5</th>\n",
       "      <td>Tetris</td>\n",
       "      <td>GB</td>\n",
       "      <td>1989.0</td>\n",
       "      <td>Puzzle</td>\n",
       "      <td>23.20</td>\n",
       "      <td>2.26</td>\n",
       "      <td>4.22</td>\n",
       "      <td>0.58</td>\n",
       "      <td>NaN</td>\n",
       "      <td>NaN</td>\n",
       "      <td>NaN</td>\n",
       "    </tr>\n",
       "    <tr>\n",
       "      <th>6</th>\n",
       "      <td>New Super Mario Bros.</td>\n",
       "      <td>DS</td>\n",
       "      <td>2006.0</td>\n",
       "      <td>Platform</td>\n",
       "      <td>11.28</td>\n",
       "      <td>9.14</td>\n",
       "      <td>6.50</td>\n",
       "      <td>2.88</td>\n",
       "      <td>89.0</td>\n",
       "      <td>8.5</td>\n",
       "      <td>E</td>\n",
       "    </tr>\n",
       "    <tr>\n",
       "      <th>7</th>\n",
       "      <td>Wii Play</td>\n",
       "      <td>Wii</td>\n",
       "      <td>2006.0</td>\n",
       "      <td>Misc</td>\n",
       "      <td>13.96</td>\n",
       "      <td>9.18</td>\n",
       "      <td>2.93</td>\n",
       "      <td>2.84</td>\n",
       "      <td>58.0</td>\n",
       "      <td>6.6</td>\n",
       "      <td>E</td>\n",
       "    </tr>\n",
       "    <tr>\n",
       "      <th>8</th>\n",
       "      <td>New Super Mario Bros. Wii</td>\n",
       "      <td>Wii</td>\n",
       "      <td>2009.0</td>\n",
       "      <td>Platform</td>\n",
       "      <td>14.44</td>\n",
       "      <td>6.94</td>\n",
       "      <td>4.70</td>\n",
       "      <td>2.24</td>\n",
       "      <td>87.0</td>\n",
       "      <td>8.4</td>\n",
       "      <td>E</td>\n",
       "    </tr>\n",
       "    <tr>\n",
       "      <th>9</th>\n",
       "      <td>Duck Hunt</td>\n",
       "      <td>NES</td>\n",
       "      <td>1984.0</td>\n",
       "      <td>Shooter</td>\n",
       "      <td>26.93</td>\n",
       "      <td>0.63</td>\n",
       "      <td>0.28</td>\n",
       "      <td>0.47</td>\n",
       "      <td>NaN</td>\n",
       "      <td>NaN</td>\n",
       "      <td>NaN</td>\n",
       "    </tr>\n",
       "  </tbody>\n",
       "</table>\n",
       "</div>"
      ],
      "text/plain": [
       "                        Name Platform  Year_of_Release         Genre  \\\n",
       "0                 Wii Sports      Wii           2006.0        Sports   \n",
       "1          Super Mario Bros.      NES           1985.0      Platform   \n",
       "2             Mario Kart Wii      Wii           2008.0        Racing   \n",
       "3          Wii Sports Resort      Wii           2009.0        Sports   \n",
       "4   Pokemon Red/Pokemon Blue       GB           1996.0  Role-Playing   \n",
       "5                     Tetris       GB           1989.0        Puzzle   \n",
       "6      New Super Mario Bros.       DS           2006.0      Platform   \n",
       "7                   Wii Play      Wii           2006.0          Misc   \n",
       "8  New Super Mario Bros. Wii      Wii           2009.0      Platform   \n",
       "9                  Duck Hunt      NES           1984.0       Shooter   \n",
       "\n",
       "   NA_sales  EU_sales  JP_sales  Other_sales  Critic_Score User_Score Rating  \n",
       "0     41.36     28.96      3.77         8.45          76.0          8      E  \n",
       "1     29.08      3.58      6.81         0.77           NaN        NaN    NaN  \n",
       "2     15.68     12.76      3.79         3.29          82.0        8.3      E  \n",
       "3     15.61     10.93      3.28         2.95          80.0          8      E  \n",
       "4     11.27      8.89     10.22         1.00           NaN        NaN    NaN  \n",
       "5     23.20      2.26      4.22         0.58           NaN        NaN    NaN  \n",
       "6     11.28      9.14      6.50         2.88          89.0        8.5      E  \n",
       "7     13.96      9.18      2.93         2.84          58.0        6.6      E  \n",
       "8     14.44      6.94      4.70         2.24          87.0        8.4      E  \n",
       "9     26.93      0.63      0.28         0.47           NaN        NaN    NaN  "
      ]
     },
     "execution_count": 2,
     "metadata": {},
     "output_type": "execute_result"
    }
   ],
   "source": [
    "df = pd.read_csv('/datasets/games.csv')\n",
    "df.head(10)"
   ]
  },
  {
   "cell_type": "code",
   "execution_count": 3,
   "metadata": {},
   "outputs": [
    {
     "name": "stdout",
     "output_type": "stream",
     "text": [
      "<class 'pandas.core.frame.DataFrame'>\n",
      "RangeIndex: 16715 entries, 0 to 16714\n",
      "Data columns (total 11 columns):\n",
      " #   Column           Non-Null Count  Dtype  \n",
      "---  ------           --------------  -----  \n",
      " 0   Name             16713 non-null  object \n",
      " 1   Platform         16715 non-null  object \n",
      " 2   Year_of_Release  16446 non-null  float64\n",
      " 3   Genre            16713 non-null  object \n",
      " 4   NA_sales         16715 non-null  float64\n",
      " 5   EU_sales         16715 non-null  float64\n",
      " 6   JP_sales         16715 non-null  float64\n",
      " 7   Other_sales      16715 non-null  float64\n",
      " 8   Critic_Score     8137 non-null   float64\n",
      " 9   User_Score       10014 non-null  object \n",
      " 10  Rating           9949 non-null   object \n",
      "dtypes: float64(6), object(5)\n",
      "memory usage: 1.4+ MB\n"
     ]
    }
   ],
   "source": [
    "df.info()"
   ]
  },
  {
   "cell_type": "markdown",
   "metadata": {},
   "source": [
    "# Шаг 2. Подготовка данных. "
   ]
  },
  {
   "cell_type": "markdown",
   "metadata": {},
   "source": [
    "2.1 Привети названия столбцов к нижнему регистру."
   ]
  },
  {
   "cell_type": "code",
   "execution_count": 4,
   "metadata": {},
   "outputs": [],
   "source": [
    "df.columns = df.columns.str.lower()"
   ]
  },
  {
   "cell_type": "markdown",
   "metadata": {},
   "source": [
    "2.2 Замена типов данных"
   ]
  },
  {
   "cell_type": "markdown",
   "metadata": {},
   "source": [
    "Выведя информацию о датафрейме заметили несоответствие типов данных в колонаках year_of_release - год выпуска (стоит float64, но год это целочисленный тип) заменим на int, user_score - оценка критиков (это численный показатель, но имеет тип object) меняем на float."
   ]
  },
  {
   "cell_type": "code",
   "execution_count": 5,
   "metadata": {},
   "outputs": [],
   "source": [
    "df['year_of_release'] = pd.array(df['year_of_release'], dtype = pd.Int64Dtype())"
   ]
  },
  {
   "cell_type": "code",
   "execution_count": 6,
   "metadata": {},
   "outputs": [
    {
     "data": {
      "text/plain": [
       "array(['8', nan, '8.3', '8.5', '6.6', '8.4', '8.6', '7.7', '6.3', '7.4',\n",
       "       '8.2', '9', '7.9', '8.1', '8.7', '7.1', '3.4', '5.3', '4.8', '3.2',\n",
       "       '8.9', '6.4', '7.8', '7.5', '2.6', '7.2', '9.2', '7', '7.3', '4.3',\n",
       "       '7.6', '5.7', '5', '9.1', '6.5', 'tbd', '8.8', '6.9', '9.4', '6.8',\n",
       "       '6.1', '6.7', '5.4', '4', '4.9', '4.5', '9.3', '6.2', '4.2', '6',\n",
       "       '3.7', '4.1', '5.8', '5.6', '5.5', '4.4', '4.6', '5.9', '3.9',\n",
       "       '3.1', '2.9', '5.2', '3.3', '4.7', '5.1', '3.5', '2.5', '1.9', '3',\n",
       "       '2.7', '2.2', '2', '9.5', '2.1', '3.6', '2.8', '1.8', '3.8', '0',\n",
       "       '1.6', '9.6', '2.4', '1.7', '1.1', '0.3', '1.5', '0.7', '1.2',\n",
       "       '2.3', '0.5', '1.3', '0.2', '0.6', '1.4', '0.9', '1', '9.7'],\n",
       "      dtype=object)"
      ]
     },
     "execution_count": 6,
     "metadata": {},
     "output_type": "execute_result"
    }
   ],
   "source": [
    "#Посмотрим данные колонки user_score:\n",
    "df['user_score'].unique()"
   ]
  },
  {
   "cell_type": "markdown",
   "metadata": {},
   "source": [
    "Помимо чисел и NaN-ов встречаем значение \"tbd\". tbd - это аббревиатура от To Be Determined. Указываю, когда игра имеет недостаточное количество отзывов для подсчета рейтинга пользователей и его публикации. tbd фактически означает отсутствие данных. Заменим его на NaN. Затем поменяем тип данных на float."
   ]
  },
  {
   "cell_type": "code",
   "execution_count": 58,
   "metadata": {},
   "outputs": [],
   "source": [
    "df['user_score'] = df['user_score'].replace('tbd', np.NaN)\n",
    "df['user_score'] = df['user_score'].astype('float')\n"
   ]
  },
  {
   "cell_type": "markdown",
   "metadata": {},
   "source": [
    "2.3 Обработка пропусков"
   ]
  },
  {
   "cell_type": "markdown",
   "metadata": {},
   "source": [
    "Запросим информацию по количеству пропусков в каждом столбце"
   ]
  },
  {
   "cell_type": "code",
   "execution_count": 8,
   "metadata": {},
   "outputs": [
    {
     "data": {
      "text/plain": [
       "name                  2\n",
       "platform              0\n",
       "year_of_release     269\n",
       "genre                 2\n",
       "na_sales              0\n",
       "eu_sales              0\n",
       "jp_sales              0\n",
       "other_sales           0\n",
       "critic_score       8578\n",
       "user_score         9125\n",
       "rating             6766\n",
       "dtype: int64"
      ]
     },
     "execution_count": 8,
     "metadata": {},
     "output_type": "execute_result"
    }
   ],
   "source": [
    "df.isna().sum()"
   ]
  },
  {
   "cell_type": "markdown",
   "metadata": {},
   "source": [
    "Больше всего пропусков в столбцах critic_score - оценка критиков, user_score - оценка пользователей,\n",
    "rating - рэйтинг. Рассмотрим каждый случай отдельно.\n",
    "Пропуски в столбцах critic_score и user_score говорят об отсутсвии оценок, оставим их как есть.\n",
    "Изучим пропуски в столбце rating. rating от организации ESRB (англ. Entertainment Software Rating Board). Эта ассоциация определяет рейтинг компьютерных игр и присваивает им подходящую возрастную категорию. Изучим уникальный список таких категорий в нашем датафрейме."
   ]
  },
  {
   "cell_type": "code",
   "execution_count": 9,
   "metadata": {},
   "outputs": [
    {
     "data": {
      "text/plain": [
       "array(['E', nan, 'M', 'T', 'E10+', 'K-A', 'AO', 'EC', 'RP'], dtype=object)"
      ]
     },
     "execution_count": 9,
     "metadata": {},
     "output_type": "execute_result"
    }
   ],
   "source": [
    "df['rating'].unique()"
   ]
  },
  {
   "cell_type": "markdown",
   "metadata": {},
   "source": [
    "\n",
    "EC — Early Childhood «Для детей младшего возраста»: Игра подходит для детей от 3 лет и не содержит материалов, которые родители могли бы счесть неподходящими. Продукты, получившие данный рейтинг, изначально разрабатываются для детей и обычно представляют собой развивающие игры; Устаревшая градация.\n",
    "\n",
    "E — Everyone «Для всех»: Содержание вполне подходит для возрастной категории от 6 лет. Такие игры могут понравиться и взрослым. Игры с этим рейтингом могут содержать минимальное насилие, в основном «мультяшного» характера. Первоначально K-A (\"Kids to Adults\");\n",
    "\n",
    "E10+ — Everyone 10+ «Для всех от 10 лет и старше»: Проекты с данным рейтингом могут содержать или немного больше мультипликационного или мягкого насилия, или несколько откровенные сцены, или минимальное количество крови;\n",
    "\n",
    "T — Teen «Подросткам»: Игра подходит для лиц от 13 лет. Проекты из данной категории могут содержать насилие, непристойные сцены, грубый юмор, в меру откровенное сексуальное содержимое, кровь или нечастое использование ненормативной лексики;\n",
    "\n",
    "M — Mature «Для взрослых»: Материалы игры не подходят для подростков младше 17 лет. Проекты с данным рейтингом могут содержать достаточно жестокое насилие, большое количество крови с расчленением, непристойные сексуальные сцены или грубую ненормативную лексику, нежелательную для младшей аудитории;\n",
    "\n",
    "AO — Adults Only Только для взрослых»: Содержание игры только для взрослых старше 18 лет. Продукты из данной категории могут содержать длительные сцены жестокого насилия и/или очень откровенное сексуальное содержимое, а также сцены с обнажением;\n",
    "\n",
    "RP — Rating Pending Рейтинг ожидается.\n",
    "\n",
    "Таким образом значение рейтинга K-A и EC можем заменить на E.\n"
   ]
  },
  {
   "cell_type": "code",
   "execution_count": 10,
   "metadata": {},
   "outputs": [],
   "source": [
    "df.loc[df['rating'] == 'K-A', 'rating'] = 'E'\n",
    "df.loc[df['rating'] == 'EC', 'rating'] = 'E'"
   ]
  },
  {
   "cell_type": "markdown",
   "metadata": {},
   "source": [
    "Расшифровав данные оценки отметим что RP означает, что Продукт был отправлен в ESRB и ожидает присвоения рейтинга. Значит пропуски это скорее отсутсвие всякого рэйтига по не известным причинам. Вывидем информацию по тем строкам в которых рэйтинг отсутсвует и сохраним в переменной df_not_rating."
   ]
  },
  {
   "cell_type": "code",
   "execution_count": 11,
   "metadata": {},
   "outputs": [
    {
     "data": {
      "text/html": [
       "<div>\n",
       "<style scoped>\n",
       "    .dataframe tbody tr th:only-of-type {\n",
       "        vertical-align: middle;\n",
       "    }\n",
       "\n",
       "    .dataframe tbody tr th {\n",
       "        vertical-align: top;\n",
       "    }\n",
       "\n",
       "    .dataframe thead th {\n",
       "        text-align: right;\n",
       "    }\n",
       "</style>\n",
       "<table border=\"1\" class=\"dataframe\">\n",
       "  <thead>\n",
       "    <tr style=\"text-align: right;\">\n",
       "      <th></th>\n",
       "      <th>name</th>\n",
       "      <th>platform</th>\n",
       "      <th>year_of_release</th>\n",
       "      <th>genre</th>\n",
       "      <th>na_sales</th>\n",
       "      <th>eu_sales</th>\n",
       "      <th>jp_sales</th>\n",
       "      <th>other_sales</th>\n",
       "      <th>critic_score</th>\n",
       "      <th>user_score</th>\n",
       "      <th>rating</th>\n",
       "    </tr>\n",
       "  </thead>\n",
       "  <tbody>\n",
       "    <tr>\n",
       "      <th>1</th>\n",
       "      <td>Super Mario Bros.</td>\n",
       "      <td>NES</td>\n",
       "      <td>1985</td>\n",
       "      <td>Platform</td>\n",
       "      <td>29.08</td>\n",
       "      <td>3.58</td>\n",
       "      <td>6.81</td>\n",
       "      <td>0.77</td>\n",
       "      <td>NaN</td>\n",
       "      <td>NaN</td>\n",
       "      <td>NaN</td>\n",
       "    </tr>\n",
       "    <tr>\n",
       "      <th>4</th>\n",
       "      <td>Pokemon Red/Pokemon Blue</td>\n",
       "      <td>GB</td>\n",
       "      <td>1996</td>\n",
       "      <td>Role-Playing</td>\n",
       "      <td>11.27</td>\n",
       "      <td>8.89</td>\n",
       "      <td>10.22</td>\n",
       "      <td>1.00</td>\n",
       "      <td>NaN</td>\n",
       "      <td>NaN</td>\n",
       "      <td>NaN</td>\n",
       "    </tr>\n",
       "    <tr>\n",
       "      <th>5</th>\n",
       "      <td>Tetris</td>\n",
       "      <td>GB</td>\n",
       "      <td>1989</td>\n",
       "      <td>Puzzle</td>\n",
       "      <td>23.20</td>\n",
       "      <td>2.26</td>\n",
       "      <td>4.22</td>\n",
       "      <td>0.58</td>\n",
       "      <td>NaN</td>\n",
       "      <td>NaN</td>\n",
       "      <td>NaN</td>\n",
       "    </tr>\n",
       "    <tr>\n",
       "      <th>9</th>\n",
       "      <td>Duck Hunt</td>\n",
       "      <td>NES</td>\n",
       "      <td>1984</td>\n",
       "      <td>Shooter</td>\n",
       "      <td>26.93</td>\n",
       "      <td>0.63</td>\n",
       "      <td>0.28</td>\n",
       "      <td>0.47</td>\n",
       "      <td>NaN</td>\n",
       "      <td>NaN</td>\n",
       "      <td>NaN</td>\n",
       "    </tr>\n",
       "    <tr>\n",
       "      <th>10</th>\n",
       "      <td>Nintendogs</td>\n",
       "      <td>DS</td>\n",
       "      <td>2005</td>\n",
       "      <td>Simulation</td>\n",
       "      <td>9.05</td>\n",
       "      <td>10.95</td>\n",
       "      <td>1.93</td>\n",
       "      <td>2.74</td>\n",
       "      <td>NaN</td>\n",
       "      <td>NaN</td>\n",
       "      <td>NaN</td>\n",
       "    </tr>\n",
       "    <tr>\n",
       "      <th>...</th>\n",
       "      <td>...</td>\n",
       "      <td>...</td>\n",
       "      <td>...</td>\n",
       "      <td>...</td>\n",
       "      <td>...</td>\n",
       "      <td>...</td>\n",
       "      <td>...</td>\n",
       "      <td>...</td>\n",
       "      <td>...</td>\n",
       "      <td>...</td>\n",
       "      <td>...</td>\n",
       "    </tr>\n",
       "    <tr>\n",
       "      <th>16710</th>\n",
       "      <td>Samurai Warriors: Sanada Maru</td>\n",
       "      <td>PS3</td>\n",
       "      <td>2016</td>\n",
       "      <td>Action</td>\n",
       "      <td>0.00</td>\n",
       "      <td>0.00</td>\n",
       "      <td>0.01</td>\n",
       "      <td>0.00</td>\n",
       "      <td>NaN</td>\n",
       "      <td>NaN</td>\n",
       "      <td>NaN</td>\n",
       "    </tr>\n",
       "    <tr>\n",
       "      <th>16711</th>\n",
       "      <td>LMA Manager 2007</td>\n",
       "      <td>X360</td>\n",
       "      <td>2006</td>\n",
       "      <td>Sports</td>\n",
       "      <td>0.00</td>\n",
       "      <td>0.01</td>\n",
       "      <td>0.00</td>\n",
       "      <td>0.00</td>\n",
       "      <td>NaN</td>\n",
       "      <td>NaN</td>\n",
       "      <td>NaN</td>\n",
       "    </tr>\n",
       "    <tr>\n",
       "      <th>16712</th>\n",
       "      <td>Haitaka no Psychedelica</td>\n",
       "      <td>PSV</td>\n",
       "      <td>2016</td>\n",
       "      <td>Adventure</td>\n",
       "      <td>0.00</td>\n",
       "      <td>0.00</td>\n",
       "      <td>0.01</td>\n",
       "      <td>0.00</td>\n",
       "      <td>NaN</td>\n",
       "      <td>NaN</td>\n",
       "      <td>NaN</td>\n",
       "    </tr>\n",
       "    <tr>\n",
       "      <th>16713</th>\n",
       "      <td>Spirits &amp; Spells</td>\n",
       "      <td>GBA</td>\n",
       "      <td>2003</td>\n",
       "      <td>Platform</td>\n",
       "      <td>0.01</td>\n",
       "      <td>0.00</td>\n",
       "      <td>0.00</td>\n",
       "      <td>0.00</td>\n",
       "      <td>NaN</td>\n",
       "      <td>NaN</td>\n",
       "      <td>NaN</td>\n",
       "    </tr>\n",
       "    <tr>\n",
       "      <th>16714</th>\n",
       "      <td>Winning Post 8 2016</td>\n",
       "      <td>PSV</td>\n",
       "      <td>2016</td>\n",
       "      <td>Simulation</td>\n",
       "      <td>0.00</td>\n",
       "      <td>0.00</td>\n",
       "      <td>0.01</td>\n",
       "      <td>0.00</td>\n",
       "      <td>NaN</td>\n",
       "      <td>NaN</td>\n",
       "      <td>NaN</td>\n",
       "    </tr>\n",
       "  </tbody>\n",
       "</table>\n",
       "<p>6766 rows × 11 columns</p>\n",
       "</div>"
      ],
      "text/plain": [
       "                                name platform  year_of_release         genre  \\\n",
       "1                  Super Mario Bros.      NES             1985      Platform   \n",
       "4           Pokemon Red/Pokemon Blue       GB             1996  Role-Playing   \n",
       "5                             Tetris       GB             1989        Puzzle   \n",
       "9                          Duck Hunt      NES             1984       Shooter   \n",
       "10                        Nintendogs       DS             2005    Simulation   \n",
       "...                              ...      ...              ...           ...   \n",
       "16710  Samurai Warriors: Sanada Maru      PS3             2016        Action   \n",
       "16711               LMA Manager 2007     X360             2006        Sports   \n",
       "16712        Haitaka no Psychedelica      PSV             2016     Adventure   \n",
       "16713               Spirits & Spells      GBA             2003      Platform   \n",
       "16714            Winning Post 8 2016      PSV             2016    Simulation   \n",
       "\n",
       "       na_sales  eu_sales  jp_sales  other_sales  critic_score  user_score  \\\n",
       "1         29.08      3.58      6.81         0.77           NaN         NaN   \n",
       "4         11.27      8.89     10.22         1.00           NaN         NaN   \n",
       "5         23.20      2.26      4.22         0.58           NaN         NaN   \n",
       "9         26.93      0.63      0.28         0.47           NaN         NaN   \n",
       "10         9.05     10.95      1.93         2.74           NaN         NaN   \n",
       "...         ...       ...       ...          ...           ...         ...   \n",
       "16710      0.00      0.00      0.01         0.00           NaN         NaN   \n",
       "16711      0.00      0.01      0.00         0.00           NaN         NaN   \n",
       "16712      0.00      0.00      0.01         0.00           NaN         NaN   \n",
       "16713      0.01      0.00      0.00         0.00           NaN         NaN   \n",
       "16714      0.00      0.00      0.01         0.00           NaN         NaN   \n",
       "\n",
       "      rating  \n",
       "1        NaN  \n",
       "4        NaN  \n",
       "5        NaN  \n",
       "9        NaN  \n",
       "10       NaN  \n",
       "...      ...  \n",
       "16710    NaN  \n",
       "16711    NaN  \n",
       "16712    NaN  \n",
       "16713    NaN  \n",
       "16714    NaN  \n",
       "\n",
       "[6766 rows x 11 columns]"
      ]
     },
     "execution_count": 11,
     "metadata": {},
     "output_type": "execute_result"
    }
   ],
   "source": [
    "df_not_rating = df.loc[df['rating'].isna()]\n",
    "df_not_rating"
   ]
  },
  {
   "cell_type": "code",
   "execution_count": 12,
   "metadata": {},
   "outputs": [
    {
     "data": {
      "text/plain": [
       "name                  2\n",
       "platform              0\n",
       "year_of_release      88\n",
       "genre                 2\n",
       "na_sales              0\n",
       "eu_sales              0\n",
       "jp_sales              0\n",
       "other_sales           0\n",
       "critic_score       6683\n",
       "user_score         6680\n",
       "rating             6766\n",
       "dtype: int64"
      ]
     },
     "execution_count": 12,
     "metadata": {},
     "output_type": "execute_result"
    }
   ],
   "source": [
    "#посчитаем пропуски в колонках\n",
    "df_not_rating.isna().sum()"
   ]
  },
  {
   "cell_type": "markdown",
   "metadata": {},
   "source": [
    "Почти у всех игр, где отсутсвует рейтинг также отсутсвуют оценки. Так же наличие пропусков в рэйтинге можно соотнести с тем что, организации ESRB была основана в 1994 году, а вданных присутвтуют игры с 1980 года. В колонке rating заменим пропуски на \"absent\""
   ]
  },
  {
   "cell_type": "code",
   "execution_count": 13,
   "metadata": {},
   "outputs": [],
   "source": [
    "df['rating'] = df['rating'].fillna('absent')"
   ]
  },
  {
   "cell_type": "markdown",
   "metadata": {},
   "source": [
    "2.4 Посчитаем суммарные продажи по всем регионам"
   ]
  },
  {
   "cell_type": "code",
   "execution_count": 14,
   "metadata": {},
   "outputs": [
    {
     "data": {
      "text/html": [
       "<div>\n",
       "<style scoped>\n",
       "    .dataframe tbody tr th:only-of-type {\n",
       "        vertical-align: middle;\n",
       "    }\n",
       "\n",
       "    .dataframe tbody tr th {\n",
       "        vertical-align: top;\n",
       "    }\n",
       "\n",
       "    .dataframe thead th {\n",
       "        text-align: right;\n",
       "    }\n",
       "</style>\n",
       "<table border=\"1\" class=\"dataframe\">\n",
       "  <thead>\n",
       "    <tr style=\"text-align: right;\">\n",
       "      <th></th>\n",
       "      <th>name</th>\n",
       "      <th>platform</th>\n",
       "      <th>year_of_release</th>\n",
       "      <th>genre</th>\n",
       "      <th>na_sales</th>\n",
       "      <th>eu_sales</th>\n",
       "      <th>jp_sales</th>\n",
       "      <th>other_sales</th>\n",
       "      <th>critic_score</th>\n",
       "      <th>user_score</th>\n",
       "      <th>rating</th>\n",
       "      <th>total_sales</th>\n",
       "    </tr>\n",
       "  </thead>\n",
       "  <tbody>\n",
       "    <tr>\n",
       "      <th>0</th>\n",
       "      <td>Wii Sports</td>\n",
       "      <td>Wii</td>\n",
       "      <td>2006</td>\n",
       "      <td>Sports</td>\n",
       "      <td>41.36</td>\n",
       "      <td>28.96</td>\n",
       "      <td>3.77</td>\n",
       "      <td>8.45</td>\n",
       "      <td>76.0</td>\n",
       "      <td>8.0</td>\n",
       "      <td>E</td>\n",
       "      <td>82.54</td>\n",
       "    </tr>\n",
       "    <tr>\n",
       "      <th>1</th>\n",
       "      <td>Super Mario Bros.</td>\n",
       "      <td>NES</td>\n",
       "      <td>1985</td>\n",
       "      <td>Platform</td>\n",
       "      <td>29.08</td>\n",
       "      <td>3.58</td>\n",
       "      <td>6.81</td>\n",
       "      <td>0.77</td>\n",
       "      <td>NaN</td>\n",
       "      <td>NaN</td>\n",
       "      <td>absent</td>\n",
       "      <td>40.24</td>\n",
       "    </tr>\n",
       "    <tr>\n",
       "      <th>2</th>\n",
       "      <td>Mario Kart Wii</td>\n",
       "      <td>Wii</td>\n",
       "      <td>2008</td>\n",
       "      <td>Racing</td>\n",
       "      <td>15.68</td>\n",
       "      <td>12.76</td>\n",
       "      <td>3.79</td>\n",
       "      <td>3.29</td>\n",
       "      <td>82.0</td>\n",
       "      <td>8.3</td>\n",
       "      <td>E</td>\n",
       "      <td>35.52</td>\n",
       "    </tr>\n",
       "    <tr>\n",
       "      <th>3</th>\n",
       "      <td>Wii Sports Resort</td>\n",
       "      <td>Wii</td>\n",
       "      <td>2009</td>\n",
       "      <td>Sports</td>\n",
       "      <td>15.61</td>\n",
       "      <td>10.93</td>\n",
       "      <td>3.28</td>\n",
       "      <td>2.95</td>\n",
       "      <td>80.0</td>\n",
       "      <td>8.0</td>\n",
       "      <td>E</td>\n",
       "      <td>32.77</td>\n",
       "    </tr>\n",
       "    <tr>\n",
       "      <th>4</th>\n",
       "      <td>Pokemon Red/Pokemon Blue</td>\n",
       "      <td>GB</td>\n",
       "      <td>1996</td>\n",
       "      <td>Role-Playing</td>\n",
       "      <td>11.27</td>\n",
       "      <td>8.89</td>\n",
       "      <td>10.22</td>\n",
       "      <td>1.00</td>\n",
       "      <td>NaN</td>\n",
       "      <td>NaN</td>\n",
       "      <td>absent</td>\n",
       "      <td>31.38</td>\n",
       "    </tr>\n",
       "    <tr>\n",
       "      <th>5</th>\n",
       "      <td>Tetris</td>\n",
       "      <td>GB</td>\n",
       "      <td>1989</td>\n",
       "      <td>Puzzle</td>\n",
       "      <td>23.20</td>\n",
       "      <td>2.26</td>\n",
       "      <td>4.22</td>\n",
       "      <td>0.58</td>\n",
       "      <td>NaN</td>\n",
       "      <td>NaN</td>\n",
       "      <td>absent</td>\n",
       "      <td>30.26</td>\n",
       "    </tr>\n",
       "    <tr>\n",
       "      <th>6</th>\n",
       "      <td>New Super Mario Bros.</td>\n",
       "      <td>DS</td>\n",
       "      <td>2006</td>\n",
       "      <td>Platform</td>\n",
       "      <td>11.28</td>\n",
       "      <td>9.14</td>\n",
       "      <td>6.50</td>\n",
       "      <td>2.88</td>\n",
       "      <td>89.0</td>\n",
       "      <td>8.5</td>\n",
       "      <td>E</td>\n",
       "      <td>29.80</td>\n",
       "    </tr>\n",
       "    <tr>\n",
       "      <th>7</th>\n",
       "      <td>Wii Play</td>\n",
       "      <td>Wii</td>\n",
       "      <td>2006</td>\n",
       "      <td>Misc</td>\n",
       "      <td>13.96</td>\n",
       "      <td>9.18</td>\n",
       "      <td>2.93</td>\n",
       "      <td>2.84</td>\n",
       "      <td>58.0</td>\n",
       "      <td>6.6</td>\n",
       "      <td>E</td>\n",
       "      <td>28.91</td>\n",
       "    </tr>\n",
       "    <tr>\n",
       "      <th>8</th>\n",
       "      <td>New Super Mario Bros. Wii</td>\n",
       "      <td>Wii</td>\n",
       "      <td>2009</td>\n",
       "      <td>Platform</td>\n",
       "      <td>14.44</td>\n",
       "      <td>6.94</td>\n",
       "      <td>4.70</td>\n",
       "      <td>2.24</td>\n",
       "      <td>87.0</td>\n",
       "      <td>8.4</td>\n",
       "      <td>E</td>\n",
       "      <td>28.32</td>\n",
       "    </tr>\n",
       "    <tr>\n",
       "      <th>9</th>\n",
       "      <td>Duck Hunt</td>\n",
       "      <td>NES</td>\n",
       "      <td>1984</td>\n",
       "      <td>Shooter</td>\n",
       "      <td>26.93</td>\n",
       "      <td>0.63</td>\n",
       "      <td>0.28</td>\n",
       "      <td>0.47</td>\n",
       "      <td>NaN</td>\n",
       "      <td>NaN</td>\n",
       "      <td>absent</td>\n",
       "      <td>28.31</td>\n",
       "    </tr>\n",
       "    <tr>\n",
       "      <th>10</th>\n",
       "      <td>Nintendogs</td>\n",
       "      <td>DS</td>\n",
       "      <td>2005</td>\n",
       "      <td>Simulation</td>\n",
       "      <td>9.05</td>\n",
       "      <td>10.95</td>\n",
       "      <td>1.93</td>\n",
       "      <td>2.74</td>\n",
       "      <td>NaN</td>\n",
       "      <td>NaN</td>\n",
       "      <td>absent</td>\n",
       "      <td>24.67</td>\n",
       "    </tr>\n",
       "    <tr>\n",
       "      <th>11</th>\n",
       "      <td>Mario Kart DS</td>\n",
       "      <td>DS</td>\n",
       "      <td>2005</td>\n",
       "      <td>Racing</td>\n",
       "      <td>9.71</td>\n",
       "      <td>7.47</td>\n",
       "      <td>4.13</td>\n",
       "      <td>1.90</td>\n",
       "      <td>91.0</td>\n",
       "      <td>8.6</td>\n",
       "      <td>E</td>\n",
       "      <td>23.21</td>\n",
       "    </tr>\n",
       "    <tr>\n",
       "      <th>12</th>\n",
       "      <td>Pokemon Gold/Pokemon Silver</td>\n",
       "      <td>GB</td>\n",
       "      <td>1999</td>\n",
       "      <td>Role-Playing</td>\n",
       "      <td>9.00</td>\n",
       "      <td>6.18</td>\n",
       "      <td>7.20</td>\n",
       "      <td>0.71</td>\n",
       "      <td>NaN</td>\n",
       "      <td>NaN</td>\n",
       "      <td>absent</td>\n",
       "      <td>23.09</td>\n",
       "    </tr>\n",
       "    <tr>\n",
       "      <th>13</th>\n",
       "      <td>Wii Fit</td>\n",
       "      <td>Wii</td>\n",
       "      <td>2007</td>\n",
       "      <td>Sports</td>\n",
       "      <td>8.92</td>\n",
       "      <td>8.03</td>\n",
       "      <td>3.60</td>\n",
       "      <td>2.15</td>\n",
       "      <td>80.0</td>\n",
       "      <td>7.7</td>\n",
       "      <td>E</td>\n",
       "      <td>22.70</td>\n",
       "    </tr>\n",
       "    <tr>\n",
       "      <th>14</th>\n",
       "      <td>Kinect Adventures!</td>\n",
       "      <td>X360</td>\n",
       "      <td>2010</td>\n",
       "      <td>Misc</td>\n",
       "      <td>15.00</td>\n",
       "      <td>4.89</td>\n",
       "      <td>0.24</td>\n",
       "      <td>1.69</td>\n",
       "      <td>61.0</td>\n",
       "      <td>6.3</td>\n",
       "      <td>E</td>\n",
       "      <td>21.82</td>\n",
       "    </tr>\n",
       "  </tbody>\n",
       "</table>\n",
       "</div>"
      ],
      "text/plain": [
       "                           name platform  year_of_release         genre  \\\n",
       "0                    Wii Sports      Wii             2006        Sports   \n",
       "1             Super Mario Bros.      NES             1985      Platform   \n",
       "2                Mario Kart Wii      Wii             2008        Racing   \n",
       "3             Wii Sports Resort      Wii             2009        Sports   \n",
       "4      Pokemon Red/Pokemon Blue       GB             1996  Role-Playing   \n",
       "5                        Tetris       GB             1989        Puzzle   \n",
       "6         New Super Mario Bros.       DS             2006      Platform   \n",
       "7                      Wii Play      Wii             2006          Misc   \n",
       "8     New Super Mario Bros. Wii      Wii             2009      Platform   \n",
       "9                     Duck Hunt      NES             1984       Shooter   \n",
       "10                   Nintendogs       DS             2005    Simulation   \n",
       "11                Mario Kart DS       DS             2005        Racing   \n",
       "12  Pokemon Gold/Pokemon Silver       GB             1999  Role-Playing   \n",
       "13                      Wii Fit      Wii             2007        Sports   \n",
       "14           Kinect Adventures!     X360             2010          Misc   \n",
       "\n",
       "    na_sales  eu_sales  jp_sales  other_sales  critic_score  user_score  \\\n",
       "0      41.36     28.96      3.77         8.45          76.0         8.0   \n",
       "1      29.08      3.58      6.81         0.77           NaN         NaN   \n",
       "2      15.68     12.76      3.79         3.29          82.0         8.3   \n",
       "3      15.61     10.93      3.28         2.95          80.0         8.0   \n",
       "4      11.27      8.89     10.22         1.00           NaN         NaN   \n",
       "5      23.20      2.26      4.22         0.58           NaN         NaN   \n",
       "6      11.28      9.14      6.50         2.88          89.0         8.5   \n",
       "7      13.96      9.18      2.93         2.84          58.0         6.6   \n",
       "8      14.44      6.94      4.70         2.24          87.0         8.4   \n",
       "9      26.93      0.63      0.28         0.47           NaN         NaN   \n",
       "10      9.05     10.95      1.93         2.74           NaN         NaN   \n",
       "11      9.71      7.47      4.13         1.90          91.0         8.6   \n",
       "12      9.00      6.18      7.20         0.71           NaN         NaN   \n",
       "13      8.92      8.03      3.60         2.15          80.0         7.7   \n",
       "14     15.00      4.89      0.24         1.69          61.0         6.3   \n",
       "\n",
       "    rating  total_sales  \n",
       "0        E        82.54  \n",
       "1   absent        40.24  \n",
       "2        E        35.52  \n",
       "3        E        32.77  \n",
       "4   absent        31.38  \n",
       "5   absent        30.26  \n",
       "6        E        29.80  \n",
       "7        E        28.91  \n",
       "8        E        28.32  \n",
       "9   absent        28.31  \n",
       "10  absent        24.67  \n",
       "11       E        23.21  \n",
       "12  absent        23.09  \n",
       "13       E        22.70  \n",
       "14       E        21.82  "
      ]
     },
     "execution_count": 14,
     "metadata": {},
     "output_type": "execute_result"
    }
   ],
   "source": [
    "# Посчитаем суммарное количество продаж во всех регионах и запишите в отдельный столбец total_sales:\n",
    "df['total_sales'] = df['na_sales'] + df['eu_sales'] + df['jp_sales'] + df['other_sales']\n",
    "\n",
    "df.head(15)"
   ]
  },
  {
   "cell_type": "code",
   "execution_count": null,
   "metadata": {},
   "outputs": [],
   "source": [
    "# второй споспоб как посчитать суммарное количество продаж во всех регионах:\n",
    "df[['na_sales','eu_sales','jp_sales', 'other_sales']].sum(axis = 1)"
   ]
  },
  {
   "cell_type": "markdown",
   "metadata": {},
   "source": [
    "# Шаг 3. Исследователький анализ данных."
   ]
  },
  {
   "cell_type": "markdown",
   "metadata": {},
   "source": [
    "1. Cколько игр выпускалось в разные годы. "
   ]
  },
  {
   "cell_type": "code",
   "execution_count": 15,
   "metadata": {},
   "outputs": [
    {
     "data": {
      "text/plain": [
       "Text(0.5, 1.0, 'Количество выпущенных игр')"
      ]
     },
     "execution_count": 15,
     "metadata": {},
     "output_type": "execute_result"
    },
    {
     "data": {
      "image/png": "[encoded data removed]",
      "text/plain": [
       "<Figure size 432x288 with 1 Axes>"
      ]
     },
     "metadata": {
      "needs_background": "light"
     },
     "output_type": "display_data"
    }
   ],
   "source": [
    "df['year_of_release'].hist(bins=25)\n",
    "plt.title('Количество выпущенных игр')"
   ]
  },
  {
   "cell_type": "markdown",
   "metadata": {},
   "source": [
    "Игры начали выпускать в 1980г, но их количество было небольшим. Ближе к  1995г, начинается рост выпуска видеоигр, который мы наблюдаем до 2010 года. После 2010 года количество выпускаемых игр резко пошло на спад. Больше всего игр выпускалось  с 2004 по 2010 годы."
   ]
  },
  {
   "cell_type": "markdown",
   "metadata": {},
   "source": [
    "2. Посмотрим, как менялись продажи по платформам. Выберите платформы с наибольшими суммарными продажами и постройте распределение по годам. За какой характерный срок появляются новые и исчезают старые платформы?"
   ]
  },
  {
   "cell_type": "code",
   "execution_count": 57,
   "metadata": {},
   "outputs": [],
   "source": [
    "# Сгруппируем данные и посмотрим на общую суммы продаж. Отсортируем по убыванию суммы и выведем первые 7 платформ.\n",
    "df_group_platform = df.groupby('platform')['total_sales'].sum().reset_index().sort_values(by='total_sales', ascending=False).head(7)\n",
    "\n",
    "#Создадим из них список\n",
    "lst = df_group_platform['platform'].to_list() \n",
    "\n"
   ]
  },
  {
   "cell_type": "markdown",
   "metadata": {},
   "source": [
    "Сделаем срез из таблицы df, в условие среза передадим список lst в котором мы вывели 7 платформ с наибольшими суммарными продажами. Результат сохраним в переменной df_top_7"
   ]
  },
  {
   "cell_type": "code",
   "execution_count": 17,
   "metadata": {},
   "outputs": [],
   "source": [
    "df_top_7 = df.query('platform == @lst')"
   ]
  },
  {
   "cell_type": "markdown",
   "metadata": {},
   "source": [
    " Построим распределение по годам для этих данных. Для этого на основе df_top_7 создадим сводную таблицу. "
   ]
  },
  {
   "cell_type": "code",
   "execution_count": 18,
   "metadata": {},
   "outputs": [
    {
     "data": {
      "image/png": "[encoded data removed]",
      "text/plain": [
       "<Figure size 720x504 with 1 Axes>"
      ]
     },
     "metadata": {
      "needs_background": "light"
     },
     "output_type": "display_data"
    }
   ],
   "source": [
    "df_top_7_pivot = df_top_7.pivot_table(index='year_of_release', columns='platform', values='total_sales', aggfunc='sum').reset_index().fillna(0)        \n",
    "\n",
    "ax = df_top_7_pivot.plot(x='year_of_release', figsize=(10,7))\n",
    "plt.title('Распределение продаж по годам для топ-7 платформ')\n",
    "ylab = ax.set_ylabel('Продажи')\n",
    "xlab = ax.set_xlabel('Год')\n",
    "plt.show()"
   ]
  },
  {
   "cell_type": "markdown",
   "metadata": {},
   "source": [
    "По графику можно проследить что переод жизни платформы сотавляет примерно 10 - 12 лет.  Таким образом, для прогнозирования подаж на следующий год будем использовать данные за последние 2 года, чтобы выявить наиболее прибыльные напрвления на следующие 10 лет. "
   ]
  },
  {
   "cell_type": "markdown",
   "metadata": {},
   "source": [
    "3. Какие платформы лидируют по продажам, растут или падают? Выберим несколько потенциально прибыльных платформ. Построим ещё один график, распределения продаж по актуальным годам. Сделаем срез по актуальным годам и на его основе создадим сводную таблицу. Сохраним ее в переменной df_actual."
   ]
  },
  {
   "cell_type": "code",
   "execution_count": 19,
   "metadata": {},
   "outputs": [],
   "source": [
    "df_actual = df.query('year_of_release >= 2014') \\\n",
    "              .pivot_table(index='year_of_release', columns='platform', values='total_sales', aggfunc='sum') \\\n",
    "              .reset_index() \\\n",
    "              .fillna(0)"
   ]
  },
  {
   "cell_type": "code",
   "execution_count": 20,
   "metadata": {
    "scrolled": true
   },
   "outputs": [
    {
     "data": {
      "image/png": "[encoded data removed]",
      "text/plain": [
       "<Figure size 648x360 with 1 Axes>"
      ]
     },
     "metadata": {
      "needs_background": "light"
     },
     "output_type": "display_data"
    }
   ],
   "source": [
    "ax = df_actual.plot(x='year_of_release', figsize=(9,5))\n",
    "plt.title('Распределения продаж за 2014-2016 г.')\n",
    "ylab = ax.set_ylabel('Продажи')\n",
    "xlab = ax.set_xlabel('Год')\n",
    "plt.legend(bbox_to_anchor=(1, 1))\n",
    "plt.show()"
   ]
  },
  {
   "cell_type": "markdown",
   "metadata": {},
   "source": [
    "Можно сделать вывод что к концу 2016 года лидерами по продажам были платформы:\n",
    " - PS4\n",
    " - XOne\n",
    " - 3DS\n",
    "\n",
    "Постороим даграмму размаха по глобальным продажам игр в разбивке по самым лидирующим платформам. "
   ]
  },
  {
   "cell_type": "code",
   "execution_count": 21,
   "metadata": {
    "scrolled": true
   },
   "outputs": [
    {
     "data": {
      "text/plain": [
       "<Figure size 1080x504 with 0 Axes>"
      ]
     },
     "execution_count": 21,
     "metadata": {},
     "output_type": "execute_result"
    },
    {
     "data": {
      "image/png": "[encoded data removed]",
      "text/plain": [
       "<Figure size 432x288 with 1 Axes>"
      ]
     },
     "metadata": {
      "needs_background": "light"
     },
     "output_type": "display_data"
    },
    {
     "data": {
      "text/plain": [
       "<Figure size 1080x504 with 0 Axes>"
      ]
     },
     "metadata": {},
     "output_type": "display_data"
    }
   ],
   "source": [
    "df_lider_salse = df.query('year_of_release >= 2014 and platform in [\"PS4\", \"XOne\", \"3DS\"]')\n",
    "ax = sns.boxplot(x='platform', y='total_sales', data=df_lider_salse)\n",
    "plt.ylim(0,2.5)\n",
    "plt.figure(figsize =(15, 7))"
   ]
  },
  {
   "cell_type": "markdown",
   "metadata": {},
   "source": [
    "Медианные значения у всех трех находятся примерно на уровне от 0,15 до 0,2 млн и стремится к нижней границе межквартитьного размаха. это может говорить о том что большпя часть игр выходящих на платформах имеют не очень высокие продажи. Верхняя граница для PS4 b XOne на позициях 1,7 и 1,6 соотвественно. Для 3DS она ниже 1 млн."
   ]
  },
  {
   "cell_type": "markdown",
   "metadata": {},
   "source": [
    "4. Посмотрим, как влияют на продажи внутри одной популярной платформы отзывы пользователей и критиков. Постройте диаграмму рассеяния и посчитайте корреляцию между отзывами и продажами. \n",
    "В качаестве примера возьмем данные для платформы PS4. "
   ]
  },
  {
   "cell_type": "code",
   "execution_count": 22,
   "metadata": {
    "scrolled": true
   },
   "outputs": [],
   "source": [
    "df_ps4 = df.query('platform == \"PS4\"')\n"
   ]
  },
  {
   "cell_type": "code",
   "execution_count": 23,
   "metadata": {},
   "outputs": [
    {
     "data": {
      "text/plain": [
       "0.406567902061781"
      ]
     },
     "execution_count": 23,
     "metadata": {},
     "output_type": "execute_result"
    },
    {
     "data": {
      "image/png": "[encoded data removed]",
      "text/plain": [
       "<Figure size 432x288 with 1 Axes>"
      ]
     },
     "metadata": {
      "needs_background": "light"
     },
     "output_type": "display_data"
    }
   ],
   "source": [
    "# Диаграмма рассеяния \"отзывы критиков и продажи\"\n",
    "df_ps4.plot(x='critic_score', y='total_sales', kind='scatter') \n",
    "#Посчитаем корреляцию между отзывами критиков и продажами\n",
    "df_ps4['total_sales'].corr(df_ps4['critic_score'])"
   ]
  },
  {
   "cell_type": "code",
   "execution_count": 24,
   "metadata": {},
   "outputs": [
    {
     "data": {
      "text/plain": [
       "-0.031957110204556376"
      ]
     },
     "execution_count": 24,
     "metadata": {},
     "output_type": "execute_result"
    },
    {
     "data": {
      "image/png": "[encoded data removed]",
      "text/plain": [
       "<Figure size 432x288 with 1 Axes>"
      ]
     },
     "metadata": {
      "needs_background": "light"
     },
     "output_type": "display_data"
    }
   ],
   "source": [
    "# Диаграмма рассеяния \"отзывы пользователей и продажи\"\n",
    "df_ps4.plot(x='user_score', y='total_sales', kind='scatter') \n",
    "#Посчитаем корреляцию между отзывами пользователей и продажами\n",
    "df_ps4['total_sales'].corr(df_ps4['user_score'])"
   ]
  },
  {
   "cell_type": "markdown",
   "metadata": {},
   "source": [
    "Прямой зависимоти продаж от оценок пользователей не наблюдается. Оценки критиков имеют небольшое влияния на продажи."
   ]
  },
  {
   "cell_type": "markdown",
   "metadata": {},
   "source": [
    "Посмотрим на коэффициенты корэляции между оценками пользователей и критиков и продаж на других популярных платформах.\n"
   ]
  },
  {
   "cell_type": "code",
   "execution_count": 59,
   "metadata": {},
   "outputs": [
    {
     "name": "stdout",
     "output_type": "stream",
     "text": [
      "ККП для платформы PS4\n",
      "              total_sales  user_score  critic_score\n",
      "total_sales      1.000000   -0.040132      0.402661\n",
      "user_score      -0.040132    1.000000      0.546434\n",
      "critic_score     0.402661    0.546434      1.000000\n",
      "ККП для платформы XOne\n",
      "              total_sales  user_score  critic_score\n",
      "total_sales      1.000000   -0.070384      0.428677\n",
      "user_score      -0.070384    1.000000      0.440977\n",
      "critic_score     0.428677    0.440977      1.000000\n",
      "ККП для платформы 3DS\n",
      "              total_sales  user_score  critic_score\n",
      "total_sales      1.000000    0.215193      0.314117\n",
      "user_score       0.215193    1.000000      0.862485\n",
      "critic_score     0.314117    0.862485      1.000000\n"
     ]
    }
   ],
   "source": [
    "list = [\"PS4\", \"XOne\", \"3DS\"]\n",
    "for i in list:\n",
    "    corr = df.query('year_of_release >= 2014 and platform == @i') \\\n",
    "        [['total_sales','user_score', 'critic_score']].agg('corr')\n",
    "    print(f'ККП для платформы {i}', f'{corr}', sep='\\n')   "
   ]
  },
  {
   "cell_type": "markdown",
   "metadata": {},
   "source": [
    "Что и требовалось доказать. Oценки пользователей никак не влияют на продажи. Небольшое значение все же есть у оценок критиков но не существенное."
   ]
  },
  {
   "cell_type": "markdown",
   "metadata": {},
   "source": [
    "5. Посмотрим на общее распределение игр по жанрам. Что можно сказать о самых прибыльных жанрах? Выделяются ли жанры с высокими и низкими продажами?\n",
    "Посмотрим какие самые популярные жанры в срезе самых прибыльных платформ в актуальном периоде."
   ]
  },
  {
   "cell_type": "code",
   "execution_count": 26,
   "metadata": {},
   "outputs": [
    {
     "data": {
      "text/plain": [
       "Action          310\n",
       "Role-Playing    106\n",
       "Sports           81\n",
       "Shooter          74\n",
       "Adventure        63\n",
       "Misc             56\n",
       "Racing           36\n",
       "Fighting         27\n",
       "Platform         21\n",
       "Simulation       19\n",
       "Strategy         15\n",
       "Puzzle            8\n",
       "Name: genre, dtype: int64"
      ]
     },
     "execution_count": 26,
     "metadata": {},
     "output_type": "execute_result"
    }
   ],
   "source": [
    "df.query('year_of_release >= 2014 and platform in [\"PS4\", \"XOne\", \"3DS\"]')['genre'].value_counts()"
   ]
  },
  {
   "cell_type": "markdown",
   "metadata": {},
   "source": [
    "Больше всего игра в жанре Action, Role-Playing, Sports. Action безусловный лидер. Посмотрим на распределение продаж по жанрам. Для анализа возьмем медианный и средние значения продаж, так как под большой общей суммой продаж может скрываться большое колличество игр с невысокими доходами и всего пара бесцеллеров. Нам нужен жанр со стабильно высокоми продажами."
   ]
  },
  {
   "cell_type": "code",
   "execution_count": 27,
   "metadata": {},
   "outputs": [
    {
     "data": {
      "text/plain": [
       "<AxesSubplot:title={'center':'распределение продаж по жанрам'}, xlabel='genre'>"
      ]
     },
     "execution_count": 27,
     "metadata": {},
     "output_type": "execute_result"
    },
    {
     "data": {
      "image/png": "[encoded data removed]",
      "text/plain": [
       "<Figure size 432x288 with 1 Axes>"
      ]
     },
     "metadata": {
      "needs_background": "light"
     },
     "output_type": "display_data"
    }
   ],
   "source": [
    "top_platform = df.query('year_of_release >= 2014 and platform in [\"PS4\", \"XOne\", \"3DS\"]')\n",
    "#Создадим сводные таблицы со средним и медианными значениями продаж по жанрам\n",
    "top_platform_pivot_mean = top_platform.pivot_table(index='genre', values='total_sales', aggfunc='mean').reset_index()\n",
    "top_platform_pivot_median = top_platform.pivot_table(index='genre', values='total_sales', aggfunc='median').reset_index()\n",
    "# Построим диаграмму для средних значений\n",
    "top_platform_pivot_mean.plot(x='genre', kind='bar', stacked=True, alpha=0.7, grid=True, title=\"распределение продаж по жанрам\")\n"
   ]
  },
  {
   "cell_type": "code",
   "execution_count": 28,
   "metadata": {},
   "outputs": [
    {
     "data": {
      "text/plain": [
       "<AxesSubplot:title={'center':'распределение продаж по жанрам'}, xlabel='genre'>"
      ]
     },
     "execution_count": 28,
     "metadata": {},
     "output_type": "execute_result"
    },
    {
     "data": {
      "image/png": "[encoded data removed]",
      "text/plain": [
       "<Figure size 432x288 with 1 Axes>"
      ]
     },
     "metadata": {
      "needs_background": "light"
     },
     "output_type": "display_data"
    }
   ],
   "source": [
    "# Построим диаграмму для медианных значений\n",
    "top_platform_pivot_median.plot(x='genre', kind='bar', stacked=True, alpha=0.7, grid=True, title=\"распределение продаж по жанрам\")"
   ]
  },
  {
   "cell_type": "markdown",
   "metadata": {},
   "source": [
    "Несомненным лидером является жанр Shooter. Следующий за ним жанр Sports."
   ]
  },
  {
   "cell_type": "markdown",
   "metadata": {},
   "source": [
    "# Шаг 4. Составим портрет пользователя каждого региона"
   ]
  },
  {
   "cell_type": "markdown",
   "metadata": {},
   "source": [
    "Самые популярные платформы  для каждого региона. "
   ]
  },
  {
   "cell_type": "code",
   "execution_count": 62,
   "metadata": {},
   "outputs": [
    {
     "data": {
      "text/plain": [
       "<AxesSubplot:title={'center':'Платформы и продажи'}, xlabel='platform'>"
      ]
     },
     "execution_count": 62,
     "metadata": {},
     "output_type": "execute_result"
    },
    {
     "data": {
      "image/png": "[encoded data removed]",
      "text/plain": [
       "<Figure size 432x288 with 1 Axes>"
      ]
     },
     "metadata": {
      "needs_background": "light"
     },
     "output_type": "display_data"
    }
   ],
   "source": [
    "df.query('year_of_release >= 2014 and platform == @list') \\\n",
    "  .pivot_table(index='platform', values=['na_sales', 'eu_sales', 'jp_sales'], aggfunc='sum') \\\n",
    "  .reset_index().plot(kind='bar', x='platform', title='Платформы и продажи')\n"
   ]
  },
  {
   "cell_type": "markdown",
   "metadata": {},
   "source": [
    "Для Северной Америки самые популярные приставки PS4 и Xone. \n",
    "В Европе популярна PS4 за ней Xone.\n",
    "В Японии Лидер - DS."
   ]
  },
  {
   "cell_type": "markdown",
   "metadata": {},
   "source": [
    "Самые популярные жанры."
   ]
  },
  {
   "cell_type": "code",
   "execution_count": 64,
   "metadata": {},
   "outputs": [
    {
     "data": {
      "text/plain": [
       "<AxesSubplot:title={'center':'Жанры и продажи'}, xlabel='genre'>"
      ]
     },
     "execution_count": 64,
     "metadata": {},
     "output_type": "execute_result"
    },
    {
     "data": {
      "image/png": "[encoded data removed]",
      "text/plain": [
       "<Figure size 432x288 with 1 Axes>"
      ]
     },
     "metadata": {
      "needs_background": "light"
     },
     "output_type": "display_data"
    }
   ],
   "source": [
    "df.query('year_of_release >= 2014 and platform == @list') \\\n",
    "  .pivot_table(index='genre', values=['na_sales', 'eu_sales', 'jp_sales'], aggfunc='sum') \\\n",
    "  .reset_index().plot(kind='bar', x='genre', title='Жанры и продажи')"
   ]
  },
  {
   "cell_type": "markdown",
   "metadata": {},
   "source": [
    "Что касается жанров:\n",
    "В Северной Америке самый популярный жанр Shooter. Далее по убыванию следуют Action, Sports.\n",
    "В Европе расклад такой Action, за тем Shooter, Sports и Role-Playing.\n",
    "Япония больше специализируется по ролевым играм Role-Playing , затем идет Action."
   ]
  },
  {
   "cell_type": "markdown",
   "metadata": {},
   "source": [
    "Изучим влияние рейтинг ESRB на продажи в отдельном регионе."
   ]
  },
  {
   "cell_type": "code",
   "execution_count": 65,
   "metadata": {},
   "outputs": [
    {
     "data": {
      "text/plain": [
       "<AxesSubplot:title={'center':'Влияние рейтинг ESRB на продажи'}, xlabel='rating'>"
      ]
     },
     "execution_count": 65,
     "metadata": {},
     "output_type": "execute_result"
    },
    {
     "data": {
      "image/png": "[encoded data removed]",
      "text/plain": [
       "<Figure size 432x288 with 1 Axes>"
      ]
     },
     "metadata": {
      "needs_background": "light"
     },
     "output_type": "display_data"
    }
   ],
   "source": [
    "df.query('year_of_release >= 2014 and platform == @lst') \\\n",
    "  .pivot_table(index='rating', values=['na_sales', 'eu_sales', 'jp_sales'], aggfunc='sum') \\\n",
    "  .reset_index().plot(kind='bar', x='rating', title='Влияние рейтинг ESRB на продажи')"
   ]
  },
  {
   "cell_type": "markdown",
   "metadata": {},
   "source": [
    "Для регионов Северной Америки лидируют игры соответсвующие рэйтингу М  системы ESRB. Не далеко от них ушли игры в категории Е. Продажи в этих группах наиболее высоки. \n",
    "Для регионов Европы лидируют игры соответсвующие рэйтингу Е  системы ESRB, далее игры в категории М. \n",
    "В Японии же большая часть продаваемых игр не имеет рейтига. Следовательног там рейтинг ESRB на продажи не влияет."
   ]
  },
  {
   "cell_type": "markdown",
   "metadata": {},
   "source": [
    "# Шаг 5. Проверка гипотез"
   ]
  },
  {
   "cell_type": "markdown",
   "metadata": {},
   "source": [
    "Нулевая Гипотеза:Средние пользовательские рейтинги платформ Xbox One и PC одинаковые.\n",
    "\n",
    "Тогда алтернативная ей будет звучать так: Средние пользовательские рейтинги платформ Xbox One и PC разные.\n",
    " \n",
    "Есть специальный метод для проверки гипотезы о равенстве среднего двух генеральных совокупностей по взятым из них выборкам: scipy.stats.ttest_ind. \n",
    "Чтобы применить данный тест нужно проверить нормальность распределения для данных."
   ]
  },
  {
   "cell_type": "markdown",
   "metadata": {},
   "source": [
    "Построим гистограммы распределения оценок.\n"
   ]
  },
  {
   "cell_type": "code",
   "execution_count": 72,
   "metadata": {},
   "outputs": [
    {
     "data": {
      "text/plain": [
       "<AxesSubplot:>"
      ]
     },
     "execution_count": 72,
     "metadata": {},
     "output_type": "execute_result"
    },
    {
     "data": {
      "image/png": "[encoded data removed]",
      "text/plain": [
       "<Figure size 432x288 with 1 Axes>"
      ]
     },
     "metadata": {
      "needs_background": "light"
     },
     "output_type": "display_data"
    }
   ],
   "source": [
    "#Для платформы XOne\n",
    "df_xone = df.query('year_of_release >= 2014 and platform == \"XOne\"').dropna(subset=['user_score']).reset_index(drop=True)\n",
    "df_xone['user_score'].hist(bins=20)\n"
   ]
  },
  {
   "cell_type": "code",
   "execution_count": 73,
   "metadata": {},
   "outputs": [
    {
     "data": {
      "text/plain": [
       "<AxesSubplot:>"
      ]
     },
     "execution_count": 73,
     "metadata": {},
     "output_type": "execute_result"
    },
    {
     "data": {
      "image/png": "[encoded data removed]",
      "text/plain": [
       "<Figure size 432x288 with 1 Axes>"
      ]
     },
     "metadata": {
      "needs_background": "light"
     },
     "output_type": "display_data"
    }
   ],
   "source": [
    "#Для платформы PC\n",
    "df_pc = df.query('year_of_release >= 2014 and platform == \"PC\"').dropna(subset=['user_score']).reset_index(drop=True)\n",
    "df_pc['user_score'].hist(bins=20)\n"
   ]
  },
  {
   "cell_type": "code",
   "execution_count": 74,
   "metadata": {},
   "outputs": [
    {
     "data": {
      "text/plain": [
       "count    122.000000\n",
       "mean       6.298361\n",
       "std        1.703278\n",
       "min        1.400000\n",
       "25%        5.325000\n",
       "50%        6.800000\n",
       "75%        7.600000\n",
       "max        9.300000\n",
       "Name: user_score, dtype: float64"
      ]
     },
     "execution_count": 74,
     "metadata": {},
     "output_type": "execute_result"
    }
   ],
   "source": [
    "df_pc['user_score'].describe()"
   ]
  },
  {
   "cell_type": "code",
   "execution_count": 75,
   "metadata": {},
   "outputs": [
    {
     "data": {
      "text/plain": [
       "count    165.000000\n",
       "mean       6.594545\n",
       "std        1.375139\n",
       "min        1.600000\n",
       "25%        5.800000\n",
       "50%        6.800000\n",
       "75%        7.600000\n",
       "max        9.200000\n",
       "Name: user_score, dtype: float64"
      ]
     },
     "execution_count": 75,
     "metadata": {},
     "output_type": "execute_result"
    }
   ],
   "source": [
    "df_xone['user_score'].describe()"
   ]
  },
  {
   "cell_type": "markdown",
   "metadata": {},
   "source": [
    "Уровень значимости: alpha =0.05\n",
    "\n",
    "Посчитаем p-value\n",
    "\n",
    "equal_var=False, така как у нас разные по размеру выборки (отзывов пользователей PC в четыре раза больше, чем пользователей платформы XOne).\n",
    "\n",
    "Если p-value будет меньше выбранного уровня значимости, то нулевую гипотезу о равенстве средних отвергнем. В противном случае делаем вывод, что данные не позволили нам отвергнуть нулевую гипотезу."
   ]
  },
  {
   "cell_type": "code",
   "execution_count": 76,
   "metadata": {},
   "outputs": [],
   "source": [
    "pc = df_pc['user_score'].tolist()\n",
    "xone = df_xone['user_score'].tolist()"
   ]
  },
  {
   "cell_type": "code",
   "execution_count": 77,
   "metadata": {},
   "outputs": [
    {
     "name": "stdout",
     "output_type": "stream",
     "text": [
      "p-значение:  0.11601398086668832\n",
      "Не получилось отвергнуть нулевую гипотезу\n"
     ]
    }
   ],
   "source": [
    "alpha = 0.05 \n",
    "results = st.ttest_ind(pc, xone, equal_var=False)\n",
    "print('p-значение: ', results.pvalue) \n",
    "if results.pvalue < alpha:\n",
    "    print(\"Отвергаем нулевую гипотезу\")\n",
    "else:\n",
    "    print(\"Не получилось отвергнуть нулевую гипотезу\")"
   ]
  },
  {
   "cell_type": "markdown",
   "metadata": {},
   "source": [
    "Проверим следующее предположение: Средние пользовательские рейтинги жанров Action (англ. «действие», экшен-игры) и Sports (англ. «спортивные соревнования») разные.\n",
    "\n",
    "Пусть нулева гипотеза звучит так: Средние пользовательские рейтинги жанров Action  и Sports  одинаковый.\n",
    "\n",
    "Тогда альтернативная гипотеза: Средние пользовательские рейтинги жанров Action  и Sports  разный."
   ]
  },
  {
   "cell_type": "markdown",
   "metadata": {},
   "source": [
    "Построим гистограммы распределения оценок. По аналогии с задачей выше используем метод для проверки гипотезы о равенстве среднего двух генеральных совокупностей по взятым из них выборкам: scipy.stats.ttest_ind. \n",
    "Проверим нормальность распределения для данных."
   ]
  },
  {
   "cell_type": "code",
   "execution_count": 78,
   "metadata": {},
   "outputs": [
    {
     "data": {
      "text/plain": [
       "<AxesSubplot:>"
      ]
     },
     "execution_count": 78,
     "metadata": {},
     "output_type": "execute_result"
    },
    {
     "data": {
      "image/png": "[encoded data removed]",
      "text/plain": [
       "<Figure size 432x288 with 1 Axes>"
      ]
     },
     "metadata": {
      "needs_background": "light"
     },
     "output_type": "display_data"
    }
   ],
   "source": [
    "#Для жанра Action\n",
    "df_action = df.query('year_of_release >= 2014 and genre == \"Action\"').dropna(subset=['user_score']).reset_index(drop=True)\n",
    "df_action['user_score'].hist(bins=20)\n"
   ]
  },
  {
   "cell_type": "code",
   "execution_count": 79,
   "metadata": {},
   "outputs": [
    {
     "data": {
      "text/plain": [
       "<AxesSubplot:>"
      ]
     },
     "execution_count": 79,
     "metadata": {},
     "output_type": "execute_result"
    },
    {
     "data": {
      "image/png": "[encoded data removed]",
      "text/plain": [
       "<Figure size 432x288 with 1 Axes>"
      ]
     },
     "metadata": {
      "needs_background": "light"
     },
     "output_type": "display_data"
    }
   ],
   "source": [
    "#Для жанра Action\n",
    "df_sports = df.query('year_of_release >= 2014 and genre == \"Sports\"').dropna(subset=['user_score']).reset_index(drop=True)\n",
    "df_sports['user_score'].hist(bins=20)"
   ]
  },
  {
   "cell_type": "code",
   "execution_count": 80,
   "metadata": {},
   "outputs": [
    {
     "data": {
      "text/plain": [
       "count    297.000000\n",
       "mean       6.760606\n",
       "std        1.377852\n",
       "min        2.000000\n",
       "25%        6.100000\n",
       "50%        7.100000\n",
       "75%        7.700000\n",
       "max        9.000000\n",
       "Name: user_score, dtype: float64"
      ]
     },
     "execution_count": 80,
     "metadata": {},
     "output_type": "execute_result"
    }
   ],
   "source": [
    "df_action['user_score'].describe()"
   ]
  },
  {
   "cell_type": "code",
   "execution_count": 81,
   "metadata": {},
   "outputs": [
    {
     "data": {
      "text/plain": [
       "count    127.000000\n",
       "mean       5.225197\n",
       "std        1.856604\n",
       "min        0.200000\n",
       "25%        4.000000\n",
       "50%        5.500000\n",
       "75%        6.650000\n",
       "max        8.800000\n",
       "Name: user_score, dtype: float64"
      ]
     },
     "execution_count": 81,
     "metadata": {},
     "output_type": "execute_result"
    }
   ],
   "source": [
    "df_sports['user_score'].describe()"
   ]
  },
  {
   "cell_type": "markdown",
   "metadata": {},
   "source": [
    "Можно сделать первоночальный вывод о том что и распределения и размеры совокупностей похожи.\n",
    "Посчитаем p-value, используя ttest из библиотеки scipy для сравнения средних двух выборок.\n",
    "Параметр equal_var=True, так как размер  выборок примерно одинаков."
   ]
  },
  {
   "cell_type": "code",
   "execution_count": 82,
   "metadata": {},
   "outputs": [],
   "source": [
    "action = df_action['user_score'].tolist()\n",
    "sports = df_sports['user_score'].tolist()"
   ]
  },
  {
   "cell_type": "code",
   "execution_count": 83,
   "metadata": {},
   "outputs": [
    {
     "name": "stdout",
     "output_type": "stream",
     "text": [
      "p-значение:  2.8711147985105864e-19\n",
      "Отвергаем нулевую гипотезу\n"
     ]
    }
   ],
   "source": [
    "alpha = 0.05 \n",
    "results = st.ttest_ind(action, sports)\n",
    "print('p-значение: ', results.pvalue) \n",
    "if results.pvalue < alpha:\n",
    "    print(\"Отвергаем нулевую гипотезу\")\n",
    "else:\n",
    "    print(\"Не получилось отвергнуть нулевую гипотезу\")"
   ]
  },
  {
   "cell_type": "markdown",
   "metadata": {},
   "source": [
    "Здесь получилось отвергнуть нулевую гипотезу о том, что средние пользовательские рейтинги жанров Action  и Sports  одинаковый."
   ]
  },
  {
   "cell_type": "markdown",
   "metadata": {},
   "source": [
    "# Шаг 6.  Общий вывод"
   ]
  },
  {
   "cell_type": "markdown",
   "metadata": {},
   "source": [
    "На основе данных о продажах игр до 2016 нам необходимо было выявить закономерности, определяющие успешность игр.\n",
    "В ходе исследования был определен период жизни игровой платформы, который сотавляет 10-12 лет. Нас основании этого мы определили актуальный период, для дальнейшего исследования. Это последние 2 года, чтобы выявить прибыльные направления на следующие 10 лет.\n",
    "\n",
    "По исследуемому периоду сделали вывод, что к концу 2016 года лидерами по продажам были платформы:\n",
    "PS4\n",
    "XOne\n",
    "3DS\n",
    "\n",
    "Если делать Анализ по регионам, то для Северной Америки самые популярные игры на платформе PS4 и Xone. В Европе популярна PS4. За ней Xone. \n",
    "\n",
    "В Японии Лидер - DS.\n",
    "\n",
    "\n",
    "Самыу популярныей жанры игр для регионов Америки Shooter и Action. В Европе это Action, Shoters и Sports. Для японского рынка любимым жанром является Role-Playing.\n",
    "\n",
    "Оценки пользователей на продажи не оказываю никакого влияния.\n",
    "Но к оценкам критиков можно и прислушаться. \n",
    "В конце исследования проверили две гипотезы:\n",
    "\n",
    "1. Гипотеза:Средние пользовательские рейтинги платформ Xbox One и PC одинаковые. Данная гипотеза не была отвергнута.\n",
    "\n",
    "2. Гипотеза о различии средних значений пользовательских оценок игр двух жанров Action и Sports была отвергнута."
   ]
  }
 ],
 "metadata": {
  "ExecuteTimeLog": [
   {
    "duration": 1259,
    "start_time": "2023-01-16T06:41:09.050Z"
   },
   {
    "duration": 69,
    "start_time": "2023-01-16T06:41:10.495Z"
   },
   {
    "duration": 204,
    "start_time": "2023-01-16T06:41:22.255Z"
   },
   {
    "duration": 15,
    "start_time": "2023-01-16T06:41:51.334Z"
   },
   {
    "duration": 6,
    "start_time": "2023-01-16T06:47:44.957Z"
   },
   {
    "duration": 97,
    "start_time": "2023-01-16T06:49:13.565Z"
   },
   {
    "duration": 13,
    "start_time": "2023-01-16T06:49:19.032Z"
   },
   {
    "duration": 5,
    "start_time": "2023-01-16T06:49:59.597Z"
   },
   {
    "duration": 12,
    "start_time": "2023-01-16T07:01:03.965Z"
   },
   {
    "duration": 4,
    "start_time": "2023-01-16T07:02:25.310Z"
   },
   {
    "duration": 9,
    "start_time": "2023-01-16T07:03:12.388Z"
   },
   {
    "duration": 7,
    "start_time": "2023-01-16T07:03:20.407Z"
   },
   {
    "duration": 6,
    "start_time": "2023-01-16T07:03:33.171Z"
   },
   {
    "duration": 6,
    "start_time": "2023-01-16T07:03:46.661Z"
   },
   {
    "duration": 18,
    "start_time": "2023-01-16T07:06:37.686Z"
   },
   {
    "duration": 3,
    "start_time": "2023-01-16T07:06:45.159Z"
   },
   {
    "duration": 14,
    "start_time": "2023-01-16T07:06:46.173Z"
   },
   {
    "duration": 3,
    "start_time": "2023-01-16T07:06:55.487Z"
   },
   {
    "duration": 73,
    "start_time": "2023-01-16T07:06:56.643Z"
   },
   {
    "duration": 14,
    "start_time": "2023-01-16T07:06:57.143Z"
   },
   {
    "duration": 5,
    "start_time": "2023-01-16T07:06:59.584Z"
   },
   {
    "duration": 5,
    "start_time": "2023-01-16T07:07:01.080Z"
   },
   {
    "duration": 13,
    "start_time": "2023-01-16T07:07:12.191Z"
   },
   {
    "duration": 5,
    "start_time": "2023-01-16T07:07:54.441Z"
   },
   {
    "duration": 8,
    "start_time": "2023-01-16T07:08:49.947Z"
   },
   {
    "duration": 4,
    "start_time": "2023-01-16T07:08:53.446Z"
   },
   {
    "duration": 13,
    "start_time": "2023-01-16T07:08:58.068Z"
   },
   {
    "duration": 4,
    "start_time": "2023-01-16T07:10:08.843Z"
   },
   {
    "duration": 4,
    "start_time": "2023-01-16T07:11:33.165Z"
   },
   {
    "duration": 4,
    "start_time": "2023-01-16T07:11:56.142Z"
   },
   {
    "duration": 13,
    "start_time": "2023-01-16T07:12:48.143Z"
   },
   {
    "duration": 2,
    "start_time": "2023-01-16T07:13:07.343Z"
   },
   {
    "duration": 63,
    "start_time": "2023-01-16T07:13:08.050Z"
   },
   {
    "duration": 12,
    "start_time": "2023-01-16T07:13:08.251Z"
   },
   {
    "duration": 3,
    "start_time": "2023-01-16T07:13:10.043Z"
   },
   {
    "duration": 4,
    "start_time": "2023-01-16T07:13:12.002Z"
   },
   {
    "duration": 14,
    "start_time": "2023-01-16T07:13:16.114Z"
   },
   {
    "duration": 3,
    "start_time": "2023-01-16T07:13:52.304Z"
   },
   {
    "duration": 12,
    "start_time": "2023-01-16T07:13:53.199Z"
   },
   {
    "duration": 4,
    "start_time": "2023-01-16T07:14:16.990Z"
   },
   {
    "duration": 6,
    "start_time": "2023-01-16T07:15:59.663Z"
   },
   {
    "duration": 20,
    "start_time": "2023-01-16T07:17:15.948Z"
   },
   {
    "duration": 7,
    "start_time": "2023-01-16T07:17:45.357Z"
   },
   {
    "duration": 7,
    "start_time": "2023-01-16T07:32:22.168Z"
   },
   {
    "duration": 20,
    "start_time": "2023-01-16T07:32:24.342Z"
   },
   {
    "duration": 4,
    "start_time": "2023-01-16T07:34:20.480Z"
   },
   {
    "duration": 34,
    "start_time": "2023-01-16T07:48:30.963Z"
   },
   {
    "duration": 22,
    "start_time": "2023-01-16T07:48:37.589Z"
   },
   {
    "duration": 12,
    "start_time": "2023-01-16T07:57:35.265Z"
   },
   {
    "duration": 6,
    "start_time": "2023-01-16T07:58:08.338Z"
   },
   {
    "duration": 247,
    "start_time": "2023-01-16T08:04:17.063Z"
   },
   {
    "duration": 216,
    "start_time": "2023-01-16T08:04:43.069Z"
   },
   {
    "duration": 142,
    "start_time": "2023-01-16T08:05:10.039Z"
   },
   {
    "duration": 149,
    "start_time": "2023-01-16T08:06:24.722Z"
   },
   {
    "duration": 160,
    "start_time": "2023-01-16T08:10:20.558Z"
   },
   {
    "duration": 166,
    "start_time": "2023-01-16T08:10:37.740Z"
   },
   {
    "duration": 15,
    "start_time": "2023-01-16T08:30:47.810Z"
   },
   {
    "duration": 22,
    "start_time": "2023-01-16T08:31:47.933Z"
   },
   {
    "duration": 13,
    "start_time": "2023-01-16T08:32:19.320Z"
   },
   {
    "duration": 12,
    "start_time": "2023-01-16T08:32:55.260Z"
   },
   {
    "duration": 14,
    "start_time": "2023-01-16T08:33:18.728Z"
   },
   {
    "duration": 13,
    "start_time": "2023-01-16T08:33:41.776Z"
   },
   {
    "duration": 16,
    "start_time": "2023-01-16T08:33:58.643Z"
   },
   {
    "duration": 8,
    "start_time": "2023-01-16T08:34:34.581Z"
   },
   {
    "duration": 6,
    "start_time": "2023-01-16T08:34:37.293Z"
   },
   {
    "duration": 20,
    "start_time": "2023-01-16T08:34:44.126Z"
   },
   {
    "duration": 139,
    "start_time": "2023-01-16T08:45:30.855Z"
   },
   {
    "duration": 63,
    "start_time": "2023-01-16T08:50:07.979Z"
   },
   {
    "duration": 20,
    "start_time": "2023-01-16T08:58:22.009Z"
   },
   {
    "duration": 6,
    "start_time": "2023-01-16T09:15:09.920Z"
   },
   {
    "duration": 7,
    "start_time": "2023-01-16T09:15:16.084Z"
   },
   {
    "duration": 5,
    "start_time": "2023-01-16T09:15:24.653Z"
   },
   {
    "duration": 11,
    "start_time": "2023-01-16T09:15:56.067Z"
   },
   {
    "duration": 14,
    "start_time": "2023-01-16T09:16:36.739Z"
   },
   {
    "duration": 14,
    "start_time": "2023-01-16T09:16:46.652Z"
   },
   {
    "duration": 15,
    "start_time": "2023-01-16T09:20:48.834Z"
   },
   {
    "duration": 11,
    "start_time": "2023-01-16T09:37:21.313Z"
   },
   {
    "duration": 14,
    "start_time": "2023-01-16T09:37:24.121Z"
   },
   {
    "duration": 1179,
    "start_time": "2023-01-16T09:37:24.680Z"
   },
   {
    "duration": 1861,
    "start_time": "2023-01-16T09:38:17.125Z"
   },
   {
    "duration": 2972,
    "start_time": "2023-01-16T09:40:04.173Z"
   },
   {
    "duration": 54,
    "start_time": "2023-01-16T09:40:51.654Z"
   },
   {
    "duration": 62,
    "start_time": "2023-01-16T09:41:43.136Z"
   },
   {
    "duration": 7,
    "start_time": "2023-01-16T09:47:22.849Z"
   },
   {
    "duration": 6,
    "start_time": "2023-01-16T09:47:26.913Z"
   },
   {
    "duration": 10,
    "start_time": "2023-01-16T09:47:36.588Z"
   },
   {
    "duration": 26,
    "start_time": "2023-01-16T09:50:00.603Z"
   },
   {
    "duration": 9,
    "start_time": "2023-01-16T09:50:13.439Z"
   },
   {
    "duration": 29,
    "start_time": "2023-01-16T09:50:14.145Z"
   },
   {
    "duration": 16,
    "start_time": "2023-01-16T09:51:40.213Z"
   },
   {
    "duration": 23,
    "start_time": "2023-01-16T09:52:23.346Z"
   },
   {
    "duration": 14,
    "start_time": "2023-01-16T09:53:25.839Z"
   },
   {
    "duration": 1245,
    "start_time": "2023-01-16T09:53:31.629Z"
   },
   {
    "duration": 59,
    "start_time": "2023-01-16T09:53:46.511Z"
   },
   {
    "duration": 82,
    "start_time": "2023-01-16T09:59:36.057Z"
   },
   {
    "duration": 2956,
    "start_time": "2023-01-16T09:59:48.548Z"
   },
   {
    "duration": 21,
    "start_time": "2023-01-16T10:01:27.065Z"
   },
   {
    "duration": 13,
    "start_time": "2023-01-16T10:02:01.158Z"
   },
   {
    "duration": 1228,
    "start_time": "2023-01-16T10:02:56.452Z"
   },
   {
    "duration": 148,
    "start_time": "2023-01-16T10:20:09.141Z"
   },
   {
    "duration": 6,
    "start_time": "2023-01-16T10:20:16.970Z"
   },
   {
    "duration": 521,
    "start_time": "2023-01-16T10:20:21.396Z"
   },
   {
    "duration": 12,
    "start_time": "2023-01-16T10:20:50.533Z"
   },
   {
    "duration": 7,
    "start_time": "2023-01-16T10:20:51.099Z"
   },
   {
    "duration": 488,
    "start_time": "2023-01-16T10:20:51.734Z"
   },
   {
    "duration": 470,
    "start_time": "2023-01-16T10:21:18.079Z"
   },
   {
    "duration": 35,
    "start_time": "2023-01-16T10:21:34.101Z"
   },
   {
    "duration": 144,
    "start_time": "2023-01-16T10:26:23.182Z"
   },
   {
    "duration": 206,
    "start_time": "2023-01-16T10:27:03.906Z"
   },
   {
    "duration": 174,
    "start_time": "2023-01-16T10:27:21.858Z"
   },
   {
    "duration": 35,
    "start_time": "2023-01-16T10:31:50.776Z"
   },
   {
    "duration": 468,
    "start_time": "2023-01-16T10:34:42.906Z"
   },
   {
    "duration": 1118,
    "start_time": "2023-01-16T10:44:36.251Z"
   },
   {
    "duration": 1215,
    "start_time": "2023-01-16T10:45:12.151Z"
   },
   {
    "duration": 1255,
    "start_time": "2023-01-16T10:45:33.151Z"
   },
   {
    "duration": 67,
    "start_time": "2023-01-16T10:48:31.619Z"
   },
   {
    "duration": 194,
    "start_time": "2023-01-16T10:48:37.403Z"
   },
   {
    "duration": 183,
    "start_time": "2023-01-16T10:51:37.184Z"
   },
   {
    "duration": 168,
    "start_time": "2023-01-16T10:51:46.584Z"
   },
   {
    "duration": 3,
    "start_time": "2023-01-16T11:01:01.790Z"
   },
   {
    "duration": 32,
    "start_time": "2023-01-16T11:02:58.905Z"
   },
   {
    "duration": 14,
    "start_time": "2023-01-16T11:03:32.197Z"
   },
   {
    "duration": 37,
    "start_time": "2023-01-16T11:03:41.195Z"
   },
   {
    "duration": 1261,
    "start_time": "2023-01-16T11:05:11.690Z"
   },
   {
    "duration": 38,
    "start_time": "2023-01-16T11:06:00.060Z"
   },
   {
    "duration": 1270,
    "start_time": "2023-01-16T11:06:03.328Z"
   },
   {
    "duration": 19,
    "start_time": "2023-01-16T11:07:13.005Z"
   },
   {
    "duration": 4,
    "start_time": "2023-01-16T11:09:35.689Z"
   },
   {
    "duration": 98,
    "start_time": "2023-01-16T11:09:36.403Z"
   },
   {
    "duration": 19,
    "start_time": "2023-01-16T11:09:36.637Z"
   },
   {
    "duration": 4,
    "start_time": "2023-01-16T11:09:37.331Z"
   },
   {
    "duration": 5,
    "start_time": "2023-01-16T11:09:38.075Z"
   },
   {
    "duration": 6,
    "start_time": "2023-01-16T11:09:38.331Z"
   },
   {
    "duration": 7,
    "start_time": "2023-01-16T11:09:38.809Z"
   },
   {
    "duration": 9,
    "start_time": "2023-01-16T11:09:39.533Z"
   },
   {
    "duration": 5,
    "start_time": "2023-01-16T11:09:39.986Z"
   },
   {
    "duration": 8,
    "start_time": "2023-01-16T11:09:40.461Z"
   },
   {
    "duration": 29,
    "start_time": "2023-01-16T11:09:40.962Z"
   },
   {
    "duration": 9,
    "start_time": "2023-01-16T11:09:41.227Z"
   },
   {
    "duration": 9,
    "start_time": "2023-01-16T11:09:41.478Z"
   },
   {
    "duration": 20,
    "start_time": "2023-01-16T11:09:42.227Z"
   },
   {
    "duration": 162,
    "start_time": "2023-01-16T11:09:42.955Z"
   },
   {
    "duration": 9,
    "start_time": "2023-01-16T11:09:45.063Z"
   },
   {
    "duration": 25,
    "start_time": "2023-01-16T11:09:46.092Z"
   },
   {
    "duration": 29,
    "start_time": "2023-01-16T11:09:46.936Z"
   },
   {
    "duration": 13,
    "start_time": "2023-01-16T11:09:47.987Z"
   },
   {
    "duration": 10,
    "start_time": "2023-01-16T11:09:49.037Z"
   },
   {
    "duration": 11,
    "start_time": "2023-01-16T11:10:18.665Z"
   },
   {
    "duration": 8,
    "start_time": "2023-01-16T11:10:28.596Z"
   },
   {
    "duration": 18,
    "start_time": "2023-01-16T11:10:47.500Z"
   },
   {
    "duration": 34,
    "start_time": "2023-01-16T12:21:34.970Z"
   },
   {
    "duration": 36,
    "start_time": "2023-01-16T12:22:22.668Z"
   },
   {
    "duration": 100,
    "start_time": "2023-01-16T12:23:29.916Z"
   },
   {
    "duration": 83,
    "start_time": "2023-01-16T12:24:46.299Z"
   },
   {
    "duration": 70,
    "start_time": "2023-01-16T12:24:54.299Z"
   },
   {
    "duration": 41,
    "start_time": "2023-01-16T12:25:21.014Z"
   },
   {
    "duration": 221,
    "start_time": "2023-01-16T12:26:09.049Z"
   },
   {
    "duration": 8,
    "start_time": "2023-01-16T12:31:54.255Z"
   },
   {
    "duration": 265,
    "start_time": "2023-01-16T12:33:25.474Z"
   },
   {
    "duration": 304,
    "start_time": "2023-01-16T12:35:40.440Z"
   },
   {
    "duration": 257,
    "start_time": "2023-01-16T12:35:51.140Z"
   },
   {
    "duration": 269,
    "start_time": "2023-01-16T12:35:57.936Z"
   },
   {
    "duration": 240,
    "start_time": "2023-01-16T12:36:09.955Z"
   },
   {
    "duration": 229,
    "start_time": "2023-01-16T12:36:38.296Z"
   },
   {
    "duration": 255,
    "start_time": "2023-01-16T12:36:54.301Z"
   },
   {
    "duration": 11,
    "start_time": "2023-01-16T12:40:18.705Z"
   },
   {
    "duration": 10,
    "start_time": "2023-01-16T12:40:22.521Z"
   },
   {
    "duration": 13,
    "start_time": "2023-01-16T12:40:40.463Z"
   },
   {
    "duration": 49,
    "start_time": "2023-01-17T06:02:01.031Z"
   },
   {
    "duration": 74,
    "start_time": "2023-01-17T06:02:27.227Z"
   },
   {
    "duration": 1534,
    "start_time": "2023-01-17T06:02:42.680Z"
   },
   {
    "duration": 251,
    "start_time": "2023-01-17T06:02:44.219Z"
   },
   {
    "duration": 20,
    "start_time": "2023-01-17T06:02:44.473Z"
   },
   {
    "duration": 36,
    "start_time": "2023-01-17T06:02:44.495Z"
   },
   {
    "duration": 51,
    "start_time": "2023-01-17T06:02:44.535Z"
   },
   {
    "duration": 11,
    "start_time": "2023-01-17T06:02:44.588Z"
   },
   {
    "duration": 29,
    "start_time": "2023-01-17T06:02:44.601Z"
   },
   {
    "duration": 40,
    "start_time": "2023-01-17T06:02:44.632Z"
   },
   {
    "duration": 20,
    "start_time": "2023-01-17T06:02:44.674Z"
   },
   {
    "duration": 53,
    "start_time": "2023-01-17T06:02:44.696Z"
   },
   {
    "duration": 37,
    "start_time": "2023-01-17T06:02:44.751Z"
   },
   {
    "duration": 6,
    "start_time": "2023-01-17T06:02:44.790Z"
   },
   {
    "duration": 20,
    "start_time": "2023-01-17T06:02:44.798Z"
   },
   {
    "duration": 32,
    "start_time": "2023-01-17T06:02:44.822Z"
   },
   {
    "duration": 330,
    "start_time": "2023-01-17T06:02:44.856Z"
   },
   {
    "duration": 15,
    "start_time": "2023-01-17T06:02:45.189Z"
   },
   {
    "duration": 32,
    "start_time": "2023-01-17T06:02:45.207Z"
   },
   {
    "duration": 435,
    "start_time": "2023-01-17T06:02:45.241Z"
   },
   {
    "duration": 25,
    "start_time": "2023-01-17T06:15:19.104Z"
   },
   {
    "duration": 230,
    "start_time": "2023-01-17T06:20:21.429Z"
   },
   {
    "duration": 65,
    "start_time": "2023-01-17T06:28:10.002Z"
   },
   {
    "duration": 40,
    "start_time": "2023-01-17T06:28:46.477Z"
   },
   {
    "duration": 50,
    "start_time": "2023-01-17T06:30:21.795Z"
   },
   {
    "duration": 44,
    "start_time": "2023-01-17T06:30:36.468Z"
   },
   {
    "duration": 61,
    "start_time": "2023-01-17T06:31:19.026Z"
   },
   {
    "duration": 58,
    "start_time": "2023-01-17T06:31:32.963Z"
   },
   {
    "duration": 42,
    "start_time": "2023-01-17T06:34:23.664Z"
   },
   {
    "duration": 19,
    "start_time": "2023-01-17T06:35:26.846Z"
   },
   {
    "duration": 365,
    "start_time": "2023-01-17T06:36:11.128Z"
   },
   {
    "duration": 341,
    "start_time": "2023-01-17T06:55:42.330Z"
   },
   {
    "duration": 397,
    "start_time": "2023-01-17T06:58:11.057Z"
   },
   {
    "duration": 299,
    "start_time": "2023-01-17T06:58:52.570Z"
   },
   {
    "duration": 306,
    "start_time": "2023-01-17T06:59:04.917Z"
   },
   {
    "duration": 27,
    "start_time": "2023-01-17T07:23:11.716Z"
   },
   {
    "duration": 8,
    "start_time": "2023-01-17T07:25:45.285Z"
   },
   {
    "duration": 207,
    "start_time": "2023-01-17T07:26:28.945Z"
   },
   {
    "duration": 204,
    "start_time": "2023-01-17T07:29:13.116Z"
   },
   {
    "duration": 211,
    "start_time": "2023-01-17T07:30:50.446Z"
   },
   {
    "duration": 412,
    "start_time": "2023-01-17T07:34:53.434Z"
   },
   {
    "duration": 137,
    "start_time": "2023-01-17T07:35:45.209Z"
   },
   {
    "duration": 134,
    "start_time": "2023-01-17T07:36:34.117Z"
   },
   {
    "duration": 137,
    "start_time": "2023-01-17T07:40:20.323Z"
   },
   {
    "duration": 146,
    "start_time": "2023-01-17T07:41:33.346Z"
   },
   {
    "duration": 164,
    "start_time": "2023-01-17T07:41:41.364Z"
   },
   {
    "duration": 140,
    "start_time": "2023-01-17T07:41:53.361Z"
   },
   {
    "duration": 149,
    "start_time": "2023-01-17T07:42:31.842Z"
   },
   {
    "duration": 148,
    "start_time": "2023-01-17T07:43:42.602Z"
   },
   {
    "duration": 147,
    "start_time": "2023-01-17T07:43:51.990Z"
   },
   {
    "duration": 138,
    "start_time": "2023-01-17T07:44:01.998Z"
   },
   {
    "duration": 33,
    "start_time": "2023-01-17T07:47:09.875Z"
   },
   {
    "duration": 11,
    "start_time": "2023-01-17T07:47:47.445Z"
   },
   {
    "duration": 31,
    "start_time": "2023-01-17T08:11:48.568Z"
   },
   {
    "duration": 18,
    "start_time": "2023-01-17T08:20:40.428Z"
   },
   {
    "duration": 8,
    "start_time": "2023-01-17T08:20:54.138Z"
   },
   {
    "duration": 221,
    "start_time": "2023-01-17T08:20:56.297Z"
   },
   {
    "duration": 6,
    "start_time": "2023-01-17T08:21:37.600Z"
   },
   {
    "duration": 7,
    "start_time": "2023-01-17T08:21:40.589Z"
   },
   {
    "duration": 7,
    "start_time": "2023-01-17T08:21:54.110Z"
   },
   {
    "duration": 26,
    "start_time": "2023-01-17T08:22:32.086Z"
   },
   {
    "duration": 9,
    "start_time": "2023-01-17T08:22:56.730Z"
   },
   {
    "duration": 6,
    "start_time": "2023-01-17T08:23:05.306Z"
   },
   {
    "duration": 7,
    "start_time": "2023-01-17T08:23:06.073Z"
   },
   {
    "duration": 7,
    "start_time": "2023-01-17T08:26:31.540Z"
   },
   {
    "duration": 339,
    "start_time": "2023-01-17T08:32:05.590Z"
   },
   {
    "duration": 180,
    "start_time": "2023-01-17T08:33:49.919Z"
   },
   {
    "duration": 166,
    "start_time": "2023-01-17T08:34:32.058Z"
   },
   {
    "duration": 186,
    "start_time": "2023-01-17T08:36:56.018Z"
   },
   {
    "duration": 3,
    "start_time": "2023-01-17T08:48:39.178Z"
   },
   {
    "duration": 5,
    "start_time": "2023-01-17T08:48:47.471Z"
   },
   {
    "duration": 27,
    "start_time": "2023-01-17T09:00:45.431Z"
   },
   {
    "duration": 23,
    "start_time": "2023-01-17T09:00:56.100Z"
   },
   {
    "duration": 31,
    "start_time": "2023-01-17T09:02:11.518Z"
   },
   {
    "duration": 21,
    "start_time": "2023-01-17T09:02:32.999Z"
   },
   {
    "duration": 25,
    "start_time": "2023-01-17T09:02:49.857Z"
   },
   {
    "duration": 27,
    "start_time": "2023-01-17T09:04:05.880Z"
   },
   {
    "duration": 22,
    "start_time": "2023-01-17T09:04:53.806Z"
   },
   {
    "duration": 37,
    "start_time": "2023-01-17T09:05:13.349Z"
   },
   {
    "duration": 25,
    "start_time": "2023-01-17T09:05:19.873Z"
   },
   {
    "duration": 27,
    "start_time": "2023-01-17T09:05:33.749Z"
   },
   {
    "duration": 38,
    "start_time": "2023-01-17T09:05:36.009Z"
   },
   {
    "duration": 1157,
    "start_time": "2023-01-17T09:08:15.162Z"
   },
   {
    "duration": 18,
    "start_time": "2023-01-17T09:08:56.752Z"
   },
   {
    "duration": 27,
    "start_time": "2023-01-17T09:09:17.098Z"
   },
   {
    "duration": 50,
    "start_time": "2023-01-17T09:09:41.616Z"
   },
   {
    "duration": 34,
    "start_time": "2023-01-17T09:09:57.687Z"
   },
   {
    "duration": 4,
    "start_time": "2023-01-17T09:12:03.790Z"
   },
   {
    "duration": 27,
    "start_time": "2023-01-17T09:12:32.232Z"
   },
   {
    "duration": 27,
    "start_time": "2023-01-17T09:12:34.664Z"
   },
   {
    "duration": 11,
    "start_time": "2023-01-17T09:12:36.992Z"
   },
   {
    "duration": 35,
    "start_time": "2023-01-17T09:13:47.366Z"
   },
   {
    "duration": 47,
    "start_time": "2023-01-17T09:16:18.993Z"
   },
   {
    "duration": 47,
    "start_time": "2023-01-17T09:16:27.311Z"
   },
   {
    "duration": 47,
    "start_time": "2023-01-17T09:17:11.274Z"
   },
   {
    "duration": 44,
    "start_time": "2023-01-17T09:17:30.506Z"
   },
   {
    "duration": 46,
    "start_time": "2023-01-17T09:17:51.778Z"
   },
   {
    "duration": 44,
    "start_time": "2023-01-17T09:18:26.574Z"
   },
   {
    "duration": 44,
    "start_time": "2023-01-17T09:19:04.971Z"
   },
   {
    "duration": 44,
    "start_time": "2023-01-17T09:20:10.670Z"
   },
   {
    "duration": 43,
    "start_time": "2023-01-17T09:20:33.487Z"
   },
   {
    "duration": 7,
    "start_time": "2023-01-17T09:26:52.468Z"
   },
   {
    "duration": 155,
    "start_time": "2023-01-17T09:26:53.249Z"
   },
   {
    "duration": 154,
    "start_time": "2023-01-17T09:26:55.017Z"
   },
   {
    "duration": 8,
    "start_time": "2023-01-17T09:27:28.965Z"
   },
   {
    "duration": 45,
    "start_time": "2023-01-17T09:27:49.238Z"
   },
   {
    "duration": 27,
    "start_time": "2023-01-17T09:29:15.938Z"
   },
   {
    "duration": 11,
    "start_time": "2023-01-17T09:31:08.607Z"
   },
   {
    "duration": 10,
    "start_time": "2023-01-17T09:31:48.671Z"
   },
   {
    "duration": 10,
    "start_time": "2023-01-17T09:33:05.913Z"
   },
   {
    "duration": 21,
    "start_time": "2023-01-17T09:40:15.310Z"
   },
   {
    "duration": 192,
    "start_time": "2023-01-17T09:41:48.297Z"
   },
   {
    "duration": 192,
    "start_time": "2023-01-17T09:45:53.472Z"
   },
   {
    "duration": 35,
    "start_time": "2023-01-17T09:46:57.990Z"
   },
   {
    "duration": 30,
    "start_time": "2023-01-17T09:47:03.276Z"
   },
   {
    "duration": 34,
    "start_time": "2023-01-17T09:47:11.624Z"
   },
   {
    "duration": 223,
    "start_time": "2023-01-17T09:47:27.700Z"
   },
   {
    "duration": 283,
    "start_time": "2023-01-17T09:48:07.515Z"
   },
   {
    "duration": 305,
    "start_time": "2023-01-17T09:49:29.050Z"
   },
   {
    "duration": 229,
    "start_time": "2023-01-17T09:50:31.091Z"
   },
   {
    "duration": 32,
    "start_time": "2023-01-17T11:16:59.273Z"
   },
   {
    "duration": 74,
    "start_time": "2023-01-17T11:23:17.881Z"
   },
   {
    "duration": 22,
    "start_time": "2023-01-17T11:25:52.274Z"
   },
   {
    "duration": 20,
    "start_time": "2023-01-17T11:26:45.746Z"
   },
   {
    "duration": 181,
    "start_time": "2023-01-17T11:32:03.844Z"
   },
   {
    "duration": 211,
    "start_time": "2023-01-17T11:32:36.801Z"
   },
   {
    "duration": 167,
    "start_time": "2023-01-17T11:43:32.209Z"
   },
   {
    "duration": 197,
    "start_time": "2023-01-17T11:43:53.277Z"
   },
   {
    "duration": 220,
    "start_time": "2023-01-17T11:44:09.173Z"
   },
   {
    "duration": 204,
    "start_time": "2023-01-17T11:44:33.271Z"
   },
   {
    "duration": 4,
    "start_time": "2023-01-17T11:47:13.571Z"
   },
   {
    "duration": 251,
    "start_time": "2023-01-17T11:51:04.288Z"
   },
   {
    "duration": 1354,
    "start_time": "2023-01-18T06:07:16.944Z"
   },
   {
    "duration": 211,
    "start_time": "2023-01-18T06:07:18.300Z"
   },
   {
    "duration": 14,
    "start_time": "2023-01-18T06:07:18.513Z"
   },
   {
    "duration": 3,
    "start_time": "2023-01-18T06:07:18.529Z"
   },
   {
    "duration": 7,
    "start_time": "2023-01-18T06:07:18.534Z"
   },
   {
    "duration": 8,
    "start_time": "2023-01-18T06:07:18.542Z"
   },
   {
    "duration": 8,
    "start_time": "2023-01-18T06:07:18.552Z"
   },
   {
    "duration": 9,
    "start_time": "2023-01-18T06:07:18.566Z"
   },
   {
    "duration": 5,
    "start_time": "2023-01-18T06:07:18.576Z"
   },
   {
    "duration": 7,
    "start_time": "2023-01-18T06:07:18.584Z"
   },
   {
    "duration": 23,
    "start_time": "2023-01-18T06:07:18.592Z"
   },
   {
    "duration": 5,
    "start_time": "2023-01-18T06:07:18.617Z"
   },
   {
    "duration": 16,
    "start_time": "2023-01-18T06:07:18.623Z"
   },
   {
    "duration": 46,
    "start_time": "2023-01-18T06:07:18.640Z"
   },
   {
    "duration": 188,
    "start_time": "2023-01-18T06:07:18.688Z"
   },
   {
    "duration": 9,
    "start_time": "2023-01-18T06:07:18.877Z"
   },
   {
    "duration": 19,
    "start_time": "2023-01-18T06:07:18.887Z"
   },
   {
    "duration": 268,
    "start_time": "2023-01-18T06:07:18.908Z"
   },
   {
    "duration": 18,
    "start_time": "2023-01-18T06:07:19.178Z"
   },
   {
    "duration": 293,
    "start_time": "2023-01-18T06:07:19.197Z"
   },
   {
    "duration": 139,
    "start_time": "2023-01-18T06:07:19.492Z"
   },
   {
    "duration": 6,
    "start_time": "2023-01-18T06:07:19.633Z"
   },
   {
    "duration": 167,
    "start_time": "2023-01-18T06:07:19.641Z"
   },
   {
    "duration": 148,
    "start_time": "2023-01-18T06:07:19.810Z"
   },
   {
    "duration": 52,
    "start_time": "2023-01-18T06:07:19.959Z"
   },
   {
    "duration": 9,
    "start_time": "2023-01-18T06:07:20.013Z"
   },
   {
    "duration": 234,
    "start_time": "2023-01-18T06:07:20.023Z"
   },
   {
    "duration": 271,
    "start_time": "2023-01-18T06:07:20.267Z"
   },
   {
    "duration": 246,
    "start_time": "2023-01-18T06:07:20.540Z"
   },
   {
    "duration": 178,
    "start_time": "2023-01-18T06:10:51.669Z"
   },
   {
    "duration": 7,
    "start_time": "2023-01-18T06:21:02.603Z"
   },
   {
    "duration": 7,
    "start_time": "2023-01-18T06:21:32.665Z"
   },
   {
    "duration": 7,
    "start_time": "2023-01-18T06:22:31.783Z"
   },
   {
    "duration": 9,
    "start_time": "2023-01-18T06:22:51.207Z"
   },
   {
    "duration": 1238,
    "start_time": "2023-01-18T06:22:56.964Z"
   },
   {
    "duration": 72,
    "start_time": "2023-01-18T06:22:58.204Z"
   },
   {
    "duration": 14,
    "start_time": "2023-01-18T06:22:58.278Z"
   },
   {
    "duration": 3,
    "start_time": "2023-01-18T06:22:58.293Z"
   },
   {
    "duration": 8,
    "start_time": "2023-01-18T06:22:58.298Z"
   },
   {
    "duration": 7,
    "start_time": "2023-01-18T06:22:58.308Z"
   },
   {
    "duration": 6,
    "start_time": "2023-01-18T06:22:58.317Z"
   },
   {
    "duration": 8,
    "start_time": "2023-01-18T06:22:58.325Z"
   },
   {
    "duration": 5,
    "start_time": "2023-01-18T06:22:58.367Z"
   },
   {
    "duration": 7,
    "start_time": "2023-01-18T06:22:58.375Z"
   },
   {
    "duration": 23,
    "start_time": "2023-01-18T06:22:58.383Z"
   },
   {
    "duration": 5,
    "start_time": "2023-01-18T06:22:58.407Z"
   },
   {
    "duration": 9,
    "start_time": "2023-01-18T06:22:58.414Z"
   },
   {
    "duration": 46,
    "start_time": "2023-01-18T06:22:58.424Z"
   },
   {
    "duration": 26,
    "start_time": "2023-01-18T06:22:58.472Z"
   },
   {
    "duration": 195,
    "start_time": "2023-01-18T06:22:58.500Z"
   },
   {
    "duration": 8,
    "start_time": "2023-01-18T06:22:58.697Z"
   },
   {
    "duration": 9,
    "start_time": "2023-01-18T06:22:58.707Z"
   },
   {
    "duration": 287,
    "start_time": "2023-01-18T06:22:58.717Z"
   },
   {
    "duration": 24,
    "start_time": "2023-01-18T06:22:59.007Z"
   },
   {
    "duration": 316,
    "start_time": "2023-01-18T06:22:59.034Z"
   },
   {
    "duration": 153,
    "start_time": "2023-01-18T06:22:59.352Z"
   },
   {
    "duration": 6,
    "start_time": "2023-01-18T06:22:59.507Z"
   },
   {
    "duration": 162,
    "start_time": "2023-01-18T06:22:59.515Z"
   },
   {
    "duration": 152,
    "start_time": "2023-01-18T06:22:59.679Z"
   },
   {
    "duration": 52,
    "start_time": "2023-01-18T06:22:59.833Z"
   },
   {
    "duration": 9,
    "start_time": "2023-01-18T06:22:59.887Z"
   },
   {
    "duration": 255,
    "start_time": "2023-01-18T06:22:59.899Z"
   },
   {
    "duration": 265,
    "start_time": "2023-01-18T06:23:00.156Z"
   },
   {
    "duration": 253,
    "start_time": "2023-01-18T06:23:00.423Z"
   },
   {
    "duration": 182,
    "start_time": "2023-01-18T06:23:00.678Z"
   },
   {
    "duration": 21,
    "start_time": "2023-01-18T06:31:41.775Z"
   },
   {
    "duration": 252,
    "start_time": "2023-01-18T06:31:43.026Z"
   },
   {
    "duration": 240,
    "start_time": "2023-01-18T06:32:53.212Z"
   },
   {
    "duration": 132,
    "start_time": "2023-01-18T06:32:54.952Z"
   },
   {
    "duration": 6,
    "start_time": "2023-01-18T06:33:35.789Z"
   },
   {
    "duration": 136,
    "start_time": "2023-01-18T06:33:36.467Z"
   },
   {
    "duration": 141,
    "start_time": "2023-01-18T06:33:41.667Z"
   },
   {
    "duration": 43,
    "start_time": "2023-01-18T06:33:45.631Z"
   },
   {
    "duration": 9,
    "start_time": "2023-01-18T06:33:54.755Z"
   },
   {
    "duration": 9,
    "start_time": "2023-01-18T06:33:58.580Z"
   },
   {
    "duration": 200,
    "start_time": "2023-01-18T06:34:03.652Z"
   },
   {
    "duration": 263,
    "start_time": "2023-01-18T06:34:13.847Z"
   },
   {
    "duration": 254,
    "start_time": "2023-01-18T06:34:27.468Z"
   },
   {
    "duration": 276,
    "start_time": "2023-01-18T06:34:33.997Z"
   },
   {
    "duration": 161,
    "start_time": "2023-01-18T06:34:51.120Z"
   },
   {
    "duration": 7,
    "start_time": "2023-01-18T06:42:56.236Z"
   },
   {
    "duration": 4,
    "start_time": "2023-01-18T06:43:03.446Z"
   },
   {
    "duration": 154,
    "start_time": "2023-01-18T06:43:46.295Z"
   },
   {
    "duration": 48,
    "start_time": "2023-01-18T06:44:34.855Z"
   },
   {
    "duration": 242,
    "start_time": "2023-01-18T06:44:43.759Z"
   },
   {
    "duration": 158,
    "start_time": "2023-01-18T06:44:52.355Z"
   },
   {
    "duration": 174,
    "start_time": "2023-01-18T06:45:29.212Z"
   },
   {
    "duration": 4,
    "start_time": "2023-01-18T07:07:21.774Z"
   },
   {
    "duration": 8,
    "start_time": "2023-01-18T07:07:28.500Z"
   },
   {
    "duration": 514,
    "start_time": "2023-01-18T07:08:59.724Z"
   },
   {
    "duration": 8,
    "start_time": "2023-01-18T07:09:29.164Z"
   },
   {
    "duration": 23,
    "start_time": "2023-01-18T07:10:25.615Z"
   },
   {
    "duration": 7,
    "start_time": "2023-01-18T07:10:54.292Z"
   },
   {
    "duration": 11,
    "start_time": "2023-01-18T07:11:08.893Z"
   },
   {
    "duration": 12,
    "start_time": "2023-01-18T07:15:38.310Z"
   },
   {
    "duration": 12,
    "start_time": "2023-01-18T07:15:47.129Z"
   },
   {
    "duration": 12,
    "start_time": "2023-01-18T07:16:40.995Z"
   },
   {
    "duration": 12,
    "start_time": "2023-01-18T07:16:51.252Z"
   },
   {
    "duration": 13,
    "start_time": "2023-01-18T07:17:43.700Z"
   },
   {
    "duration": 18,
    "start_time": "2023-01-18T07:25:43.974Z"
   },
   {
    "duration": 7,
    "start_time": "2023-01-18T07:33:40.275Z"
   },
   {
    "duration": 19,
    "start_time": "2023-01-18T07:34:44.195Z"
   },
   {
    "duration": 4,
    "start_time": "2023-01-18T07:42:11.754Z"
   },
   {
    "duration": 5,
    "start_time": "2023-01-18T07:42:35.102Z"
   },
   {
    "duration": 18,
    "start_time": "2023-01-18T07:42:37.558Z"
   },
   {
    "duration": 6,
    "start_time": "2023-01-18T07:42:38.053Z"
   },
   {
    "duration": 4,
    "start_time": "2023-01-18T07:42:47.473Z"
   },
   {
    "duration": 128,
    "start_time": "2023-01-18T07:43:57.622Z"
   },
   {
    "duration": 136,
    "start_time": "2023-01-18T07:44:38.008Z"
   },
   {
    "duration": 129,
    "start_time": "2023-01-18T07:47:17.216Z"
   },
   {
    "duration": 303,
    "start_time": "2023-01-18T07:48:17.308Z"
   },
   {
    "duration": 151,
    "start_time": "2023-01-18T07:48:41.873Z"
   },
   {
    "duration": 237,
    "start_time": "2023-01-18T07:49:05.946Z"
   },
   {
    "duration": 186,
    "start_time": "2023-01-18T07:49:09.945Z"
   },
   {
    "duration": 17,
    "start_time": "2023-01-18T07:50:08.439Z"
   },
   {
    "duration": 174,
    "start_time": "2023-01-18T07:55:04.107Z"
   },
   {
    "duration": 151,
    "start_time": "2023-01-18T07:55:23.024Z"
   },
   {
    "duration": 200,
    "start_time": "2023-01-18T07:55:34.766Z"
   },
   {
    "duration": 157,
    "start_time": "2023-01-18T07:55:41.752Z"
   },
   {
    "duration": 20,
    "start_time": "2023-01-18T07:55:54.144Z"
   },
   {
    "duration": 17,
    "start_time": "2023-01-18T07:56:21.147Z"
   },
   {
    "duration": 6,
    "start_time": "2023-01-18T07:56:48.896Z"
   },
   {
    "duration": 148,
    "start_time": "2023-01-18T07:58:48.101Z"
   },
   {
    "duration": 9,
    "start_time": "2023-01-18T08:00:00.419Z"
   },
   {
    "duration": 8,
    "start_time": "2023-01-18T08:00:26.635Z"
   },
   {
    "duration": 62,
    "start_time": "2023-01-18T11:54:45.618Z"
   },
   {
    "duration": 18,
    "start_time": "2023-01-18T11:55:03.015Z"
   },
   {
    "duration": 1474,
    "start_time": "2023-01-18T11:55:11.097Z"
   },
   {
    "duration": 223,
    "start_time": "2023-01-18T11:55:12.573Z"
   },
   {
    "duration": 16,
    "start_time": "2023-01-18T11:55:12.798Z"
   },
   {
    "duration": 7,
    "start_time": "2023-01-18T11:55:12.816Z"
   },
   {
    "duration": 14,
    "start_time": "2023-01-18T11:55:12.831Z"
   },
   {
    "duration": 7,
    "start_time": "2023-01-18T11:55:12.847Z"
   },
   {
    "duration": 8,
    "start_time": "2023-01-18T11:55:12.855Z"
   },
   {
    "duration": 11,
    "start_time": "2023-01-18T11:55:12.865Z"
   },
   {
    "duration": 11,
    "start_time": "2023-01-18T11:55:12.877Z"
   },
   {
    "duration": 8,
    "start_time": "2023-01-18T11:55:12.890Z"
   },
   {
    "duration": 41,
    "start_time": "2023-01-18T11:55:12.900Z"
   },
   {
    "duration": 7,
    "start_time": "2023-01-18T11:55:12.943Z"
   },
   {
    "duration": 5,
    "start_time": "2023-01-18T11:55:12.952Z"
   },
   {
    "duration": 30,
    "start_time": "2023-01-18T11:55:12.960Z"
   },
   {
    "duration": 241,
    "start_time": "2023-01-18T11:55:12.992Z"
   },
   {
    "duration": 9,
    "start_time": "2023-01-18T11:55:13.237Z"
   },
   {
    "duration": 8,
    "start_time": "2023-01-18T11:55:13.248Z"
   },
   {
    "duration": 303,
    "start_time": "2023-01-18T11:55:13.257Z"
   },
   {
    "duration": 18,
    "start_time": "2023-01-18T11:55:13.563Z"
   },
   {
    "duration": 304,
    "start_time": "2023-01-18T11:55:13.583Z"
   },
   {
    "duration": 165,
    "start_time": "2023-01-18T11:55:13.888Z"
   },
   {
    "duration": 6,
    "start_time": "2023-01-18T11:55:14.055Z"
   },
   {
    "duration": 186,
    "start_time": "2023-01-18T11:55:14.062Z"
   },
   {
    "duration": 191,
    "start_time": "2023-01-18T11:55:14.250Z"
   },
   {
    "duration": 55,
    "start_time": "2023-01-18T11:55:14.443Z"
   },
   {
    "duration": 32,
    "start_time": "2023-01-18T11:55:14.502Z"
   },
   {
    "duration": 297,
    "start_time": "2023-01-18T11:55:14.538Z"
   },
   {
    "duration": 332,
    "start_time": "2023-01-18T11:55:14.839Z"
   },
   {
    "duration": 298,
    "start_time": "2023-01-18T11:55:15.173Z"
   },
   {
    "duration": 207,
    "start_time": "2023-01-18T11:55:15.472Z"
   },
   {
    "duration": 22,
    "start_time": "2023-01-18T11:55:15.681Z"
   },
   {
    "duration": 201,
    "start_time": "2023-01-18T11:55:15.705Z"
   },
   {
    "duration": 38,
    "start_time": "2023-01-18T11:55:15.909Z"
   },
   {
    "duration": 196,
    "start_time": "2023-01-18T11:55:15.949Z"
   },
   {
    "duration": 9,
    "start_time": "2023-01-18T11:55:16.148Z"
   },
   {
    "duration": 10,
    "start_time": "2023-01-18T11:55:16.159Z"
   },
   {
    "duration": 132,
    "start_time": "2023-01-18T11:55:16.171Z"
   },
   {
    "duration": 10,
    "start_time": "2023-01-18T11:56:33.171Z"
   },
   {
    "duration": 183,
    "start_time": "2023-01-18T11:56:37.417Z"
   },
   {
    "duration": 6,
    "start_time": "2023-01-18T11:56:39.892Z"
   },
   {
    "duration": 7,
    "start_time": "2023-01-18T11:57:24.525Z"
   },
   {
    "duration": 11,
    "start_time": "2023-01-18T11:57:31.776Z"
   },
   {
    "duration": 5,
    "start_time": "2023-01-18T11:59:21.266Z"
   },
   {
    "duration": 6,
    "start_time": "2023-01-18T12:00:13.302Z"
   },
   {
    "duration": 6,
    "start_time": "2023-01-18T12:02:31.955Z"
   },
   {
    "duration": 7,
    "start_time": "2023-01-18T12:03:04.875Z"
   },
   {
    "duration": 170,
    "start_time": "2023-01-18T12:03:46.555Z"
   },
   {
    "duration": 15,
    "start_time": "2023-01-18T12:03:47.421Z"
   },
   {
    "duration": 174,
    "start_time": "2023-01-18T12:03:48.238Z"
   },
   {
    "duration": 6,
    "start_time": "2023-01-18T12:04:11.396Z"
   },
   {
    "duration": 30,
    "start_time": "2023-01-18T12:06:31.808Z"
   },
   {
    "duration": 223,
    "start_time": "2023-01-18T12:07:04.480Z"
   },
   {
    "duration": 24,
    "start_time": "2023-01-18T12:07:11.959Z"
   },
   {
    "duration": 172,
    "start_time": "2023-01-18T12:07:26.033Z"
   },
   {
    "duration": 170,
    "start_time": "2023-01-18T12:08:19.562Z"
   },
   {
    "duration": 9,
    "start_time": "2023-01-18T12:08:28.496Z"
   },
   {
    "duration": 6,
    "start_time": "2023-01-18T12:08:57.076Z"
   },
   {
    "duration": 322,
    "start_time": "2023-01-18T12:09:04.742Z"
   },
   {
    "duration": 168,
    "start_time": "2023-01-18T12:09:05.937Z"
   },
   {
    "duration": 10,
    "start_time": "2023-01-18T12:09:08.745Z"
   },
   {
    "duration": 22,
    "start_time": "2023-01-18T12:09:09.343Z"
   },
   {
    "duration": 6,
    "start_time": "2023-01-18T12:09:11.467Z"
   },
   {
    "duration": 7,
    "start_time": "2023-01-18T12:10:24.601Z"
   },
   {
    "duration": 6,
    "start_time": "2023-01-18T12:10:27.985Z"
   },
   {
    "duration": 3,
    "start_time": "2023-01-18T12:10:41.615Z"
   },
   {
    "duration": 7,
    "start_time": "2023-01-18T12:10:42.092Z"
   },
   {
    "duration": 6,
    "start_time": "2023-01-18T12:12:29.137Z"
   },
   {
    "duration": 1352,
    "start_time": "2023-01-18T12:12:33.962Z"
   },
   {
    "duration": 77,
    "start_time": "2023-01-18T12:12:35.316Z"
   },
   {
    "duration": 19,
    "start_time": "2023-01-18T12:12:35.395Z"
   },
   {
    "duration": 35,
    "start_time": "2023-01-18T12:12:35.416Z"
   },
   {
    "duration": 14,
    "start_time": "2023-01-18T12:12:35.454Z"
   },
   {
    "duration": 9,
    "start_time": "2023-01-18T12:12:35.470Z"
   },
   {
    "duration": 14,
    "start_time": "2023-01-18T12:12:35.480Z"
   },
   {
    "duration": 11,
    "start_time": "2023-01-18T12:12:35.496Z"
   },
   {
    "duration": 27,
    "start_time": "2023-01-18T12:12:35.509Z"
   },
   {
    "duration": 12,
    "start_time": "2023-01-18T12:12:35.538Z"
   },
   {
    "duration": 30,
    "start_time": "2023-01-18T12:12:35.552Z"
   },
   {
    "duration": 7,
    "start_time": "2023-01-18T12:12:35.584Z"
   },
   {
    "duration": 8,
    "start_time": "2023-01-18T12:12:35.593Z"
   },
   {
    "duration": 44,
    "start_time": "2023-01-18T12:12:35.604Z"
   },
   {
    "duration": 215,
    "start_time": "2023-01-18T12:12:35.650Z"
   },
   {
    "duration": 10,
    "start_time": "2023-01-18T12:12:35.867Z"
   },
   {
    "duration": 8,
    "start_time": "2023-01-18T12:12:35.879Z"
   },
   {
    "duration": 328,
    "start_time": "2023-01-18T12:12:35.888Z"
   },
   {
    "duration": 26,
    "start_time": "2023-01-18T12:12:36.219Z"
   },
   {
    "duration": 308,
    "start_time": "2023-01-18T12:12:36.247Z"
   },
   {
    "duration": 150,
    "start_time": "2023-01-18T12:12:36.557Z"
   },
   {
    "duration": 23,
    "start_time": "2023-01-18T12:12:36.709Z"
   },
   {
    "duration": 167,
    "start_time": "2023-01-18T12:12:36.734Z"
   },
   {
    "duration": 167,
    "start_time": "2023-01-18T12:12:36.903Z"
   },
   {
    "duration": 59,
    "start_time": "2023-01-18T12:12:37.072Z"
   },
   {
    "duration": 11,
    "start_time": "2023-01-18T12:12:37.136Z"
   },
   {
    "duration": 247,
    "start_time": "2023-01-18T12:12:37.148Z"
   },
   {
    "duration": 285,
    "start_time": "2023-01-18T12:12:37.397Z"
   },
   {
    "duration": 294,
    "start_time": "2023-01-18T12:12:37.684Z"
   },
   {
    "duration": 206,
    "start_time": "2023-01-18T12:12:37.980Z"
   },
   {
    "duration": 190,
    "start_time": "2023-01-18T12:12:38.188Z"
   },
   {
    "duration": 178,
    "start_time": "2023-01-18T12:12:38.380Z"
   },
   {
    "duration": 8,
    "start_time": "2023-01-18T12:12:38.560Z"
   },
   {
    "duration": 12,
    "start_time": "2023-01-18T12:12:38.570Z"
   },
   {
    "duration": 7,
    "start_time": "2023-01-18T12:12:38.584Z"
   },
   {
    "duration": 41,
    "start_time": "2023-01-18T12:12:38.592Z"
   },
   {
    "duration": 5,
    "start_time": "2023-01-18T12:13:24.370Z"
   },
   {
    "duration": 208,
    "start_time": "2023-01-18T12:22:54.625Z"
   },
   {
    "duration": 165,
    "start_time": "2023-01-18T12:23:08.817Z"
   },
   {
    "duration": 153,
    "start_time": "2023-01-18T12:23:29.706Z"
   },
   {
    "duration": 154,
    "start_time": "2023-01-18T12:24:19.426Z"
   },
   {
    "duration": 164,
    "start_time": "2023-01-18T12:24:58.062Z"
   },
   {
    "duration": 9,
    "start_time": "2023-01-18T12:26:01.191Z"
   },
   {
    "duration": 13,
    "start_time": "2023-01-18T12:26:15.022Z"
   },
   {
    "duration": 6,
    "start_time": "2023-01-18T12:31:23.800Z"
   },
   {
    "duration": 8,
    "start_time": "2023-01-18T12:31:50.682Z"
   },
   {
    "duration": 111,
    "start_time": "2023-01-18T12:32:02.713Z"
   },
   {
    "duration": 4,
    "start_time": "2023-01-18T12:32:20.241Z"
   },
   {
    "duration": 7,
    "start_time": "2023-01-18T12:32:20.770Z"
   },
   {
    "duration": 1304,
    "start_time": "2023-01-18T16:47:08.404Z"
   },
   {
    "duration": 219,
    "start_time": "2023-01-18T16:47:09.710Z"
   },
   {
    "duration": 15,
    "start_time": "2023-01-18T16:47:09.931Z"
   },
   {
    "duration": 7,
    "start_time": "2023-01-18T16:47:09.948Z"
   },
   {
    "duration": 10,
    "start_time": "2023-01-18T16:47:09.957Z"
   },
   {
    "duration": 8,
    "start_time": "2023-01-18T16:47:09.969Z"
   },
   {
    "duration": 14,
    "start_time": "2023-01-18T16:47:09.981Z"
   },
   {
    "duration": 15,
    "start_time": "2023-01-18T16:47:09.996Z"
   },
   {
    "duration": 12,
    "start_time": "2023-01-18T16:47:10.012Z"
   },
   {
    "duration": 20,
    "start_time": "2023-01-18T16:47:10.026Z"
   },
   {
    "duration": 25,
    "start_time": "2023-01-18T16:47:10.047Z"
   },
   {
    "duration": 8,
    "start_time": "2023-01-18T16:47:10.074Z"
   },
   {
    "duration": 8,
    "start_time": "2023-01-18T16:47:10.083Z"
   },
   {
    "duration": 28,
    "start_time": "2023-01-18T16:47:10.093Z"
   },
   {
    "duration": 184,
    "start_time": "2023-01-18T16:47:10.123Z"
   },
   {
    "duration": 9,
    "start_time": "2023-01-18T16:47:10.309Z"
   },
   {
    "duration": 9,
    "start_time": "2023-01-18T16:47:10.320Z"
   },
   {
    "duration": 298,
    "start_time": "2023-01-18T16:47:10.331Z"
   },
   {
    "duration": 18,
    "start_time": "2023-01-18T16:47:10.632Z"
   },
   {
    "duration": 282,
    "start_time": "2023-01-18T16:47:10.652Z"
   },
   {
    "duration": 149,
    "start_time": "2023-01-18T16:47:10.936Z"
   },
   {
    "duration": 6,
    "start_time": "2023-01-18T16:47:11.086Z"
   },
   {
    "duration": 168,
    "start_time": "2023-01-18T16:47:11.094Z"
   },
   {
    "duration": 152,
    "start_time": "2023-01-18T16:47:11.264Z"
   },
   {
    "duration": 42,
    "start_time": "2023-01-18T16:47:11.418Z"
   },
   {
    "duration": 25,
    "start_time": "2023-01-18T16:47:11.461Z"
   },
   {
    "duration": 300,
    "start_time": "2023-01-18T16:47:11.487Z"
   },
   {
    "duration": 181,
    "start_time": "2023-01-18T16:47:11.788Z"
   },
   {
    "duration": 247,
    "start_time": "2023-01-18T16:47:11.971Z"
   },
   {
    "duration": 173,
    "start_time": "2023-01-18T16:47:12.220Z"
   },
   {
    "duration": 162,
    "start_time": "2023-01-18T16:47:12.395Z"
   },
   {
    "duration": 165,
    "start_time": "2023-01-18T16:47:12.559Z"
   },
   {
    "duration": 8,
    "start_time": "2023-01-18T16:47:12.726Z"
   },
   {
    "duration": 8,
    "start_time": "2023-01-18T16:47:12.737Z"
   },
   {
    "duration": 6,
    "start_time": "2023-01-18T16:47:12.746Z"
   },
   {
    "duration": 16,
    "start_time": "2023-01-18T16:47:12.753Z"
   },
   {
    "duration": 142,
    "start_time": "2023-01-18T16:47:12.780Z"
   },
   {
    "duration": 159,
    "start_time": "2023-01-18T16:47:12.924Z"
   },
   {
    "duration": 8,
    "start_time": "2023-01-18T16:47:13.085Z"
   },
   {
    "duration": 10,
    "start_time": "2023-01-18T16:47:13.094Z"
   },
   {
    "duration": 7,
    "start_time": "2023-01-18T16:47:13.108Z"
   },
   {
    "duration": 10,
    "start_time": "2023-01-18T16:47:13.117Z"
   },
   {
    "duration": 50,
    "start_time": "2023-01-18T16:47:13.129Z"
   },
   {
    "duration": 7,
    "start_time": "2023-01-18T16:56:10.132Z"
   },
   {
    "duration": 160,
    "start_time": "2023-01-18T17:22:21.438Z"
   },
   {
    "duration": 168,
    "start_time": "2023-01-18T17:22:49.572Z"
   },
   {
    "duration": 1297,
    "start_time": "2023-01-18T17:44:45.068Z"
   },
   {
    "duration": 274,
    "start_time": "2023-01-18T17:44:46.367Z"
   },
   {
    "duration": 13,
    "start_time": "2023-01-18T17:44:46.642Z"
   },
   {
    "duration": 3,
    "start_time": "2023-01-18T17:44:46.657Z"
   },
   {
    "duration": 7,
    "start_time": "2023-01-18T17:44:46.661Z"
   },
   {
    "duration": 13,
    "start_time": "2023-01-18T17:44:46.670Z"
   },
   {
    "duration": 18,
    "start_time": "2023-01-18T17:44:46.685Z"
   },
   {
    "duration": 9,
    "start_time": "2023-01-18T17:44:46.706Z"
   },
   {
    "duration": 8,
    "start_time": "2023-01-18T17:44:46.716Z"
   },
   {
    "duration": 11,
    "start_time": "2023-01-18T17:44:46.727Z"
   },
   {
    "duration": 29,
    "start_time": "2023-01-18T17:44:46.740Z"
   },
   {
    "duration": 9,
    "start_time": "2023-01-18T17:44:46.771Z"
   },
   {
    "duration": 22,
    "start_time": "2023-01-18T17:44:46.781Z"
   },
   {
    "duration": 32,
    "start_time": "2023-01-18T17:44:46.805Z"
   },
   {
    "duration": 187,
    "start_time": "2023-01-18T17:44:46.838Z"
   },
   {
    "duration": 8,
    "start_time": "2023-01-18T17:44:47.028Z"
   },
   {
    "duration": 11,
    "start_time": "2023-01-18T17:44:47.038Z"
   },
   {
    "duration": 220,
    "start_time": "2023-01-18T17:44:47.066Z"
   },
   {
    "duration": 15,
    "start_time": "2023-01-18T17:44:47.288Z"
   },
   {
    "duration": 266,
    "start_time": "2023-01-18T17:44:47.305Z"
   },
   {
    "duration": 130,
    "start_time": "2023-01-18T17:44:47.573Z"
   },
   {
    "duration": 5,
    "start_time": "2023-01-18T17:44:47.705Z"
   },
   {
    "duration": 146,
    "start_time": "2023-01-18T17:44:47.711Z"
   },
   {
    "duration": 147,
    "start_time": "2023-01-18T17:44:47.858Z"
   },
   {
    "duration": 40,
    "start_time": "2023-01-18T17:44:48.007Z"
   },
   {
    "duration": 23,
    "start_time": "2023-01-18T17:44:48.048Z"
   },
   {
    "duration": 204,
    "start_time": "2023-01-18T17:44:48.073Z"
   },
   {
    "duration": 266,
    "start_time": "2023-01-18T17:44:48.281Z"
   },
   {
    "duration": 246,
    "start_time": "2023-01-18T17:44:48.549Z"
   },
   {
    "duration": 170,
    "start_time": "2023-01-18T17:44:48.797Z"
   },
   {
    "duration": 142,
    "start_time": "2023-01-18T17:44:48.969Z"
   },
   {
    "duration": 147,
    "start_time": "2023-01-18T17:44:49.113Z"
   },
   {
    "duration": 9,
    "start_time": "2023-01-18T17:44:49.266Z"
   },
   {
    "duration": 15,
    "start_time": "2023-01-18T17:44:49.277Z"
   },
   {
    "duration": 4,
    "start_time": "2023-01-18T17:44:49.294Z"
   },
   {
    "duration": 7,
    "start_time": "2023-01-18T17:44:49.300Z"
   },
   {
    "duration": 161,
    "start_time": "2023-01-18T17:44:49.308Z"
   },
   {
    "duration": 165,
    "start_time": "2023-01-18T17:44:49.471Z"
   },
   {
    "duration": 9,
    "start_time": "2023-01-18T17:44:49.637Z"
   },
   {
    "duration": 27,
    "start_time": "2023-01-18T17:44:49.648Z"
   },
   {
    "duration": 24,
    "start_time": "2023-01-18T17:44:49.676Z"
   },
   {
    "duration": 15,
    "start_time": "2023-01-18T17:44:49.701Z"
   },
   {
    "duration": 1411,
    "start_time": "2023-01-19T07:03:09.034Z"
   },
   {
    "duration": 109,
    "start_time": "2023-01-19T07:03:10.447Z"
   },
   {
    "duration": 17,
    "start_time": "2023-01-19T07:03:10.558Z"
   },
   {
    "duration": 11,
    "start_time": "2023-01-19T07:03:10.577Z"
   },
   {
    "duration": 8,
    "start_time": "2023-01-19T07:03:10.591Z"
   },
   {
    "duration": 9,
    "start_time": "2023-01-19T07:03:10.600Z"
   },
   {
    "duration": 10,
    "start_time": "2023-01-19T07:03:10.610Z"
   },
   {
    "duration": 12,
    "start_time": "2023-01-19T07:03:10.621Z"
   },
   {
    "duration": 7,
    "start_time": "2023-01-19T07:03:10.635Z"
   },
   {
    "duration": 9,
    "start_time": "2023-01-19T07:03:10.644Z"
   },
   {
    "duration": 47,
    "start_time": "2023-01-19T07:03:10.655Z"
   },
   {
    "duration": 8,
    "start_time": "2023-01-19T07:03:10.703Z"
   },
   {
    "duration": 9,
    "start_time": "2023-01-19T07:03:10.712Z"
   },
   {
    "duration": 24,
    "start_time": "2023-01-19T07:03:10.724Z"
   },
   {
    "duration": 224,
    "start_time": "2023-01-19T07:03:10.750Z"
   },
   {
    "duration": 12,
    "start_time": "2023-01-19T07:03:10.976Z"
   },
   {
    "duration": 12,
    "start_time": "2023-01-19T07:03:10.989Z"
   },
   {
    "duration": 291,
    "start_time": "2023-01-19T07:03:11.003Z"
   },
   {
    "duration": 17,
    "start_time": "2023-01-19T07:03:11.296Z"
   },
   {
    "duration": 278,
    "start_time": "2023-01-19T07:03:11.315Z"
   },
   {
    "duration": 157,
    "start_time": "2023-01-19T07:03:11.594Z"
   },
   {
    "duration": 6,
    "start_time": "2023-01-19T07:03:11.753Z"
   },
   {
    "duration": 170,
    "start_time": "2023-01-19T07:03:11.761Z"
   },
   {
    "duration": 177,
    "start_time": "2023-01-19T07:03:11.933Z"
   },
   {
    "duration": 51,
    "start_time": "2023-01-19T07:03:12.112Z"
   },
   {
    "duration": 28,
    "start_time": "2023-01-19T07:03:12.165Z"
   },
   {
    "duration": 239,
    "start_time": "2023-01-19T07:03:12.195Z"
   },
   {
    "duration": 285,
    "start_time": "2023-01-19T07:03:12.436Z"
   },
   {
    "duration": 284,
    "start_time": "2023-01-19T07:03:12.723Z"
   },
   {
    "duration": 198,
    "start_time": "2023-01-19T07:03:13.009Z"
   },
   {
    "duration": 175,
    "start_time": "2023-01-19T07:03:13.209Z"
   },
   {
    "duration": 171,
    "start_time": "2023-01-19T07:03:13.386Z"
   },
   {
    "duration": 8,
    "start_time": "2023-01-19T07:03:13.559Z"
   },
   {
    "duration": 17,
    "start_time": "2023-01-19T07:03:13.568Z"
   },
   {
    "duration": 3,
    "start_time": "2023-01-19T07:03:13.587Z"
   },
   {
    "duration": 13,
    "start_time": "2023-01-19T07:03:13.592Z"
   },
   {
    "duration": 173,
    "start_time": "2023-01-19T07:03:13.607Z"
   },
   {
    "duration": 168,
    "start_time": "2023-01-19T07:03:13.785Z"
   },
   {
    "duration": 10,
    "start_time": "2023-01-19T07:03:13.955Z"
   },
   {
    "duration": 25,
    "start_time": "2023-01-19T07:03:13.966Z"
   },
   {
    "duration": 3,
    "start_time": "2023-01-19T07:03:13.995Z"
   },
   {
    "duration": 7,
    "start_time": "2023-01-19T07:03:14.000Z"
   },
   {
    "duration": 22,
    "start_time": "2023-01-19T07:04:09.492Z"
   },
   {
    "duration": 288,
    "start_time": "2023-01-19T07:04:12.543Z"
   },
   {
    "duration": 145,
    "start_time": "2023-01-19T07:04:29.983Z"
   },
   {
    "duration": 11,
    "start_time": "2023-01-19T07:04:52.780Z"
   },
   {
    "duration": 218,
    "start_time": "2023-01-19T07:05:04.922Z"
   },
   {
    "duration": 10,
    "start_time": "2023-01-19T07:07:41.283Z"
   },
   {
    "duration": 247,
    "start_time": "2023-01-19T07:10:04.217Z"
   },
   {
    "duration": 118,
    "start_time": "2023-01-19T07:11:40.355Z"
   },
   {
    "duration": 346,
    "start_time": "2023-01-19T07:11:48.975Z"
   },
   {
    "duration": 228,
    "start_time": "2023-01-19T07:11:52.267Z"
   },
   {
    "duration": 79,
    "start_time": "2023-01-19T07:14:42.876Z"
   },
   {
    "duration": 75,
    "start_time": "2023-01-19T07:15:05.174Z"
   },
   {
    "duration": 197,
    "start_time": "2023-01-19T07:15:13.407Z"
   },
   {
    "duration": 74,
    "start_time": "2023-01-19T07:15:21.088Z"
   },
   {
    "duration": 11,
    "start_time": "2023-01-19T07:16:12.434Z"
   },
   {
    "duration": 220,
    "start_time": "2023-01-19T07:21:46.878Z"
   },
   {
    "duration": 182,
    "start_time": "2023-01-19T07:25:53.516Z"
   },
   {
    "duration": 172,
    "start_time": "2023-01-19T07:25:56.152Z"
   },
   {
    "duration": 187,
    "start_time": "2023-01-19T07:26:17.331Z"
   },
   {
    "duration": 177,
    "start_time": "2023-01-19T07:26:20.284Z"
   },
   {
    "duration": 191,
    "start_time": "2023-01-19T07:26:28.951Z"
   },
   {
    "duration": 223,
    "start_time": "2023-01-19T07:26:39.671Z"
   },
   {
    "duration": 49,
    "start_time": "2023-01-19T07:26:56.451Z"
   },
   {
    "duration": 50,
    "start_time": "2023-01-19T07:30:13.223Z"
   },
   {
    "duration": 47,
    "start_time": "2023-01-19T07:31:26.336Z"
   },
   {
    "duration": 47,
    "start_time": "2023-01-19T07:32:06.080Z"
   },
   {
    "duration": 1226,
    "start_time": "2023-01-19T07:32:23.830Z"
   },
   {
    "duration": 72,
    "start_time": "2023-01-19T07:32:25.059Z"
   },
   {
    "duration": 16,
    "start_time": "2023-01-19T07:32:25.132Z"
   },
   {
    "duration": 25,
    "start_time": "2023-01-19T07:32:25.150Z"
   },
   {
    "duration": 24,
    "start_time": "2023-01-19T07:32:25.178Z"
   },
   {
    "duration": 24,
    "start_time": "2023-01-19T07:32:25.204Z"
   },
   {
    "duration": 33,
    "start_time": "2023-01-19T07:32:25.230Z"
   },
   {
    "duration": 28,
    "start_time": "2023-01-19T07:32:25.265Z"
   },
   {
    "duration": 25,
    "start_time": "2023-01-19T07:32:25.294Z"
   },
   {
    "duration": 14,
    "start_time": "2023-01-19T07:32:25.321Z"
   },
   {
    "duration": 42,
    "start_time": "2023-01-19T07:32:25.337Z"
   },
   {
    "duration": 8,
    "start_time": "2023-01-19T07:32:25.381Z"
   },
   {
    "duration": 8,
    "start_time": "2023-01-19T07:32:25.390Z"
   },
   {
    "duration": 25,
    "start_time": "2023-01-19T07:32:25.401Z"
   },
   {
    "duration": 221,
    "start_time": "2023-01-19T07:32:25.427Z"
   },
   {
    "duration": 7,
    "start_time": "2023-01-19T07:32:25.650Z"
   },
   {
    "duration": 109,
    "start_time": "2023-01-19T07:32:25.659Z"
   },
   {
    "duration": 280,
    "start_time": "2023-01-19T07:32:25.770Z"
   },
   {
    "duration": 18,
    "start_time": "2023-01-19T07:32:26.052Z"
   },
   {
    "duration": 275,
    "start_time": "2023-01-19T07:32:26.072Z"
   },
   {
    "duration": 156,
    "start_time": "2023-01-19T07:32:26.349Z"
   },
   {
    "duration": 6,
    "start_time": "2023-01-19T07:32:26.507Z"
   },
   {
    "duration": 190,
    "start_time": "2023-01-19T07:32:26.514Z"
   },
   {
    "duration": 163,
    "start_time": "2023-01-19T07:32:26.705Z"
   },
   {
    "duration": 56,
    "start_time": "2023-01-19T07:32:26.870Z"
   },
   {
    "duration": 10,
    "start_time": "2023-01-19T07:32:26.928Z"
   },
   {
    "duration": 247,
    "start_time": "2023-01-19T07:32:26.939Z"
   },
   {
    "duration": 307,
    "start_time": "2023-01-19T07:32:27.188Z"
   },
   {
    "duration": 187,
    "start_time": "2023-01-19T07:32:27.497Z"
   },
   {
    "duration": 283,
    "start_time": "2023-01-19T07:32:27.686Z"
   },
   {
    "duration": 205,
    "start_time": "2023-01-19T07:32:27.971Z"
   },
   {
    "duration": 178,
    "start_time": "2023-01-19T07:32:28.178Z"
   },
   {
    "duration": 183,
    "start_time": "2023-01-19T07:32:28.358Z"
   },
   {
    "duration": 9,
    "start_time": "2023-01-19T07:32:28.543Z"
   },
   {
    "duration": 10,
    "start_time": "2023-01-19T07:32:28.554Z"
   },
   {
    "duration": 3,
    "start_time": "2023-01-19T07:32:28.585Z"
   },
   {
    "duration": 7,
    "start_time": "2023-01-19T07:32:28.590Z"
   },
   {
    "duration": 177,
    "start_time": "2023-01-19T07:32:28.598Z"
   },
   {
    "duration": 180,
    "start_time": "2023-01-19T07:32:28.776Z"
   },
   {
    "duration": 8,
    "start_time": "2023-01-19T07:32:28.958Z"
   },
   {
    "duration": 22,
    "start_time": "2023-01-19T07:32:28.970Z"
   },
   {
    "duration": 5,
    "start_time": "2023-01-19T07:32:28.994Z"
   },
   {
    "duration": 11,
    "start_time": "2023-01-19T07:32:29.001Z"
   },
   {
    "duration": 36,
    "start_time": "2023-01-19T07:37:06.873Z"
   },
   {
    "duration": 11,
    "start_time": "2023-01-19T07:37:51.374Z"
   },
   {
    "duration": 77,
    "start_time": "2023-01-19T07:38:10.240Z"
   },
   {
    "duration": 10,
    "start_time": "2023-01-19T07:38:15.909Z"
   },
   {
    "duration": 9,
    "start_time": "2023-01-19T07:42:25.366Z"
   },
   {
    "duration": 49,
    "start_time": "2023-01-19T07:43:00.111Z"
   },
   {
    "duration": 10,
    "start_time": "2023-01-19T07:44:26.421Z"
   },
   {
    "duration": 9,
    "start_time": "2023-01-19T07:44:45.966Z"
   },
   {
    "duration": 9,
    "start_time": "2023-01-19T07:44:58.988Z"
   },
   {
    "duration": 12,
    "start_time": "2023-01-19T07:45:13.670Z"
   },
   {
    "duration": 14,
    "start_time": "2023-01-19T07:45:21.596Z"
   },
   {
    "duration": 14,
    "start_time": "2023-01-19T07:45:24.373Z"
   },
   {
    "duration": 12,
    "start_time": "2023-01-19T07:45:44.861Z"
   },
   {
    "duration": 10,
    "start_time": "2023-01-19T07:47:00.922Z"
   },
   {
    "duration": 6,
    "start_time": "2023-01-19T07:47:32.410Z"
   },
   {
    "duration": 31,
    "start_time": "2023-01-19T07:48:31.666Z"
   },
   {
    "duration": 174,
    "start_time": "2023-01-19T07:49:32.729Z"
   },
   {
    "duration": 179,
    "start_time": "2023-01-19T07:51:20.835Z"
   },
   {
    "duration": 188,
    "start_time": "2023-01-19T07:52:22.396Z"
   },
   {
    "duration": 387,
    "start_time": "2023-01-19T07:54:01.028Z"
   },
   {
    "duration": 403,
    "start_time": "2023-01-19T07:54:09.700Z"
   },
   {
    "duration": 243,
    "start_time": "2023-01-19T07:58:05.087Z"
   },
   {
    "duration": 220,
    "start_time": "2023-01-19T08:00:25.392Z"
   },
   {
    "duration": 247,
    "start_time": "2023-01-19T08:00:27.490Z"
   },
   {
    "duration": 11,
    "start_time": "2023-01-19T08:00:30.091Z"
   },
   {
    "duration": 13,
    "start_time": "2023-01-19T08:00:30.611Z"
   },
   {
    "duration": 3,
    "start_time": "2023-01-19T08:00:33.845Z"
   },
   {
    "duration": 7,
    "start_time": "2023-01-19T08:00:34.392Z"
   },
   {
    "duration": 189,
    "start_time": "2023-01-19T08:01:03.997Z"
   },
   {
    "duration": 190,
    "start_time": "2023-01-19T08:01:10.281Z"
   },
   {
    "duration": 12,
    "start_time": "2023-01-19T08:01:15.570Z"
   },
   {
    "duration": 10,
    "start_time": "2023-01-19T08:01:17.083Z"
   },
   {
    "duration": 3,
    "start_time": "2023-01-19T08:01:41.577Z"
   },
   {
    "duration": 5,
    "start_time": "2023-01-19T08:01:42.868Z"
   },
   {
    "duration": 215,
    "start_time": "2023-01-19T08:02:45.130Z"
   },
   {
    "duration": 170,
    "start_time": "2023-01-19T08:02:56.224Z"
   },
   {
    "duration": 11,
    "start_time": "2023-01-19T08:02:59.993Z"
   },
   {
    "duration": 10,
    "start_time": "2023-01-19T08:03:00.821Z"
   },
   {
    "duration": 4,
    "start_time": "2023-01-19T08:03:04.073Z"
   },
   {
    "duration": 7,
    "start_time": "2023-01-19T08:03:04.745Z"
   },
   {
    "duration": 104,
    "start_time": "2023-01-19T08:15:47.326Z"
   },
   {
    "duration": 59,
    "start_time": "2023-01-19T17:22:56.429Z"
   }
  ],
  "kernelspec": {
   "display_name": "Python 3 (ipykernel)",
   "language": "python",
   "name": "python3"
  },
  "language_info": {
   "codemirror_mode": {
    "name": "ipython",
    "version": 3
   },
   "file_extension": ".py",
   "mimetype": "text/x-python",
   "name": "python",
   "nbconvert_exporter": "python",
   "pygments_lexer": "ipython3",
   "version": "3.10.7"
  },
  "toc": {
   "base_numbering": 1,
   "nav_menu": {
    "height": "128px",
    "width": "452px"
   },
   "number_sections": true,
   "sideBar": true,
   "skip_h1_title": true,
   "title_cell": "Table of Contents",
   "title_sidebar": "Contents",
   "toc_cell": false,
   "toc_position": {
    "height": "calc(100% - 180px)",
    "left": "10px",
    "top": "150px",
    "width": "165px"
   },
   "toc_section_display": true,
   "toc_window_display": true
  }
 },
 "nbformat": 4,
 "nbformat_minor": 2
}
