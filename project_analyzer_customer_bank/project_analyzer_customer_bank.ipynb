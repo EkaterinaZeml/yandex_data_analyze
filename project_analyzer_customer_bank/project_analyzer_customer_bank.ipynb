{
 "cells": [
  {
   "cell_type": "markdown",
   "metadata": {},
   "source": [
    "#  Анализ оттока клиентов банка \"Метанпром\"\n",
    "\n",
    " ***Задача***\n",
    "\n",
    "Проанализировать клиентов регионального банка и составить портрет клиентов, которые склонны уходить из банка.\n",
    "\n",
    "***Описание датасета***\n",
    "\n",
    "Датасет содержит данные о клиентах банка «Метанпром». Банк располагается в Ярославле и областных городах: Ростов Великий и Рыбинск.\n",
    "\n",
    "Колонки:\n",
    "\n",
    "- `userid` — идентификатор пользователя,\n",
    "- `score` — баллы кредитного скоринга,\n",
    "- `сity` — город,\n",
    "- `gender` — пол,\n",
    "- `age` — возраст,\n",
    "- `objects` — количество объектов в собственности,\n",
    "- `balance` — баланс на счёте,\n",
    "- `products` — количество продуктов, которыми пользуется клиент,\n",
    "- `creditcard` — есть ли кредитная карта,\n",
    "- `loyalty`  — лояльность,\n",
    "- `estimated_salary` — заработная плата клиента,\n",
    "- `churn` — ушёл или нет.\n",
    "\n",
    "***Ход исследования***\n",
    "\n",
    "1. Обзор и предоработка данных.\n",
    "  \n",
    "   1.1 Общий обзор данных.\n",
    "   \n",
    "   1.2 Проверка соответствия типов данных.\n",
    "   \n",
    "   1.3 Приведение названия колонок к общему стилю.\n",
    "   \n",
    "   1.4 Исследование и обработка пропусков.\n",
    "   \n",
    "   1.5 Проверка на дубликаты.\n",
    "   \n",
    "   \n",
    "2. Исследовательский анализ данных.\n",
    " \n",
    "   2.1 Построение графиков распределения признаков клиентов и диаграмм размаха. \n",
    "   \n",
    "   2.2 Построение матрицы корреляции и вычисление коэффициента корреляции для нахождения взаимосвязи между признаками клиентов.\n",
    "  \n",
    "   2.3 Анализ клиентов в разрезе потребляемых продуктов.\n",
    "   \n",
    "   2.4 Анализ клиентов в разрезе возраста и пола.\n",
    "   \n",
    "   2.5 Анализ клиентов в разрезе наличи кредитной карты.\n",
    "   \n",
    "   2.6 Анализ клиентов в разрезе города, размера заработной платы.\n",
    "   \n",
    "   2.7 Анализ клиентов в разрезе баллов кредитного скоринга и количества потребляемых продуктов.\n",
    "   \n",
    "   2.8 Вывод.\n",
    "   \n",
    "   \n",
    "3. Проверка гипотез.\n",
    "\n",
    "   3.1 Гипотеза № 1.\n",
    "   \n",
    "   3.2 Гипотеза № 2.\n",
    "   \n",
    " \n",
    "4. Составление портрета клинетов которые склонны уходить. Общий вывод и рекомендации."
   ]
  },
  {
   "cell_type": "markdown",
   "metadata": {},
   "source": [
    "## Обзор и предобработка данных.\n",
    "\n",
    "### Общий обзор данных.\n",
    "  "
   ]
  },
  {
   "cell_type": "code",
   "execution_count": 1,
   "metadata": {},
   "outputs": [],
   "source": [
    "#импортируем бибилиотеки\n",
    "import pandas as pd\n",
    "import seaborn as sns\n",
    "from datetime import date\n",
    "\n",
    "from sklearn.preprocessing import StandardScaler\n",
    "from sklearn.cluster import KMeans\n",
    "from sklearn.model_selection import train_test_split\n",
    "from sklearn.linear_model import Lasso, Ridge\n",
    "from sklearn.tree import DecisionTreeRegressor\n",
    "from sklearn.ensemble import RandomForestRegressor, GradientBoostingRegressor\n",
    "\n",
    "import matplotlib.pyplot as plt\n",
    "import numpy as np\n",
    "from IPython.display import display\n",
    "\n",
    "from scipy import stats as st\n",
    "import numpy as np\n",
    "import math as mth\n",
    "import plotly.express as px\n",
    "\n",
    "from statsmodels.stats.proportion import proportions_ztest\n",
    "import warnings\n",
    "warnings.filterwarnings('ignore')"
   ]
  },
  {
   "cell_type": "markdown",
   "metadata": {},
   "source": [
    "Прочитаем данные из датасета и сохраним их в переменную data. Выведем первые 15 строк и общую информацию методом info()."
   ]
  },
  {
   "cell_type": "code",
   "execution_count": 2,
   "metadata": {},
   "outputs": [
    {
     "data": {
      "text/html": [
       "<div>\n",
       "<style scoped>\n",
       "    .dataframe tbody tr th:only-of-type {\n",
       "        vertical-align: middle;\n",
       "    }\n",
       "\n",
       "    .dataframe tbody tr th {\n",
       "        vertical-align: top;\n",
       "    }\n",
       "\n",
       "    .dataframe thead th {\n",
       "        text-align: right;\n",
       "    }\n",
       "</style>\n",
       "<table border=\"1\" class=\"dataframe\">\n",
       "  <thead>\n",
       "    <tr style=\"text-align: right;\">\n",
       "      <th></th>\n",
       "      <th>userid</th>\n",
       "      <th>score</th>\n",
       "      <th>City</th>\n",
       "      <th>Gender</th>\n",
       "      <th>Age</th>\n",
       "      <th>Objects</th>\n",
       "      <th>Balance</th>\n",
       "      <th>Products</th>\n",
       "      <th>CreditCard</th>\n",
       "      <th>Loyalty</th>\n",
       "      <th>estimated_salary</th>\n",
       "      <th>Churn</th>\n",
       "    </tr>\n",
       "  </thead>\n",
       "  <tbody>\n",
       "    <tr>\n",
       "      <th>0</th>\n",
       "      <td>15677338</td>\n",
       "      <td>619</td>\n",
       "      <td>Ярославль</td>\n",
       "      <td>Ж</td>\n",
       "      <td>42</td>\n",
       "      <td>2</td>\n",
       "      <td>NaN</td>\n",
       "      <td>1</td>\n",
       "      <td>1</td>\n",
       "      <td>1</td>\n",
       "      <td>101348.88</td>\n",
       "      <td>1</td>\n",
       "    </tr>\n",
       "    <tr>\n",
       "      <th>1</th>\n",
       "      <td>15690047</td>\n",
       "      <td>608</td>\n",
       "      <td>Рыбинск</td>\n",
       "      <td>Ж</td>\n",
       "      <td>41</td>\n",
       "      <td>1</td>\n",
       "      <td>83807.86</td>\n",
       "      <td>1</td>\n",
       "      <td>0</td>\n",
       "      <td>1</td>\n",
       "      <td>112542.58</td>\n",
       "      <td>0</td>\n",
       "    </tr>\n",
       "    <tr>\n",
       "      <th>2</th>\n",
       "      <td>15662040</td>\n",
       "      <td>502</td>\n",
       "      <td>Ярославль</td>\n",
       "      <td>Ж</td>\n",
       "      <td>42</td>\n",
       "      <td>8</td>\n",
       "      <td>159660.80</td>\n",
       "      <td>3</td>\n",
       "      <td>1</td>\n",
       "      <td>0</td>\n",
       "      <td>113931.57</td>\n",
       "      <td>1</td>\n",
       "    </tr>\n",
       "    <tr>\n",
       "      <th>3</th>\n",
       "      <td>15744090</td>\n",
       "      <td>699</td>\n",
       "      <td>Ярославль</td>\n",
       "      <td>Ж</td>\n",
       "      <td>39</td>\n",
       "      <td>1</td>\n",
       "      <td>NaN</td>\n",
       "      <td>2</td>\n",
       "      <td>0</td>\n",
       "      <td>0</td>\n",
       "      <td>93826.63</td>\n",
       "      <td>0</td>\n",
       "    </tr>\n",
       "    <tr>\n",
       "      <th>4</th>\n",
       "      <td>15780624</td>\n",
       "      <td>850</td>\n",
       "      <td>Рыбинск</td>\n",
       "      <td>Ж</td>\n",
       "      <td>43</td>\n",
       "      <td>2</td>\n",
       "      <td>125510.82</td>\n",
       "      <td>1</td>\n",
       "      <td>1</td>\n",
       "      <td>1</td>\n",
       "      <td>79084.10</td>\n",
       "      <td>0</td>\n",
       "    </tr>\n",
       "    <tr>\n",
       "      <th>5</th>\n",
       "      <td>15616748</td>\n",
       "      <td>645</td>\n",
       "      <td>Рыбинск</td>\n",
       "      <td>М</td>\n",
       "      <td>44</td>\n",
       "      <td>8</td>\n",
       "      <td>113755.78</td>\n",
       "      <td>2</td>\n",
       "      <td>1</td>\n",
       "      <td>0</td>\n",
       "      <td>149756.71</td>\n",
       "      <td>1</td>\n",
       "    </tr>\n",
       "    <tr>\n",
       "      <th>6</th>\n",
       "      <td>15635267</td>\n",
       "      <td>822</td>\n",
       "      <td>Ярославль</td>\n",
       "      <td>М</td>\n",
       "      <td>50</td>\n",
       "      <td>7</td>\n",
       "      <td>NaN</td>\n",
       "      <td>2</td>\n",
       "      <td>1</td>\n",
       "      <td>1</td>\n",
       "      <td>10062.80</td>\n",
       "      <td>0</td>\n",
       "    </tr>\n",
       "    <tr>\n",
       "      <th>7</th>\n",
       "      <td>15698884</td>\n",
       "      <td>376</td>\n",
       "      <td>Ростов Великий</td>\n",
       "      <td>Ж</td>\n",
       "      <td>29</td>\n",
       "      <td>4</td>\n",
       "      <td>115046.74</td>\n",
       "      <td>4</td>\n",
       "      <td>1</td>\n",
       "      <td>0</td>\n",
       "      <td>119346.88</td>\n",
       "      <td>1</td>\n",
       "    </tr>\n",
       "    <tr>\n",
       "      <th>8</th>\n",
       "      <td>15835101</td>\n",
       "      <td>501</td>\n",
       "      <td>Ярославль</td>\n",
       "      <td>М</td>\n",
       "      <td>44</td>\n",
       "      <td>4</td>\n",
       "      <td>142051.07</td>\n",
       "      <td>2</td>\n",
       "      <td>0</td>\n",
       "      <td>1</td>\n",
       "      <td>74940.50</td>\n",
       "      <td>0</td>\n",
       "    </tr>\n",
       "    <tr>\n",
       "      <th>9</th>\n",
       "      <td>15635125</td>\n",
       "      <td>684</td>\n",
       "      <td>Ярославль</td>\n",
       "      <td>М</td>\n",
       "      <td>27</td>\n",
       "      <td>2</td>\n",
       "      <td>134603.88</td>\n",
       "      <td>1</td>\n",
       "      <td>1</td>\n",
       "      <td>1</td>\n",
       "      <td>71725.73</td>\n",
       "      <td>0</td>\n",
       "    </tr>\n",
       "    <tr>\n",
       "      <th>10</th>\n",
       "      <td>15810557</td>\n",
       "      <td>528</td>\n",
       "      <td>Ярославль</td>\n",
       "      <td>М</td>\n",
       "      <td>31</td>\n",
       "      <td>6</td>\n",
       "      <td>102016.72</td>\n",
       "      <td>2</td>\n",
       "      <td>0</td>\n",
       "      <td>0</td>\n",
       "      <td>80181.12</td>\n",
       "      <td>0</td>\n",
       "    </tr>\n",
       "    <tr>\n",
       "      <th>11</th>\n",
       "      <td>15779909</td>\n",
       "      <td>497</td>\n",
       "      <td>Рыбинск</td>\n",
       "      <td>М</td>\n",
       "      <td>24</td>\n",
       "      <td>3</td>\n",
       "      <td>NaN</td>\n",
       "      <td>2</td>\n",
       "      <td>1</td>\n",
       "      <td>0</td>\n",
       "      <td>76390.01</td>\n",
       "      <td>0</td>\n",
       "    </tr>\n",
       "    <tr>\n",
       "      <th>12</th>\n",
       "      <td>15675000</td>\n",
       "      <td>476</td>\n",
       "      <td>Ярославль</td>\n",
       "      <td>Ж</td>\n",
       "      <td>34</td>\n",
       "      <td>10</td>\n",
       "      <td>NaN</td>\n",
       "      <td>2</td>\n",
       "      <td>1</td>\n",
       "      <td>0</td>\n",
       "      <td>26260.98</td>\n",
       "      <td>0</td>\n",
       "    </tr>\n",
       "    <tr>\n",
       "      <th>13</th>\n",
       "      <td>15734219</td>\n",
       "      <td>549</td>\n",
       "      <td>Ярославль</td>\n",
       "      <td>Ж</td>\n",
       "      <td>25</td>\n",
       "      <td>5</td>\n",
       "      <td>NaN</td>\n",
       "      <td>2</td>\n",
       "      <td>0</td>\n",
       "      <td>0</td>\n",
       "      <td>190857.79</td>\n",
       "      <td>0</td>\n",
       "    </tr>\n",
       "    <tr>\n",
       "      <th>14</th>\n",
       "      <td>15643618</td>\n",
       "      <td>635</td>\n",
       "      <td>Рыбинск</td>\n",
       "      <td>Ж</td>\n",
       "      <td>35</td>\n",
       "      <td>7</td>\n",
       "      <td>NaN</td>\n",
       "      <td>2</td>\n",
       "      <td>1</td>\n",
       "      <td>1</td>\n",
       "      <td>65951.65</td>\n",
       "      <td>0</td>\n",
       "    </tr>\n",
       "  </tbody>\n",
       "</table>\n",
       "</div>"
      ],
      "text/plain": [
       "      userid  score            City Gender  Age  Objects    Balance  Products  \\\n",
       "0   15677338    619       Ярославль      Ж   42        2        NaN         1   \n",
       "1   15690047    608         Рыбинск      Ж   41        1   83807.86         1   \n",
       "2   15662040    502       Ярославль      Ж   42        8  159660.80         3   \n",
       "3   15744090    699       Ярославль      Ж   39        1        NaN         2   \n",
       "4   15780624    850         Рыбинск      Ж   43        2  125510.82         1   \n",
       "5   15616748    645         Рыбинск      М   44        8  113755.78         2   \n",
       "6   15635267    822       Ярославль      М   50        7        NaN         2   \n",
       "7   15698884    376  Ростов Великий      Ж   29        4  115046.74         4   \n",
       "8   15835101    501       Ярославль      М   44        4  142051.07         2   \n",
       "9   15635125    684       Ярославль      М   27        2  134603.88         1   \n",
       "10  15810557    528       Ярославль      М   31        6  102016.72         2   \n",
       "11  15779909    497         Рыбинск      М   24        3        NaN         2   \n",
       "12  15675000    476       Ярославль      Ж   34       10        NaN         2   \n",
       "13  15734219    549       Ярославль      Ж   25        5        NaN         2   \n",
       "14  15643618    635         Рыбинск      Ж   35        7        NaN         2   \n",
       "\n",
       "    CreditCard  Loyalty  estimated_salary  Churn  \n",
       "0            1        1         101348.88      1  \n",
       "1            0        1         112542.58      0  \n",
       "2            1        0         113931.57      1  \n",
       "3            0        0          93826.63      0  \n",
       "4            1        1          79084.10      0  \n",
       "5            1        0         149756.71      1  \n",
       "6            1        1          10062.80      0  \n",
       "7            1        0         119346.88      1  \n",
       "8            0        1          74940.50      0  \n",
       "9            1        1          71725.73      0  \n",
       "10           0        0          80181.12      0  \n",
       "11           1        0          76390.01      0  \n",
       "12           1        0          26260.98      0  \n",
       "13           0        0         190857.79      0  \n",
       "14           1        1          65951.65      0  "
      ]
     },
     "execution_count": 2,
     "metadata": {},
     "output_type": "execute_result"
    }
   ],
   "source": [
    "data = pd.read_csv('/datasets/bank_dataset.csv')\n",
    "data.head(15)"
   ]
  },
  {
   "cell_type": "code",
   "execution_count": 3,
   "metadata": {},
   "outputs": [
    {
     "name": "stdout",
     "output_type": "stream",
     "text": [
      "<class 'pandas.core.frame.DataFrame'>\n",
      "RangeIndex: 10000 entries, 0 to 9999\n",
      "Data columns (total 12 columns):\n",
      " #   Column            Non-Null Count  Dtype  \n",
      "---  ------            --------------  -----  \n",
      " 0   userid            10000 non-null  int64  \n",
      " 1   score             10000 non-null  int64  \n",
      " 2   City              10000 non-null  object \n",
      " 3   Gender            10000 non-null  object \n",
      " 4   Age               10000 non-null  int64  \n",
      " 5   Objects           10000 non-null  int64  \n",
      " 6   Balance           6383 non-null   float64\n",
      " 7   Products          10000 non-null  int64  \n",
      " 8   CreditCard        10000 non-null  int64  \n",
      " 9   Loyalty           10000 non-null  int64  \n",
      " 10  estimated_salary  10000 non-null  float64\n",
      " 11  Churn             10000 non-null  int64  \n",
      "dtypes: float64(2), int64(8), object(2)\n",
      "memory usage: 937.6+ KB\n"
     ]
    }
   ],
   "source": [
    "data.info()"
   ]
  },
  {
   "cell_type": "markdown",
   "metadata": {},
   "source": [
    "Изучив общую информацию можно сделать вывод о наличие пропусков в колонке Balance. Далее попробуем определить причину их возникновения.  Всего датасет содержит 11 колонок, и 1000 строк. Названия колонок не соотвествуют \"хорошему стилю\", необходимо это устранить."
   ]
  },
  {
   "cell_type": "markdown",
   "metadata": {},
   "source": [
    "### Проверка соответствия типов данных."
   ]
  },
  {
   "cell_type": "markdown",
   "metadata": {},
   "source": [
    "Изучив данные датасета можно сделать вывод о том, что типы данных находятся в соответствии. Менять ничего не будем."
   ]
  },
  {
   "cell_type": "markdown",
   "metadata": {},
   "source": [
    "### Приведение названия колонок к общему стилю.\n",
    "\n",
    "Названия некоторых колонок начинаются с заглавной буквы, что не соотвествует \"хорошему стилю\". Исправим это."
   ]
  },
  {
   "cell_type": "code",
   "execution_count": 4,
   "metadata": {},
   "outputs": [
    {
     "data": {
      "text/html": [
       "<div>\n",
       "<style scoped>\n",
       "    .dataframe tbody tr th:only-of-type {\n",
       "        vertical-align: middle;\n",
       "    }\n",
       "\n",
       "    .dataframe tbody tr th {\n",
       "        vertical-align: top;\n",
       "    }\n",
       "\n",
       "    .dataframe thead th {\n",
       "        text-align: right;\n",
       "    }\n",
       "</style>\n",
       "<table border=\"1\" class=\"dataframe\">\n",
       "  <thead>\n",
       "    <tr style=\"text-align: right;\">\n",
       "      <th></th>\n",
       "      <th>user_id</th>\n",
       "      <th>score</th>\n",
       "      <th>city</th>\n",
       "      <th>gender</th>\n",
       "      <th>age</th>\n",
       "      <th>objects</th>\n",
       "      <th>balance</th>\n",
       "      <th>products</th>\n",
       "      <th>credit_card</th>\n",
       "      <th>loyalty</th>\n",
       "      <th>estimated_salary</th>\n",
       "      <th>churn</th>\n",
       "    </tr>\n",
       "  </thead>\n",
       "  <tbody>\n",
       "    <tr>\n",
       "      <th>0</th>\n",
       "      <td>15677338</td>\n",
       "      <td>619</td>\n",
       "      <td>Ярославль</td>\n",
       "      <td>Ж</td>\n",
       "      <td>42</td>\n",
       "      <td>2</td>\n",
       "      <td>NaN</td>\n",
       "      <td>1</td>\n",
       "      <td>1</td>\n",
       "      <td>1</td>\n",
       "      <td>101348.88</td>\n",
       "      <td>1</td>\n",
       "    </tr>\n",
       "    <tr>\n",
       "      <th>1</th>\n",
       "      <td>15690047</td>\n",
       "      <td>608</td>\n",
       "      <td>Рыбинск</td>\n",
       "      <td>Ж</td>\n",
       "      <td>41</td>\n",
       "      <td>1</td>\n",
       "      <td>83807.86</td>\n",
       "      <td>1</td>\n",
       "      <td>0</td>\n",
       "      <td>1</td>\n",
       "      <td>112542.58</td>\n",
       "      <td>0</td>\n",
       "    </tr>\n",
       "    <tr>\n",
       "      <th>2</th>\n",
       "      <td>15662040</td>\n",
       "      <td>502</td>\n",
       "      <td>Ярославль</td>\n",
       "      <td>Ж</td>\n",
       "      <td>42</td>\n",
       "      <td>8</td>\n",
       "      <td>159660.80</td>\n",
       "      <td>3</td>\n",
       "      <td>1</td>\n",
       "      <td>0</td>\n",
       "      <td>113931.57</td>\n",
       "      <td>1</td>\n",
       "    </tr>\n",
       "    <tr>\n",
       "      <th>3</th>\n",
       "      <td>15744090</td>\n",
       "      <td>699</td>\n",
       "      <td>Ярославль</td>\n",
       "      <td>Ж</td>\n",
       "      <td>39</td>\n",
       "      <td>1</td>\n",
       "      <td>NaN</td>\n",
       "      <td>2</td>\n",
       "      <td>0</td>\n",
       "      <td>0</td>\n",
       "      <td>93826.63</td>\n",
       "      <td>0</td>\n",
       "    </tr>\n",
       "    <tr>\n",
       "      <th>4</th>\n",
       "      <td>15780624</td>\n",
       "      <td>850</td>\n",
       "      <td>Рыбинск</td>\n",
       "      <td>Ж</td>\n",
       "      <td>43</td>\n",
       "      <td>2</td>\n",
       "      <td>125510.82</td>\n",
       "      <td>1</td>\n",
       "      <td>1</td>\n",
       "      <td>1</td>\n",
       "      <td>79084.10</td>\n",
       "      <td>0</td>\n",
       "    </tr>\n",
       "    <tr>\n",
       "      <th>...</th>\n",
       "      <td>...</td>\n",
       "      <td>...</td>\n",
       "      <td>...</td>\n",
       "      <td>...</td>\n",
       "      <td>...</td>\n",
       "      <td>...</td>\n",
       "      <td>...</td>\n",
       "      <td>...</td>\n",
       "      <td>...</td>\n",
       "      <td>...</td>\n",
       "      <td>...</td>\n",
       "      <td>...</td>\n",
       "    </tr>\n",
       "    <tr>\n",
       "      <th>9995</th>\n",
       "      <td>15648965</td>\n",
       "      <td>771</td>\n",
       "      <td>Ярославль</td>\n",
       "      <td>М</td>\n",
       "      <td>39</td>\n",
       "      <td>5</td>\n",
       "      <td>NaN</td>\n",
       "      <td>2</td>\n",
       "      <td>1</td>\n",
       "      <td>0</td>\n",
       "      <td>96270.64</td>\n",
       "      <td>0</td>\n",
       "    </tr>\n",
       "    <tr>\n",
       "      <th>9996</th>\n",
       "      <td>15612628</td>\n",
       "      <td>516</td>\n",
       "      <td>Ярославль</td>\n",
       "      <td>М</td>\n",
       "      <td>35</td>\n",
       "      <td>10</td>\n",
       "      <td>57369.61</td>\n",
       "      <td>1</td>\n",
       "      <td>1</td>\n",
       "      <td>1</td>\n",
       "      <td>101699.77</td>\n",
       "      <td>0</td>\n",
       "    </tr>\n",
       "    <tr>\n",
       "      <th>9997</th>\n",
       "      <td>15627268</td>\n",
       "      <td>709</td>\n",
       "      <td>Ярославль</td>\n",
       "      <td>Ж</td>\n",
       "      <td>36</td>\n",
       "      <td>7</td>\n",
       "      <td>NaN</td>\n",
       "      <td>1</td>\n",
       "      <td>0</td>\n",
       "      <td>1</td>\n",
       "      <td>42085.58</td>\n",
       "      <td>1</td>\n",
       "    </tr>\n",
       "    <tr>\n",
       "      <th>9998</th>\n",
       "      <td>15725091</td>\n",
       "      <td>772</td>\n",
       "      <td>Ростов Великий</td>\n",
       "      <td>М</td>\n",
       "      <td>42</td>\n",
       "      <td>3</td>\n",
       "      <td>75075.31</td>\n",
       "      <td>2</td>\n",
       "      <td>1</td>\n",
       "      <td>0</td>\n",
       "      <td>92888.52</td>\n",
       "      <td>1</td>\n",
       "    </tr>\n",
       "    <tr>\n",
       "      <th>9999</th>\n",
       "      <td>15671055</td>\n",
       "      <td>792</td>\n",
       "      <td>Ярославль</td>\n",
       "      <td>Ж</td>\n",
       "      <td>28</td>\n",
       "      <td>4</td>\n",
       "      <td>130142.79</td>\n",
       "      <td>1</td>\n",
       "      <td>1</td>\n",
       "      <td>0</td>\n",
       "      <td>38190.78</td>\n",
       "      <td>0</td>\n",
       "    </tr>\n",
       "  </tbody>\n",
       "</table>\n",
       "<p>10000 rows × 12 columns</p>\n",
       "</div>"
      ],
      "text/plain": [
       "       user_id  score            city gender  age  objects    balance  \\\n",
       "0     15677338    619       Ярославль      Ж   42        2        NaN   \n",
       "1     15690047    608         Рыбинск      Ж   41        1   83807.86   \n",
       "2     15662040    502       Ярославль      Ж   42        8  159660.80   \n",
       "3     15744090    699       Ярославль      Ж   39        1        NaN   \n",
       "4     15780624    850         Рыбинск      Ж   43        2  125510.82   \n",
       "...        ...    ...             ...    ...  ...      ...        ...   \n",
       "9995  15648965    771       Ярославль      М   39        5        NaN   \n",
       "9996  15612628    516       Ярославль      М   35       10   57369.61   \n",
       "9997  15627268    709       Ярославль      Ж   36        7        NaN   \n",
       "9998  15725091    772  Ростов Великий      М   42        3   75075.31   \n",
       "9999  15671055    792       Ярославль      Ж   28        4  130142.79   \n",
       "\n",
       "      products  credit_card  loyalty  estimated_salary  churn  \n",
       "0            1            1        1         101348.88      1  \n",
       "1            1            0        1         112542.58      0  \n",
       "2            3            1        0         113931.57      1  \n",
       "3            2            0        0          93826.63      0  \n",
       "4            1            1        1          79084.10      0  \n",
       "...        ...          ...      ...               ...    ...  \n",
       "9995         2            1        0          96270.64      0  \n",
       "9996         1            1        1         101699.77      0  \n",
       "9997         1            0        1          42085.58      1  \n",
       "9998         2            1        0          92888.52      1  \n",
       "9999         1            1        0          38190.78      0  \n",
       "\n",
       "[10000 rows x 12 columns]"
      ]
     },
     "execution_count": 4,
     "metadata": {},
     "output_type": "execute_result"
    }
   ],
   "source": [
    "#приведем названия столбцов к нижнему регистру \n",
    "data.columns = data.columns.str.lower()\n",
    "\n",
    "# Названия из столбцов из двух и более слов должны быть написаны через ниженне подчеркивание \n",
    "data = data.rename(columns={'creditcard': 'credit_card', 'userid' : 'user_id'})\n",
    "data"
   ]
  },
  {
   "cell_type": "markdown",
   "metadata": {},
   "source": [
    "### Исследование и обработка пропусков.\n",
    "\n",
    "При первичном знакомстве с данными мы обнаружили наличие пропусков в колонке Balance. Выясним есть ли какая то закономерность появления пропусков. Выведим таблицу data в срезе клиентов с отсутсвующим балансом и проанализируем ее."
   ]
  },
  {
   "cell_type": "markdown",
   "metadata": {},
   "source": [
    "Добавим новый столбец в котором клиенты, имеющие баланс, будут иметь значение 1, а не имеющие 0. Сгруппируем по этому столбцу, посмотрим на средние занечение всех параметров чтобы выявить взаимосвязь."
   ]
  },
  {
   "cell_type": "code",
   "execution_count": 5,
   "metadata": {},
   "outputs": [
    {
     "data": {
      "text/html": [
       "<div>\n",
       "<style scoped>\n",
       "    .dataframe tbody tr th:only-of-type {\n",
       "        vertical-align: middle;\n",
       "    }\n",
       "\n",
       "    .dataframe tbody tr th {\n",
       "        vertical-align: top;\n",
       "    }\n",
       "\n",
       "    .dataframe thead th {\n",
       "        text-align: right;\n",
       "    }\n",
       "</style>\n",
       "<table border=\"1\" class=\"dataframe\">\n",
       "  <thead>\n",
       "    <tr style=\"text-align: right;\">\n",
       "      <th></th>\n",
       "      <th>user_id</th>\n",
       "      <th>score</th>\n",
       "      <th>age</th>\n",
       "      <th>objects</th>\n",
       "      <th>balance</th>\n",
       "      <th>products</th>\n",
       "      <th>credit_card</th>\n",
       "      <th>loyalty</th>\n",
       "      <th>estimated_salary</th>\n",
       "      <th>churn</th>\n",
       "    </tr>\n",
       "    <tr>\n",
       "      <th>balance_existence</th>\n",
       "      <th></th>\n",
       "      <th></th>\n",
       "      <th></th>\n",
       "      <th></th>\n",
       "      <th></th>\n",
       "      <th></th>\n",
       "      <th></th>\n",
       "      <th></th>\n",
       "      <th></th>\n",
       "      <th></th>\n",
       "    </tr>\n",
       "  </thead>\n",
       "  <tbody>\n",
       "    <tr>\n",
       "      <th>0</th>\n",
       "      <td>1.573469e+07</td>\n",
       "      <td>649.452861</td>\n",
       "      <td>38.434891</td>\n",
       "      <td>5.071330</td>\n",
       "      <td>NaN</td>\n",
       "      <td>1.784628</td>\n",
       "      <td>0.716616</td>\n",
       "      <td>0.517832</td>\n",
       "      <td>98983.559549</td>\n",
       "      <td>0.138236</td>\n",
       "    </tr>\n",
       "    <tr>\n",
       "      <th>1</th>\n",
       "      <td>1.573310e+07</td>\n",
       "      <td>651.138493</td>\n",
       "      <td>39.197713</td>\n",
       "      <td>4.979633</td>\n",
       "      <td>119827.493793</td>\n",
       "      <td>1.386025</td>\n",
       "      <td>0.699201</td>\n",
       "      <td>0.513552</td>\n",
       "      <td>100717.352956</td>\n",
       "      <td>0.240796</td>\n",
       "    </tr>\n",
       "  </tbody>\n",
       "</table>\n",
       "</div>"
      ],
      "text/plain": [
       "                        user_id       score        age   objects  \\\n",
       "balance_existence                                                  \n",
       "0                  1.573469e+07  649.452861  38.434891  5.071330   \n",
       "1                  1.573310e+07  651.138493  39.197713  4.979633   \n",
       "\n",
       "                         balance  products  credit_card   loyalty  \\\n",
       "balance_existence                                                   \n",
       "0                            NaN  1.784628     0.716616  0.517832   \n",
       "1                  119827.493793  1.386025     0.699201  0.513552   \n",
       "\n",
       "                   estimated_salary     churn  \n",
       "balance_existence                              \n",
       "0                      98983.559549  0.138236  \n",
       "1                     100717.352956  0.240796  "
      ]
     },
     "execution_count": 5,
     "metadata": {},
     "output_type": "execute_result"
    }
   ],
   "source": [
    "def balance_existence(balance):\n",
    "    if balance > 0:\n",
    "        return 1\n",
    "    return 0\n",
    "data['balance_existence'] = data['balance'].apply(balance_existence)\n",
    "data.groupby('balance_existence').mean()"
   ]
  },
  {
   "cell_type": "markdown",
   "metadata": {},
   "source": [
    "Изучив средние значения признаков клиентов с балансом и без, значимых отличий не выявленно. \n",
    "\n",
    "балл кредитного скоринга: 649 - 651,\n",
    "\n",
    "средний возраст: 38-39 лет,\n",
    "    \n",
    "количество продуктов банка 1,3 - 1,7,\n",
    "\n",
    "количество объектов в собственности - около 5,\n",
    "\n",
    "средняя зарплата 98 - 100 тысяч.\n",
    "\n",
    "Пропуск может быть, если клиент не имеет дебетовой карты, тогда наличие пропуска вполне объяснимо."
   ]
  },
  {
   "cell_type": "code",
   "execution_count": 6,
   "metadata": {},
   "outputs": [
    {
     "data": {
      "text/html": [
       "<div>\n",
       "<style scoped>\n",
       "    .dataframe tbody tr th:only-of-type {\n",
       "        vertical-align: middle;\n",
       "    }\n",
       "\n",
       "    .dataframe tbody tr th {\n",
       "        vertical-align: top;\n",
       "    }\n",
       "\n",
       "    .dataframe thead th {\n",
       "        text-align: right;\n",
       "    }\n",
       "</style>\n",
       "<table border=\"1\" class=\"dataframe\">\n",
       "  <thead>\n",
       "    <tr style=\"text-align: right;\">\n",
       "      <th>city</th>\n",
       "      <th>Рыбинск</th>\n",
       "      <th>Ярославль</th>\n",
       "    </tr>\n",
       "  </thead>\n",
       "  <tbody>\n",
       "    <tr>\n",
       "      <th>user_id</th>\n",
       "      <td>1199</td>\n",
       "      <td>2418</td>\n",
       "    </tr>\n",
       "  </tbody>\n",
       "</table>\n",
       "</div>"
      ],
      "text/plain": [
       "city     Рыбинск  Ярославль\n",
       "user_id     1199       2418"
      ]
     },
     "execution_count": 6,
     "metadata": {},
     "output_type": "execute_result"
    }
   ],
   "source": [
    "#проанализируем пользователей у которых отсутсвует информация о балансе\n",
    "\n",
    "data_no_balans = data.query('balance_existence == 0')\n",
    "\n",
    "# Посмотрим сколько в среденм в каждом городе таких клиентов\n",
    "data_no_balans.pivot_table(columns = \"city\", values='user_id', aggfunc='count')\n"
   ]
  },
  {
   "cell_type": "markdown",
   "metadata": {},
   "source": [
    "Получаем что в Ростове Великом нет клиентов с отсуствующим балансом, а вот в Ярославле их в два раза больше чем в Рыбинске."
   ]
  },
  {
   "cell_type": "code",
   "execution_count": 7,
   "metadata": {},
   "outputs": [
    {
     "data": {
      "text/html": [
       "<div>\n",
       "<style scoped>\n",
       "    .dataframe tbody tr th:only-of-type {\n",
       "        vertical-align: middle;\n",
       "    }\n",
       "\n",
       "    .dataframe tbody tr th {\n",
       "        vertical-align: top;\n",
       "    }\n",
       "\n",
       "    .dataframe thead th {\n",
       "        text-align: right;\n",
       "    }\n",
       "</style>\n",
       "<table border=\"1\" class=\"dataframe\">\n",
       "  <thead>\n",
       "    <tr style=\"text-align: right;\">\n",
       "      <th>products</th>\n",
       "      <th>1</th>\n",
       "      <th>2</th>\n",
       "      <th>3</th>\n",
       "      <th>4</th>\n",
       "    </tr>\n",
       "  </thead>\n",
       "  <tbody>\n",
       "    <tr>\n",
       "      <th>user_id</th>\n",
       "      <td>905</td>\n",
       "      <td>2600</td>\n",
       "      <td>98</td>\n",
       "      <td>14</td>\n",
       "    </tr>\n",
       "  </tbody>\n",
       "</table>\n",
       "</div>"
      ],
      "text/plain": [
       "products    1     2   3   4\n",
       "user_id   905  2600  98  14"
      ]
     },
     "execution_count": 7,
     "metadata": {},
     "output_type": "execute_result"
    }
   ],
   "source": [
    "# исследуем тех же клиентов в разрезе количества продуктов банка\n",
    "data_no_balans.pivot_table(columns = \"products\", values='user_id', aggfunc='count')"
   ]
  },
  {
   "cell_type": "markdown",
   "metadata": {},
   "source": [
    "Клинты с остуствующим балансом чаще всего используют два банковских продукта. Так как мы точно знаем, что все клиенты имеют кредитную карту, можно предположить, что возможно второй продукт является дебетовой каротой."
   ]
  },
  {
   "cell_type": "code",
   "execution_count": 38,
   "metadata": {},
   "outputs": [
    {
     "data": {
      "image/png": "[encoded data removed]",
      "text/plain": [
       "<Figure size 432x288 with 2 Axes>"
      ]
     },
     "metadata": {},
     "output_type": "display_data"
    }
   ],
   "source": [
    "# построим тепловую карту и посмотрим процент нулевого баланса по городам и продуктам\n",
    "sns.heatmap(\n",
    "    data.pivot_table(\n",
    "        index='products', \n",
    "        columns='city', \n",
    "        values='balance', \n",
    "        aggfunc=lambda row: row.isna().mean()), \n",
    "    annot=True, \n",
    "    fmt='.2%',\n",
    "    cmap=\"bwr\")\\\n",
    "   .set(title=\"Процент нулевого баланса по городам и продуктам\");"
   ]
  },
  {
   "cell_type": "markdown",
   "metadata": {},
   "source": [
    "### Проверка на дубликаты."
   ]
  },
  {
   "cell_type": "code",
   "execution_count": 9,
   "metadata": {},
   "outputs": [
    {
     "name": "stdout",
     "output_type": "stream",
     "text": [
      "Явные дубликаты: 0\n"
     ]
    }
   ],
   "source": [
    "print('Явные дубликаты:', data.duplicated().sum())"
   ]
  },
  {
   "cell_type": "markdown",
   "metadata": {},
   "source": [
    "Явных дубликатов не выявленно. Проверим на наличие дубликатов колонки userid и сity"
   ]
  },
  {
   "cell_type": "code",
   "execution_count": 10,
   "metadata": {},
   "outputs": [
    {
     "name": "stdout",
     "output_type": "stream",
     "text": [
      "Количество уникальных значений в столбце user_id: 10000\n"
     ]
    }
   ],
   "source": [
    "print(\"Количество уникальных значений в столбце user_id:\", data['user_id'].value_counts().count())"
   ]
  },
  {
   "cell_type": "code",
   "execution_count": 11,
   "metadata": {},
   "outputs": [
    {
     "name": "stdout",
     "output_type": "stream",
     "text": [
      "Список уникальных значений в столбце сity: ['Ярославль' 'Рыбинск' 'Ростов Великий']\n"
     ]
    }
   ],
   "source": [
    "print(\"Список уникальных значений в столбце сity:\", data['city'].unique())"
   ]
  },
  {
   "cell_type": "markdown",
   "metadata": {},
   "source": [
    "Дубликатов не выявленно"
   ]
  },
  {
   "cell_type": "markdown",
   "metadata": {},
   "source": [
    "## Исследовательский анализ данных.\n",
    "### Построение графиков распределения признаков клиентов."
   ]
  },
  {
   "cell_type": "markdown",
   "metadata": {},
   "source": [
    "Построим гистограммы распределения значений для колонок: score, age, balance, objects, estimated_salary."
   ]
  },
  {
   "cell_type": "code",
   "execution_count": 12,
   "metadata": {
    "scrolled": false
   },
   "outputs": [
    {
     "data": {
      "image/png": "[encoded data removed]",
      "text/plain": [
       "<Figure size 864x360 with 2 Axes>"
      ]
     },
     "metadata": {
      "needs_background": "light"
     },
     "output_type": "display_data"
    },
    {
     "data": {
      "image/png": "[encoded data removed]",
      "text/plain": [
       "<Figure size 864x360 with 2 Axes>"
      ]
     },
     "metadata": {
      "needs_background": "light"
     },
     "output_type": "display_data"
    },
    {
     "data": {
      "image/png": "[encoded data removed]",
      "text/plain": [
       "<Figure size 864x360 with 2 Axes>"
      ]
     },
     "metadata": {
      "needs_background": "light"
     },
     "output_type": "display_data"
    },
    {
     "data": {
      "image/png": "[encoded data removed]",
      "text/plain": [
       "<Figure size 864x360 with 2 Axes>"
      ]
     },
     "metadata": {
      "needs_background": "light"
     },
     "output_type": "display_data"
    },
    {
     "data": {
      "image/png": "[encoded data removed]",
      "text/plain": [
       "<Figure size 864x360 with 2 Axes>"
      ]
     },
     "metadata": {
      "needs_background": "light"
     },
     "output_type": "display_data"
    }
   ],
   "source": [
    "# Функция для отрисовки гистограмм и боксплота для визуализации распределения.\n",
    "def plot(data, column):\n",
    "    \n",
    "    fig, ax = plt.subplots(figsize = (12, 5))\n",
    "    \n",
    "    sns.histplot(data[data['churn']==0][column], color = '#61bd5c', ax = plt.subplot(1, 2, 1))\n",
    "    sns.histplot(data[data['churn']==1][column], label = 'В оттоке', color = '#184562', ax = plt.subplot(1, 2, 1), alpha=.4)\n",
    "    plt.xlabel('')\n",
    "    plt.ylabel('Количество клиентов')\n",
    "    plt.legend()\n",
    "    plt.title(\"Распределение признака {}\".format(column)) \n",
    "    \n",
    "    sns.boxplot(y = column, x = 'churn', data = data, ax = plt.subplot(1, 2, 2), palette='Greens_r') \n",
    "    plt.xlabel('')\n",
    "    plt.ylabel('')\n",
    "    plt.xticks(np.arange(2), ('Действующие', 'Отток'))\n",
    "    plt.title(\"Boxplot для признака {}\".format(column))\n",
    "   \n",
    "    plt.show()\n",
    "    \n",
    "#в функцию передадим список числовых признаков\n",
    "    \n",
    "list = ['score', 'age', 'balance', 'objects', 'estimated_salary']\n",
    "\n",
    "for column in list:\n",
    "    plot(data, column)"
   ]
  },
  {
   "cell_type": "markdown",
   "metadata": {},
   "source": [
    "Построим гистограммы распределения значений для колонок: city, gender, products, credit_card, loyalty, churn."
   ]
  },
  {
   "cell_type": "code",
   "execution_count": 13,
   "metadata": {
    "scrolled": false
   },
   "outputs": [
    {
     "data": {
      "image/png": "[encoded data removed]",
      "text/plain": [
       "<Figure size 1440x360 with 1 Axes>"
      ]
     },
     "metadata": {},
     "output_type": "display_data"
    },
    {
     "data": {
      "image/png": "[encoded data removed]",
      "text/plain": [
       "<Figure size 1440x360 with 1 Axes>"
      ]
     },
     "metadata": {},
     "output_type": "display_data"
    },
    {
     "data": {
      "image/png": "[encoded data removed]",
      "text/plain": [
       "<Figure size 1440x360 with 1 Axes>"
      ]
     },
     "metadata": {},
     "output_type": "display_data"
    },
    {
     "data": {
      "image/png": "[encoded data removed]",
      "text/plain": [
       "<Figure size 1440x360 with 1 Axes>"
      ]
     },
     "metadata": {},
     "output_type": "display_data"
    },
    {
     "data": {
      "image/png": "[encoded data removed]",
      "text/plain": [
       "<Figure size 1440x360 with 1 Axes>"
      ]
     },
     "metadata": {},
     "output_type": "display_data"
    }
   ],
   "source": [
    "def categorical(data, column):\n",
    "    sns.set_style(\"darkgrid\")\n",
    "    fig, ax = plt.subplots(figsize = (20, 5))\n",
    "    sns.countplot(x = column, hue = 'churn', data = data, ax = plt.subplot(1, 2, 1),  palette='GnBu')\n",
    "    plt.ylabel('Количеств клиентов')\n",
    "    plt.xlabel('')\n",
    "    plt.title(\"Распределение признака {}\".format(column)) \n",
    "    plt.show()\n",
    "    \n",
    "#в функцию передадим список категориальных признаков\n",
    "    \n",
    "list = ['city', 'gender', 'products', 'credit_card', 'loyalty']\n",
    "\n",
    "for column in list:\n",
    "    categorical(data, column)    \n",
    "    "
   ]
  },
  {
   "cell_type": "markdown",
   "metadata": {},
   "source": [
    "По данным графикам можно сделать вывод что:\n",
    "\n",
    "оттоку чаще подвержены клинты в возрасте от 45 - 50 лет;\n",
    "\n",
    "меньше всего клиентов уходят в отток в городе Рыбинск;\n",
    "\n",
    "чаще всего это женщины;\n",
    "\n",
    "клиенты в оттоке пользуются одним продуктом банка;\n",
    "\n",
    "такие клиенты чаще всего не имеют кредитную карту, и не проявляют активность.\n",
    "\n",
    "клиенты имеющие 3 - 4 продукта почти 100 % поппадют в отток"
   ]
  },
  {
   "cell_type": "markdown",
   "metadata": {},
   "source": [
    "### Построение матрицы корреляции и вычисление коэффициента корреляции для нахождения взаимосвязи между признаками клиентов."
   ]
  },
  {
   "cell_type": "code",
   "execution_count": 14,
   "metadata": {},
   "outputs": [
    {
     "data": {
      "image/png": "[encoded data removed]",
      "text/plain": [
       "<Figure size 1440x1008 with 2 Axes>"
      ]
     },
     "metadata": {},
     "output_type": "display_data"
    }
   ],
   "source": [
    "fig, ax = plt.subplots(figsize=(20,14))\n",
    "\n",
    "sns.heatmap(data.corr(), annot=True, alpha=.5)\n",
    "ax.set_title('Матрица корреляции признаков')\n",
    "plt.show()"
   ]
  },
  {
   "cell_type": "markdown",
   "metadata": {},
   "source": [
    "Изучив матрицу корреляции можно сказать, что на отток в небольшой степени влияет возраст клиента, так же небольшое влияние имеет параметр лояльности, клиенты с отсувующей лояльностью больше склонны к оттоку. \n",
    "Но серьезной связи между признаками нет.\n",
    "По шкале Чеддока полученую корреляцию можно назвать слабой."
   ]
  },
  {
   "cell_type": "markdown",
   "metadata": {},
   "source": [
    "Для изучения нелинейной зависмоти между параметрами построим 𝜙 k корреляционную матрицу"
   ]
  },
  {
   "cell_type": "markdown",
   "metadata": {},
   "source": [
    "### Анализ клиентов в разрезе потребляемых продуктов.\n",
    "\n",
    "Посмотрим как распределяются клиенты в зависимости от количества потребляемых продуктов банка."
   ]
  },
  {
   "cell_type": "code",
   "execution_count": 15,
   "metadata": {},
   "outputs": [
    {
     "data": {
      "text/html": [
       "<div>\n",
       "<style scoped>\n",
       "    .dataframe tbody tr th:only-of-type {\n",
       "        vertical-align: middle;\n",
       "    }\n",
       "\n",
       "    .dataframe tbody tr th {\n",
       "        vertical-align: top;\n",
       "    }\n",
       "\n",
       "    .dataframe thead th {\n",
       "        text-align: right;\n",
       "    }\n",
       "</style>\n",
       "<table border=\"1\" class=\"dataframe\">\n",
       "  <thead>\n",
       "    <tr style=\"text-align: right;\">\n",
       "      <th></th>\n",
       "      <th>products</th>\n",
       "      <th>churn</th>\n",
       "      <th>user_id</th>\n",
       "    </tr>\n",
       "  </thead>\n",
       "  <tbody>\n",
       "    <tr>\n",
       "      <th>0</th>\n",
       "      <td>1</td>\n",
       "      <td>0</td>\n",
       "      <td>3675</td>\n",
       "    </tr>\n",
       "    <tr>\n",
       "      <th>1</th>\n",
       "      <td>1</td>\n",
       "      <td>1</td>\n",
       "      <td>1409</td>\n",
       "    </tr>\n",
       "    <tr>\n",
       "      <th>2</th>\n",
       "      <td>2</td>\n",
       "      <td>0</td>\n",
       "      <td>4242</td>\n",
       "    </tr>\n",
       "    <tr>\n",
       "      <th>3</th>\n",
       "      <td>2</td>\n",
       "      <td>1</td>\n",
       "      <td>348</td>\n",
       "    </tr>\n",
       "    <tr>\n",
       "      <th>4</th>\n",
       "      <td>3</td>\n",
       "      <td>0</td>\n",
       "      <td>46</td>\n",
       "    </tr>\n",
       "    <tr>\n",
       "      <th>5</th>\n",
       "      <td>3</td>\n",
       "      <td>1</td>\n",
       "      <td>220</td>\n",
       "    </tr>\n",
       "    <tr>\n",
       "      <th>6</th>\n",
       "      <td>4</td>\n",
       "      <td>1</td>\n",
       "      <td>60</td>\n",
       "    </tr>\n",
       "  </tbody>\n",
       "</table>\n",
       "</div>"
      ],
      "text/plain": [
       "   products  churn  user_id\n",
       "0         1      0     3675\n",
       "1         1      1     1409\n",
       "2         2      0     4242\n",
       "3         2      1      348\n",
       "4         3      0       46\n",
       "5         3      1      220\n",
       "6         4      1       60"
      ]
     },
     "execution_count": 15,
     "metadata": {},
     "output_type": "execute_result"
    }
   ],
   "source": [
    "data_product = data.groupby(['products', 'churn'])['user_id'].agg('count').reset_index()\n",
    "data_product"
   ]
  },
  {
   "cell_type": "code",
   "execution_count": 16,
   "metadata": {},
   "outputs": [
    {
     "data": {
      "image/png": "[encoded data removed]",
      "text/plain": [
       "<Figure size 864x432 with 1 Axes>"
      ]
     },
     "metadata": {},
     "output_type": "display_data"
    }
   ],
   "source": [
    "plt.figure(figsize=(12, 6))\n",
    "ax = sns.barplot(x='products', y='user_id', hue = 'churn', data=data_product, alpha=0.8)\n",
    "ax.set_title('Распределение клиентов по количеству банковских продуктов')\n",
    "ax.set_xlabel('Количество продуктов')\n",
    "ax.set_ylabel('Количество клиентов')\n",
    "plt.show()"
   ]
  },
  {
   "cell_type": "markdown",
   "metadata": {},
   "source": [
    "Действующие клиенты предпочитают пользоваться чаще 2 продуктами, чуть реже 1. Клиенты в оттоке чаще пользуются 1 продуктом. Интересная особенность, что нет действующих клиентов, пользующихся 4 продуктами."
   ]
  },
  {
   "cell_type": "markdown",
   "metadata": {},
   "source": [
    "### Анализ клиентов в разрезе возраста и пола.\n",
    " \n",
    " Первым делом разобьем клиентов на возрастные категории. Посмотрим какие максимальные и минимальные значения возрата имеются у клиентов.\n"
   ]
  },
  {
   "cell_type": "code",
   "execution_count": 17,
   "metadata": {},
   "outputs": [
    {
     "name": "stdout",
     "output_type": "stream",
     "text": [
      "Минимальный возраст клиента 18\n",
      "Максимальный возраст клиента 92\n"
     ]
    }
   ],
   "source": [
    "print(\"Минимальный возраст клиента\", data['age'].min())\n",
    "print(\"Максимальный возраст клиента\", data['age'].max())"
   ]
  },
  {
   "cell_type": "code",
   "execution_count": 18,
   "metadata": {},
   "outputs": [
    {
     "data": {
      "text/html": [
       "<div>\n",
       "<style scoped>\n",
       "    .dataframe tbody tr th:only-of-type {\n",
       "        vertical-align: middle;\n",
       "    }\n",
       "\n",
       "    .dataframe tbody tr th {\n",
       "        vertical-align: top;\n",
       "    }\n",
       "\n",
       "    .dataframe thead th {\n",
       "        text-align: right;\n",
       "    }\n",
       "</style>\n",
       "<table border=\"1\" class=\"dataframe\">\n",
       "  <thead>\n",
       "    <tr style=\"text-align: right;\">\n",
       "      <th></th>\n",
       "      <th>user_id</th>\n",
       "      <th>score</th>\n",
       "      <th>city</th>\n",
       "      <th>gender</th>\n",
       "      <th>age</th>\n",
       "      <th>objects</th>\n",
       "      <th>balance</th>\n",
       "      <th>products</th>\n",
       "      <th>credit_card</th>\n",
       "      <th>loyalty</th>\n",
       "      <th>estimated_salary</th>\n",
       "      <th>churn</th>\n",
       "      <th>balance_existence</th>\n",
       "      <th>category_age</th>\n",
       "    </tr>\n",
       "  </thead>\n",
       "  <tbody>\n",
       "    <tr>\n",
       "      <th>0</th>\n",
       "      <td>15677338</td>\n",
       "      <td>619</td>\n",
       "      <td>Ярославль</td>\n",
       "      <td>Ж</td>\n",
       "      <td>42</td>\n",
       "      <td>2</td>\n",
       "      <td>NaN</td>\n",
       "      <td>1</td>\n",
       "      <td>1</td>\n",
       "      <td>1</td>\n",
       "      <td>101348.88</td>\n",
       "      <td>1</td>\n",
       "      <td>0</td>\n",
       "      <td>41-50</td>\n",
       "    </tr>\n",
       "    <tr>\n",
       "      <th>1</th>\n",
       "      <td>15690047</td>\n",
       "      <td>608</td>\n",
       "      <td>Рыбинск</td>\n",
       "      <td>Ж</td>\n",
       "      <td>41</td>\n",
       "      <td>1</td>\n",
       "      <td>83807.86</td>\n",
       "      <td>1</td>\n",
       "      <td>0</td>\n",
       "      <td>1</td>\n",
       "      <td>112542.58</td>\n",
       "      <td>0</td>\n",
       "      <td>1</td>\n",
       "      <td>41-50</td>\n",
       "    </tr>\n",
       "    <tr>\n",
       "      <th>2</th>\n",
       "      <td>15662040</td>\n",
       "      <td>502</td>\n",
       "      <td>Ярославль</td>\n",
       "      <td>Ж</td>\n",
       "      <td>42</td>\n",
       "      <td>8</td>\n",
       "      <td>159660.80</td>\n",
       "      <td>3</td>\n",
       "      <td>1</td>\n",
       "      <td>0</td>\n",
       "      <td>113931.57</td>\n",
       "      <td>1</td>\n",
       "      <td>1</td>\n",
       "      <td>41-50</td>\n",
       "    </tr>\n",
       "    <tr>\n",
       "      <th>3</th>\n",
       "      <td>15744090</td>\n",
       "      <td>699</td>\n",
       "      <td>Ярославль</td>\n",
       "      <td>Ж</td>\n",
       "      <td>39</td>\n",
       "      <td>1</td>\n",
       "      <td>NaN</td>\n",
       "      <td>2</td>\n",
       "      <td>0</td>\n",
       "      <td>0</td>\n",
       "      <td>93826.63</td>\n",
       "      <td>0</td>\n",
       "      <td>0</td>\n",
       "      <td>31-40</td>\n",
       "    </tr>\n",
       "    <tr>\n",
       "      <th>4</th>\n",
       "      <td>15780624</td>\n",
       "      <td>850</td>\n",
       "      <td>Рыбинск</td>\n",
       "      <td>Ж</td>\n",
       "      <td>43</td>\n",
       "      <td>2</td>\n",
       "      <td>125510.82</td>\n",
       "      <td>1</td>\n",
       "      <td>1</td>\n",
       "      <td>1</td>\n",
       "      <td>79084.10</td>\n",
       "      <td>0</td>\n",
       "      <td>1</td>\n",
       "      <td>41-50</td>\n",
       "    </tr>\n",
       "  </tbody>\n",
       "</table>\n",
       "</div>"
      ],
      "text/plain": [
       "    user_id  score       city gender  age  objects    balance  products  \\\n",
       "0  15677338    619  Ярославль      Ж   42        2        NaN         1   \n",
       "1  15690047    608    Рыбинск      Ж   41        1   83807.86         1   \n",
       "2  15662040    502  Ярославль      Ж   42        8  159660.80         3   \n",
       "3  15744090    699  Ярославль      Ж   39        1        NaN         2   \n",
       "4  15780624    850    Рыбинск      Ж   43        2  125510.82         1   \n",
       "\n",
       "   credit_card  loyalty  estimated_salary  churn  balance_existence  \\\n",
       "0            1        1         101348.88      1                  0   \n",
       "1            0        1         112542.58      0                  1   \n",
       "2            1        0         113931.57      1                  1   \n",
       "3            0        0          93826.63      0                  0   \n",
       "4            1        1          79084.10      0                  1   \n",
       "\n",
       "  category_age  \n",
       "0       41-50   \n",
       "1       41-50   \n",
       "2       41-50   \n",
       "3        31-40  \n",
       "4       41-50   "
      ]
     },
     "execution_count": 18,
     "metadata": {},
     "output_type": "execute_result"
    }
   ],
   "source": [
    "#Разобъем этот интервал на группы: \n",
    "    #1 группа - от 18 до 30 лет; \n",
    "    #2 группа от 31 до 40 лет;\n",
    "    #3 группа от 41 до 50 лет;\n",
    "    #4 группа от 51 до 60 лет;\n",
    "    #5 группа от 61 до 70 лет;\n",
    "    #6 группа от 71 и старше.\n",
    "\n",
    "def category_age (data):\n",
    "    \n",
    "    if 18 <= data['age'] <= 30:\n",
    "        return '18-30'\n",
    "    \n",
    "    elif 30 < data['age'] <= 40:\n",
    "        return '31-40'\n",
    "    \n",
    "    elif 40 < data['age'] <= 50:\n",
    "        return '41-50 '\n",
    "        \n",
    "    elif 50 < data['age'] <= 60:\n",
    "        return '51-60 '\n",
    "    \n",
    "    elif 60 < data['age'] <= 70:\n",
    "        return '61-70 '\n",
    "    \n",
    "    else:\n",
    "        return '71 и старше'\n",
    "\n",
    "#добавим новый столбец category_age в таблицу data\n",
    "\n",
    "data['category_age'] = data.apply(category_age, axis=1)\n",
    "\n",
    "data.head(5)\n"
   ]
  },
  {
   "cell_type": "markdown",
   "metadata": {},
   "source": [
    "Посмотрим на средний уровень оттока по возрастному и половому признакам."
   ]
  },
  {
   "cell_type": "code",
   "execution_count": 19,
   "metadata": {},
   "outputs": [
    {
     "data": {
      "text/html": [
       "<div>\n",
       "<style scoped>\n",
       "    .dataframe tbody tr th:only-of-type {\n",
       "        vertical-align: middle;\n",
       "    }\n",
       "\n",
       "    .dataframe tbody tr th {\n",
       "        vertical-align: top;\n",
       "    }\n",
       "\n",
       "    .dataframe thead th {\n",
       "        text-align: right;\n",
       "    }\n",
       "</style>\n",
       "<table border=\"1\" class=\"dataframe\">\n",
       "  <thead>\n",
       "    <tr style=\"text-align: right;\">\n",
       "      <th>gender</th>\n",
       "      <th>Ж</th>\n",
       "      <th>М</th>\n",
       "    </tr>\n",
       "    <tr>\n",
       "      <th>category_age</th>\n",
       "      <th></th>\n",
       "      <th></th>\n",
       "    </tr>\n",
       "  </thead>\n",
       "  <tbody>\n",
       "    <tr>\n",
       "      <th>18-30</th>\n",
       "      <td>0.098864</td>\n",
       "      <td>0.056066</td>\n",
       "    </tr>\n",
       "    <tr>\n",
       "      <th>31-40</th>\n",
       "      <td>0.155692</td>\n",
       "      <td>0.093499</td>\n",
       "    </tr>\n",
       "    <tr>\n",
       "      <th>41-50</th>\n",
       "      <td>0.389091</td>\n",
       "      <td>0.295082</td>\n",
       "    </tr>\n",
       "    <tr>\n",
       "      <th>51-60</th>\n",
       "      <td>0.652174</td>\n",
       "      <td>0.475369</td>\n",
       "    </tr>\n",
       "    <tr>\n",
       "      <th>61-70</th>\n",
       "      <td>0.387755</td>\n",
       "      <td>0.255435</td>\n",
       "    </tr>\n",
       "    <tr>\n",
       "      <th>71 и старше</th>\n",
       "      <td>0.106061</td>\n",
       "      <td>0.059701</td>\n",
       "    </tr>\n",
       "  </tbody>\n",
       "</table>\n",
       "</div>"
      ],
      "text/plain": [
       "gender               Ж         М\n",
       "category_age                    \n",
       "18-30         0.098864  0.056066\n",
       "31-40         0.155692  0.093499\n",
       "41-50         0.389091  0.295082\n",
       "51-60         0.652174  0.475369\n",
       "61-70         0.387755  0.255435\n",
       "71 и старше   0.106061  0.059701"
      ]
     },
     "execution_count": 19,
     "metadata": {},
     "output_type": "execute_result"
    }
   ],
   "source": [
    "data_age = data.pivot_table(index='category_age',columns='gender', values='churn',aggfunc='mean')\n",
    "data_age\n"
   ]
  },
  {
   "cell_type": "code",
   "execution_count": 20,
   "metadata": {},
   "outputs": [
    {
     "data": {
      "image/png": "[encoded data removed]",
      "text/plain": [
       "<Figure size 864x504 with 2 Axes>"
      ]
     },
     "metadata": {},
     "output_type": "display_data"
    }
   ],
   "source": [
    "plt.figure(figsize=(12, 7))\n",
    "sns.heatmap(data_age, annot=True, fmt='.2%',vmin=0, vmax=1)\n",
    "plt.title('Распределение оттока по полу и возрасту')\n",
    "plt.show()"
   ]
  },
  {
   "cell_type": "markdown",
   "metadata": {},
   "source": [
    "Больше всего оттоку подвержены женщины после 56 лет."
   ]
  },
  {
   "cell_type": "markdown",
   "metadata": {},
   "source": [
    "### Анализ клиентов в разрезе наличия кредитной карты."
   ]
  },
  {
   "cell_type": "code",
   "execution_count": 21,
   "metadata": {},
   "outputs": [],
   "source": [
    "data_cc = data.groupby(['credit_card', 'churn'])['user_id'].agg('count').reset_index()"
   ]
  },
  {
   "cell_type": "code",
   "execution_count": 22,
   "metadata": {},
   "outputs": [
    {
     "data": {
      "image/png": "[encoded data removed]",
      "text/plain": [
       "<Figure size 864x432 with 1 Axes>"
      ]
     },
     "metadata": {},
     "output_type": "display_data"
    }
   ],
   "source": [
    "plt.figure(figsize=(12, 6))\n",
    "ax = sns.barplot(x='credit_card', y='user_id', hue = 'churn', data=data_cc, alpha=0.8)\n",
    "ax.set_title('Распределение оттока клиентов по наличию кредитной карты')\n",
    "ax.set_xlabel('Наличие карты')\n",
    "ax.set_ylabel('Количество клиентов')\n",
    "plt.show()"
   ]
  },
  {
   "cell_type": "markdown",
   "metadata": {},
   "source": [
    "Как видно, наличие кредитной карты не является сдерживающим фактором. Клиенты уходят как с ней, так и без неё."
   ]
  },
  {
   "cell_type": "markdown",
   "metadata": {},
   "source": [
    "### Анализ  клиентов в разрезе города и размера заработной платы."
   ]
  },
  {
   "cell_type": "markdown",
   "metadata": {},
   "source": [
    "Как и с возрастом определим максимальные и минимальные значения и разобъем весь интервал на группы.\n"
   ]
  },
  {
   "cell_type": "code",
   "execution_count": 23,
   "metadata": {},
   "outputs": [
    {
     "name": "stdout",
     "output_type": "stream",
     "text": [
      "Минимальная заработная плата 11.58\n",
      "Максимальная заработная плата 199992.48\n"
     ]
    }
   ],
   "source": [
    "print(\"Минимальная заработная плата\", data['estimated_salary'].min())\n",
    "print(\"Максимальная заработная плата\", data['estimated_salary'].max())"
   ]
  },
  {
   "cell_type": "markdown",
   "metadata": {},
   "source": [
    "Минимальная зарплата в 11 рублей выглядит очень подозрительно, возможно возник сбой в данных при загрузке или ошибка при введении данных. Примем минимальный размер оплаты труда в 13000 тыс. рублей и разобъем на категории, где:\n",
    "\n",
    "до 40000 руб. - низкая,\n",
    "\n",
    "от 41000 до 100000 - средняя,\n",
    "\n",
    "свыше 100000 - высокая заработная плата."
   ]
  },
  {
   "cell_type": "code",
   "execution_count": 24,
   "metadata": {},
   "outputs": [
    {
     "data": {
      "text/html": [
       "<div>\n",
       "<style scoped>\n",
       "    .dataframe tbody tr th:only-of-type {\n",
       "        vertical-align: middle;\n",
       "    }\n",
       "\n",
       "    .dataframe tbody tr th {\n",
       "        vertical-align: top;\n",
       "    }\n",
       "\n",
       "    .dataframe thead th {\n",
       "        text-align: right;\n",
       "    }\n",
       "</style>\n",
       "<table border=\"1\" class=\"dataframe\">\n",
       "  <thead>\n",
       "    <tr style=\"text-align: right;\">\n",
       "      <th></th>\n",
       "      <th>user_id</th>\n",
       "      <th>score</th>\n",
       "      <th>city</th>\n",
       "      <th>gender</th>\n",
       "      <th>age</th>\n",
       "      <th>objects</th>\n",
       "      <th>balance</th>\n",
       "      <th>products</th>\n",
       "      <th>credit_card</th>\n",
       "      <th>loyalty</th>\n",
       "      <th>estimated_salary</th>\n",
       "      <th>churn</th>\n",
       "      <th>balance_existence</th>\n",
       "      <th>category_age</th>\n",
       "      <th>category_salary</th>\n",
       "    </tr>\n",
       "  </thead>\n",
       "  <tbody>\n",
       "    <tr>\n",
       "      <th>0</th>\n",
       "      <td>15677338</td>\n",
       "      <td>619</td>\n",
       "      <td>Ярославль</td>\n",
       "      <td>Ж</td>\n",
       "      <td>42</td>\n",
       "      <td>2</td>\n",
       "      <td>NaN</td>\n",
       "      <td>1</td>\n",
       "      <td>1</td>\n",
       "      <td>1</td>\n",
       "      <td>101348.88</td>\n",
       "      <td>1</td>\n",
       "      <td>0</td>\n",
       "      <td>41-50</td>\n",
       "      <td>высокая</td>\n",
       "    </tr>\n",
       "    <tr>\n",
       "      <th>1</th>\n",
       "      <td>15690047</td>\n",
       "      <td>608</td>\n",
       "      <td>Рыбинск</td>\n",
       "      <td>Ж</td>\n",
       "      <td>41</td>\n",
       "      <td>1</td>\n",
       "      <td>83807.86</td>\n",
       "      <td>1</td>\n",
       "      <td>0</td>\n",
       "      <td>1</td>\n",
       "      <td>112542.58</td>\n",
       "      <td>0</td>\n",
       "      <td>1</td>\n",
       "      <td>41-50</td>\n",
       "      <td>высокая</td>\n",
       "    </tr>\n",
       "    <tr>\n",
       "      <th>2</th>\n",
       "      <td>15662040</td>\n",
       "      <td>502</td>\n",
       "      <td>Ярославль</td>\n",
       "      <td>Ж</td>\n",
       "      <td>42</td>\n",
       "      <td>8</td>\n",
       "      <td>159660.80</td>\n",
       "      <td>3</td>\n",
       "      <td>1</td>\n",
       "      <td>0</td>\n",
       "      <td>113931.57</td>\n",
       "      <td>1</td>\n",
       "      <td>1</td>\n",
       "      <td>41-50</td>\n",
       "      <td>высокая</td>\n",
       "    </tr>\n",
       "    <tr>\n",
       "      <th>3</th>\n",
       "      <td>15744090</td>\n",
       "      <td>699</td>\n",
       "      <td>Ярославль</td>\n",
       "      <td>Ж</td>\n",
       "      <td>39</td>\n",
       "      <td>1</td>\n",
       "      <td>NaN</td>\n",
       "      <td>2</td>\n",
       "      <td>0</td>\n",
       "      <td>0</td>\n",
       "      <td>93826.63</td>\n",
       "      <td>0</td>\n",
       "      <td>0</td>\n",
       "      <td>31-40</td>\n",
       "      <td>средняя</td>\n",
       "    </tr>\n",
       "    <tr>\n",
       "      <th>4</th>\n",
       "      <td>15780624</td>\n",
       "      <td>850</td>\n",
       "      <td>Рыбинск</td>\n",
       "      <td>Ж</td>\n",
       "      <td>43</td>\n",
       "      <td>2</td>\n",
       "      <td>125510.82</td>\n",
       "      <td>1</td>\n",
       "      <td>1</td>\n",
       "      <td>1</td>\n",
       "      <td>79084.10</td>\n",
       "      <td>0</td>\n",
       "      <td>1</td>\n",
       "      <td>41-50</td>\n",
       "      <td>средняя</td>\n",
       "    </tr>\n",
       "  </tbody>\n",
       "</table>\n",
       "</div>"
      ],
      "text/plain": [
       "    user_id  score       city gender  age  objects    balance  products  \\\n",
       "0  15677338    619  Ярославль      Ж   42        2        NaN         1   \n",
       "1  15690047    608    Рыбинск      Ж   41        1   83807.86         1   \n",
       "2  15662040    502  Ярославль      Ж   42        8  159660.80         3   \n",
       "3  15744090    699  Ярославль      Ж   39        1        NaN         2   \n",
       "4  15780624    850    Рыбинск      Ж   43        2  125510.82         1   \n",
       "\n",
       "   credit_card  loyalty  estimated_salary  churn  balance_existence  \\\n",
       "0            1        1         101348.88      1                  0   \n",
       "1            0        1         112542.58      0                  1   \n",
       "2            1        0         113931.57      1                  1   \n",
       "3            0        0          93826.63      0                  0   \n",
       "4            1        1          79084.10      0                  1   \n",
       "\n",
       "  category_age category_salary  \n",
       "0       41-50          высокая  \n",
       "1       41-50          высокая  \n",
       "2       41-50          высокая  \n",
       "3        31-40         средняя  \n",
       "4       41-50          средняя  "
      ]
     },
     "execution_count": 24,
     "metadata": {},
     "output_type": "execute_result"
    }
   ],
   "source": [
    "def category_salary (data):\n",
    "    \n",
    "    if data['estimated_salary'] <= 40000:\n",
    "        return 'низкая'\n",
    "    \n",
    "    elif 41000 <= data['estimated_salary'] <= 100000:\n",
    "        return 'средняя'\n",
    "    \n",
    "    else:\n",
    "        return 'высокая'\n",
    "\n",
    "#добавим новый столбец category_salary в таблицу data\n",
    "\n",
    "data['category_salary'] = data.apply(category_salary, axis=1)\n",
    "\n",
    "data.head(5)"
   ]
  },
  {
   "cell_type": "code",
   "execution_count": 25,
   "metadata": {},
   "outputs": [
    {
     "data": {
      "image/png": "[encoded data removed]",
      "text/plain": [
       "<Figure size 864x432 with 1 Axes>"
      ]
     },
     "metadata": {},
     "output_type": "display_data"
    }
   ],
   "source": [
    "# как клиенты распределены по городам\n",
    "plt.figure(figsize=(12, 6))\n",
    "ax = sns.barplot(x='city', y='user_id', data=data.groupby('city')['user_id'].count().reset_index(), alpha=0.8)\n",
    "ax.set_title('Распределение клиентов по городам')\n",
    "ax.set_xlabel('Название города')\n",
    "ax.set_ylabel('Количество клиентов')\n",
    "plt.show()"
   ]
  },
  {
   "cell_type": "markdown",
   "metadata": {},
   "source": [
    "В Ярославле проживает в два раза больше клиентов, чем в остальных городах."
   ]
  },
  {
   "cell_type": "code",
   "execution_count": 26,
   "metadata": {},
   "outputs": [
    {
     "data": {
      "text/html": [
       "<div>\n",
       "<style scoped>\n",
       "    .dataframe tbody tr th:only-of-type {\n",
       "        vertical-align: middle;\n",
       "    }\n",
       "\n",
       "    .dataframe tbody tr th {\n",
       "        vertical-align: top;\n",
       "    }\n",
       "\n",
       "    .dataframe thead th {\n",
       "        text-align: right;\n",
       "    }\n",
       "</style>\n",
       "<table border=\"1\" class=\"dataframe\">\n",
       "  <thead>\n",
       "    <tr style=\"text-align: right;\">\n",
       "      <th>city</th>\n",
       "      <th>Ростов Великий</th>\n",
       "      <th>Рыбинск</th>\n",
       "      <th>Ярославль</th>\n",
       "    </tr>\n",
       "    <tr>\n",
       "      <th>category_salary</th>\n",
       "      <th></th>\n",
       "      <th></th>\n",
       "      <th></th>\n",
       "    </tr>\n",
       "  </thead>\n",
       "  <tbody>\n",
       "    <tr>\n",
       "      <th>высокая</th>\n",
       "      <td>0.310612</td>\n",
       "      <td>0.178543</td>\n",
       "      <td>0.168656</td>\n",
       "    </tr>\n",
       "    <tr>\n",
       "      <th>низкая</th>\n",
       "      <td>0.346392</td>\n",
       "      <td>0.156057</td>\n",
       "      <td>0.152594</td>\n",
       "    </tr>\n",
       "    <tr>\n",
       "      <th>средняя</th>\n",
       "      <td>0.334243</td>\n",
       "      <td>0.153846</td>\n",
       "      <td>0.155570</td>\n",
       "    </tr>\n",
       "  </tbody>\n",
       "</table>\n",
       "</div>"
      ],
      "text/plain": [
       "city             Ростов Великий   Рыбинск  Ярославль\n",
       "category_salary                                     \n",
       "высокая                0.310612  0.178543   0.168656\n",
       "низкая                 0.346392  0.156057   0.152594\n",
       "средняя                0.334243  0.153846   0.155570"
      ]
     },
     "execution_count": 26,
     "metadata": {},
     "output_type": "execute_result"
    }
   ],
   "source": [
    "# Проанализиурем уровень оттока клиентов в разрезе города и категории заработной платы\n",
    "data_salary =  data.pivot_table(index='category_salary',columns='city', values='churn',aggfunc='mean')\n",
    "\n",
    "data_salary"
   ]
  },
  {
   "cell_type": "code",
   "execution_count": 27,
   "metadata": {},
   "outputs": [
    {
     "data": {
      "image/png": "[encoded data removed]",
      "text/plain": [
       "<Figure size 864x288 with 2 Axes>"
      ]
     },
     "metadata": {},
     "output_type": "display_data"
    }
   ],
   "source": [
    "plt.figure(figsize=(12, 4))\n",
    "sns.heatmap(data_salary, annot=True, fmt='.2%',vmin=0, vmax=1)\n",
    "plt.title('Распределение оттока по городу и категории зарплаты')\n",
    "plt.show()"
   ]
  },
  {
   "cell_type": "markdown",
   "metadata": {},
   "source": [
    "Можно сделать предварительный вывод, что географическое положение сильно влияет  на отток клиентов, а вот размер заработной платы имеет менее выраженное влияние. Больше всего в отток уходят жители Ростова Великого с низкой зарплатой."
   ]
  },
  {
   "cell_type": "markdown",
   "metadata": {},
   "source": [
    "### Анализ клиентов в разрезе балоов кредитного скоринга и количества потребляемых продуктов"
   ]
  },
  {
   "cell_type": "markdown",
   "metadata": {},
   "source": [
    " Определим максимальный и минимальный баллы\n"
   ]
  },
  {
   "cell_type": "code",
   "execution_count": 28,
   "metadata": {},
   "outputs": [
    {
     "name": "stdout",
     "output_type": "stream",
     "text": [
      "Минимальный балл кредитного скоринга 350\n",
      "Максимальный балл кредитного скоринга 850\n"
     ]
    }
   ],
   "source": [
    "print(\"Минимальный балл кредитного скоринга\", data['score'].min())\n",
    "print(\"Максимальный балл кредитного скоринга\", data['score'].max())"
   ]
  },
  {
   "cell_type": "markdown",
   "metadata": {},
   "source": [
    "Распределим баллы на три категории: от 350 до 450 низкий балл; от 451 до 650 средний балл; от 651 до 850 высокий балл. Создадим колонку с категорией балла."
   ]
  },
  {
   "cell_type": "code",
   "execution_count": 29,
   "metadata": {},
   "outputs": [
    {
     "data": {
      "text/html": [
       "<div>\n",
       "<style scoped>\n",
       "    .dataframe tbody tr th:only-of-type {\n",
       "        vertical-align: middle;\n",
       "    }\n",
       "\n",
       "    .dataframe tbody tr th {\n",
       "        vertical-align: top;\n",
       "    }\n",
       "\n",
       "    .dataframe thead th {\n",
       "        text-align: right;\n",
       "    }\n",
       "</style>\n",
       "<table border=\"1\" class=\"dataframe\">\n",
       "  <thead>\n",
       "    <tr style=\"text-align: right;\">\n",
       "      <th></th>\n",
       "      <th>user_id</th>\n",
       "      <th>score</th>\n",
       "      <th>city</th>\n",
       "      <th>gender</th>\n",
       "      <th>age</th>\n",
       "      <th>objects</th>\n",
       "      <th>balance</th>\n",
       "      <th>products</th>\n",
       "      <th>credit_card</th>\n",
       "      <th>loyalty</th>\n",
       "      <th>estimated_salary</th>\n",
       "      <th>churn</th>\n",
       "      <th>balance_existence</th>\n",
       "      <th>category_age</th>\n",
       "      <th>category_salary</th>\n",
       "      <th>category_score</th>\n",
       "    </tr>\n",
       "  </thead>\n",
       "  <tbody>\n",
       "    <tr>\n",
       "      <th>0</th>\n",
       "      <td>15677338</td>\n",
       "      <td>619</td>\n",
       "      <td>Ярославль</td>\n",
       "      <td>Ж</td>\n",
       "      <td>42</td>\n",
       "      <td>2</td>\n",
       "      <td>NaN</td>\n",
       "      <td>1</td>\n",
       "      <td>1</td>\n",
       "      <td>1</td>\n",
       "      <td>101348.88</td>\n",
       "      <td>1</td>\n",
       "      <td>0</td>\n",
       "      <td>41-50</td>\n",
       "      <td>высокая</td>\n",
       "      <td>средний балл</td>\n",
       "    </tr>\n",
       "    <tr>\n",
       "      <th>1</th>\n",
       "      <td>15690047</td>\n",
       "      <td>608</td>\n",
       "      <td>Рыбинск</td>\n",
       "      <td>Ж</td>\n",
       "      <td>41</td>\n",
       "      <td>1</td>\n",
       "      <td>83807.86</td>\n",
       "      <td>1</td>\n",
       "      <td>0</td>\n",
       "      <td>1</td>\n",
       "      <td>112542.58</td>\n",
       "      <td>0</td>\n",
       "      <td>1</td>\n",
       "      <td>41-50</td>\n",
       "      <td>высокая</td>\n",
       "      <td>средний балл</td>\n",
       "    </tr>\n",
       "    <tr>\n",
       "      <th>2</th>\n",
       "      <td>15662040</td>\n",
       "      <td>502</td>\n",
       "      <td>Ярославль</td>\n",
       "      <td>Ж</td>\n",
       "      <td>42</td>\n",
       "      <td>8</td>\n",
       "      <td>159660.80</td>\n",
       "      <td>3</td>\n",
       "      <td>1</td>\n",
       "      <td>0</td>\n",
       "      <td>113931.57</td>\n",
       "      <td>1</td>\n",
       "      <td>1</td>\n",
       "      <td>41-50</td>\n",
       "      <td>высокая</td>\n",
       "      <td>средний балл</td>\n",
       "    </tr>\n",
       "    <tr>\n",
       "      <th>3</th>\n",
       "      <td>15744090</td>\n",
       "      <td>699</td>\n",
       "      <td>Ярославль</td>\n",
       "      <td>Ж</td>\n",
       "      <td>39</td>\n",
       "      <td>1</td>\n",
       "      <td>NaN</td>\n",
       "      <td>2</td>\n",
       "      <td>0</td>\n",
       "      <td>0</td>\n",
       "      <td>93826.63</td>\n",
       "      <td>0</td>\n",
       "      <td>0</td>\n",
       "      <td>31-40</td>\n",
       "      <td>средняя</td>\n",
       "      <td>высокий балл</td>\n",
       "    </tr>\n",
       "    <tr>\n",
       "      <th>4</th>\n",
       "      <td>15780624</td>\n",
       "      <td>850</td>\n",
       "      <td>Рыбинск</td>\n",
       "      <td>Ж</td>\n",
       "      <td>43</td>\n",
       "      <td>2</td>\n",
       "      <td>125510.82</td>\n",
       "      <td>1</td>\n",
       "      <td>1</td>\n",
       "      <td>1</td>\n",
       "      <td>79084.10</td>\n",
       "      <td>0</td>\n",
       "      <td>1</td>\n",
       "      <td>41-50</td>\n",
       "      <td>средняя</td>\n",
       "      <td>высокий балл</td>\n",
       "    </tr>\n",
       "  </tbody>\n",
       "</table>\n",
       "</div>"
      ],
      "text/plain": [
       "    user_id  score       city gender  age  objects    balance  products  \\\n",
       "0  15677338    619  Ярославль      Ж   42        2        NaN         1   \n",
       "1  15690047    608    Рыбинск      Ж   41        1   83807.86         1   \n",
       "2  15662040    502  Ярославль      Ж   42        8  159660.80         3   \n",
       "3  15744090    699  Ярославль      Ж   39        1        NaN         2   \n",
       "4  15780624    850    Рыбинск      Ж   43        2  125510.82         1   \n",
       "\n",
       "   credit_card  loyalty  estimated_salary  churn  balance_existence  \\\n",
       "0            1        1         101348.88      1                  0   \n",
       "1            0        1         112542.58      0                  1   \n",
       "2            1        0         113931.57      1                  1   \n",
       "3            0        0          93826.63      0                  0   \n",
       "4            1        1          79084.10      0                  1   \n",
       "\n",
       "  category_age category_salary category_score  \n",
       "0       41-50          высокая   средний балл  \n",
       "1       41-50          высокая   средний балл  \n",
       "2       41-50          высокая   средний балл  \n",
       "3        31-40         средняя   высокий балл  \n",
       "4       41-50          средняя   высокий балл  "
      ]
     },
     "execution_count": 29,
     "metadata": {},
     "output_type": "execute_result"
    }
   ],
   "source": [
    "def category_score(data):\n",
    "    \n",
    "    if data['score'] <= 450:\n",
    "        return 'низкий балл'\n",
    "    \n",
    "    elif 450 < data['score'] <= 650:\n",
    "        return 'средний балл'\n",
    "    \n",
    "    else:\n",
    "        return 'высокий балл'\n",
    "\n",
    "#добавим новый столбец category_salary в таблицу data\n",
    "\n",
    "data['category_score'] = data.apply(category_score, axis=1)\n",
    "\n",
    "data.head(5)"
   ]
  },
  {
   "cell_type": "code",
   "execution_count": 30,
   "metadata": {},
   "outputs": [
    {
     "data": {
      "text/html": [
       "<div>\n",
       "<style scoped>\n",
       "    .dataframe tbody tr th:only-of-type {\n",
       "        vertical-align: middle;\n",
       "    }\n",
       "\n",
       "    .dataframe tbody tr th {\n",
       "        vertical-align: top;\n",
       "    }\n",
       "\n",
       "    .dataframe thead th {\n",
       "        text-align: right;\n",
       "    }\n",
       "</style>\n",
       "<table border=\"1\" class=\"dataframe\">\n",
       "  <thead>\n",
       "    <tr style=\"text-align: right;\">\n",
       "      <th>products</th>\n",
       "      <th>1</th>\n",
       "      <th>2</th>\n",
       "      <th>3</th>\n",
       "      <th>4</th>\n",
       "    </tr>\n",
       "    <tr>\n",
       "      <th>category_score</th>\n",
       "      <th></th>\n",
       "      <th></th>\n",
       "      <th></th>\n",
       "      <th></th>\n",
       "    </tr>\n",
       "  </thead>\n",
       "  <tbody>\n",
       "    <tr>\n",
       "      <th>высокий балл</th>\n",
       "      <td>0.268073</td>\n",
       "      <td>0.069510</td>\n",
       "      <td>0.787879</td>\n",
       "      <td>1.0</td>\n",
       "    </tr>\n",
       "    <tr>\n",
       "      <th>низкий балл</th>\n",
       "      <td>0.432692</td>\n",
       "      <td>0.115385</td>\n",
       "      <td>1.000000</td>\n",
       "      <td>1.0</td>\n",
       "    </tr>\n",
       "    <tr>\n",
       "      <th>средний балл</th>\n",
       "      <td>0.280050</td>\n",
       "      <td>0.081218</td>\n",
       "      <td>0.861538</td>\n",
       "      <td>1.0</td>\n",
       "    </tr>\n",
       "  </tbody>\n",
       "</table>\n",
       "</div>"
      ],
      "text/plain": [
       "products               1         2         3    4\n",
       "category_score                                   \n",
       "высокий балл    0.268073  0.069510  0.787879  1.0\n",
       "низкий балл     0.432692  0.115385  1.000000  1.0\n",
       "средний балл    0.280050  0.081218  0.861538  1.0"
      ]
     },
     "execution_count": 30,
     "metadata": {},
     "output_type": "execute_result"
    }
   ],
   "source": [
    "# Проанализиурем уровень оттока клиентов в разрезе города и категории заработной платы\n",
    "data_score =  data.pivot_table(index='category_score',columns='products', values='churn',aggfunc='mean')\n",
    "\n",
    "data_score"
   ]
  },
  {
   "cell_type": "code",
   "execution_count": 31,
   "metadata": {},
   "outputs": [
    {
     "data": {
      "image/png": "[encoded data removed]",
      "text/plain": [
       "<Figure size 864x504 with 2 Axes>"
      ]
     },
     "metadata": {},
     "output_type": "display_data"
    }
   ],
   "source": [
    "plt.figure(figsize=(12, 7))\n",
    "sns.heatmap(data_score, annot=True, fmt='.2%',vmin=0, vmax=1)\n",
    "plt.title('Распределение оттока по продуктам и категории кредитного скоринга')\n",
    "plt.show()"
   ]
  },
  {
   "cell_type": "markdown",
   "metadata": {},
   "source": [
    "Действующих клиентов с 4 и 3 продуктами анализировать сложно, так как их количество достаточно мало.  Можно сказать, что среди клиентов с тремя продуктами самый высокий отток у тех, кто имеет низкий балл кредитного скоринга. А вот группа клиенты с 1 и 2 продуктами самые большие. И самый большой отток у клиентов с 1 продуктом и низким баллом кредитного скоринга.  "
   ]
  },
  {
   "cell_type": "code",
   "execution_count": 39,
   "metadata": {},
   "outputs": [
    {
     "data": {
      "image/png": "[encoded data removed]",
      "text/plain": [
       "<Figure size 432x288 with 1 Axes>"
      ]
     },
     "metadata": {},
     "output_type": "display_data"
    }
   ],
   "source": [
    "# Распределения отточных и неотточных по возрасту\n",
    "ax = sns.kdeplot(data = data, x = 'age', hue = 'churn', common_norm=False)\n",
    "import matplotlib.ticker as ticker\n",
    "ax.xaxis.set_major_locator(ticker.MultipleLocator(5))\n",
    "ax.set(title=\"Распределения отточных и неотточных по возрасту\");"
   ]
  },
  {
   "cell_type": "markdown",
   "metadata": {},
   "source": [
    "### Вывод\n",
    "\n",
    "\n",
    "Можно выделить несколько признаков клиентов, которые сильно влияют на отток:\n",
    "1. больше всего на отток влияет пол и возраст: чаще всего в отток уходят женщины после 50 - 55 лет.\n",
    "2. город проживания также влияет на отток, так в Ростове Великом отток почти в два раза выше, чем в остальных городах от 31 до 34,6 % в зависимости от уровня зарплаты. В Ярославле, который является лидером по количеству клиентов, отток всего 15 - 16,8 %.\n",
    "3. Категория клиентов с низким баллом кредитного скоринга и использующие только 1 банковский продукт так же имеют высокий отток."
   ]
  },
  {
   "cell_type": "markdown",
   "metadata": {},
   "source": [
    "## Проверка гипотез.\n",
    "### Гиптеза № 1."
   ]
  },
  {
   "cell_type": "markdown",
   "metadata": {},
   "source": [
    "Проверьте гипотезу различия дохода между теми клиентами, которые ушли и теми, которые остались.\n",
    "\n",
    "**НО(нулевая гипотеза):** Средний доход у клиентов, ушедших в отток и действующих клиентов одинаковые.\n",
    "\n",
    "**Н1(альтернативная гипотеза):** Средний доход у клиентов, ушедших в отток и действующих клиентов разные.\n",
    "\n",
    "Проверим данные на нормальность."
   ]
  },
  {
   "cell_type": "code",
   "execution_count": 33,
   "metadata": {},
   "outputs": [
    {
     "data": {
      "image/png": "[encoded data removed]",
      "text/plain": [
       "<Figure size 864x360 with 1 Axes>"
      ]
     },
     "metadata": {},
     "output_type": "display_data"
    }
   ],
   "source": [
    "plt.figure(figsize=(12, 5))\n",
    "\n",
    "sns.distplot(data[data['churn'] == 0]['estimated_salary'], color = '#61bd5c', label = 'действующие')\n",
    "sns.distplot(data[data['churn'] == 1]['estimated_salary'], color = '#EFC87B', label = 'в оттоке')\n",
    "\n",
    "plt.title('Распределение размера заработной платы в зависимости нахождения в оттоке')\n",
    "plt.xlabel('')\n",
    "plt.ylabel('')\n",
    "plt.legend()\n",
    "plt.show()"
   ]
  },
  {
   "cell_type": "markdown",
   "metadata": {},
   "source": [
    "Можно сказать, что данные распределены не нормально. Теперь проверим равны ли дисперсии двух выборок."
   ]
  },
  {
   "cell_type": "code",
   "execution_count": 34,
   "metadata": {},
   "outputs": [
    {
     "name": "stdout",
     "output_type": "stream",
     "text": [
      "0.3379824239075462 Не получилось отвергнуть нулевую гипотезу дисперсии равны\n"
     ]
    }
   ],
   "source": [
    "#  Проверим равенство дисперсий методоv Левена\n",
    "\n",
    "import numpy as np\n",
    "from scipy.stats import levene\n",
    "\n",
    "alpha = 0.05\n",
    "a = data[data['churn'] == 0]['estimated_salary']\n",
    "b = data[data['churn'] == 1]['estimated_salary']\n",
    "\n",
    "stat, p = levene(a, b, center='median')\n",
    "\n",
    "if p < alpha:\n",
    "    print(p, 'Отвергаем нулевую гипотезу дисперсии не равны')\n",
    "else:\n",
    "    print(p, 'Не получилось отвергнуть нулевую гипотезу дисперсии равны')"
   ]
  },
  {
   "cell_type": "markdown",
   "metadata": {},
   "source": [
    "Для подтверждения гипотезы о равенстве среднего двух генеральных совокупностей по взятым из них выборкам иcпользуется метод st.stats.ttest_ind.\n",
    "Если p-value будет меньше выбранного уровня значимости a = 0.05, то нулевую гипотезу о равенстве средних отвергнем. В противном случае делаем вывод, что данные не позволили нам отвергнуть нулевую гипотезу."
   ]
  },
  {
   "cell_type": "code",
   "execution_count": 35,
   "metadata": {},
   "outputs": [
    {
     "name": "stdout",
     "output_type": "stream",
     "text": [
      "0.22892461305145798\n",
      "0.22892461305145798 Не получилось отвергнуть нулевую гипотезу \n"
     ]
    }
   ],
   "source": [
    "# results = вызов метода для проверки гипотезы\n",
    "\n",
    "results = st.ttest_ind(data[data['churn'] == 0]['estimated_salary'], \n",
    "                             data[data['churn'] == 1]['estimated_salary'], equal_var=False)\n",
    "# alpha = задайте значение уровня значимости\n",
    "alpha = 0.05\n",
    "# вывод значения p-value на экран \n",
    "print(results.pvalue)\n",
    "# условный оператор с выводом строки с ответом\n",
    "if results.pvalue < alpha:\n",
    "    print(results.pvalue, 'Отвергаем нулевую гипотезу')\n",
    "else:\n",
    "    print(results.pvalue, 'Не получилось отвергнуть нулевую гипотезу ')"
   ]
  },
  {
   "cell_type": "markdown",
   "metadata": {},
   "source": [
    "Не получилось отвергнуть нулевую гипотезу, значит нет оснований утверждать, что доходы у клиентов, ушедших в отток и действующих клиентов разные. "
   ]
  },
  {
   "cell_type": "markdown",
   "metadata": {},
   "source": [
    "### Гипотеза № 2.\n"
   ]
  },
  {
   "cell_type": "markdown",
   "metadata": {},
   "source": [
    "Проверим гипотезу о разнице кредитного скоринга между действующими клиентами и клиентами, ушедшими в отток.\n",
    "\n",
    "**НО(нулевая гипотеза):** Средний Кредитный скорринг у клиентов, ушедших в отток и действующих клиентов одинаковые.\n",
    "\n",
    "**Н1(альтернативная гипотеза):** Средний Кредитный скорринг у клиентов, ушедших в отток и действующих клиентов разные.\n",
    "\n",
    "Проверим данные на нормальность."
   ]
  },
  {
   "cell_type": "code",
   "execution_count": 36,
   "metadata": {},
   "outputs": [
    {
     "data": {
      "image/png": "[encoded data removed]",
      "text/plain": [
       "<Figure size 864x360 with 1 Axes>"
      ]
     },
     "metadata": {},
     "output_type": "display_data"
    }
   ],
   "source": [
    "plt.figure(figsize=(12, 5))\n",
    "\n",
    "sns.distplot(data[data['churn'] == 0]['score'], color = '#61bd5c', label = 'действующие')\n",
    "sns.distplot(data[data['churn'] == 1]['score'], color = '#EFC87B', label = 'в оттоке')\n",
    "\n",
    "plt.title('Распределение балов кредитного скоринга в зависимости от нахождения в оттоке')\n",
    "plt.xlabel('')\n",
    "plt.ylabel('')\n",
    "plt.legend()\n",
    "plt.show()"
   ]
  },
  {
   "cell_type": "markdown",
   "metadata": {},
   "source": [
    "Данные распределены нормально."
   ]
  },
  {
   "cell_type": "code",
   "execution_count": 37,
   "metadata": {},
   "outputs": [
    {
     "name": "stdout",
     "output_type": "stream",
     "text": [
      "0.008464728991832862\n",
      "0.008464728991832862 Отвергаем нулевую гипотезу\n"
     ]
    }
   ],
   "source": [
    "# results = вызов метода для проверки гипотезы\n",
    "\n",
    "results = st.ttest_ind(data[data['churn'] == 0]['score'], \n",
    "                             data[data['churn'] == 1]['score'], equal_var=False)\n",
    "# alpha = задайте значение уровня значимости\n",
    "alpha = 0.05\n",
    "# вывод значения p-value на экран \n",
    "print(results.pvalue)\n",
    "# условный оператор с выводом строки с ответом\n",
    "if results.pvalue < alpha:\n",
    "    print(results.pvalue, 'Отвергаем нулевую гипотезу')\n",
    "else:\n",
    "    print(results.pvalue, 'Не получилось отвергнуть нулевую гипотезу ')"
   ]
  },
  {
   "cell_type": "markdown",
   "metadata": {},
   "source": [
    "В результате проверки гипотезы отвергли нулевую гипотезу, а значит есть сатистически значимая разница между баллами кредитного скоринга для действующих клиентов и клиентов, ушедших в отток."
   ]
  },
  {
   "cell_type": "markdown",
   "metadata": {},
   "source": [
    "## Составление портрета клиентов, которые склонны уходить. Общий вывод и рекомендации."
   ]
  },
  {
   "cell_type": "markdown",
   "metadata": {},
   "source": [
    "Исходя из проведенного анализа можно составить портрет пользователя, склонного к оттоку. Это клиент:\n",
    "\n",
    " - в возрасте от 51 до 60 лет.\n",
    " - чаще всего это женщины, чем мужчины.\n",
    " - клиенты с 3 и 4 продуктами банка имеют почти 100 % отток, также достаточно высокий отток у клиентов с 1 продуктом.\n",
    " - клиенты в оттоке имеют низкий балл кредитного скоринга.\n",
    " - в сравнении трех городов - Ярославля и областных городов Ростова Великого и Рыбинска больше всего клиентов в оттоке в городе Ростов Великий.\n",
    " - 3/4 таких клиентов имеют кредитную карту.\n",
    " - клиенты имеют около 5 объектов в собственности.\n",
    " - клиенты с низким баллом кредитного скоринга\n",
    " \n",
    "Характеристики дейтвующего клиента:\n",
    " \n",
    " \n",
    " - Самый низкий отток это клиенты от 18 - 30 лет.\n",
    " - у мужчин почти в 2 раза ниже чем у женщин.\n",
    " - Это клиенты испльзующие 2 продукта банка.\n",
    " - Имеют высокий балл кредитного скоринга.\n",
    " - Больше всего таких клиентов городе Ярославле\n",
    " - Большая их часть являются держателями кредтной карты данного банка.\n",
    " \n",
    " \n",
    " **РЕКОМЕНДАЦИИ**\n",
    " \n",
    " Исходя из портрета клиента, склонного к оттоку, необходимо провести следующие мероприятия:\n",
    " \n",
    " 1. Проанализировать качество поставляемых продуктов и услуг в городе Ростов Великий.\n",
    " 2. Разработать новые интересные предложения для клиентов пенсионного и предпенсионного возраста, в частности которые бы заинтересовали женщин. Возможно, акции кешбэка на покупки в аптеках и продуктовых магазинах.\n",
    " 3. Обратить внимание на клиентов, у которых нет данных о балансе. Скорее всего эти клиенты обслуживаются в других банках. Изучить предложения конкурентов и поработать свои программы для привлечения клиентов\n",
    " \n",
    "\n"
   ]
  },
  {
   "cell_type": "markdown",
   "metadata": {},
   "source": [
    "Ссылка на презинтацию: https://disk.yandex.ru/i/8ECWZFrGgQjUHQ"
   ]
  },
  {
   "cell_type": "code",
   "execution_count": null,
   "metadata": {},
   "outputs": [],
   "source": []
  }
 ],
 "metadata": {
  "ExecuteTimeLog": [
   {
    "duration": 1952,
    "start_time": "2023-05-16T10:43:24.211Z"
   },
   {
    "duration": 163,
    "start_time": "2023-05-16T10:43:26.195Z"
   },
   {
    "duration": 20,
    "start_time": "2023-05-16T10:43:43.398Z"
   },
   {
    "duration": 75,
    "start_time": "2023-05-16T10:56:29.388Z"
   },
   {
    "duration": 4,
    "start_time": "2023-05-16T11:00:53.354Z"
   },
   {
    "duration": 18,
    "start_time": "2023-05-16T11:01:10.798Z"
   },
   {
    "duration": 4,
    "start_time": "2023-05-16T11:01:18.806Z"
   },
   {
    "duration": 6,
    "start_time": "2023-05-16T11:05:38.057Z"
   },
   {
    "duration": 5,
    "start_time": "2023-05-16T11:07:59.963Z"
   },
   {
    "duration": 16,
    "start_time": "2023-05-16T11:08:26.709Z"
   },
   {
    "duration": 10,
    "start_time": "2023-05-16T11:13:11.019Z"
   },
   {
    "duration": 49,
    "start_time": "2023-05-16T11:13:32.821Z"
   },
   {
    "duration": 40,
    "start_time": "2023-05-16T11:14:08.101Z"
   },
   {
    "duration": 4,
    "start_time": "2023-05-16T11:16:21.670Z"
   },
   {
    "duration": 109,
    "start_time": "2023-05-16T11:20:32.571Z"
   },
   {
    "duration": 44,
    "start_time": "2023-05-16T11:20:44.113Z"
   },
   {
    "duration": 30,
    "start_time": "2023-05-16T11:21:20.554Z"
   },
   {
    "duration": 17,
    "start_time": "2023-05-16T11:21:40.187Z"
   },
   {
    "duration": 7,
    "start_time": "2023-05-16T11:30:07.852Z"
   },
   {
    "duration": 114,
    "start_time": "2023-05-16T11:30:29.957Z"
   },
   {
    "duration": 8,
    "start_time": "2023-05-16T11:30:44.101Z"
   },
   {
    "duration": 12,
    "start_time": "2023-05-16T11:33:28.363Z"
   },
   {
    "duration": 9,
    "start_time": "2023-05-16T11:34:00.167Z"
   },
   {
    "duration": 31,
    "start_time": "2023-05-16T11:53:04.067Z"
   },
   {
    "duration": 35,
    "start_time": "2023-05-16T12:00:49.737Z"
   },
   {
    "duration": 27,
    "start_time": "2023-05-16T12:01:43.467Z"
   },
   {
    "duration": 4,
    "start_time": "2023-05-16T12:11:40.849Z"
   },
   {
    "duration": 11,
    "start_time": "2023-05-16T12:11:41.288Z"
   },
   {
    "duration": 98,
    "start_time": "2023-05-16T12:11:41.744Z"
   },
   {
    "duration": 9,
    "start_time": "2023-05-16T12:11:42.248Z"
   },
   {
    "duration": 11,
    "start_time": "2023-05-16T12:11:55.019Z"
   },
   {
    "duration": 1877,
    "start_time": "2023-05-16T22:55:44.920Z"
   },
   {
    "duration": 109,
    "start_time": "2023-05-16T22:55:46.805Z"
   },
   {
    "duration": 12,
    "start_time": "2023-05-16T22:55:46.915Z"
   },
   {
    "duration": 3,
    "start_time": "2023-05-16T22:55:46.930Z"
   },
   {
    "duration": 23,
    "start_time": "2023-05-16T22:55:46.934Z"
   },
   {
    "duration": 11,
    "start_time": "2023-05-16T22:57:51.007Z"
   },
   {
    "duration": 11,
    "start_time": "2023-05-16T22:59:36.616Z"
   },
   {
    "duration": 9,
    "start_time": "2023-05-16T22:59:51.644Z"
   },
   {
    "duration": 5,
    "start_time": "2023-05-16T23:04:54.083Z"
   },
   {
    "duration": 25,
    "start_time": "2023-05-16T23:04:55.489Z"
   },
   {
    "duration": 5,
    "start_time": "2023-05-16T23:06:12.312Z"
   },
   {
    "duration": 4,
    "start_time": "2023-05-16T23:06:24.846Z"
   },
   {
    "duration": 122,
    "start_time": "2023-05-16T23:06:41.054Z"
   },
   {
    "duration": 5,
    "start_time": "2023-05-16T23:08:45.714Z"
   },
   {
    "duration": 4,
    "start_time": "2023-05-16T23:10:09.083Z"
   },
   {
    "duration": 5,
    "start_time": "2023-05-16T23:14:14.235Z"
   },
   {
    "duration": 807,
    "start_time": "2023-05-16T23:14:26.157Z"
   },
   {
    "duration": 903,
    "start_time": "2023-05-16T23:14:54.422Z"
   },
   {
    "duration": 4,
    "start_time": "2023-05-16T23:15:28.493Z"
   },
   {
    "duration": 754,
    "start_time": "2023-05-16T23:15:30.132Z"
   },
   {
    "duration": 1519,
    "start_time": "2023-05-16T23:16:17.429Z"
   },
   {
    "duration": 1339,
    "start_time": "2023-05-16T23:16:57.045Z"
   },
   {
    "duration": 50,
    "start_time": "2023-05-16T23:16:58.385Z"
   },
   {
    "duration": 11,
    "start_time": "2023-05-16T23:16:58.437Z"
   },
   {
    "duration": 13,
    "start_time": "2023-05-16T23:16:58.450Z"
   },
   {
    "duration": 20,
    "start_time": "2023-05-16T23:16:58.464Z"
   },
   {
    "duration": 9,
    "start_time": "2023-05-16T23:16:58.485Z"
   },
   {
    "duration": 7,
    "start_time": "2023-05-16T23:16:58.495Z"
   },
   {
    "duration": 1280,
    "start_time": "2023-05-16T23:16:58.503Z"
   },
   {
    "duration": 17,
    "start_time": "2023-05-16T23:17:29.345Z"
   },
   {
    "duration": 4,
    "start_time": "2023-05-16T23:17:46.672Z"
   },
   {
    "duration": 4,
    "start_time": "2023-05-16T23:18:12.695Z"
   },
   {
    "duration": 3,
    "start_time": "2023-05-16T23:21:17.265Z"
   },
   {
    "duration": 8,
    "start_time": "2023-05-16T23:36:56.939Z"
   },
   {
    "duration": 9,
    "start_time": "2023-05-16T23:38:51.174Z"
   },
   {
    "duration": 7,
    "start_time": "2023-05-16T23:38:55.938Z"
   },
   {
    "duration": 231,
    "start_time": "2023-05-16T23:38:56.347Z"
   },
   {
    "duration": 5,
    "start_time": "2023-05-16T23:39:43.118Z"
   },
   {
    "duration": 228,
    "start_time": "2023-05-16T23:39:44.410Z"
   },
   {
    "duration": 8,
    "start_time": "2023-05-16T23:40:16.683Z"
   },
   {
    "duration": 1222,
    "start_time": "2023-05-16T23:40:18.237Z"
   },
   {
    "duration": 48,
    "start_time": "2023-05-16T23:43:02.100Z"
   },
   {
    "duration": 5,
    "start_time": "2023-05-16T23:43:02.416Z"
   },
   {
    "duration": 1621,
    "start_time": "2023-05-16T23:43:02.857Z"
   },
   {
    "duration": 6,
    "start_time": "2023-05-16T23:53:47.965Z"
   },
   {
    "duration": 1803,
    "start_time": "2023-05-16T23:53:53.772Z"
   },
   {
    "duration": 9,
    "start_time": "2023-05-16T23:54:27.391Z"
   },
   {
    "duration": 1497,
    "start_time": "2023-05-16T23:54:27.995Z"
   },
   {
    "duration": 105,
    "start_time": "2023-05-16T23:54:45.905Z"
   },
   {
    "duration": 1641,
    "start_time": "2023-05-16T23:54:46.375Z"
   },
   {
    "duration": 7,
    "start_time": "2023-05-16T23:55:09.787Z"
   },
   {
    "duration": 1511,
    "start_time": "2023-05-16T23:55:10.196Z"
   },
   {
    "duration": 7,
    "start_time": "2023-05-16T23:55:31.755Z"
   },
   {
    "duration": 1649,
    "start_time": "2023-05-16T23:55:33.642Z"
   },
   {
    "duration": 5,
    "start_time": "2023-05-16T23:55:46.761Z"
   },
   {
    "duration": 1698,
    "start_time": "2023-05-16T23:55:47.281Z"
   },
   {
    "duration": 5,
    "start_time": "2023-05-16T23:56:25.047Z"
   },
   {
    "duration": 1578,
    "start_time": "2023-05-16T23:56:25.584Z"
   },
   {
    "duration": 5,
    "start_time": "2023-05-16T23:56:33.359Z"
   },
   {
    "duration": 1475,
    "start_time": "2023-05-16T23:56:33.755Z"
   },
   {
    "duration": 87,
    "start_time": "2023-05-16T23:56:41.065Z"
   },
   {
    "duration": 1335,
    "start_time": "2023-05-16T23:56:41.483Z"
   },
   {
    "duration": 5,
    "start_time": "2023-05-16T23:57:08.468Z"
   },
   {
    "duration": 1544,
    "start_time": "2023-05-16T23:57:09.997Z"
   },
   {
    "duration": 7,
    "start_time": "2023-05-16T23:57:42.918Z"
   },
   {
    "duration": 1591,
    "start_time": "2023-05-16T23:57:43.475Z"
   },
   {
    "duration": 8,
    "start_time": "2023-05-17T00:00:04.996Z"
   },
   {
    "duration": 1438,
    "start_time": "2023-05-17T00:00:05.575Z"
   },
   {
    "duration": 57,
    "start_time": "2023-05-17T00:00:29.033Z"
   },
   {
    "duration": 1409,
    "start_time": "2023-05-17T00:00:29.953Z"
   },
   {
    "duration": 5,
    "start_time": "2023-05-17T00:00:43.143Z"
   },
   {
    "duration": 1358,
    "start_time": "2023-05-17T00:00:43.498Z"
   },
   {
    "duration": 99,
    "start_time": "2023-05-17T00:00:57.440Z"
   },
   {
    "duration": 1497,
    "start_time": "2023-05-17T00:00:57.814Z"
   },
   {
    "duration": 6,
    "start_time": "2023-05-17T00:01:55.458Z"
   },
   {
    "duration": 245,
    "start_time": "2023-05-17T00:01:55.947Z"
   },
   {
    "duration": 6,
    "start_time": "2023-05-17T00:02:38.676Z"
   },
   {
    "duration": 1613,
    "start_time": "2023-05-17T00:02:39.157Z"
   },
   {
    "duration": 5,
    "start_time": "2023-05-17T00:07:40.455Z"
   },
   {
    "duration": 1482,
    "start_time": "2023-05-17T00:07:40.867Z"
   },
   {
    "duration": 4,
    "start_time": "2023-05-17T00:07:55.603Z"
   },
   {
    "duration": 1422,
    "start_time": "2023-05-17T00:07:56.101Z"
   },
   {
    "duration": 8,
    "start_time": "2023-05-17T00:08:54.370Z"
   },
   {
    "duration": 168,
    "start_time": "2023-05-17T00:08:54.915Z"
   },
   {
    "duration": 6,
    "start_time": "2023-05-17T00:10:55.233Z"
   },
   {
    "duration": 294,
    "start_time": "2023-05-17T00:10:55.764Z"
   },
   {
    "duration": 10,
    "start_time": "2023-05-17T00:11:04.905Z"
   },
   {
    "duration": 1630,
    "start_time": "2023-05-17T00:11:05.944Z"
   },
   {
    "duration": 5,
    "start_time": "2023-05-17T00:14:43.772Z"
   },
   {
    "duration": 1572,
    "start_time": "2023-05-17T00:14:45.348Z"
   },
   {
    "duration": 85,
    "start_time": "2023-05-17T00:14:58.479Z"
   },
   {
    "duration": 1428,
    "start_time": "2023-05-17T00:14:59.402Z"
   },
   {
    "duration": 1455,
    "start_time": "2023-05-17T00:15:14.673Z"
   },
   {
    "duration": 49,
    "start_time": "2023-05-17T00:15:16.130Z"
   },
   {
    "duration": 11,
    "start_time": "2023-05-17T00:15:16.181Z"
   },
   {
    "duration": 25,
    "start_time": "2023-05-17T00:15:16.194Z"
   },
   {
    "duration": 21,
    "start_time": "2023-05-17T00:15:16.221Z"
   },
   {
    "duration": 16,
    "start_time": "2023-05-17T00:15:16.244Z"
   },
   {
    "duration": 10,
    "start_time": "2023-05-17T00:15:16.261Z"
   },
   {
    "duration": 12,
    "start_time": "2023-05-17T00:15:16.273Z"
   },
   {
    "duration": 8,
    "start_time": "2023-05-17T00:15:16.286Z"
   },
   {
    "duration": 1520,
    "start_time": "2023-05-17T00:15:16.295Z"
   },
   {
    "duration": 5,
    "start_time": "2023-05-17T00:16:04.744Z"
   },
   {
    "duration": 1536,
    "start_time": "2023-05-17T00:16:05.422Z"
   },
   {
    "duration": 5,
    "start_time": "2023-05-17T00:16:30.436Z"
   },
   {
    "duration": 1553,
    "start_time": "2023-05-17T00:16:30.919Z"
   },
   {
    "duration": 7,
    "start_time": "2023-05-17T00:17:03.260Z"
   },
   {
    "duration": 1435,
    "start_time": "2023-05-17T00:17:03.764Z"
   },
   {
    "duration": 1497,
    "start_time": "2023-05-17T00:19:09.419Z"
   },
   {
    "duration": 1504,
    "start_time": "2023-05-17T00:19:51.977Z"
   },
   {
    "duration": 411,
    "start_time": "2023-05-17T00:25:20.892Z"
   },
   {
    "duration": 4,
    "start_time": "2023-05-17T00:31:50.301Z"
   },
   {
    "duration": 160,
    "start_time": "2023-05-17T00:31:50.730Z"
   },
   {
    "duration": 4,
    "start_time": "2023-05-17T00:32:15.921Z"
   },
   {
    "duration": 126,
    "start_time": "2023-05-17T00:32:16.601Z"
   },
   {
    "duration": 52,
    "start_time": "2023-05-17T00:32:47.131Z"
   },
   {
    "duration": 129,
    "start_time": "2023-05-17T00:32:47.955Z"
   },
   {
    "duration": 219,
    "start_time": "2023-05-17T00:33:24.191Z"
   },
   {
    "duration": 51,
    "start_time": "2023-05-17T00:33:47.275Z"
   },
   {
    "duration": 61,
    "start_time": "2023-05-17T00:35:15.338Z"
   },
   {
    "duration": 148,
    "start_time": "2023-05-17T00:35:16.480Z"
   },
   {
    "duration": 1593,
    "start_time": "2023-05-17T00:35:49.861Z"
   },
   {
    "duration": 52,
    "start_time": "2023-05-17T00:35:51.456Z"
   },
   {
    "duration": 13,
    "start_time": "2023-05-17T00:35:51.509Z"
   },
   {
    "duration": 16,
    "start_time": "2023-05-17T00:35:51.524Z"
   },
   {
    "duration": 24,
    "start_time": "2023-05-17T00:35:51.542Z"
   },
   {
    "duration": 25,
    "start_time": "2023-05-17T00:35:51.567Z"
   },
   {
    "duration": 5,
    "start_time": "2023-05-17T00:35:51.594Z"
   },
   {
    "duration": 18,
    "start_time": "2023-05-17T00:35:51.601Z"
   },
   {
    "duration": 1736,
    "start_time": "2023-05-17T00:35:51.621Z"
   },
   {
    "duration": 55,
    "start_time": "2023-05-17T00:35:53.359Z"
   },
   {
    "duration": 0,
    "start_time": "2023-05-17T00:35:53.415Z"
   },
   {
    "duration": 130,
    "start_time": "2023-05-17T00:36:21.139Z"
   },
   {
    "duration": 53,
    "start_time": "2023-05-17T00:37:06.831Z"
   },
   {
    "duration": 42,
    "start_time": "2023-05-17T00:37:34.516Z"
   },
   {
    "duration": 93,
    "start_time": "2023-05-17T00:38:08.608Z"
   },
   {
    "duration": 109,
    "start_time": "2023-05-17T00:38:10.003Z"
   },
   {
    "duration": 53,
    "start_time": "2023-05-17T00:38:49.149Z"
   },
   {
    "duration": 75,
    "start_time": "2023-05-17T00:39:06.591Z"
   },
   {
    "duration": 5,
    "start_time": "2023-05-17T00:40:35.915Z"
   },
   {
    "duration": 142,
    "start_time": "2023-05-17T00:40:37.484Z"
   },
   {
    "duration": 3,
    "start_time": "2023-05-17T00:41:02.184Z"
   },
   {
    "duration": 3,
    "start_time": "2023-05-17T00:41:06.568Z"
   },
   {
    "duration": 137,
    "start_time": "2023-05-17T00:41:07.715Z"
   },
   {
    "duration": 3,
    "start_time": "2023-05-17T00:49:23.227Z"
   },
   {
    "duration": 150,
    "start_time": "2023-05-17T00:49:25.866Z"
   },
   {
    "duration": 44,
    "start_time": "2023-05-17T00:52:52.544Z"
   },
   {
    "duration": 196,
    "start_time": "2023-05-17T00:53:03.240Z"
   },
   {
    "duration": 128,
    "start_time": "2023-05-17T00:53:03.734Z"
   },
   {
    "duration": 188,
    "start_time": "2023-05-17T00:53:19.280Z"
   },
   {
    "duration": 260,
    "start_time": "2023-05-17T00:53:41.647Z"
   },
   {
    "duration": 3,
    "start_time": "2023-05-17T00:56:23.944Z"
   },
   {
    "duration": 783,
    "start_time": "2023-05-17T00:56:24.862Z"
   },
   {
    "duration": 3,
    "start_time": "2023-05-17T00:56:38.074Z"
   },
   {
    "duration": 627,
    "start_time": "2023-05-17T00:56:39.477Z"
   },
   {
    "duration": 4,
    "start_time": "2023-05-17T00:57:30.222Z"
   },
   {
    "duration": 756,
    "start_time": "2023-05-17T00:57:31.288Z"
   },
   {
    "duration": 1683,
    "start_time": "2023-05-17T01:03:20.335Z"
   },
   {
    "duration": 4,
    "start_time": "2023-05-17T01:03:41.809Z"
   },
   {
    "duration": 687,
    "start_time": "2023-05-17T01:03:42.802Z"
   },
   {
    "duration": 4,
    "start_time": "2023-05-17T01:04:25.038Z"
   },
   {
    "duration": 172,
    "start_time": "2023-05-17T01:04:25.826Z"
   },
   {
    "duration": 5,
    "start_time": "2023-05-17T01:04:33.111Z"
   },
   {
    "duration": 176,
    "start_time": "2023-05-17T01:04:34.089Z"
   },
   {
    "duration": 4,
    "start_time": "2023-05-17T01:04:43.753Z"
   },
   {
    "duration": 736,
    "start_time": "2023-05-17T01:04:44.502Z"
   },
   {
    "duration": 3,
    "start_time": "2023-05-17T01:06:28.624Z"
   },
   {
    "duration": 738,
    "start_time": "2023-05-17T01:06:29.366Z"
   },
   {
    "duration": 1597,
    "start_time": "2023-05-18T00:32:13.040Z"
   },
   {
    "duration": 102,
    "start_time": "2023-05-18T00:32:14.639Z"
   },
   {
    "duration": 11,
    "start_time": "2023-05-18T00:32:14.742Z"
   },
   {
    "duration": 18,
    "start_time": "2023-05-18T00:32:14.755Z"
   },
   {
    "duration": 19,
    "start_time": "2023-05-18T00:32:14.774Z"
   },
   {
    "duration": 8,
    "start_time": "2023-05-18T00:32:14.797Z"
   },
   {
    "duration": 4,
    "start_time": "2023-05-18T00:32:14.807Z"
   },
   {
    "duration": 5,
    "start_time": "2023-05-18T00:32:14.813Z"
   },
   {
    "duration": 1678,
    "start_time": "2023-05-18T00:32:14.819Z"
   },
   {
    "duration": 4,
    "start_time": "2023-05-18T00:32:16.499Z"
   },
   {
    "duration": 846,
    "start_time": "2023-05-18T00:32:16.504Z"
   },
   {
    "duration": 413,
    "start_time": "2023-05-18T00:35:14.830Z"
   },
   {
    "duration": 1520,
    "start_time": "2023-05-18T00:35:36.227Z"
   },
   {
    "duration": 3,
    "start_time": "2023-05-18T00:36:36.187Z"
   },
   {
    "duration": 974,
    "start_time": "2023-05-18T00:36:37.106Z"
   },
   {
    "duration": 4,
    "start_time": "2023-05-18T00:37:13.036Z"
   },
   {
    "duration": 963,
    "start_time": "2023-05-18T00:37:15.008Z"
   },
   {
    "duration": 719,
    "start_time": "2023-05-18T00:37:35.613Z"
   },
   {
    "duration": 811,
    "start_time": "2023-05-18T00:38:10.654Z"
   },
   {
    "duration": 472,
    "start_time": "2023-05-18T00:59:04.118Z"
   },
   {
    "duration": 476,
    "start_time": "2023-05-18T01:00:58.796Z"
   },
   {
    "duration": 457,
    "start_time": "2023-05-18T01:03:39.051Z"
   },
   {
    "duration": 399,
    "start_time": "2023-05-18T01:04:02.964Z"
   },
   {
    "duration": 479,
    "start_time": "2023-05-18T01:05:18.191Z"
   },
   {
    "duration": 371,
    "start_time": "2023-05-18T01:05:57.981Z"
   },
   {
    "duration": 401,
    "start_time": "2023-05-18T01:14:42.971Z"
   },
   {
    "duration": 387,
    "start_time": "2023-05-18T01:15:40.540Z"
   },
   {
    "duration": 1994,
    "start_time": "2023-05-18T01:16:16.938Z"
   },
   {
    "duration": 2209,
    "start_time": "2023-05-18T01:17:15.892Z"
   },
   {
    "duration": 1983,
    "start_time": "2023-05-18T01:18:45.609Z"
   },
   {
    "duration": 1038,
    "start_time": "2023-05-18T01:20:31.736Z"
   },
   {
    "duration": 731,
    "start_time": "2023-05-18T01:38:09.072Z"
   },
   {
    "duration": 14,
    "start_time": "2023-05-18T01:43:02.505Z"
   },
   {
    "duration": 1056,
    "start_time": "2023-05-18T01:43:10.520Z"
   },
   {
    "duration": 138,
    "start_time": "2023-05-18T01:43:40.860Z"
   },
   {
    "duration": 976,
    "start_time": "2023-05-18T01:44:37.693Z"
   },
   {
    "duration": 44,
    "start_time": "2023-05-18T01:46:08.513Z"
   },
   {
    "duration": 1071,
    "start_time": "2023-05-18T01:46:15.581Z"
   },
   {
    "duration": 1052,
    "start_time": "2023-05-18T01:46:28.561Z"
   },
   {
    "duration": 1072,
    "start_time": "2023-05-18T01:46:52.346Z"
   },
   {
    "duration": 11,
    "start_time": "2023-05-18T02:03:20.561Z"
   },
   {
    "duration": 19,
    "start_time": "2023-05-18T02:03:53.368Z"
   },
   {
    "duration": 16,
    "start_time": "2023-05-18T02:13:23.430Z"
   },
   {
    "duration": 17,
    "start_time": "2023-05-18T02:13:55.159Z"
   },
   {
    "duration": 23,
    "start_time": "2023-05-18T02:14:24.078Z"
   },
   {
    "duration": 47,
    "start_time": "2023-05-19T13:05:50.648Z"
   },
   {
    "duration": 7,
    "start_time": "2023-05-19T13:06:20.436Z"
   },
   {
    "duration": 7,
    "start_time": "2023-05-19T13:09:42.687Z"
   },
   {
    "duration": 1614,
    "start_time": "2023-05-19T13:09:49.594Z"
   },
   {
    "duration": 105,
    "start_time": "2023-05-19T13:09:51.210Z"
   },
   {
    "duration": 18,
    "start_time": "2023-05-19T13:09:51.317Z"
   },
   {
    "duration": 59,
    "start_time": "2023-05-19T13:09:51.338Z"
   },
   {
    "duration": 32,
    "start_time": "2023-05-19T13:09:51.400Z"
   },
   {
    "duration": 34,
    "start_time": "2023-05-19T13:09:51.433Z"
   },
   {
    "duration": 16,
    "start_time": "2023-05-19T13:09:51.469Z"
   },
   {
    "duration": 64,
    "start_time": "2023-05-19T13:09:51.486Z"
   },
   {
    "duration": 2093,
    "start_time": "2023-05-19T13:09:51.551Z"
   },
   {
    "duration": 922,
    "start_time": "2023-05-19T13:09:53.647Z"
   },
   {
    "duration": 1206,
    "start_time": "2023-05-19T13:09:54.571Z"
   },
   {
    "duration": 12,
    "start_time": "2023-05-19T13:09:55.779Z"
   },
   {
    "duration": 6,
    "start_time": "2023-05-19T13:11:12.778Z"
   },
   {
    "duration": 5,
    "start_time": "2023-05-19T13:15:35.006Z"
   },
   {
    "duration": 5,
    "start_time": "2023-05-19T13:15:38.670Z"
   },
   {
    "duration": 113,
    "start_time": "2023-05-19T13:15:39.430Z"
   },
   {
    "duration": 10,
    "start_time": "2023-05-19T13:15:50.729Z"
   },
   {
    "duration": 12,
    "start_time": "2023-05-19T13:16:07.692Z"
   },
   {
    "duration": 8,
    "start_time": "2023-05-19T13:21:58.293Z"
   },
   {
    "duration": 12,
    "start_time": "2023-05-19T13:24:45.239Z"
   },
   {
    "duration": 56,
    "start_time": "2023-05-19T13:25:03.385Z"
   },
   {
    "duration": 53,
    "start_time": "2023-05-19T13:25:22.645Z"
   },
   {
    "duration": 9,
    "start_time": "2023-05-19T13:25:25.511Z"
   },
   {
    "duration": 55,
    "start_time": "2023-05-19T13:25:26.122Z"
   },
   {
    "duration": 1610,
    "start_time": "2023-05-19T13:25:40.675Z"
   },
   {
    "duration": 57,
    "start_time": "2023-05-19T13:25:42.287Z"
   },
   {
    "duration": 14,
    "start_time": "2023-05-19T13:25:42.346Z"
   },
   {
    "duration": 21,
    "start_time": "2023-05-19T13:25:42.362Z"
   },
   {
    "duration": 71,
    "start_time": "2023-05-19T13:25:42.385Z"
   },
   {
    "duration": 9,
    "start_time": "2023-05-19T13:25:42.458Z"
   },
   {
    "duration": 22,
    "start_time": "2023-05-19T13:25:42.469Z"
   },
   {
    "duration": 12,
    "start_time": "2023-05-19T13:25:42.493Z"
   },
   {
    "duration": 2147,
    "start_time": "2023-05-19T13:25:42.507Z"
   },
   {
    "duration": 1015,
    "start_time": "2023-05-19T13:25:44.656Z"
   },
   {
    "duration": 1209,
    "start_time": "2023-05-19T13:25:45.672Z"
   },
   {
    "duration": 10,
    "start_time": "2023-05-19T13:25:46.883Z"
   },
   {
    "duration": 451,
    "start_time": "2023-05-19T13:25:46.895Z"
   },
   {
    "duration": 140,
    "start_time": "2023-05-19T13:27:59.479Z"
   },
   {
    "duration": 161,
    "start_time": "2023-05-19T13:39:22.750Z"
   },
   {
    "duration": 15,
    "start_time": "2023-05-19T13:39:34.074Z"
   },
   {
    "duration": 4,
    "start_time": "2023-05-19T13:46:53.824Z"
   },
   {
    "duration": 4,
    "start_time": "2023-05-19T13:48:16.513Z"
   },
   {
    "duration": 23,
    "start_time": "2023-05-19T14:03:08.670Z"
   },
   {
    "duration": 1083,
    "start_time": "2023-05-19T14:04:35.784Z"
   },
   {
    "duration": 23,
    "start_time": "2023-05-19T14:05:43.926Z"
   },
   {
    "duration": 1075,
    "start_time": "2023-05-19T14:05:48.694Z"
   },
   {
    "duration": 228,
    "start_time": "2023-05-19T14:12:31.442Z"
   },
   {
    "duration": 22,
    "start_time": "2023-05-19T14:13:23.502Z"
   },
   {
    "duration": 88,
    "start_time": "2023-05-19T14:13:49.507Z"
   },
   {
    "duration": 24,
    "start_time": "2023-05-19T14:14:40.684Z"
   },
   {
    "duration": 296,
    "start_time": "2023-05-19T14:14:45.822Z"
   },
   {
    "duration": 22,
    "start_time": "2023-05-19T14:18:24.572Z"
   },
   {
    "duration": 288,
    "start_time": "2023-05-19T14:18:25.446Z"
   },
   {
    "duration": 22,
    "start_time": "2023-05-19T14:18:47.879Z"
   },
   {
    "duration": 339,
    "start_time": "2023-05-19T14:18:49.889Z"
   },
   {
    "duration": 312,
    "start_time": "2023-05-19T14:20:50.678Z"
   },
   {
    "duration": 11,
    "start_time": "2023-05-19T14:22:29.273Z"
   },
   {
    "duration": 150,
    "start_time": "2023-05-19T14:23:07.743Z"
   },
   {
    "duration": 317,
    "start_time": "2023-05-19T14:23:15.338Z"
   },
   {
    "duration": 16,
    "start_time": "2023-05-19T14:26:18.454Z"
   },
   {
    "duration": 313,
    "start_time": "2023-05-19T14:26:19.706Z"
   },
   {
    "duration": 9,
    "start_time": "2023-05-19T14:36:00.473Z"
   },
   {
    "duration": 160,
    "start_time": "2023-05-19T14:39:05.024Z"
   },
   {
    "duration": 10,
    "start_time": "2023-05-19T14:42:41.121Z"
   },
   {
    "duration": 12,
    "start_time": "2023-05-19T14:42:49.229Z"
   },
   {
    "duration": 13,
    "start_time": "2023-05-19T14:43:56.355Z"
   },
   {
    "duration": 15,
    "start_time": "2023-05-19T14:45:23.090Z"
   },
   {
    "duration": 13,
    "start_time": "2023-05-19T14:45:48.287Z"
   },
   {
    "duration": 13,
    "start_time": "2023-05-19T14:50:30.445Z"
   },
   {
    "duration": 16,
    "start_time": "2023-05-19T14:52:09.272Z"
   },
   {
    "duration": 50,
    "start_time": "2023-05-19T14:52:47.829Z"
   },
   {
    "duration": 14,
    "start_time": "2023-05-19T14:52:56.577Z"
   },
   {
    "duration": 26,
    "start_time": "2023-05-19T14:53:32.867Z"
   },
   {
    "duration": 4,
    "start_time": "2023-05-19T14:54:08.181Z"
   },
   {
    "duration": 20,
    "start_time": "2023-05-19T14:54:21.538Z"
   },
   {
    "duration": 14,
    "start_time": "2023-05-19T14:54:38.266Z"
   },
   {
    "duration": 17,
    "start_time": "2023-05-19T14:57:19.622Z"
   },
   {
    "duration": 156,
    "start_time": "2023-05-19T15:04:54.219Z"
   },
   {
    "duration": 16,
    "start_time": "2023-05-19T15:04:56.370Z"
   },
   {
    "duration": 12,
    "start_time": "2023-05-19T15:05:29.354Z"
   },
   {
    "duration": 14,
    "start_time": "2023-05-19T15:05:57.223Z"
   },
   {
    "duration": 50,
    "start_time": "2023-05-19T15:06:55.011Z"
   },
   {
    "duration": 9,
    "start_time": "2023-05-19T15:07:02.025Z"
   },
   {
    "duration": 6,
    "start_time": "2023-05-19T15:08:15.834Z"
   },
   {
    "duration": 8,
    "start_time": "2023-05-19T15:08:21.086Z"
   },
   {
    "duration": 161,
    "start_time": "2023-05-19T15:08:21.668Z"
   },
   {
    "duration": 1604,
    "start_time": "2023-05-19T15:21:29.536Z"
   },
   {
    "duration": 52,
    "start_time": "2023-05-19T15:21:31.143Z"
   },
   {
    "duration": 24,
    "start_time": "2023-05-19T15:21:31.196Z"
   },
   {
    "duration": 52,
    "start_time": "2023-05-19T15:21:31.222Z"
   },
   {
    "duration": 59,
    "start_time": "2023-05-19T15:21:31.277Z"
   },
   {
    "duration": 45,
    "start_time": "2023-05-19T15:21:31.338Z"
   },
   {
    "duration": 29,
    "start_time": "2023-05-19T15:21:31.385Z"
   },
   {
    "duration": 58,
    "start_time": "2023-05-19T15:21:31.416Z"
   },
   {
    "duration": 2130,
    "start_time": "2023-05-19T15:21:31.476Z"
   },
   {
    "duration": 905,
    "start_time": "2023-05-19T15:21:33.608Z"
   },
   {
    "duration": 1195,
    "start_time": "2023-05-19T15:21:34.514Z"
   },
   {
    "duration": 10,
    "start_time": "2023-05-19T15:21:35.711Z"
   },
   {
    "duration": 196,
    "start_time": "2023-05-19T15:21:35.722Z"
   },
   {
    "duration": 6,
    "start_time": "2023-05-19T15:21:35.920Z"
   },
   {
    "duration": 117,
    "start_time": "2023-05-19T15:21:35.928Z"
   },
   {
    "duration": 18,
    "start_time": "2023-05-19T15:21:36.047Z"
   },
   {
    "duration": 311,
    "start_time": "2023-05-19T15:21:36.066Z"
   },
   {
    "duration": 6,
    "start_time": "2023-05-19T15:21:36.378Z"
   },
   {
    "duration": 167,
    "start_time": "2023-05-19T15:21:36.385Z"
   },
   {
    "duration": 5,
    "start_time": "2023-05-19T15:21:36.554Z"
   },
   {
    "duration": 89,
    "start_time": "2023-05-19T15:36:25.579Z"
   },
   {
    "duration": 16,
    "start_time": "2023-05-19T15:41:32.451Z"
   },
   {
    "duration": 15,
    "start_time": "2023-05-19T15:41:45.522Z"
   },
   {
    "duration": 48,
    "start_time": "2023-05-19T15:42:30.005Z"
   },
   {
    "duration": 28,
    "start_time": "2023-05-19T15:43:03.449Z"
   },
   {
    "duration": 59,
    "start_time": "2023-05-19T15:44:05.484Z"
   },
   {
    "duration": 20,
    "start_time": "2023-05-19T15:44:20.987Z"
   },
   {
    "duration": 17,
    "start_time": "2023-05-19T15:44:39.628Z"
   },
   {
    "duration": 11,
    "start_time": "2023-05-19T15:45:11.146Z"
   },
   {
    "duration": 101,
    "start_time": "2023-05-19T15:46:55.023Z"
   },
   {
    "duration": 215,
    "start_time": "2023-05-19T15:47:07.199Z"
   },
   {
    "duration": 17,
    "start_time": "2023-05-19T15:50:22.776Z"
   },
   {
    "duration": 20,
    "start_time": "2023-05-19T15:56:49.259Z"
   },
   {
    "duration": 19,
    "start_time": "2023-05-19T15:58:18.514Z"
   },
   {
    "duration": 90,
    "start_time": "2023-05-19T15:59:30.175Z"
   },
   {
    "duration": 13,
    "start_time": "2023-05-19T16:00:06.394Z"
   },
   {
    "duration": 13,
    "start_time": "2023-05-19T16:00:22.689Z"
   },
   {
    "duration": 16,
    "start_time": "2023-05-19T16:02:28.430Z"
   },
   {
    "duration": 11,
    "start_time": "2023-05-19T16:02:42.431Z"
   },
   {
    "duration": 40,
    "start_time": "2023-05-19T16:05:13.481Z"
   },
   {
    "duration": 243,
    "start_time": "2023-05-19T16:05:26.084Z"
   },
   {
    "duration": 180,
    "start_time": "2023-05-19T16:18:26.441Z"
   },
   {
    "duration": 21,
    "start_time": "2023-05-19T16:21:44.335Z"
   },
   {
    "duration": 89,
    "start_time": "2023-05-19T16:22:04.200Z"
   },
   {
    "duration": 15,
    "start_time": "2023-05-19T16:22:05.711Z"
   },
   {
    "duration": 25,
    "start_time": "2023-05-19T16:22:15.617Z"
   },
   {
    "duration": 17,
    "start_time": "2023-05-19T16:22:50.641Z"
   },
   {
    "duration": 22,
    "start_time": "2023-05-19T16:23:17.093Z"
   },
   {
    "duration": 17,
    "start_time": "2023-05-19T16:23:51.123Z"
   },
   {
    "duration": 19,
    "start_time": "2023-05-19T16:28:05.735Z"
   },
   {
    "duration": 15,
    "start_time": "2023-05-19T16:28:27.138Z"
   },
   {
    "duration": 318,
    "start_time": "2023-05-19T16:28:28.098Z"
   },
   {
    "duration": 15,
    "start_time": "2023-05-19T16:30:11.926Z"
   },
   {
    "duration": 20,
    "start_time": "2023-05-19T16:30:24.471Z"
   },
   {
    "duration": 306,
    "start_time": "2023-05-19T16:30:28.552Z"
   },
   {
    "duration": 44,
    "start_time": "2023-05-19T16:31:21.147Z"
   },
   {
    "duration": 25,
    "start_time": "2023-05-19T16:31:28.816Z"
   },
   {
    "duration": 328,
    "start_time": "2023-05-19T16:31:31.088Z"
   },
   {
    "duration": 11,
    "start_time": "2023-05-19T16:33:00.508Z"
   },
   {
    "duration": 16,
    "start_time": "2023-05-19T16:33:08.544Z"
   },
   {
    "duration": 16,
    "start_time": "2023-05-19T16:34:36.033Z"
   },
   {
    "duration": 196,
    "start_time": "2023-05-19T16:34:53.285Z"
   },
   {
    "duration": 22,
    "start_time": "2023-05-19T16:44:42.656Z"
   },
   {
    "duration": 17,
    "start_time": "2023-05-19T16:44:46.628Z"
   },
   {
    "duration": 330,
    "start_time": "2023-05-19T16:44:48.715Z"
   },
   {
    "duration": 16,
    "start_time": "2023-05-19T16:45:38.774Z"
   },
   {
    "duration": 330,
    "start_time": "2023-05-19T16:45:39.821Z"
   },
   {
    "duration": 20,
    "start_time": "2023-05-19T16:47:45.186Z"
   },
   {
    "duration": 299,
    "start_time": "2023-05-19T16:47:46.538Z"
   },
   {
    "duration": 17,
    "start_time": "2023-05-19T16:52:38.975Z"
   },
   {
    "duration": 19,
    "start_time": "2023-05-19T16:53:42.120Z"
   },
   {
    "duration": 9,
    "start_time": "2023-05-19T16:54:03.617Z"
   },
   {
    "duration": 27,
    "start_time": "2023-05-19T16:54:34.743Z"
   },
   {
    "duration": 16,
    "start_time": "2023-05-19T16:54:40.016Z"
   },
   {
    "duration": 15,
    "start_time": "2023-05-19T16:54:57.211Z"
   },
   {
    "duration": 12,
    "start_time": "2023-05-19T16:55:21.201Z"
   },
   {
    "duration": 21,
    "start_time": "2023-05-19T16:55:21.640Z"
   },
   {
    "duration": 1885,
    "start_time": "2023-05-20T03:07:15.885Z"
   },
   {
    "duration": 115,
    "start_time": "2023-05-20T03:07:17.772Z"
   },
   {
    "duration": 22,
    "start_time": "2023-05-20T03:07:17.889Z"
   },
   {
    "duration": 42,
    "start_time": "2023-05-20T03:07:17.912Z"
   },
   {
    "duration": 21,
    "start_time": "2023-05-20T03:07:17.957Z"
   },
   {
    "duration": 10,
    "start_time": "2023-05-20T03:07:17.980Z"
   },
   {
    "duration": 30,
    "start_time": "2023-05-20T03:07:17.992Z"
   },
   {
    "duration": 12,
    "start_time": "2023-05-20T03:07:18.028Z"
   },
   {
    "duration": 2230,
    "start_time": "2023-05-20T03:07:18.042Z"
   },
   {
    "duration": 1062,
    "start_time": "2023-05-20T03:07:20.274Z"
   },
   {
    "duration": 1272,
    "start_time": "2023-05-20T03:07:21.338Z"
   },
   {
    "duration": 23,
    "start_time": "2023-05-20T03:07:22.612Z"
   },
   {
    "duration": 216,
    "start_time": "2023-05-20T03:07:22.636Z"
   },
   {
    "duration": 4,
    "start_time": "2023-05-20T03:07:22.854Z"
   },
   {
    "duration": 107,
    "start_time": "2023-05-20T03:07:22.860Z"
   },
   {
    "duration": 29,
    "start_time": "2023-05-20T03:07:22.969Z"
   },
   {
    "duration": 320,
    "start_time": "2023-05-20T03:07:23.015Z"
   },
   {
    "duration": 6,
    "start_time": "2023-05-20T03:07:23.337Z"
   },
   {
    "duration": 171,
    "start_time": "2023-05-20T03:07:23.345Z"
   },
   {
    "duration": 16,
    "start_time": "2023-05-20T03:07:23.518Z"
   },
   {
    "duration": 122,
    "start_time": "2023-05-20T03:07:23.545Z"
   },
   {
    "duration": 18,
    "start_time": "2023-05-20T03:07:23.669Z"
   },
   {
    "duration": 15,
    "start_time": "2023-05-20T03:07:23.695Z"
   },
   {
    "duration": 67,
    "start_time": "2023-05-20T03:07:23.719Z"
   },
   {
    "duration": 204,
    "start_time": "2023-05-20T03:07:37.551Z"
   },
   {
    "duration": 11,
    "start_time": "2023-05-20T03:11:12.564Z"
   },
   {
    "duration": 7,
    "start_time": "2023-05-20T03:11:16.851Z"
   },
   {
    "duration": 16,
    "start_time": "2023-05-20T03:11:23.149Z"
   },
   {
    "duration": 13,
    "start_time": "2023-05-20T03:13:55.874Z"
   },
   {
    "duration": 45,
    "start_time": "2023-05-20T03:14:05.993Z"
   },
   {
    "duration": 30,
    "start_time": "2023-05-20T03:14:15.926Z"
   },
   {
    "duration": 224,
    "start_time": "2023-05-20T03:14:29.244Z"
   },
   {
    "duration": 28,
    "start_time": "2023-05-20T03:15:03.981Z"
   },
   {
    "duration": 14,
    "start_time": "2023-05-20T03:15:13.769Z"
   },
   {
    "duration": 32,
    "start_time": "2023-05-20T03:15:22.220Z"
   },
   {
    "duration": 33,
    "start_time": "2023-05-20T03:17:52.634Z"
   },
   {
    "duration": 41,
    "start_time": "2023-05-20T03:18:02.543Z"
   },
   {
    "duration": 17,
    "start_time": "2023-05-20T03:18:19.367Z"
   },
   {
    "duration": 2894,
    "start_time": "2023-05-20T03:20:00.890Z"
   },
   {
    "duration": 37,
    "start_time": "2023-05-20T03:21:30.181Z"
   },
   {
    "duration": 18,
    "start_time": "2023-05-20T03:23:54.949Z"
   },
   {
    "duration": 34,
    "start_time": "2023-05-20T03:24:05.500Z"
   },
   {
    "duration": 397,
    "start_time": "2023-05-20T03:24:19.474Z"
   },
   {
    "duration": 243,
    "start_time": "2023-05-20T03:25:20.850Z"
   },
   {
    "duration": 447,
    "start_time": "2023-05-20T03:25:47.521Z"
   },
   {
    "duration": 26,
    "start_time": "2023-05-20T03:28:21.457Z"
   },
   {
    "duration": 55,
    "start_time": "2023-05-20T03:29:09.090Z"
   },
   {
    "duration": 25,
    "start_time": "2023-05-20T03:29:13.508Z"
   },
   {
    "duration": 203,
    "start_time": "2023-05-20T03:29:25.264Z"
   },
   {
    "duration": 86,
    "start_time": "2023-05-20T03:29:44.937Z"
   },
   {
    "duration": 482,
    "start_time": "2023-05-20T03:29:50.533Z"
   },
   {
    "duration": 24,
    "start_time": "2023-05-20T03:30:40.381Z"
   },
   {
    "duration": 14,
    "start_time": "2023-05-20T03:30:44.932Z"
   },
   {
    "duration": 9,
    "start_time": "2023-05-20T03:30:50.542Z"
   },
   {
    "duration": 29,
    "start_time": "2023-05-20T03:30:51.621Z"
   },
   {
    "duration": 13,
    "start_time": "2023-05-20T03:31:18.093Z"
   },
   {
    "duration": 27,
    "start_time": "2023-05-20T03:31:19.106Z"
   },
   {
    "duration": 8,
    "start_time": "2023-05-20T03:31:48.121Z"
   },
   {
    "duration": 25,
    "start_time": "2023-05-20T03:31:49.368Z"
   },
   {
    "duration": 7,
    "start_time": "2023-05-20T03:32:05.351Z"
   },
   {
    "duration": 22,
    "start_time": "2023-05-20T03:32:06.644Z"
   },
   {
    "duration": 23,
    "start_time": "2023-05-20T03:35:36.711Z"
   },
   {
    "duration": 17,
    "start_time": "2023-05-20T03:35:59.035Z"
   },
   {
    "duration": 19,
    "start_time": "2023-05-20T03:36:02.555Z"
   },
   {
    "duration": 290,
    "start_time": "2023-05-20T03:36:03.035Z"
   },
   {
    "duration": 15,
    "start_time": "2023-05-20T03:52:23.272Z"
   },
   {
    "duration": 17,
    "start_time": "2023-05-20T03:52:51.125Z"
   },
   {
    "duration": 13,
    "start_time": "2023-05-20T03:52:53.452Z"
   },
   {
    "duration": 13,
    "start_time": "2023-05-20T03:53:19.368Z"
   },
   {
    "duration": 14,
    "start_time": "2023-05-20T03:53:41.111Z"
   },
   {
    "duration": 20,
    "start_time": "2023-05-20T03:53:43.187Z"
   },
   {
    "duration": 14,
    "start_time": "2023-05-20T03:54:00.556Z"
   },
   {
    "duration": 21,
    "start_time": "2023-05-20T03:54:13.631Z"
   },
   {
    "duration": 196,
    "start_time": "2023-05-20T03:54:23.713Z"
   },
   {
    "duration": 7,
    "start_time": "2023-05-20T04:04:20.609Z"
   },
   {
    "duration": 5,
    "start_time": "2023-05-20T04:04:53.244Z"
   },
   {
    "duration": 106,
    "start_time": "2023-05-20T04:11:29.563Z"
   },
   {
    "duration": 107,
    "start_time": "2023-05-20T04:12:00.238Z"
   },
   {
    "duration": 24,
    "start_time": "2023-05-20T04:14:12.260Z"
   },
   {
    "duration": 377,
    "start_time": "2023-05-20T04:14:34.249Z"
   },
   {
    "duration": 471,
    "start_time": "2023-05-20T04:23:31.166Z"
   },
   {
    "duration": 268,
    "start_time": "2023-05-20T05:03:28.022Z"
   },
   {
    "duration": 396,
    "start_time": "2023-05-20T05:04:21.792Z"
   },
   {
    "duration": 47,
    "start_time": "2023-05-20T05:10:33.638Z"
   },
   {
    "duration": 8,
    "start_time": "2023-05-20T05:10:46.169Z"
   },
   {
    "duration": 304,
    "start_time": "2023-05-20T05:13:45.713Z"
   },
   {
    "duration": 11,
    "start_time": "2023-05-20T05:13:47.375Z"
   },
   {
    "duration": 313,
    "start_time": "2023-05-20T05:32:31.993Z"
   },
   {
    "duration": 362,
    "start_time": "2023-05-20T05:33:02.218Z"
   },
   {
    "duration": 354,
    "start_time": "2023-05-20T05:33:15.924Z"
   },
   {
    "duration": 319,
    "start_time": "2023-05-20T05:33:30.534Z"
   },
   {
    "duration": 318,
    "start_time": "2023-05-20T05:33:37.665Z"
   },
   {
    "duration": 13,
    "start_time": "2023-05-20T05:36:39.808Z"
   },
   {
    "duration": 46,
    "start_time": "2023-05-20T05:38:07.203Z"
   },
   {
    "duration": 88,
    "start_time": "2023-05-20T05:56:55.461Z"
   },
   {
    "duration": 17,
    "start_time": "2023-05-20T05:56:59.811Z"
   },
   {
    "duration": 300,
    "start_time": "2023-05-20T05:57:00.633Z"
   },
   {
    "duration": 303,
    "start_time": "2023-05-20T05:57:08.909Z"
   },
   {
    "duration": 20,
    "start_time": "2023-05-20T05:57:29.794Z"
   },
   {
    "duration": 105,
    "start_time": "2023-05-20T05:57:37.164Z"
   },
   {
    "duration": 99,
    "start_time": "2023-05-20T05:58:33.716Z"
   },
   {
    "duration": 7,
    "start_time": "2023-05-20T05:59:25.523Z"
   },
   {
    "duration": 250,
    "start_time": "2023-05-20T05:59:26.150Z"
   },
   {
    "duration": 108,
    "start_time": "2023-05-20T05:59:54.744Z"
   },
   {
    "duration": 84,
    "start_time": "2023-05-20T06:00:03.569Z"
   },
   {
    "duration": 1419,
    "start_time": "2023-05-20T06:00:21.636Z"
   },
   {
    "duration": 51,
    "start_time": "2023-05-20T06:00:23.056Z"
   },
   {
    "duration": 12,
    "start_time": "2023-05-20T06:00:23.108Z"
   },
   {
    "duration": 17,
    "start_time": "2023-05-20T06:00:23.122Z"
   },
   {
    "duration": 19,
    "start_time": "2023-05-20T06:00:23.140Z"
   },
   {
    "duration": 38,
    "start_time": "2023-05-20T06:00:23.160Z"
   },
   {
    "duration": 5,
    "start_time": "2023-05-20T06:00:23.200Z"
   },
   {
    "duration": 19,
    "start_time": "2023-05-20T06:00:23.206Z"
   },
   {
    "duration": 2029,
    "start_time": "2023-05-20T06:00:23.226Z"
   },
   {
    "duration": 940,
    "start_time": "2023-05-20T06:00:25.257Z"
   },
   {
    "duration": 1116,
    "start_time": "2023-05-20T06:00:26.199Z"
   },
   {
    "duration": 9,
    "start_time": "2023-05-20T06:00:27.317Z"
   },
   {
    "duration": 186,
    "start_time": "2023-05-20T06:00:27.327Z"
   },
   {
    "duration": 4,
    "start_time": "2023-05-20T06:00:27.515Z"
   },
   {
    "duration": 106,
    "start_time": "2023-05-20T06:00:27.521Z"
   },
   {
    "duration": 17,
    "start_time": "2023-05-20T06:00:27.630Z"
   },
   {
    "duration": 354,
    "start_time": "2023-05-20T06:00:27.648Z"
   },
   {
    "duration": 7,
    "start_time": "2023-05-20T06:00:28.003Z"
   },
   {
    "duration": 165,
    "start_time": "2023-05-20T06:00:28.012Z"
   },
   {
    "duration": 5,
    "start_time": "2023-05-20T06:00:28.179Z"
   },
   {
    "duration": 92,
    "start_time": "2023-05-20T06:00:28.185Z"
   },
   {
    "duration": 149,
    "start_time": "2023-05-20T06:00:28.279Z"
   },
   {
    "duration": 130,
    "start_time": "2023-05-20T06:00:28.430Z"
   },
   {
    "duration": 0,
    "start_time": "2023-05-20T06:00:28.562Z"
   },
   {
    "duration": 0,
    "start_time": "2023-05-20T06:00:28.563Z"
   },
   {
    "duration": 0,
    "start_time": "2023-05-20T06:00:28.564Z"
   },
   {
    "duration": 0,
    "start_time": "2023-05-20T06:00:28.565Z"
   },
   {
    "duration": 0,
    "start_time": "2023-05-20T06:00:28.566Z"
   },
   {
    "duration": 0,
    "start_time": "2023-05-20T06:00:28.567Z"
   },
   {
    "duration": 0,
    "start_time": "2023-05-20T06:00:28.568Z"
   },
   {
    "duration": 0,
    "start_time": "2023-05-20T06:00:28.569Z"
   },
   {
    "duration": 0,
    "start_time": "2023-05-20T06:00:28.570Z"
   },
   {
    "duration": 0,
    "start_time": "2023-05-20T06:00:28.571Z"
   },
   {
    "duration": 104,
    "start_time": "2023-05-20T06:05:17.933Z"
   },
   {
    "duration": 26,
    "start_time": "2023-05-20T06:05:21.090Z"
   },
   {
    "duration": 309,
    "start_time": "2023-05-20T06:05:22.021Z"
   },
   {
    "duration": 422,
    "start_time": "2023-05-20T06:05:53.108Z"
   },
   {
    "duration": 113,
    "start_time": "2023-05-20T06:05:58.558Z"
   },
   {
    "duration": 1536,
    "start_time": "2023-05-20T06:06:05.580Z"
   },
   {
    "duration": 49,
    "start_time": "2023-05-20T06:06:07.118Z"
   },
   {
    "duration": 12,
    "start_time": "2023-05-20T06:06:07.169Z"
   },
   {
    "duration": 27,
    "start_time": "2023-05-20T06:06:07.183Z"
   },
   {
    "duration": 20,
    "start_time": "2023-05-20T06:06:07.211Z"
   },
   {
    "duration": 18,
    "start_time": "2023-05-20T06:06:07.232Z"
   },
   {
    "duration": 8,
    "start_time": "2023-05-20T06:06:07.251Z"
   },
   {
    "duration": 14,
    "start_time": "2023-05-20T06:06:07.260Z"
   },
   {
    "duration": 1997,
    "start_time": "2023-05-20T06:06:07.276Z"
   },
   {
    "duration": 958,
    "start_time": "2023-05-20T06:06:09.276Z"
   },
   {
    "duration": 1115,
    "start_time": "2023-05-20T06:06:10.236Z"
   },
   {
    "duration": 9,
    "start_time": "2023-05-20T06:06:11.353Z"
   },
   {
    "duration": 206,
    "start_time": "2023-05-20T06:06:11.363Z"
   },
   {
    "duration": 4,
    "start_time": "2023-05-20T06:06:11.570Z"
   },
   {
    "duration": 116,
    "start_time": "2023-05-20T06:06:11.575Z"
   },
   {
    "duration": 25,
    "start_time": "2023-05-20T06:06:11.692Z"
   },
   {
    "duration": 304,
    "start_time": "2023-05-20T06:06:11.719Z"
   },
   {
    "duration": 6,
    "start_time": "2023-05-20T06:06:12.025Z"
   },
   {
    "duration": 182,
    "start_time": "2023-05-20T06:06:12.032Z"
   },
   {
    "duration": 5,
    "start_time": "2023-05-20T06:06:12.216Z"
   },
   {
    "duration": 126,
    "start_time": "2023-05-20T06:06:12.223Z"
   },
   {
    "duration": 162,
    "start_time": "2023-05-20T06:06:12.351Z"
   },
   {
    "duration": 135,
    "start_time": "2023-05-20T06:06:12.514Z"
   },
   {
    "duration": 0,
    "start_time": "2023-05-20T06:06:12.651Z"
   },
   {
    "duration": 0,
    "start_time": "2023-05-20T06:06:12.652Z"
   },
   {
    "duration": 0,
    "start_time": "2023-05-20T06:06:12.653Z"
   },
   {
    "duration": 0,
    "start_time": "2023-05-20T06:06:12.654Z"
   },
   {
    "duration": 0,
    "start_time": "2023-05-20T06:06:12.656Z"
   },
   {
    "duration": 0,
    "start_time": "2023-05-20T06:06:12.657Z"
   },
   {
    "duration": 0,
    "start_time": "2023-05-20T06:06:12.658Z"
   },
   {
    "duration": 0,
    "start_time": "2023-05-20T06:06:12.660Z"
   },
   {
    "duration": 0,
    "start_time": "2023-05-20T06:06:12.661Z"
   },
   {
    "duration": 0,
    "start_time": "2023-05-20T06:06:12.662Z"
   },
   {
    "duration": 1395,
    "start_time": "2023-05-20T06:07:39.726Z"
   },
   {
    "duration": 49,
    "start_time": "2023-05-20T06:07:41.123Z"
   },
   {
    "duration": 11,
    "start_time": "2023-05-20T06:07:41.173Z"
   },
   {
    "duration": 18,
    "start_time": "2023-05-20T06:07:41.186Z"
   },
   {
    "duration": 20,
    "start_time": "2023-05-20T06:07:41.207Z"
   },
   {
    "duration": 10,
    "start_time": "2023-05-20T06:07:41.228Z"
   },
   {
    "duration": 5,
    "start_time": "2023-05-20T06:07:41.239Z"
   },
   {
    "duration": 6,
    "start_time": "2023-05-20T06:07:41.245Z"
   },
   {
    "duration": 1866,
    "start_time": "2023-05-20T06:07:41.253Z"
   },
   {
    "duration": 940,
    "start_time": "2023-05-20T06:07:43.120Z"
   },
   {
    "duration": 1294,
    "start_time": "2023-05-20T06:07:44.062Z"
   },
   {
    "duration": 12,
    "start_time": "2023-05-20T06:07:45.358Z"
   },
   {
    "duration": 211,
    "start_time": "2023-05-20T06:07:45.372Z"
   },
   {
    "duration": 8,
    "start_time": "2023-05-20T06:07:45.587Z"
   },
   {
    "duration": 126,
    "start_time": "2023-05-20T06:07:45.597Z"
   },
   {
    "duration": 20,
    "start_time": "2023-05-20T06:07:45.725Z"
   },
   {
    "duration": 354,
    "start_time": "2023-05-20T06:07:45.747Z"
   },
   {
    "duration": 6,
    "start_time": "2023-05-20T06:07:46.103Z"
   },
   {
    "duration": 164,
    "start_time": "2023-05-20T06:07:46.110Z"
   },
   {
    "duration": 5,
    "start_time": "2023-05-20T06:07:46.275Z"
   },
   {
    "duration": 101,
    "start_time": "2023-05-20T06:07:46.281Z"
   },
   {
    "duration": 155,
    "start_time": "2023-05-20T06:07:46.384Z"
   },
   {
    "duration": 138,
    "start_time": "2023-05-20T06:07:46.541Z"
   },
   {
    "duration": 0,
    "start_time": "2023-05-20T06:07:46.680Z"
   },
   {
    "duration": 0,
    "start_time": "2023-05-20T06:07:46.682Z"
   },
   {
    "duration": 0,
    "start_time": "2023-05-20T06:07:46.694Z"
   },
   {
    "duration": 0,
    "start_time": "2023-05-20T06:07:46.696Z"
   },
   {
    "duration": 0,
    "start_time": "2023-05-20T06:07:46.697Z"
   },
   {
    "duration": 0,
    "start_time": "2023-05-20T06:07:46.698Z"
   },
   {
    "duration": 0,
    "start_time": "2023-05-20T06:07:46.700Z"
   },
   {
    "duration": 0,
    "start_time": "2023-05-20T06:07:46.702Z"
   },
   {
    "duration": 0,
    "start_time": "2023-05-20T06:07:46.703Z"
   },
   {
    "duration": 0,
    "start_time": "2023-05-20T06:07:46.704Z"
   },
   {
    "duration": 111,
    "start_time": "2023-05-20T06:08:22.863Z"
   },
   {
    "duration": 23,
    "start_time": "2023-05-20T06:08:25.334Z"
   },
   {
    "duration": 321,
    "start_time": "2023-05-20T06:08:26.082Z"
   },
   {
    "duration": 97,
    "start_time": "2023-05-20T06:10:30.556Z"
   },
   {
    "duration": 18,
    "start_time": "2023-05-20T06:10:32.143Z"
   },
   {
    "duration": 415,
    "start_time": "2023-05-20T06:10:33.599Z"
   },
   {
    "duration": 19,
    "start_time": "2023-05-20T06:12:20.491Z"
   },
   {
    "duration": 271,
    "start_time": "2023-05-20T06:12:21.535Z"
   },
   {
    "duration": 4,
    "start_time": "2023-05-20T06:14:21.488Z"
   },
   {
    "duration": 91,
    "start_time": "2023-05-20T06:14:22.574Z"
   },
   {
    "duration": 18,
    "start_time": "2023-05-20T06:14:25.096Z"
   },
   {
    "duration": 304,
    "start_time": "2023-05-20T06:14:26.016Z"
   },
   {
    "duration": 856,
    "start_time": "2023-05-20T06:40:42.479Z"
   },
   {
    "duration": 1630,
    "start_time": "2023-05-20T06:42:25.521Z"
   },
   {
    "duration": 61,
    "start_time": "2023-05-20T06:42:27.153Z"
   },
   {
    "duration": 16,
    "start_time": "2023-05-20T06:42:27.220Z"
   },
   {
    "duration": 21,
    "start_time": "2023-05-20T06:42:27.237Z"
   },
   {
    "duration": 18,
    "start_time": "2023-05-20T06:42:27.260Z"
   },
   {
    "duration": 30,
    "start_time": "2023-05-20T06:42:27.279Z"
   },
   {
    "duration": 16,
    "start_time": "2023-05-20T06:42:27.326Z"
   },
   {
    "duration": 6,
    "start_time": "2023-05-20T06:42:27.344Z"
   },
   {
    "duration": 2083,
    "start_time": "2023-05-20T06:42:27.351Z"
   },
   {
    "duration": 968,
    "start_time": "2023-05-20T06:42:29.436Z"
   },
   {
    "duration": 1190,
    "start_time": "2023-05-20T06:42:30.411Z"
   },
   {
    "duration": 23,
    "start_time": "2023-05-20T06:42:31.603Z"
   },
   {
    "duration": 249,
    "start_time": "2023-05-20T06:42:31.628Z"
   },
   {
    "duration": 4,
    "start_time": "2023-05-20T06:42:31.880Z"
   },
   {
    "duration": 194,
    "start_time": "2023-05-20T06:42:31.886Z"
   },
   {
    "duration": 28,
    "start_time": "2023-05-20T06:42:32.082Z"
   },
   {
    "duration": 352,
    "start_time": "2023-05-20T06:42:32.112Z"
   },
   {
    "duration": 7,
    "start_time": "2023-05-20T06:42:32.465Z"
   },
   {
    "duration": 190,
    "start_time": "2023-05-20T06:42:32.473Z"
   },
   {
    "duration": 4,
    "start_time": "2023-05-20T06:42:32.665Z"
   },
   {
    "duration": 117,
    "start_time": "2023-05-20T06:42:32.671Z"
   },
   {
    "duration": 171,
    "start_time": "2023-05-20T06:42:32.789Z"
   },
   {
    "duration": 17,
    "start_time": "2023-05-20T06:42:32.961Z"
   },
   {
    "duration": 136,
    "start_time": "2023-05-20T06:42:32.980Z"
   },
   {
    "duration": 0,
    "start_time": "2023-05-20T06:42:33.118Z"
   },
   {
    "duration": 0,
    "start_time": "2023-05-20T06:42:33.125Z"
   },
   {
    "duration": 0,
    "start_time": "2023-05-20T06:42:33.126Z"
   },
   {
    "duration": 0,
    "start_time": "2023-05-20T06:42:33.130Z"
   },
   {
    "duration": 0,
    "start_time": "2023-05-20T06:42:33.131Z"
   },
   {
    "duration": 0,
    "start_time": "2023-05-20T06:42:33.132Z"
   },
   {
    "duration": 0,
    "start_time": "2023-05-20T06:42:33.134Z"
   },
   {
    "duration": 0,
    "start_time": "2023-05-20T06:42:33.135Z"
   },
   {
    "duration": 8,
    "start_time": "2023-05-20T06:43:27.772Z"
   },
   {
    "duration": 433,
    "start_time": "2023-05-20T06:43:30.881Z"
   },
   {
    "duration": 12,
    "start_time": "2023-05-20T06:43:31.725Z"
   },
   {
    "duration": 6,
    "start_time": "2023-05-20T06:59:50.333Z"
   },
   {
    "duration": 134,
    "start_time": "2023-05-20T07:01:13.534Z"
   },
   {
    "duration": 301,
    "start_time": "2023-05-20T07:01:46.428Z"
   },
   {
    "duration": 1457,
    "start_time": "2023-05-20T07:15:31.833Z"
   },
   {
    "duration": 58,
    "start_time": "2023-05-20T07:15:33.292Z"
   },
   {
    "duration": 12,
    "start_time": "2023-05-20T07:15:33.352Z"
   },
   {
    "duration": 17,
    "start_time": "2023-05-20T07:15:33.366Z"
   },
   {
    "duration": 21,
    "start_time": "2023-05-20T07:15:33.385Z"
   },
   {
    "duration": 18,
    "start_time": "2023-05-20T07:15:33.411Z"
   },
   {
    "duration": 4,
    "start_time": "2023-05-20T07:15:33.431Z"
   },
   {
    "duration": 5,
    "start_time": "2023-05-20T07:15:33.436Z"
   },
   {
    "duration": 2137,
    "start_time": "2023-05-20T07:15:33.442Z"
   },
   {
    "duration": 1062,
    "start_time": "2023-05-20T07:15:35.582Z"
   },
   {
    "duration": 1215,
    "start_time": "2023-05-20T07:15:36.645Z"
   },
   {
    "duration": 10,
    "start_time": "2023-05-20T07:15:37.862Z"
   },
   {
    "duration": 251,
    "start_time": "2023-05-20T07:15:37.874Z"
   },
   {
    "duration": 5,
    "start_time": "2023-05-20T07:15:38.127Z"
   },
   {
    "duration": 126,
    "start_time": "2023-05-20T07:15:38.133Z"
   },
   {
    "duration": 18,
    "start_time": "2023-05-20T07:15:38.260Z"
   },
   {
    "duration": 394,
    "start_time": "2023-05-20T07:15:38.279Z"
   },
   {
    "duration": 8,
    "start_time": "2023-05-20T07:15:38.675Z"
   },
   {
    "duration": 171,
    "start_time": "2023-05-20T07:15:38.695Z"
   },
   {
    "duration": 5,
    "start_time": "2023-05-20T07:15:38.868Z"
   },
   {
    "duration": 114,
    "start_time": "2023-05-20T07:15:38.875Z"
   },
   {
    "duration": 165,
    "start_time": "2023-05-20T07:15:38.991Z"
   },
   {
    "duration": 20,
    "start_time": "2023-05-20T07:15:39.158Z"
   },
   {
    "duration": 360,
    "start_time": "2023-05-20T07:15:39.180Z"
   },
   {
    "duration": 6,
    "start_time": "2023-05-20T07:15:39.543Z"
   },
   {
    "duration": 112,
    "start_time": "2023-05-20T07:15:39.551Z"
   },
   {
    "duration": 18,
    "start_time": "2023-05-20T07:15:39.664Z"
   },
   {
    "duration": 452,
    "start_time": "2023-05-20T07:15:39.698Z"
   },
   {
    "duration": 328,
    "start_time": "2023-05-20T07:15:40.151Z"
   },
   {
    "duration": 17,
    "start_time": "2023-05-20T07:15:40.481Z"
   },
   {
    "duration": 409,
    "start_time": "2023-05-20T07:15:40.499Z"
   },
   {
    "duration": 12,
    "start_time": "2023-05-20T07:15:40.909Z"
   },
   {
    "duration": 2023,
    "start_time": "2023-05-20T21:31:00.304Z"
   },
   {
    "duration": 55,
    "start_time": "2023-05-20T21:31:02.329Z"
   },
   {
    "duration": 15,
    "start_time": "2023-05-20T21:31:02.386Z"
   },
   {
    "duration": 27,
    "start_time": "2023-05-20T21:31:02.403Z"
   },
   {
    "duration": 26,
    "start_time": "2023-05-20T21:31:02.433Z"
   },
   {
    "duration": 12,
    "start_time": "2023-05-20T21:31:02.460Z"
   },
   {
    "duration": 15,
    "start_time": "2023-05-20T21:31:02.474Z"
   },
   {
    "duration": 14,
    "start_time": "2023-05-20T21:31:02.490Z"
   },
   {
    "duration": 1879,
    "start_time": "2023-05-20T21:31:02.506Z"
   },
   {
    "duration": 979,
    "start_time": "2023-05-20T21:31:04.387Z"
   },
   {
    "duration": 1054,
    "start_time": "2023-05-20T21:31:05.368Z"
   },
   {
    "duration": 10,
    "start_time": "2023-05-20T21:31:06.423Z"
   },
   {
    "duration": 205,
    "start_time": "2023-05-20T21:31:06.435Z"
   },
   {
    "duration": 3,
    "start_time": "2023-05-20T21:31:06.642Z"
   },
   {
    "duration": 133,
    "start_time": "2023-05-20T21:31:06.647Z"
   },
   {
    "duration": 17,
    "start_time": "2023-05-20T21:31:06.782Z"
   },
   {
    "duration": 361,
    "start_time": "2023-05-20T21:31:06.800Z"
   },
   {
    "duration": 6,
    "start_time": "2023-05-20T21:31:07.163Z"
   },
   {
    "duration": 176,
    "start_time": "2023-05-20T21:31:07.170Z"
   },
   {
    "duration": 5,
    "start_time": "2023-05-20T21:31:07.347Z"
   },
   {
    "duration": 116,
    "start_time": "2023-05-20T21:31:07.354Z"
   },
   {
    "duration": 148,
    "start_time": "2023-05-20T21:31:07.471Z"
   },
   {
    "duration": 20,
    "start_time": "2023-05-20T21:31:07.620Z"
   },
   {
    "duration": 287,
    "start_time": "2023-05-20T21:31:07.642Z"
   },
   {
    "duration": 4,
    "start_time": "2023-05-20T21:31:07.931Z"
   },
   {
    "duration": 121,
    "start_time": "2023-05-20T21:31:07.936Z"
   },
   {
    "duration": 17,
    "start_time": "2023-05-20T21:31:08.059Z"
   },
   {
    "duration": 424,
    "start_time": "2023-05-20T21:31:08.078Z"
   },
   {
    "duration": 285,
    "start_time": "2023-05-20T21:31:08.504Z"
   },
   {
    "duration": 9,
    "start_time": "2023-05-20T21:31:08.790Z"
   },
   {
    "duration": 376,
    "start_time": "2023-05-20T21:31:08.800Z"
   },
   {
    "duration": 9,
    "start_time": "2023-05-20T21:31:09.178Z"
   },
   {
    "duration": 1792,
    "start_time": "2023-05-22T06:32:01.808Z"
   },
   {
    "duration": 117,
    "start_time": "2023-05-22T06:32:03.603Z"
   },
   {
    "duration": 12,
    "start_time": "2023-05-22T06:32:03.721Z"
   },
   {
    "duration": 55,
    "start_time": "2023-05-22T06:32:03.735Z"
   },
   {
    "duration": 66,
    "start_time": "2023-05-22T06:32:03.792Z"
   },
   {
    "duration": 11,
    "start_time": "2023-05-22T06:32:03.860Z"
   },
   {
    "duration": 5,
    "start_time": "2023-05-22T06:32:03.872Z"
   },
   {
    "duration": 27,
    "start_time": "2023-05-22T06:32:03.878Z"
   },
   {
    "duration": 2144,
    "start_time": "2023-05-22T06:32:03.907Z"
   },
   {
    "duration": 973,
    "start_time": "2023-05-22T06:32:06.054Z"
   },
   {
    "duration": 1159,
    "start_time": "2023-05-22T06:32:07.029Z"
   },
   {
    "duration": 11,
    "start_time": "2023-05-22T06:32:08.189Z"
   },
   {
    "duration": 221,
    "start_time": "2023-05-22T06:32:08.202Z"
   },
   {
    "duration": 4,
    "start_time": "2023-05-22T06:32:08.425Z"
   },
   {
    "duration": 124,
    "start_time": "2023-05-22T06:32:08.431Z"
   },
   {
    "duration": 18,
    "start_time": "2023-05-22T06:32:08.556Z"
   },
   {
    "duration": 381,
    "start_time": "2023-05-22T06:32:08.575Z"
   },
   {
    "duration": 7,
    "start_time": "2023-05-22T06:32:08.957Z"
   },
   {
    "duration": 202,
    "start_time": "2023-05-22T06:32:08.966Z"
   },
   {
    "duration": 5,
    "start_time": "2023-05-22T06:32:09.170Z"
   },
   {
    "duration": 107,
    "start_time": "2023-05-22T06:32:09.176Z"
   },
   {
    "duration": 161,
    "start_time": "2023-05-22T06:32:09.285Z"
   },
   {
    "duration": 17,
    "start_time": "2023-05-22T06:32:09.448Z"
   },
   {
    "duration": 382,
    "start_time": "2023-05-22T06:32:09.467Z"
   },
   {
    "duration": 5,
    "start_time": "2023-05-22T06:32:09.851Z"
   },
   {
    "duration": 124,
    "start_time": "2023-05-22T06:32:09.858Z"
   },
   {
    "duration": 31,
    "start_time": "2023-05-22T06:32:09.984Z"
   },
   {
    "duration": 485,
    "start_time": "2023-05-22T06:32:10.019Z"
   },
   {
    "duration": 337,
    "start_time": "2023-05-22T06:32:10.507Z"
   },
   {
    "duration": 7,
    "start_time": "2023-05-22T06:32:10.846Z"
   },
   {
    "duration": 365,
    "start_time": "2023-05-22T06:32:10.854Z"
   },
   {
    "duration": 7,
    "start_time": "2023-05-22T06:32:11.221Z"
   },
   {
    "duration": 21,
    "start_time": "2023-05-22T06:38:27.845Z"
   },
   {
    "duration": 126,
    "start_time": "2023-05-22T06:42:36.359Z"
   },
   {
    "duration": 25,
    "start_time": "2023-05-22T06:43:04.540Z"
   },
   {
    "duration": 15,
    "start_time": "2023-05-22T06:43:20.146Z"
   },
   {
    "duration": 15,
    "start_time": "2023-05-22T06:43:58.454Z"
   },
   {
    "duration": 15,
    "start_time": "2023-05-22T06:47:26.567Z"
   },
   {
    "duration": 21,
    "start_time": "2023-05-22T06:48:30.550Z"
   },
   {
    "duration": 20,
    "start_time": "2023-05-22T06:49:50.184Z"
   },
   {
    "duration": 14,
    "start_time": "2023-05-22T06:50:37.580Z"
   },
   {
    "duration": 13,
    "start_time": "2023-05-22T06:50:48.454Z"
   },
   {
    "duration": 51,
    "start_time": "2023-05-22T08:11:10.475Z"
   },
   {
    "duration": 10,
    "start_time": "2023-05-22T08:11:32.346Z"
   },
   {
    "duration": 1749,
    "start_time": "2023-05-22T08:12:07.204Z"
   },
   {
    "duration": 65,
    "start_time": "2023-05-22T08:12:08.955Z"
   },
   {
    "duration": 12,
    "start_time": "2023-05-22T08:12:09.023Z"
   },
   {
    "duration": 16,
    "start_time": "2023-05-22T08:12:09.036Z"
   },
   {
    "duration": 19,
    "start_time": "2023-05-22T08:12:09.054Z"
   },
   {
    "duration": 45,
    "start_time": "2023-05-22T08:12:09.074Z"
   },
   {
    "duration": 13,
    "start_time": "2023-05-22T08:12:09.121Z"
   },
   {
    "duration": 11,
    "start_time": "2023-05-22T08:12:09.135Z"
   },
   {
    "duration": 4,
    "start_time": "2023-05-22T08:12:09.147Z"
   },
   {
    "duration": 5,
    "start_time": "2023-05-22T08:12:09.152Z"
   },
   {
    "duration": 2155,
    "start_time": "2023-05-22T08:12:09.158Z"
   },
   {
    "duration": 1039,
    "start_time": "2023-05-22T08:12:11.315Z"
   },
   {
    "duration": 1160,
    "start_time": "2023-05-22T08:12:12.356Z"
   },
   {
    "duration": 124,
    "start_time": "2023-05-22T08:12:13.520Z"
   },
   {
    "duration": 0,
    "start_time": "2023-05-22T08:12:13.645Z"
   },
   {
    "duration": 0,
    "start_time": "2023-05-22T08:12:13.646Z"
   },
   {
    "duration": 0,
    "start_time": "2023-05-22T08:12:13.648Z"
   },
   {
    "duration": 0,
    "start_time": "2023-05-22T08:12:13.649Z"
   },
   {
    "duration": 0,
    "start_time": "2023-05-22T08:12:13.650Z"
   },
   {
    "duration": 0,
    "start_time": "2023-05-22T08:12:13.651Z"
   },
   {
    "duration": 0,
    "start_time": "2023-05-22T08:12:13.652Z"
   },
   {
    "duration": 0,
    "start_time": "2023-05-22T08:12:13.654Z"
   },
   {
    "duration": 0,
    "start_time": "2023-05-22T08:12:13.656Z"
   },
   {
    "duration": 0,
    "start_time": "2023-05-22T08:12:13.657Z"
   },
   {
    "duration": 0,
    "start_time": "2023-05-22T08:12:13.658Z"
   },
   {
    "duration": 0,
    "start_time": "2023-05-22T08:12:13.659Z"
   },
   {
    "duration": 0,
    "start_time": "2023-05-22T08:12:13.661Z"
   },
   {
    "duration": 0,
    "start_time": "2023-05-22T08:12:13.662Z"
   },
   {
    "duration": 0,
    "start_time": "2023-05-22T08:12:13.663Z"
   },
   {
    "duration": 1,
    "start_time": "2023-05-22T08:12:13.671Z"
   },
   {
    "duration": 0,
    "start_time": "2023-05-22T08:12:13.695Z"
   },
   {
    "duration": 0,
    "start_time": "2023-05-22T08:12:13.696Z"
   },
   {
    "duration": 0,
    "start_time": "2023-05-22T08:12:13.697Z"
   },
   {
    "duration": 1,
    "start_time": "2023-05-22T08:12:13.698Z"
   },
   {
    "duration": 0,
    "start_time": "2023-05-22T08:12:13.699Z"
   },
   {
    "duration": 0,
    "start_time": "2023-05-22T08:12:13.700Z"
   },
   {
    "duration": 10,
    "start_time": "2023-05-22T08:14:57.230Z"
   },
   {
    "duration": 9,
    "start_time": "2023-05-22T08:16:06.856Z"
   },
   {
    "duration": 16,
    "start_time": "2023-05-22T08:16:21.521Z"
   },
   {
    "duration": 10,
    "start_time": "2023-05-22T08:17:00.557Z"
   },
   {
    "duration": 12,
    "start_time": "2023-05-22T08:17:01.846Z"
   },
   {
    "duration": 43,
    "start_time": "2023-05-22T08:17:08.279Z"
   },
   {
    "duration": 8,
    "start_time": "2023-05-22T08:18:38.574Z"
   },
   {
    "duration": 1788,
    "start_time": "2023-05-22T08:27:51.421Z"
   },
   {
    "duration": 58,
    "start_time": "2023-05-22T08:27:53.213Z"
   },
   {
    "duration": 12,
    "start_time": "2023-05-22T08:27:53.273Z"
   },
   {
    "duration": 53,
    "start_time": "2023-05-22T08:27:53.287Z"
   },
   {
    "duration": 21,
    "start_time": "2023-05-22T08:27:53.343Z"
   },
   {
    "duration": 15,
    "start_time": "2023-05-22T08:27:53.366Z"
   },
   {
    "duration": 15,
    "start_time": "2023-05-22T08:27:53.383Z"
   },
   {
    "duration": 46,
    "start_time": "2023-05-22T08:27:53.401Z"
   },
   {
    "duration": 21,
    "start_time": "2023-05-22T08:27:53.449Z"
   },
   {
    "duration": 11,
    "start_time": "2023-05-22T08:27:53.472Z"
   },
   {
    "duration": 2475,
    "start_time": "2023-05-22T08:27:53.484Z"
   },
   {
    "duration": 1109,
    "start_time": "2023-05-22T08:27:55.961Z"
   },
   {
    "duration": 1308,
    "start_time": "2023-05-22T08:27:57.071Z"
   },
   {
    "duration": 146,
    "start_time": "2023-05-22T08:27:58.382Z"
   },
   {
    "duration": 0,
    "start_time": "2023-05-22T08:27:58.530Z"
   },
   {
    "duration": 0,
    "start_time": "2023-05-22T08:27:58.531Z"
   },
   {
    "duration": 0,
    "start_time": "2023-05-22T08:27:58.533Z"
   },
   {
    "duration": 0,
    "start_time": "2023-05-22T08:27:58.534Z"
   },
   {
    "duration": 0,
    "start_time": "2023-05-22T08:27:58.535Z"
   },
   {
    "duration": 0,
    "start_time": "2023-05-22T08:27:58.537Z"
   },
   {
    "duration": 0,
    "start_time": "2023-05-22T08:27:58.538Z"
   },
   {
    "duration": 0,
    "start_time": "2023-05-22T08:27:58.539Z"
   },
   {
    "duration": 0,
    "start_time": "2023-05-22T08:27:58.541Z"
   },
   {
    "duration": 0,
    "start_time": "2023-05-22T08:27:58.542Z"
   },
   {
    "duration": 0,
    "start_time": "2023-05-22T08:27:58.543Z"
   },
   {
    "duration": 0,
    "start_time": "2023-05-22T08:27:58.544Z"
   },
   {
    "duration": 0,
    "start_time": "2023-05-22T08:27:58.545Z"
   },
   {
    "duration": 0,
    "start_time": "2023-05-22T08:27:58.546Z"
   },
   {
    "duration": 0,
    "start_time": "2023-05-22T08:27:58.547Z"
   },
   {
    "duration": 0,
    "start_time": "2023-05-22T08:27:58.549Z"
   },
   {
    "duration": 0,
    "start_time": "2023-05-22T08:27:58.550Z"
   },
   {
    "duration": 0,
    "start_time": "2023-05-22T08:27:58.550Z"
   },
   {
    "duration": 0,
    "start_time": "2023-05-22T08:27:58.551Z"
   },
   {
    "duration": 0,
    "start_time": "2023-05-22T08:27:58.553Z"
   },
   {
    "duration": 0,
    "start_time": "2023-05-22T08:27:58.553Z"
   },
   {
    "duration": 312,
    "start_time": "2023-05-22T08:39:07.375Z"
   },
   {
    "duration": 9,
    "start_time": "2023-05-22T08:39:11.657Z"
   },
   {
    "duration": 405,
    "start_time": "2023-05-22T08:39:16.271Z"
   },
   {
    "duration": 8,
    "start_time": "2023-05-22T08:58:02.767Z"
   },
   {
    "duration": 6,
    "start_time": "2023-05-22T08:58:30.460Z"
   },
   {
    "duration": 6,
    "start_time": "2023-05-22T09:10:09.428Z"
   },
   {
    "duration": 6,
    "start_time": "2023-05-22T09:10:35.076Z"
   },
   {
    "duration": 297,
    "start_time": "2023-05-22T09:11:48.454Z"
   },
   {
    "duration": 271,
    "start_time": "2023-05-22T09:11:55.718Z"
   },
   {
    "duration": 185,
    "start_time": "2023-05-22T09:12:59.464Z"
   },
   {
    "duration": 10,
    "start_time": "2023-05-22T09:34:20.465Z"
   },
   {
    "duration": 10,
    "start_time": "2023-05-22T09:35:55.117Z"
   },
   {
    "duration": 12,
    "start_time": "2023-05-22T09:40:24.392Z"
   },
   {
    "duration": 9,
    "start_time": "2023-05-22T09:40:38.882Z"
   },
   {
    "duration": 10,
    "start_time": "2023-05-22T09:41:15.518Z"
   },
   {
    "duration": 9,
    "start_time": "2023-05-22T09:42:50.357Z"
   },
   {
    "duration": 14,
    "start_time": "2023-05-22T09:46:06.524Z"
   },
   {
    "duration": 16,
    "start_time": "2023-05-22T09:47:24.008Z"
   },
   {
    "duration": 11,
    "start_time": "2023-05-22T10:05:15.940Z"
   },
   {
    "duration": 219,
    "start_time": "2023-05-22T10:05:16.701Z"
   },
   {
    "duration": 4,
    "start_time": "2023-05-22T10:05:21.482Z"
   },
   {
    "duration": 128,
    "start_time": "2023-05-22T10:05:21.964Z"
   },
   {
    "duration": 18,
    "start_time": "2023-05-22T10:05:23.676Z"
   },
   {
    "duration": 354,
    "start_time": "2023-05-22T10:05:27.493Z"
   },
   {
    "duration": 7,
    "start_time": "2023-05-22T10:05:29.848Z"
   },
   {
    "duration": 170,
    "start_time": "2023-05-22T10:05:30.912Z"
   },
   {
    "duration": 6,
    "start_time": "2023-05-22T10:05:34.708Z"
   },
   {
    "duration": 100,
    "start_time": "2023-05-22T10:05:36.258Z"
   },
   {
    "duration": 170,
    "start_time": "2023-05-22T10:05:37.056Z"
   },
   {
    "duration": 18,
    "start_time": "2023-05-22T10:05:40.976Z"
   },
   {
    "duration": 290,
    "start_time": "2023-05-22T10:05:41.233Z"
   },
   {
    "duration": 5,
    "start_time": "2023-05-22T10:05:45.760Z"
   },
   {
    "duration": 120,
    "start_time": "2023-05-22T10:05:47.049Z"
   },
   {
    "duration": 24,
    "start_time": "2023-05-22T10:05:49.106Z"
   },
   {
    "duration": 378,
    "start_time": "2023-05-22T10:05:51.759Z"
   },
   {
    "duration": 18,
    "start_time": "2023-05-22T11:01:56.080Z"
   },
   {
    "duration": 12,
    "start_time": "2023-05-22T11:01:58.946Z"
   },
   {
    "duration": 510,
    "start_time": "2023-05-22T12:11:36.574Z"
   },
   {
    "duration": 95,
    "start_time": "2023-05-22T12:13:18.233Z"
   },
   {
    "duration": 1455,
    "start_time": "2023-05-22T12:13:56.432Z"
   },
   {
    "duration": 63,
    "start_time": "2023-05-22T12:13:57.889Z"
   },
   {
    "duration": 12,
    "start_time": "2023-05-22T12:13:57.954Z"
   },
   {
    "duration": 47,
    "start_time": "2023-05-22T12:13:57.967Z"
   },
   {
    "duration": 29,
    "start_time": "2023-05-22T12:13:58.015Z"
   },
   {
    "duration": 14,
    "start_time": "2023-05-22T12:13:58.046Z"
   },
   {
    "duration": 11,
    "start_time": "2023-05-22T12:13:58.061Z"
   },
   {
    "duration": 15,
    "start_time": "2023-05-22T12:13:58.074Z"
   },
   {
    "duration": 13,
    "start_time": "2023-05-22T12:13:58.091Z"
   },
   {
    "duration": 20,
    "start_time": "2023-05-22T12:13:58.110Z"
   },
   {
    "duration": 2011,
    "start_time": "2023-05-22T12:13:58.132Z"
   },
   {
    "duration": 918,
    "start_time": "2023-05-22T12:14:00.145Z"
   },
   {
    "duration": 1123,
    "start_time": "2023-05-22T12:14:01.065Z"
   },
   {
    "duration": 18,
    "start_time": "2023-05-22T12:14:02.189Z"
   },
   {
    "duration": 207,
    "start_time": "2023-05-22T12:14:02.212Z"
   },
   {
    "duration": 4,
    "start_time": "2023-05-22T12:14:02.420Z"
   },
   {
    "duration": 122,
    "start_time": "2023-05-22T12:14:02.426Z"
   },
   {
    "duration": 17,
    "start_time": "2023-05-22T12:14:02.550Z"
   },
   {
    "duration": 371,
    "start_time": "2023-05-22T12:14:02.569Z"
   },
   {
    "duration": 7,
    "start_time": "2023-05-22T12:14:02.942Z"
   },
   {
    "duration": 180,
    "start_time": "2023-05-22T12:14:02.950Z"
   },
   {
    "duration": 4,
    "start_time": "2023-05-22T12:14:03.132Z"
   },
   {
    "duration": 125,
    "start_time": "2023-05-22T12:14:03.138Z"
   },
   {
    "duration": 145,
    "start_time": "2023-05-22T12:14:03.264Z"
   },
   {
    "duration": 18,
    "start_time": "2023-05-22T12:14:03.411Z"
   },
   {
    "duration": 302,
    "start_time": "2023-05-22T12:14:03.431Z"
   },
   {
    "duration": 5,
    "start_time": "2023-05-22T12:14:03.735Z"
   },
   {
    "duration": 129,
    "start_time": "2023-05-22T12:14:03.743Z"
   },
   {
    "duration": 33,
    "start_time": "2023-05-22T12:14:03.874Z"
   },
   {
    "duration": 421,
    "start_time": "2023-05-22T12:14:03.908Z"
   },
   {
    "duration": 294,
    "start_time": "2023-05-22T12:14:04.331Z"
   },
   {
    "duration": 9,
    "start_time": "2023-05-22T12:14:04.627Z"
   },
   {
    "duration": 18,
    "start_time": "2023-05-22T12:14:04.637Z"
   },
   {
    "duration": 377,
    "start_time": "2023-05-22T12:14:04.658Z"
   },
   {
    "duration": 9,
    "start_time": "2023-05-22T12:14:05.037Z"
   },
   {
    "duration": 64,
    "start_time": "2023-05-22T12:14:05.048Z"
   },
   {
    "duration": 81,
    "start_time": "2023-05-22T12:15:34.628Z"
   },
   {
    "duration": 107,
    "start_time": "2023-05-22T12:15:48.481Z"
   },
   {
    "duration": 66,
    "start_time": "2023-05-22T12:17:09.432Z"
   },
   {
    "duration": 1885,
    "start_time": "2023-05-22T21:12:27.691Z"
   },
   {
    "duration": 87,
    "start_time": "2023-05-22T21:12:29.578Z"
   },
   {
    "duration": 12,
    "start_time": "2023-05-22T21:12:29.667Z"
   },
   {
    "duration": 19,
    "start_time": "2023-05-22T21:12:29.680Z"
   },
   {
    "duration": 19,
    "start_time": "2023-05-22T21:12:29.701Z"
   },
   {
    "duration": 14,
    "start_time": "2023-05-22T21:12:29.721Z"
   },
   {
    "duration": 10,
    "start_time": "2023-05-22T21:12:29.736Z"
   },
   {
    "duration": 10,
    "start_time": "2023-05-22T21:12:29.747Z"
   },
   {
    "duration": 5,
    "start_time": "2023-05-22T21:12:31.440Z"
   },
   {
    "duration": 21,
    "start_time": "2023-05-22T21:12:31.450Z"
   },
   {
    "duration": 1933,
    "start_time": "2023-05-22T21:12:31.473Z"
   },
   {
    "duration": 864,
    "start_time": "2023-05-22T21:12:33.408Z"
   },
   {
    "duration": 1141,
    "start_time": "2023-05-22T21:12:34.274Z"
   },
   {
    "duration": 10,
    "start_time": "2023-05-22T21:12:35.417Z"
   },
   {
    "duration": 187,
    "start_time": "2023-05-22T21:12:35.428Z"
   },
   {
    "duration": 4,
    "start_time": "2023-05-22T21:12:35.617Z"
   },
   {
    "duration": 108,
    "start_time": "2023-05-22T21:12:35.622Z"
   },
   {
    "duration": 16,
    "start_time": "2023-05-22T21:12:35.732Z"
   },
   {
    "duration": 307,
    "start_time": "2023-05-22T21:12:35.749Z"
   },
   {
    "duration": 6,
    "start_time": "2023-05-22T21:12:36.058Z"
   },
   {
    "duration": 159,
    "start_time": "2023-05-22T21:12:36.065Z"
   },
   {
    "duration": 4,
    "start_time": "2023-05-22T21:12:36.226Z"
   },
   {
    "duration": 100,
    "start_time": "2023-05-22T21:12:36.231Z"
   },
   {
    "duration": 132,
    "start_time": "2023-05-22T21:12:36.332Z"
   },
   {
    "duration": 16,
    "start_time": "2023-05-22T21:12:36.466Z"
   },
   {
    "duration": 307,
    "start_time": "2023-05-22T21:12:36.494Z"
   },
   {
    "duration": 4,
    "start_time": "2023-05-22T21:12:36.802Z"
   },
   {
    "duration": 112,
    "start_time": "2023-05-22T21:12:36.807Z"
   },
   {
    "duration": 18,
    "start_time": "2023-05-22T21:12:36.920Z"
   },
   {
    "duration": 391,
    "start_time": "2023-05-22T21:12:36.939Z"
   },
   {
    "duration": 273,
    "start_time": "2023-05-22T21:12:37.332Z"
   },
   {
    "duration": 9,
    "start_time": "2023-05-22T21:12:37.607Z"
   },
   {
    "duration": 7,
    "start_time": "2023-05-22T21:12:37.619Z"
   },
   {
    "duration": 327,
    "start_time": "2023-05-22T21:12:37.628Z"
   },
   {
    "duration": 9,
    "start_time": "2023-05-22T21:12:37.957Z"
   },
   {
    "duration": 107,
    "start_time": "2023-05-22T21:15:36.897Z"
   },
   {
    "duration": 324,
    "start_time": "2023-05-22T21:15:41.462Z"
   },
   {
    "duration": 186,
    "start_time": "2023-05-22T21:20:11.665Z"
   },
   {
    "duration": 186,
    "start_time": "2023-05-22T21:20:28.693Z"
   },
   {
    "duration": 10,
    "start_time": "2023-05-22T21:20:56.919Z"
   },
   {
    "duration": 253,
    "start_time": "2023-05-22T21:21:02.523Z"
   },
   {
    "duration": 1761,
    "start_time": "2023-06-05T05:44:25.533Z"
   },
   {
    "duration": 348,
    "start_time": "2023-06-05T05:44:27.296Z"
   },
   {
    "duration": 17,
    "start_time": "2023-06-05T05:44:27.645Z"
   },
   {
    "duration": 18,
    "start_time": "2023-06-05T05:44:27.664Z"
   },
   {
    "duration": 21,
    "start_time": "2023-06-05T05:44:27.684Z"
   },
   {
    "duration": 16,
    "start_time": "2023-06-05T05:44:27.706Z"
   },
   {
    "duration": 49,
    "start_time": "2023-06-05T05:44:27.724Z"
   },
   {
    "duration": 342,
    "start_time": "2023-06-05T05:44:30.275Z"
   },
   {
    "duration": 9,
    "start_time": "2023-06-05T05:44:30.619Z"
   },
   {
    "duration": 5,
    "start_time": "2023-06-05T05:44:30.629Z"
   },
   {
    "duration": 31,
    "start_time": "2023-06-05T05:44:30.635Z"
   },
   {
    "duration": 2233,
    "start_time": "2023-06-05T05:44:30.668Z"
   },
   {
    "duration": 861,
    "start_time": "2023-06-05T05:44:32.903Z"
   },
   {
    "duration": 1234,
    "start_time": "2023-06-05T05:44:33.766Z"
   },
   {
    "duration": 11,
    "start_time": "2023-06-05T05:44:35.003Z"
   },
   {
    "duration": 208,
    "start_time": "2023-06-05T05:44:35.016Z"
   },
   {
    "duration": 4,
    "start_time": "2023-06-05T05:44:35.225Z"
   },
   {
    "duration": 135,
    "start_time": "2023-06-05T05:44:35.231Z"
   },
   {
    "duration": 19,
    "start_time": "2023-06-05T05:44:35.368Z"
   },
   {
    "duration": 335,
    "start_time": "2023-06-05T05:44:35.389Z"
   },
   {
    "duration": 6,
    "start_time": "2023-06-05T05:44:35.727Z"
   },
   {
    "duration": 170,
    "start_time": "2023-06-05T05:44:35.735Z"
   },
   {
    "duration": 5,
    "start_time": "2023-06-05T05:44:35.907Z"
   },
   {
    "duration": 119,
    "start_time": "2023-06-05T05:44:35.913Z"
   },
   {
    "duration": 270,
    "start_time": "2023-06-05T05:44:36.034Z"
   },
   {
    "duration": 20,
    "start_time": "2023-06-05T05:44:36.306Z"
   },
   {
    "duration": 358,
    "start_time": "2023-06-05T05:44:36.328Z"
   },
   {
    "duration": 4,
    "start_time": "2023-06-05T05:44:36.688Z"
   },
   {
    "duration": 118,
    "start_time": "2023-06-05T05:44:36.694Z"
   },
   {
    "duration": 20,
    "start_time": "2023-06-05T05:44:36.813Z"
   },
   {
    "duration": 376,
    "start_time": "2023-06-05T05:44:36.835Z"
   },
   {
    "duration": 298,
    "start_time": "2023-06-05T05:44:37.213Z"
   },
   {
    "duration": 329,
    "start_time": "2023-06-05T05:44:37.512Z"
   },
   {
    "duration": 24,
    "start_time": "2023-06-05T05:44:37.843Z"
   },
   {
    "duration": 9,
    "start_time": "2023-06-05T05:44:37.870Z"
   },
   {
    "duration": 395,
    "start_time": "2023-06-05T05:44:37.881Z"
   },
   {
    "duration": 10,
    "start_time": "2023-06-05T05:44:38.278Z"
   },
   {
    "duration": 329,
    "start_time": "2023-06-05T05:48:15.586Z"
   },
   {
    "duration": 293,
    "start_time": "2023-06-05T05:54:40.013Z"
   }
  ],
  "kernelspec": {
   "display_name": "Python 3 (ipykernel)",
   "language": "python",
   "name": "python3"
  },
  "language_info": {
   "codemirror_mode": {
    "name": "ipython",
    "version": 3
   },
   "file_extension": ".py",
   "mimetype": "text/x-python",
   "name": "python",
   "nbconvert_exporter": "python",
   "pygments_lexer": "ipython3",
   "version": "3.9.5"
  },
  "toc": {
   "base_numbering": 1,
   "nav_menu": {},
   "number_sections": true,
   "sideBar": true,
   "skip_h1_title": true,
   "title_cell": "Table of Contents",
   "title_sidebar": "Contents",
   "toc_cell": false,
   "toc_position": {},
   "toc_section_display": true,
   "toc_window_display": false
  }
 },
 "nbformat": 4,
 "nbformat_minor": 2
}
