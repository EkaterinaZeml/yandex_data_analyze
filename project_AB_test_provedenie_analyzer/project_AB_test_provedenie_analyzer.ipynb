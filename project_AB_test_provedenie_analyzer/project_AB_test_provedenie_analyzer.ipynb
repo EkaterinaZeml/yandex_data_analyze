{
 "cells": [
  {
   "cell_type": "markdown",
   "metadata": {},
   "source": [
    "# Проведение и анализ А/В Теста"
   ]
  },
  {
   "cell_type": "markdown",
   "metadata": {},
   "source": [
    "# *Задача*\n",
    "Вместе с отделом маркетинга подготовлен список гипотез для увеличения выручки.\n",
    "Необходимо приоритизировать гипотезы, запустите A/B-тест и проанализировать результаты.\n",
    "# *Данные*\n",
    "список гипотез: файл (/datasets/hypothesis.csv)\n",
    "\n",
    "Hypothesis — краткое описание гипотезы;\n",
    "\n",
    "Reach — охват пользователей по 10-балльной шкале;\n",
    "\n",
    "Impact — влияние на пользователей по 10-балльной шкале;\n",
    "\n",
    "Confidence — уверенность в гипотезе по 10-балльной шкале;\n",
    "\n",
    "Efforts — затраты ресурсов на проверку гипотезы по 10-балльной шкале.\n",
    "\n",
    "*информация о заказах пользователей в интернет-магазине: файл (/datasets/orders.csv)*\n",
    "\n",
    "transactionId — идентификатор заказа;\n",
    "\n",
    "visitorId — идентификатор пользователя, совершившего заказ;\n",
    "\n",
    "date — дата, когда был совершён заказ;\n",
    "\n",
    "revenue — выручка заказа;\n",
    "\n",
    "group — группа A/B-теста, в которую попал заказ.\n",
    "\n",
    "*информация о посещениях пользователями интернет-магазина: файл (/datasets/visitors.csv)*\n",
    "\n",
    "date — дата;\n",
    "\n",
    "group — группа A/B-теста;\n",
    "\n",
    "visitors — количество пользователей в указанную дату в указанной группе A/B-теста.\n",
    "\n",
    "# *Ход работы*\n",
    "\n",
    "Часть 1. Приоритизация гипотез.\n",
    "\n",
    "1.1 Применить фреймворк ICE для приоритизации гипотез.\n",
    "\n",
    "1.2 Применить фреймворк RICE для приоритизации гипотез.\n",
    "\n",
    "1.3 Выводы о том как изменилась приоритизация гипотез при применении RICE вместо ICE. \n",
    "\n",
    "Часть 2. Анализ A/B-теста\n",
    "\n",
    "2.1 Изучение и предобработка данных A/B-теста.\n",
    "\n",
    "2.2 Анализ данных A/B-теста.\n",
    "\n",
    "Вывод"
   ]
  },
  {
   "cell_type": "code",
   "execution_count": 1,
   "metadata": {},
   "outputs": [],
   "source": [
    "# импортируем библиотеки\n",
    "\n",
    "import pandas as pd\n",
    "import numpy as np\n",
    "import matplotlib.pyplot as plt\n",
    "import seaborn as sns\n",
    "import math\n",
    "import datetime as dt\n",
    "import scipy.stats as stats\n",
    "import warnings\n",
    "\n",
    "from scipy import stats as st"
   ]
  },
  {
   "cell_type": "code",
   "execution_count": 2,
   "metadata": {},
   "outputs": [],
   "source": [
    "# снимаем ограничение на количество и ширину столбцов\n",
    "pd.set_option('display.max_columns', None)\n",
    "pd.set_option('display.max_colwidth', None)"
   ]
  },
  {
   "cell_type": "markdown",
   "metadata": {},
   "source": [
    "## 1 Часть. Приоритизация гипотез.\n",
    "\n",
    "### Примените фреймворк ICE для приоритизации гипотез."
   ]
  },
  {
   "cell_type": "code",
   "execution_count": 3,
   "metadata": {},
   "outputs": [],
   "source": [
    "#Откроем файл с данными, сохраним в переменной hypothesis, \n",
    "hypothesis = pd.read_csv('/datasets/hypothesis.csv')"
   ]
  },
  {
   "cell_type": "code",
   "execution_count": 4,
   "metadata": {
    "scrolled": false
   },
   "outputs": [
    {
     "name": "stdout",
     "output_type": "stream",
     "text": [
      "<class 'pandas.core.frame.DataFrame'>\n",
      "RangeIndex: 9 entries, 0 to 8\n",
      "Data columns (total 5 columns):\n",
      " #   Column      Non-Null Count  Dtype \n",
      "---  ------      --------------  ----- \n",
      " 0   Hypothesis  9 non-null      object\n",
      " 1   Reach       9 non-null      int64 \n",
      " 2   Impact      9 non-null      int64 \n",
      " 3   Confidence  9 non-null      int64 \n",
      " 4   Efforts     9 non-null      int64 \n",
      "dtypes: int64(4), object(1)\n",
      "memory usage: 488.0+ bytes\n"
     ]
    },
    {
     "data": {
      "text/html": [
       "<div>\n",
       "<style scoped>\n",
       "    .dataframe tbody tr th:only-of-type {\n",
       "        vertical-align: middle;\n",
       "    }\n",
       "\n",
       "    .dataframe tbody tr th {\n",
       "        vertical-align: top;\n",
       "    }\n",
       "\n",
       "    .dataframe thead th {\n",
       "        text-align: right;\n",
       "    }\n",
       "</style>\n",
       "<table border=\"1\" class=\"dataframe\">\n",
       "  <thead>\n",
       "    <tr style=\"text-align: right;\">\n",
       "      <th></th>\n",
       "      <th>Hypothesis</th>\n",
       "      <th>Reach</th>\n",
       "      <th>Impact</th>\n",
       "      <th>Confidence</th>\n",
       "      <th>Efforts</th>\n",
       "    </tr>\n",
       "  </thead>\n",
       "  <tbody>\n",
       "    <tr>\n",
       "      <th>0</th>\n",
       "      <td>Добавить два новых канала привлечения трафика, что позволит привлекать на 30% больше пользователей</td>\n",
       "      <td>3</td>\n",
       "      <td>10</td>\n",
       "      <td>8</td>\n",
       "      <td>6</td>\n",
       "    </tr>\n",
       "    <tr>\n",
       "      <th>1</th>\n",
       "      <td>Запустить собственную службу доставки, что сократит срок доставки заказов</td>\n",
       "      <td>2</td>\n",
       "      <td>5</td>\n",
       "      <td>4</td>\n",
       "      <td>10</td>\n",
       "    </tr>\n",
       "    <tr>\n",
       "      <th>2</th>\n",
       "      <td>Добавить блоки рекомендаций товаров на сайт интернет магазина, чтобы повысить конверсию и средний чек заказа</td>\n",
       "      <td>8</td>\n",
       "      <td>3</td>\n",
       "      <td>7</td>\n",
       "      <td>3</td>\n",
       "    </tr>\n",
       "    <tr>\n",
       "      <th>3</th>\n",
       "      <td>Изменить структура категорий, что увеличит конверсию, т.к. пользователи быстрее найдут нужный товар</td>\n",
       "      <td>8</td>\n",
       "      <td>3</td>\n",
       "      <td>3</td>\n",
       "      <td>8</td>\n",
       "    </tr>\n",
       "    <tr>\n",
       "      <th>4</th>\n",
       "      <td>Изменить цвет фона главной страницы, чтобы увеличить вовлеченность пользователей</td>\n",
       "      <td>3</td>\n",
       "      <td>1</td>\n",
       "      <td>1</td>\n",
       "      <td>1</td>\n",
       "    </tr>\n",
       "    <tr>\n",
       "      <th>5</th>\n",
       "      <td>Добавить страницу отзывов клиентов о магазине, что позволит увеличить количество заказов</td>\n",
       "      <td>3</td>\n",
       "      <td>2</td>\n",
       "      <td>2</td>\n",
       "      <td>3</td>\n",
       "    </tr>\n",
       "    <tr>\n",
       "      <th>6</th>\n",
       "      <td>Показать на главной странице баннеры с актуальными акциями и распродажами, чтобы увеличить конверсию</td>\n",
       "      <td>5</td>\n",
       "      <td>3</td>\n",
       "      <td>8</td>\n",
       "      <td>3</td>\n",
       "    </tr>\n",
       "    <tr>\n",
       "      <th>7</th>\n",
       "      <td>Добавить форму подписки на все основные страницы, чтобы собрать базу клиентов для email-рассылок</td>\n",
       "      <td>10</td>\n",
       "      <td>7</td>\n",
       "      <td>8</td>\n",
       "      <td>5</td>\n",
       "    </tr>\n",
       "    <tr>\n",
       "      <th>8</th>\n",
       "      <td>Запустить акцию, дающую скидку на товар в день рождения</td>\n",
       "      <td>1</td>\n",
       "      <td>9</td>\n",
       "      <td>9</td>\n",
       "      <td>5</td>\n",
       "    </tr>\n",
       "  </tbody>\n",
       "</table>\n",
       "</div>"
      ],
      "text/plain": [
       "                                                                                                     Hypothesis  \\\n",
       "0            Добавить два новых канала привлечения трафика, что позволит привлекать на 30% больше пользователей   \n",
       "1                                     Запустить собственную службу доставки, что сократит срок доставки заказов   \n",
       "2  Добавить блоки рекомендаций товаров на сайт интернет магазина, чтобы повысить конверсию и средний чек заказа   \n",
       "3           Изменить структура категорий, что увеличит конверсию, т.к. пользователи быстрее найдут нужный товар   \n",
       "4                              Изменить цвет фона главной страницы, чтобы увеличить вовлеченность пользователей   \n",
       "5                      Добавить страницу отзывов клиентов о магазине, что позволит увеличить количество заказов   \n",
       "6          Показать на главной странице баннеры с актуальными акциями и распродажами, чтобы увеличить конверсию   \n",
       "7              Добавить форму подписки на все основные страницы, чтобы собрать базу клиентов для email-рассылок   \n",
       "8                                                       Запустить акцию, дающую скидку на товар в день рождения   \n",
       "\n",
       "   Reach  Impact  Confidence  Efforts  \n",
       "0      3      10           8        6  \n",
       "1      2       5           4       10  \n",
       "2      8       3           7        3  \n",
       "3      8       3           3        8  \n",
       "4      3       1           1        1  \n",
       "5      3       2           2        3  \n",
       "6      5       3           8        3  \n",
       "7     10       7           8        5  \n",
       "8      1       9           9        5  "
      ]
     },
     "execution_count": 4,
     "metadata": {},
     "output_type": "execute_result"
    }
   ],
   "source": [
    "# обзор данных\n",
    "hypothesis.info()\n",
    "hypothesis"
   ]
  },
  {
   "cell_type": "code",
   "execution_count": 5,
   "metadata": {},
   "outputs": [
    {
     "data": {
      "text/html": [
       "<div>\n",
       "<style scoped>\n",
       "    .dataframe tbody tr th:only-of-type {\n",
       "        vertical-align: middle;\n",
       "    }\n",
       "\n",
       "    .dataframe tbody tr th {\n",
       "        vertical-align: top;\n",
       "    }\n",
       "\n",
       "    .dataframe thead th {\n",
       "        text-align: right;\n",
       "    }\n",
       "</style>\n",
       "<table border=\"1\" class=\"dataframe\">\n",
       "  <thead>\n",
       "    <tr style=\"text-align: right;\">\n",
       "      <th></th>\n",
       "      <th>hypothesis</th>\n",
       "      <th>reach</th>\n",
       "      <th>impact</th>\n",
       "      <th>confidence</th>\n",
       "      <th>efforts</th>\n",
       "    </tr>\n",
       "  </thead>\n",
       "  <tbody>\n",
       "    <tr>\n",
       "      <th>0</th>\n",
       "      <td>Добавить два новых канала привлечения трафика, что позволит привлекать на 30% больше пользователей</td>\n",
       "      <td>3</td>\n",
       "      <td>10</td>\n",
       "      <td>8</td>\n",
       "      <td>6</td>\n",
       "    </tr>\n",
       "    <tr>\n",
       "      <th>1</th>\n",
       "      <td>Запустить собственную службу доставки, что сократит срок доставки заказов</td>\n",
       "      <td>2</td>\n",
       "      <td>5</td>\n",
       "      <td>4</td>\n",
       "      <td>10</td>\n",
       "    </tr>\n",
       "    <tr>\n",
       "      <th>2</th>\n",
       "      <td>Добавить блоки рекомендаций товаров на сайт интернет магазина, чтобы повысить конверсию и средний чек заказа</td>\n",
       "      <td>8</td>\n",
       "      <td>3</td>\n",
       "      <td>7</td>\n",
       "      <td>3</td>\n",
       "    </tr>\n",
       "    <tr>\n",
       "      <th>3</th>\n",
       "      <td>Изменить структура категорий, что увеличит конверсию, т.к. пользователи быстрее найдут нужный товар</td>\n",
       "      <td>8</td>\n",
       "      <td>3</td>\n",
       "      <td>3</td>\n",
       "      <td>8</td>\n",
       "    </tr>\n",
       "    <tr>\n",
       "      <th>4</th>\n",
       "      <td>Изменить цвет фона главной страницы, чтобы увеличить вовлеченность пользователей</td>\n",
       "      <td>3</td>\n",
       "      <td>1</td>\n",
       "      <td>1</td>\n",
       "      <td>1</td>\n",
       "    </tr>\n",
       "  </tbody>\n",
       "</table>\n",
       "</div>"
      ],
      "text/plain": [
       "                                                                                                     hypothesis  \\\n",
       "0            Добавить два новых канала привлечения трафика, что позволит привлекать на 30% больше пользователей   \n",
       "1                                     Запустить собственную службу доставки, что сократит срок доставки заказов   \n",
       "2  Добавить блоки рекомендаций товаров на сайт интернет магазина, чтобы повысить конверсию и средний чек заказа   \n",
       "3           Изменить структура категорий, что увеличит конверсию, т.к. пользователи быстрее найдут нужный товар   \n",
       "4                              Изменить цвет фона главной страницы, чтобы увеличить вовлеченность пользователей   \n",
       "\n",
       "   reach  impact  confidence  efforts  \n",
       "0      3      10           8        6  \n",
       "1      2       5           4       10  \n",
       "2      8       3           7        3  \n",
       "3      8       3           3        8  \n",
       "4      3       1           1        1  "
      ]
     },
     "execution_count": 5,
     "metadata": {},
     "output_type": "execute_result"
    }
   ],
   "source": [
    "# Названия столбцов необходимо привести к хорошему стилю.\n",
    "hypothesis.columns = hypothesis.columns.str.lower()\n",
    "hypothesis.head(5)"
   ]
  },
  {
   "cell_type": "markdown",
   "metadata": {},
   "source": [
    "Загрузив данные мы видим, что каждый параметр в датафрейме hypothesis оценен по шкале от 0 до 10.\n",
    "Применим ICE - способ приоретизации задач."
   ]
  },
  {
   "cell_type": "code",
   "execution_count": 6,
   "metadata": {
    "scrolled": true
   },
   "outputs": [
    {
     "data": {
      "text/html": [
       "<div>\n",
       "<style scoped>\n",
       "    .dataframe tbody tr th:only-of-type {\n",
       "        vertical-align: middle;\n",
       "    }\n",
       "\n",
       "    .dataframe tbody tr th {\n",
       "        vertical-align: top;\n",
       "    }\n",
       "\n",
       "    .dataframe thead th {\n",
       "        text-align: right;\n",
       "    }\n",
       "</style>\n",
       "<table border=\"1\" class=\"dataframe\">\n",
       "  <thead>\n",
       "    <tr style=\"text-align: right;\">\n",
       "      <th></th>\n",
       "      <th>hypothesis</th>\n",
       "      <th>ice</th>\n",
       "    </tr>\n",
       "  </thead>\n",
       "  <tbody>\n",
       "    <tr>\n",
       "      <th>8</th>\n",
       "      <td>Запустить акцию, дающую скидку на товар в день рождения</td>\n",
       "      <td>16.200000</td>\n",
       "    </tr>\n",
       "    <tr>\n",
       "      <th>0</th>\n",
       "      <td>Добавить два новых канала привлечения трафика, что позволит привлекать на 30% больше пользователей</td>\n",
       "      <td>13.333333</td>\n",
       "    </tr>\n",
       "    <tr>\n",
       "      <th>7</th>\n",
       "      <td>Добавить форму подписки на все основные страницы, чтобы собрать базу клиентов для email-рассылок</td>\n",
       "      <td>11.200000</td>\n",
       "    </tr>\n",
       "    <tr>\n",
       "      <th>6</th>\n",
       "      <td>Показать на главной странице баннеры с актуальными акциями и распродажами, чтобы увеличить конверсию</td>\n",
       "      <td>8.000000</td>\n",
       "    </tr>\n",
       "  </tbody>\n",
       "</table>\n",
       "</div>"
      ],
      "text/plain": [
       "                                                                                             hypothesis  \\\n",
       "8                                               Запустить акцию, дающую скидку на товар в день рождения   \n",
       "0    Добавить два новых канала привлечения трафика, что позволит привлекать на 30% больше пользователей   \n",
       "7      Добавить форму подписки на все основные страницы, чтобы собрать базу клиентов для email-рассылок   \n",
       "6  Показать на главной странице баннеры с актуальными акциями и распродажами, чтобы увеличить конверсию   \n",
       "\n",
       "         ice  \n",
       "8  16.200000  \n",
       "0  13.333333  \n",
       "7  11.200000  \n",
       "6   8.000000  "
      ]
     },
     "execution_count": 6,
     "metadata": {},
     "output_type": "execute_result"
    }
   ],
   "source": [
    "hypothesis['ice'] = (hypothesis['impact'] * hypothesis['confidence']) / hypothesis['efforts']\n",
    "\n",
    "# Выведим первые 4 наиболее перспективные гипотезы\n",
    "hypothesis[['hypothesis', 'ice']].sort_values(by='ice', ascending=False).head(4)"
   ]
  },
  {
   "cell_type": "markdown",
   "metadata": {},
   "source": [
    "###  Примените фреймворк RICE для приоритизации гипотез."
   ]
  },
  {
   "cell_type": "code",
   "execution_count": 7,
   "metadata": {},
   "outputs": [],
   "source": [
    "hypothesis['rice'] = hypothesis['reach'] * hypothesis['impact'] * hypothesis['confidence'] / hypothesis['efforts']"
   ]
  },
  {
   "cell_type": "code",
   "execution_count": 8,
   "metadata": {},
   "outputs": [
    {
     "data": {
      "text/html": [
       "<div>\n",
       "<style scoped>\n",
       "    .dataframe tbody tr th:only-of-type {\n",
       "        vertical-align: middle;\n",
       "    }\n",
       "\n",
       "    .dataframe tbody tr th {\n",
       "        vertical-align: top;\n",
       "    }\n",
       "\n",
       "    .dataframe thead th {\n",
       "        text-align: right;\n",
       "    }\n",
       "</style>\n",
       "<table border=\"1\" class=\"dataframe\">\n",
       "  <thead>\n",
       "    <tr style=\"text-align: right;\">\n",
       "      <th></th>\n",
       "      <th>hypothesis</th>\n",
       "      <th>rice</th>\n",
       "    </tr>\n",
       "  </thead>\n",
       "  <tbody>\n",
       "    <tr>\n",
       "      <th>7</th>\n",
       "      <td>Добавить форму подписки на все основные страницы, чтобы собрать базу клиентов для email-рассылок</td>\n",
       "      <td>112.0</td>\n",
       "    </tr>\n",
       "    <tr>\n",
       "      <th>2</th>\n",
       "      <td>Добавить блоки рекомендаций товаров на сайт интернет магазина, чтобы повысить конверсию и средний чек заказа</td>\n",
       "      <td>56.0</td>\n",
       "    </tr>\n",
       "    <tr>\n",
       "      <th>0</th>\n",
       "      <td>Добавить два новых канала привлечения трафика, что позволит привлекать на 30% больше пользователей</td>\n",
       "      <td>40.0</td>\n",
       "    </tr>\n",
       "    <tr>\n",
       "      <th>6</th>\n",
       "      <td>Показать на главной странице баннеры с актуальными акциями и распродажами, чтобы увеличить конверсию</td>\n",
       "      <td>40.0</td>\n",
       "    </tr>\n",
       "  </tbody>\n",
       "</table>\n",
       "</div>"
      ],
      "text/plain": [
       "                                                                                                     hypothesis  \\\n",
       "7              Добавить форму подписки на все основные страницы, чтобы собрать базу клиентов для email-рассылок   \n",
       "2  Добавить блоки рекомендаций товаров на сайт интернет магазина, чтобы повысить конверсию и средний чек заказа   \n",
       "0            Добавить два новых канала привлечения трафика, что позволит привлекать на 30% больше пользователей   \n",
       "6          Показать на главной странице баннеры с актуальными акциями и распродажами, чтобы увеличить конверсию   \n",
       "\n",
       "    rice  \n",
       "7  112.0  \n",
       "2   56.0  \n",
       "0   40.0  \n",
       "6   40.0  "
      ]
     },
     "execution_count": 8,
     "metadata": {},
     "output_type": "execute_result"
    }
   ],
   "source": [
    "# Выведим первые 4 наиболее перспективные гипотезы\n",
    "hypothesis[['hypothesis', 'rice']].sort_values(by='rice', ascending=False).head(4)"
   ]
  },
  {
   "cell_type": "markdown",
   "metadata": {},
   "source": [
    "### Выводы о том как изменилась приоритизация гипотез при применении RICE вместо ICE.\n",
    "\n",
    "При применении метода ICE на первом месте оказалась гипотеза с индексом 8. За ней соотвественно расположились гипотезы с индексами 0, 7, 6.\n",
    "Если же вместо ICE применить метод RICE. На первое место выходит гипотеза с индексом 7. Это произошло потому что при расчете методом RICE появляется параметр reach - (скольких пользователей затронет изменение, которое вы хотите внести). И у гипотезы под индексом 7 он самый высокий и равен 10."
   ]
  },
  {
   "cell_type": "markdown",
   "metadata": {},
   "source": [
    "## 2 Часть. Анализ A/B-теста."
   ]
  },
  {
   "cell_type": "markdown",
   "metadata": {},
   "source": [
    "###  Изучение и предобработка данных A/B-теста."
   ]
  },
  {
   "cell_type": "code",
   "execution_count": 9,
   "metadata": {},
   "outputs": [],
   "source": [
    "#Откроем файлs с данными, сохраним в переменной orders и visitors.\n",
    "orders = pd.read_csv('/datasets/orders.csv')\n",
    "visitors = pd.read_csv('/datasets/visitors.csv')"
   ]
  },
  {
   "cell_type": "code",
   "execution_count": 10,
   "metadata": {},
   "outputs": [
    {
     "name": "stdout",
     "output_type": "stream",
     "text": [
      "<class 'pandas.core.frame.DataFrame'>\n",
      "RangeIndex: 1197 entries, 0 to 1196\n",
      "Data columns (total 5 columns):\n",
      " #   Column         Non-Null Count  Dtype \n",
      "---  ------         --------------  ----- \n",
      " 0   transactionId  1197 non-null   int64 \n",
      " 1   visitorId      1197 non-null   int64 \n",
      " 2   date           1197 non-null   object\n",
      " 3   revenue        1197 non-null   int64 \n",
      " 4   group          1197 non-null   object\n",
      "dtypes: int64(3), object(2)\n",
      "memory usage: 46.9+ KB\n"
     ]
    },
    {
     "data": {
      "text/html": [
       "<div>\n",
       "<style scoped>\n",
       "    .dataframe tbody tr th:only-of-type {\n",
       "        vertical-align: middle;\n",
       "    }\n",
       "\n",
       "    .dataframe tbody tr th {\n",
       "        vertical-align: top;\n",
       "    }\n",
       "\n",
       "    .dataframe thead th {\n",
       "        text-align: right;\n",
       "    }\n",
       "</style>\n",
       "<table border=\"1\" class=\"dataframe\">\n",
       "  <thead>\n",
       "    <tr style=\"text-align: right;\">\n",
       "      <th></th>\n",
       "      <th>transactionId</th>\n",
       "      <th>visitorId</th>\n",
       "      <th>date</th>\n",
       "      <th>revenue</th>\n",
       "      <th>group</th>\n",
       "    </tr>\n",
       "  </thead>\n",
       "  <tbody>\n",
       "    <tr>\n",
       "      <th>0</th>\n",
       "      <td>3667963787</td>\n",
       "      <td>3312258926</td>\n",
       "      <td>2019-08-15</td>\n",
       "      <td>1650</td>\n",
       "      <td>B</td>\n",
       "    </tr>\n",
       "    <tr>\n",
       "      <th>1</th>\n",
       "      <td>2804400009</td>\n",
       "      <td>3642806036</td>\n",
       "      <td>2019-08-15</td>\n",
       "      <td>730</td>\n",
       "      <td>B</td>\n",
       "    </tr>\n",
       "    <tr>\n",
       "      <th>2</th>\n",
       "      <td>2961555356</td>\n",
       "      <td>4069496402</td>\n",
       "      <td>2019-08-15</td>\n",
       "      <td>400</td>\n",
       "      <td>A</td>\n",
       "    </tr>\n",
       "    <tr>\n",
       "      <th>3</th>\n",
       "      <td>3797467345</td>\n",
       "      <td>1196621759</td>\n",
       "      <td>2019-08-15</td>\n",
       "      <td>9759</td>\n",
       "      <td>B</td>\n",
       "    </tr>\n",
       "    <tr>\n",
       "      <th>4</th>\n",
       "      <td>2282983706</td>\n",
       "      <td>2322279887</td>\n",
       "      <td>2019-08-15</td>\n",
       "      <td>2308</td>\n",
       "      <td>B</td>\n",
       "    </tr>\n",
       "    <tr>\n",
       "      <th>5</th>\n",
       "      <td>182168103</td>\n",
       "      <td>935554773</td>\n",
       "      <td>2019-08-15</td>\n",
       "      <td>2210</td>\n",
       "      <td>B</td>\n",
       "    </tr>\n",
       "    <tr>\n",
       "      <th>6</th>\n",
       "      <td>398296753</td>\n",
       "      <td>2900797465</td>\n",
       "      <td>2019-08-15</td>\n",
       "      <td>1860</td>\n",
       "      <td>B</td>\n",
       "    </tr>\n",
       "    <tr>\n",
       "      <th>7</th>\n",
       "      <td>2626614568</td>\n",
       "      <td>78758296</td>\n",
       "      <td>2019-08-15</td>\n",
       "      <td>1044</td>\n",
       "      <td>A</td>\n",
       "    </tr>\n",
       "    <tr>\n",
       "      <th>8</th>\n",
       "      <td>1576988021</td>\n",
       "      <td>295230930</td>\n",
       "      <td>2019-08-15</td>\n",
       "      <td>13710</td>\n",
       "      <td>A</td>\n",
       "    </tr>\n",
       "    <tr>\n",
       "      <th>9</th>\n",
       "      <td>1506739906</td>\n",
       "      <td>1882260405</td>\n",
       "      <td>2019-08-15</td>\n",
       "      <td>1855</td>\n",
       "      <td>B</td>\n",
       "    </tr>\n",
       "  </tbody>\n",
       "</table>\n",
       "</div>"
      ],
      "text/plain": [
       "   transactionId   visitorId        date  revenue group\n",
       "0     3667963787  3312258926  2019-08-15     1650     B\n",
       "1     2804400009  3642806036  2019-08-15      730     B\n",
       "2     2961555356  4069496402  2019-08-15      400     A\n",
       "3     3797467345  1196621759  2019-08-15     9759     B\n",
       "4     2282983706  2322279887  2019-08-15     2308     B\n",
       "5      182168103   935554773  2019-08-15     2210     B\n",
       "6      398296753  2900797465  2019-08-15     1860     B\n",
       "7     2626614568    78758296  2019-08-15     1044     A\n",
       "8     1576988021   295230930  2019-08-15    13710     A\n",
       "9     1506739906  1882260405  2019-08-15     1855     B"
      ]
     },
     "execution_count": 10,
     "metadata": {},
     "output_type": "execute_result"
    }
   ],
   "source": [
    "# обзор данных orders\n",
    "orders.info()\n",
    "orders.head(10)"
   ]
  },
  {
   "cell_type": "code",
   "execution_count": 11,
   "metadata": {},
   "outputs": [
    {
     "name": "stdout",
     "output_type": "stream",
     "text": [
      "<class 'pandas.core.frame.DataFrame'>\n",
      "RangeIndex: 62 entries, 0 to 61\n",
      "Data columns (total 3 columns):\n",
      " #   Column    Non-Null Count  Dtype \n",
      "---  ------    --------------  ----- \n",
      " 0   date      62 non-null     object\n",
      " 1   group     62 non-null     object\n",
      " 2   visitors  62 non-null     int64 \n",
      "dtypes: int64(1), object(2)\n",
      "memory usage: 1.6+ KB\n"
     ]
    },
    {
     "data": {
      "text/html": [
       "<div>\n",
       "<style scoped>\n",
       "    .dataframe tbody tr th:only-of-type {\n",
       "        vertical-align: middle;\n",
       "    }\n",
       "\n",
       "    .dataframe tbody tr th {\n",
       "        vertical-align: top;\n",
       "    }\n",
       "\n",
       "    .dataframe thead th {\n",
       "        text-align: right;\n",
       "    }\n",
       "</style>\n",
       "<table border=\"1\" class=\"dataframe\">\n",
       "  <thead>\n",
       "    <tr style=\"text-align: right;\">\n",
       "      <th></th>\n",
       "      <th>date</th>\n",
       "      <th>group</th>\n",
       "      <th>visitors</th>\n",
       "    </tr>\n",
       "  </thead>\n",
       "  <tbody>\n",
       "    <tr>\n",
       "      <th>0</th>\n",
       "      <td>2019-08-01</td>\n",
       "      <td>A</td>\n",
       "      <td>719</td>\n",
       "    </tr>\n",
       "    <tr>\n",
       "      <th>1</th>\n",
       "      <td>2019-08-02</td>\n",
       "      <td>A</td>\n",
       "      <td>619</td>\n",
       "    </tr>\n",
       "    <tr>\n",
       "      <th>2</th>\n",
       "      <td>2019-08-03</td>\n",
       "      <td>A</td>\n",
       "      <td>507</td>\n",
       "    </tr>\n",
       "    <tr>\n",
       "      <th>3</th>\n",
       "      <td>2019-08-04</td>\n",
       "      <td>A</td>\n",
       "      <td>717</td>\n",
       "    </tr>\n",
       "    <tr>\n",
       "      <th>4</th>\n",
       "      <td>2019-08-05</td>\n",
       "      <td>A</td>\n",
       "      <td>756</td>\n",
       "    </tr>\n",
       "    <tr>\n",
       "      <th>5</th>\n",
       "      <td>2019-08-06</td>\n",
       "      <td>A</td>\n",
       "      <td>667</td>\n",
       "    </tr>\n",
       "    <tr>\n",
       "      <th>6</th>\n",
       "      <td>2019-08-07</td>\n",
       "      <td>A</td>\n",
       "      <td>644</td>\n",
       "    </tr>\n",
       "    <tr>\n",
       "      <th>7</th>\n",
       "      <td>2019-08-08</td>\n",
       "      <td>A</td>\n",
       "      <td>610</td>\n",
       "    </tr>\n",
       "    <tr>\n",
       "      <th>8</th>\n",
       "      <td>2019-08-09</td>\n",
       "      <td>A</td>\n",
       "      <td>617</td>\n",
       "    </tr>\n",
       "    <tr>\n",
       "      <th>9</th>\n",
       "      <td>2019-08-10</td>\n",
       "      <td>A</td>\n",
       "      <td>406</td>\n",
       "    </tr>\n",
       "  </tbody>\n",
       "</table>\n",
       "</div>"
      ],
      "text/plain": [
       "         date group  visitors\n",
       "0  2019-08-01     A       719\n",
       "1  2019-08-02     A       619\n",
       "2  2019-08-03     A       507\n",
       "3  2019-08-04     A       717\n",
       "4  2019-08-05     A       756\n",
       "5  2019-08-06     A       667\n",
       "6  2019-08-07     A       644\n",
       "7  2019-08-08     A       610\n",
       "8  2019-08-09     A       617\n",
       "9  2019-08-10     A       406"
      ]
     },
     "execution_count": 11,
     "metadata": {},
     "output_type": "execute_result"
    }
   ],
   "source": [
    "# обзор данных visitors\n",
    "visitors.info()\n",
    "visitors.head(10)"
   ]
  },
  {
   "cell_type": "markdown",
   "metadata": {},
   "source": [
    "Ознакомившись с данными таблиц первое что необходимо сделать - заменить тип данных в столбцах date.\n",
    "Так же проверим таблицы на наличие пользователей, попавших в обе группах теста одновременно."
   ]
  },
  {
   "cell_type": "code",
   "execution_count": 12,
   "metadata": {},
   "outputs": [],
   "source": [
    "# Заменим тип данных в столбце date в обеих таблицах.\n",
    "visitors['date'] = pd.to_datetime(visitors['date'])\n",
    "orders['date'] = pd.to_datetime(orders['date'])\n"
   ]
  },
  {
   "cell_type": "code",
   "execution_count": 13,
   "metadata": {},
   "outputs": [
    {
     "name": "stdout",
     "output_type": "stream",
     "text": [
      "Количество пользователей в группе А: 557\n",
      "Количество пользователей в группе B: 640\n"
     ]
    }
   ],
   "source": [
    "# Найдем пользователей оказавшихся одновременнов обеих группах\n",
    "users_A = orders.query('group == \"A\"').reset_index(drop=True)\n",
    "users_B = orders.query('group == \"B\"').reset_index(drop=True)\n",
    "print('Количество пользователей в группе А:', users_A['visitorId'].count())\n",
    "print('Количество пользователей в группе B:', users_B['visitorId'].count())\n"
   ]
  },
  {
   "cell_type": "code",
   "execution_count": 14,
   "metadata": {},
   "outputs": [
    {
     "data": {
      "text/plain": [
       "array([ 963407295,  351125977, 3234906277,  237748145, 2038680547,\n",
       "       4256040402, 2712142231,    8300375,  276558944,  457167155,\n",
       "       3062433592, 2716752286, 1648269707,  199603092, 3803269165,\n",
       "       2686716486, 2579882178, 3984495233, 1668030113, 1738359350,\n",
       "       3717692402, 2458001652, 2378935119, 1294878855, 1404934699,\n",
       "       2587333274, 3202540741, 2954449915, 2927087541, 2600415354,\n",
       "       3951559397, 2044997962, 3972127743, 3957174400, 3891541246,\n",
       "       1230306981, 4266935830, 1614305549, 1333886533,  477780734,\n",
       "       1602967004, 1959144690, 1801183820, 4186807279, 3766097110,\n",
       "       2780786433, 1316129916,  393266494, 3941795274,  232979603,\n",
       "       4120364173, 3656415546, 4069496402, 2654030115,  818047933,\n",
       "       3963646447,  471551937, 2949041841])"
      ]
     },
     "execution_count": 14,
     "metadata": {},
     "output_type": "execute_result"
    }
   ],
   "source": [
    "visitor_A = users_A['visitorId'].tolist()\n",
    "dubl_visitor = users_B.query('visitorId in @visitor_A')\n",
    "list_user = dubl_visitor['visitorId'].unique() # Получили список пользователй которые есть вобеих группах\n",
    "list_user"
   ]
  },
  {
   "cell_type": "code",
   "execution_count": 15,
   "metadata": {},
   "outputs": [
    {
     "name": "stdout",
     "output_type": "stream",
     "text": [
      "<class 'pandas.core.frame.DataFrame'>\n",
      "Int64Index: 1016 entries, 0 to 1196\n",
      "Data columns (total 5 columns):\n",
      " #   Column         Non-Null Count  Dtype         \n",
      "---  ------         --------------  -----         \n",
      " 0   transactionId  1016 non-null   int64         \n",
      " 1   visitorId      1016 non-null   int64         \n",
      " 2   date           1016 non-null   datetime64[ns]\n",
      " 3   revenue        1016 non-null   int64         \n",
      " 4   group          1016 non-null   object        \n",
      "dtypes: datetime64[ns](1), int64(3), object(1)\n",
      "memory usage: 47.6+ KB\n"
     ]
    }
   ],
   "source": [
    "# Уберем этих пользователей из таблицы orders\n",
    "orders = orders.query('visitorId not in @list_user')\n",
    "orders.info()"
   ]
  },
  {
   "cell_type": "code",
   "execution_count": 16,
   "metadata": {},
   "outputs": [
    {
     "data": {
      "text/plain": [
       "0"
      ]
     },
     "metadata": {},
     "output_type": "display_data"
    },
    {
     "data": {
      "text/plain": [
       "0"
      ]
     },
     "execution_count": 16,
     "metadata": {},
     "output_type": "execute_result"
    }
   ],
   "source": [
    "# Проверим таблицы на наличие дубликатов\n",
    "display(orders.duplicated().sum())\n",
    "visitors.duplicated().sum()"
   ]
  },
  {
   "cell_type": "markdown",
   "metadata": {},
   "source": [
    "### Анализ данных A/B-теста."
   ]
  },
  {
   "cell_type": "markdown",
   "metadata": {},
   "source": [
    "1. *Построим график кумулятивной выручки по группам.*"
   ]
  },
  {
   "cell_type": "code",
   "execution_count": 17,
   "metadata": {},
   "outputs": [],
   "source": [
    "# создаем массив уникальных пар значений дат и групп теста\n",
    "datesGroups = orders[['date','group']].drop_duplicates()"
   ]
  },
  {
   "cell_type": "code",
   "execution_count": 18,
   "metadata": {},
   "outputs": [],
   "source": [
    "# получаем агрегированные кумулятивные по дням данные о заказах \n",
    "ordersAggregated = datesGroups.apply(\n",
    "    lambda x: orders[\n",
    "        np.logical_and(\n",
    "            orders['date'] <= x['date'], orders['group'] == x['group'])]\n",
    "    .agg(\n",
    "        {'date' : 'max', \n",
    "         'group' : 'max', \n",
    "         'transactionId' : 'nunique', \n",
    "         'visitorId' : 'nunique',\n",
    "         'revenue' : 'sum'}), axis=1).sort_values(by=['date','group'])"
   ]
  },
  {
   "cell_type": "code",
   "execution_count": 19,
   "metadata": {},
   "outputs": [],
   "source": [
    "# получаем агрегированные кумулятивные по дням данные о посетителях интернет-магазина \n",
    "visitorsAggregated = datesGroups.apply(\n",
    "    lambda x: visitors[\n",
    "        np.logical_and(\n",
    "            visitors['date'] <= x['date'], visitors['group'] == x['group'])]\n",
    "    .agg(\n",
    "        {'date' : 'max',\n",
    "         'group' : 'max',\n",
    "         'visitors' : 'sum'}), axis=1).sort_values(by=['date','group'])\n",
    "\n"
   ]
  },
  {
   "cell_type": "code",
   "execution_count": 20,
   "metadata": {},
   "outputs": [
    {
     "name": "stdout",
     "output_type": "stream",
     "text": [
      "        date group  orders  buyers  revenue  visitors\n",
      "0 2019-08-01     A      23      19   142779       719\n",
      "1 2019-08-01     B      17      17    59758       713\n",
      "2 2019-08-02     A      42      36   234381      1338\n",
      "3 2019-08-02     B      40      39   221801      1294\n",
      "4 2019-08-03     A      66      60   346854      1845\n"
     ]
    }
   ],
   "source": [
    "# объединяем кумулятивные данные в одной таблице и присваиваем ее столбцам понятные названия\n",
    "cumulativeData = ordersAggregated.merge(\n",
    "    visitorsAggregated, left_on=['date', 'group'], right_on=['date', 'group'])\n",
    "cumulativeData.columns = ['date', 'group', 'orders', 'buyers', 'revenue', 'visitors']\n",
    "\n",
    "print(cumulativeData.head(5)) "
   ]
  },
  {
   "cell_type": "code",
   "execution_count": 21,
   "metadata": {},
   "outputs": [
    {
     "data": {
      "image/png": "[encoded data removed]",
      "text/plain": [
       "<Figure size 720x360 with 1 Axes>"
      ]
     },
     "metadata": {
      "needs_background": "light"
     },
     "output_type": "display_data"
    }
   ],
   "source": [
    "# датафрейм с кумулятивным количеством заказов и кумулятивной выручкой по дням в группе А\n",
    "cumulativeRevenueA = cumulativeData[cumulativeData['group']=='A'][['date','revenue', 'orders']]\n",
    "\n",
    "# датафрейм с кумулятивным количеством заказов и кумулятивной выручкой по дням в группе B\n",
    "cumulativeRevenueB = cumulativeData[cumulativeData['group']=='B'][['date','revenue', 'orders']]\n",
    "\n",
    "plt.figure(figsize=(10,5))\n",
    "# Строим график выручки группы А\n",
    "plt.plot(cumulativeRevenueA['date'], cumulativeRevenueA['revenue'], label='A')\n",
    "\n",
    "# Строим график выручки группы B\n",
    "plt.plot(cumulativeRevenueB['date'], cumulativeRevenueB['revenue'], label='B')\n",
    "plt.title('График кумулятивной выручки по группам А и В')\n",
    "plt.ylabel(\"Выручка, млн.\")\n",
    "plt.legend()\n",
    "plt.show()"
   ]
  },
  {
   "cell_type": "markdown",
   "metadata": {},
   "source": [
    "Вывод: кумулятивная выручка группы В растет бысрее чем у группы А. У графика группы В есть точки резкого роста, это может говорить о всплесках числа заказов либо о появлении очень дорогих заказов."
   ]
  },
  {
   "cell_type": "markdown",
   "metadata": {},
   "source": [
    "2. *Построим график кумулятивного среднего чека по группам.*\n",
    "\n",
    "Чтобы построим графики среднего чека по группам — разделим кумулятивную выручку на кумулятивное число заказов."
   ]
  },
  {
   "cell_type": "code",
   "execution_count": 22,
   "metadata": {},
   "outputs": [
    {
     "data": {
      "image/png": "[encoded data removed]",
      "text/plain": [
       "<Figure size 720x360 with 1 Axes>"
      ]
     },
     "metadata": {
      "needs_background": "light"
     },
     "output_type": "display_data"
    }
   ],
   "source": [
    "plt.figure(figsize=(10,5))\n",
    "plt.plot(cumulativeRevenueA['date'], cumulativeRevenueA['revenue']/cumulativeRevenueA['orders'], label='A')\n",
    "plt.plot(cumulativeRevenueB['date'], cumulativeRevenueB['revenue']/cumulativeRevenueB['orders'], label='B')\n",
    "plt.title('График кумулятивного среднего чека по группам А и В')\n",
    "plt.ylabel(\"Выручка, млн.\")\n",
    "plt.legend()\n",
    "plt.show()"
   ]
  },
  {
   "cell_type": "markdown",
   "metadata": {},
   "source": [
    "Вывод: на графике среднегго чека для группы В гдето 18 августа также наблюдаем резкий скачок средненго чека. Видимо в группе В в этот день были сделаны очень крупные заказы. Потом средний чек начинает падаеть. Это падение наблюдается и к концу теста. В группе А средний чек к концу теста становится равномерным. Но для группы В средний чек все же гораздо выше. "
   ]
  },
  {
   "cell_type": "markdown",
   "metadata": {},
   "source": [
    "3. *Построим график относительного изменения кумулятивного среднего чека группы B к группе A.*"
   ]
  },
  {
   "cell_type": "code",
   "execution_count": 23,
   "metadata": {},
   "outputs": [
    {
     "data": {
      "image/png": "[encoded data removed]",
      "text/plain": [
       "<Figure size 720x360 with 1 Axes>"
      ]
     },
     "metadata": {
      "needs_background": "light"
     },
     "output_type": "display_data"
    }
   ],
   "source": [
    "# собираем данные в одном датафрейме\n",
    "mergedCumulativeRevenue = cumulativeRevenueA.merge(cumulativeRevenueB, left_on='date', right_on='date', how='left', suffixes=['A', 'B'])\n",
    "\n",
    "plt.figure(figsize=(10,5))\n",
    "# cтроим отношение средних чеков\n",
    "plt.plot(mergedCumulativeRevenue['date'], (mergedCumulativeRevenue['revenueB']/mergedCumulativeRevenue['ordersB'])/(mergedCumulativeRevenue['revenueA']/mergedCumulativeRevenue['ordersA'])-1)\n",
    "\n",
    "# добавляем ось X\n",
    "plt.axhline(y=0, color='black', linestyle='--') \n",
    "plt.title('График относительного изменения кумулятивного среднего чека группы B к группе A')\n",
    "plt.xticks(rotation=45)\n",
    "plt.show()\n"
   ]
  },
  {
   "cell_type": "markdown",
   "metadata": {},
   "source": [
    "В нескольких точках график различия между сегментами резко «скачет». Точно где то спрятались крупные заказы и выбросы."
   ]
  },
  {
   "cell_type": "markdown",
   "metadata": {},
   "source": [
    "4. *Постройте график кумулятивного среднего количества заказов на посетителя по группам.*"
   ]
  },
  {
   "cell_type": "code",
   "execution_count": 24,
   "metadata": {},
   "outputs": [
    {
     "data": {
      "image/png": "[encoded data removed]",
      "text/plain": [
       "<Figure size 720x360 with 1 Axes>"
      ]
     },
     "metadata": {
      "needs_background": "light"
     },
     "output_type": "display_data"
    }
   ],
   "source": [
    "# считаем кумулятивную конверсию\n",
    "cumulativeData['conversion'] = cumulativeData['orders']/cumulativeData['visitors']\n",
    "\n",
    "# отделяем данные по группе A\n",
    "cumulativeDataA = cumulativeData[cumulativeData['group']=='A']\n",
    "\n",
    "# отделяем данные по группе B\n",
    "cumulativeDataB = cumulativeData[cumulativeData['group']=='B']\n",
    "\n",
    "# строим графики\n",
    "plt.figure(figsize=(10,5))\n",
    "plt.plot(cumulativeDataA['date'], cumulativeDataA['conversion'], label='A')\n",
    "plt.plot(cumulativeDataB['date'], cumulativeDataB['conversion'], label='B')\n",
    "plt.legend()\n",
    "plt.title('Кумулятивная конверсия по группам')\n",
    "plt.ylabel('Конверсия')\n",
    "plt.xticks(rotation=45)\n",
    "plt.show()\n"
   ]
  },
  {
   "cell_type": "markdown",
   "metadata": {},
   "source": [
    "Вывод: после 3 августа конверсия группы А пошла на спад. 6 августа она сравнялись с Группой В. Затем группа В продолжила  расти, а конверсия группы А продолжила падать."
   ]
  },
  {
   "cell_type": "markdown",
   "metadata": {},
   "source": [
    "5. *Построим график относительного изменения кумулятивного среднего количества заказов на посетителя группы B к группе A.*"
   ]
  },
  {
   "cell_type": "code",
   "execution_count": 25,
   "metadata": {},
   "outputs": [
    {
     "data": {
      "image/png": "[encoded data removed]",
      "text/plain": [
       "<Figure size 720x360 with 1 Axes>"
      ]
     },
     "metadata": {
      "needs_background": "light"
     },
     "output_type": "display_data"
    }
   ],
   "source": [
    "mergedCumulativeConversions = cumulativeDataA[['date','conversion']].merge(cumulativeDataB[['date','conversion']], left_on='date', right_on='date', how='left', suffixes=['A', 'B'])\n",
    "plt.figure(figsize=(10,5))\n",
    "plt.plot(mergedCumulativeConversions['date'], mergedCumulativeConversions['conversionB']/mergedCumulativeConversions['conversionA']-1, label=\"Относительный прирост конверсии группы B относительно группы A\")\n",
    "\n",
    "plt.axhline(y=0, color='black', linestyle='--')\n",
    "plt.axhline(y=0.1, color='grey', linestyle='--')\n",
    "plt.legend()\n",
    "plt.title('Относительный прирост конверсии группы B относительно группы A')\n",
    "plt.ylabel('Конверсия')\n",
    "plt.xticks(rotation=45)\n",
    "plt.show()\n",
    "\n"
   ]
  },
  {
   "cell_type": "markdown",
   "metadata": {},
   "source": [
    "В начале теста группа B значительно проигрывала группе A, затем вырвалась вперёд. Потом её конверсия снова временами падала, но теперь постепенно растёт.\n",
    "Впрочем, сперва стоит проанализировать аномалии, возможно, они изменят картину.\n",
    "И проанализировать данные после чистки от выбросов еще раз."
   ]
  },
  {
   "cell_type": "markdown",
   "metadata": {},
   "source": [
    "5. *Построим точечный график количества заказов по пользователям.*"
   ]
  },
  {
   "cell_type": "code",
   "execution_count": 26,
   "metadata": {},
   "outputs": [
    {
     "data": {
      "image/png": "[encoded data removed]",
      "text/plain": [
       "<Figure size 432x288 with 1 Axes>"
      ]
     },
     "metadata": {
      "needs_background": "light"
     },
     "output_type": "display_data"
    }
   ],
   "source": [
    "# Изучим гистограмму распределения стоимостей заказов.\n",
    "# сгруппируем таблицу orders по пользователям и посчитаем количество заказов \n",
    "# на каждого пользователя\n",
    "orders_users = (orders.groupby('visitorId', as_index=False)\n",
    "    .agg({'transactionId': 'nunique'})\n",
    ")\n",
    "orders_users.columns =  ['visitorId', 'orders']\n",
    "\n",
    "# строим гистограмму Распределение количества заказов по пользователям:\n",
    "plt.hist(orders_users['orders']) \n",
    "plt.title('Распределение количества заказов по пользователям')\n",
    "plt.xlabel('Количество заказов')\n",
    "\n",
    "plt.show()\n",
    "    "
   ]
  },
  {
   "cell_type": "code",
   "execution_count": 27,
   "metadata": {},
   "outputs": [
    {
     "data": {
      "image/png": "[encoded data removed]",
      "text/plain": [
       "<Figure size 720x360 with 1 Axes>"
      ]
     },
     "metadata": {
      "needs_background": "light"
     },
     "output_type": "display_data"
    }
   ],
   "source": [
    "x_values = pd.Series(range(0,len(orders_users)))\n",
    "\n",
    "# строим точечную диаграмму\n",
    "plt.figure(figsize=(10,5))\n",
    "plt.scatter(x_values, orders_users['orders'])\n",
    "plt.title('Распределение количества заказов по пользователям')\n",
    "plt.show()"
   ]
  },
  {
   "cell_type": "markdown",
   "metadata": {},
   "source": [
    "В основном пользователи оформляли по 1 заказу, но те кто успели оформить от 2 до 3 заказов. Их точная доля не ясна — непонятно, считать их аномалиями или нет. "
   ]
  },
  {
   "cell_type": "markdown",
   "metadata": {},
   "source": [
    "7.*Посчитаем 95-й и 99-й перцентили количества заказов на пользователя.*"
   ]
  },
  {
   "cell_type": "code",
   "execution_count": 28,
   "metadata": {},
   "outputs": [
    {
     "name": "stdout",
     "output_type": "stream",
     "text": [
      "[1. 2.]\n"
     ]
    }
   ],
   "source": [
    "print(np.percentile( orders_users['orders'], [95, 99]))"
   ]
  },
  {
   "cell_type": "markdown",
   "metadata": {},
   "source": [
    "Только  1% пользователей оформляли 2 заказа и больше."
   ]
  },
  {
   "cell_type": "markdown",
   "metadata": {},
   "source": [
    "8. *Постройте точечный график стоимостей заказов.*"
   ]
  },
  {
   "cell_type": "code",
   "execution_count": 29,
   "metadata": {},
   "outputs": [
    {
     "data": {
      "image/png": "[encoded data removed]",
      "text/plain": [
       "<Figure size 720x360 with 1 Axes>"
      ]
     },
     "metadata": {
      "needs_background": "light"
     },
     "output_type": "display_data"
    }
   ],
   "source": [
    "x_values = pd.Series(range(0,len(orders['revenue'])))\n",
    "plt.figure(figsize=(10,5))\n",
    "plt.scatter(x_values, orders['revenue']) \n",
    "plt.title('Распределение стоимости заказов по пользователям')\n",
    "plt.show()"
   ]
  },
  {
   "cell_type": "markdown",
   "metadata": {},
   "source": [
    "На графике виден этот аномальный заказ, который вызвал всплеск на графиках кумулятивных метрик."
   ]
  },
  {
   "cell_type": "code",
   "execution_count": 30,
   "metadata": {},
   "outputs": [
    {
     "data": {
      "image/png": "[encoded data removed]",
      "text/plain": [
       "<Figure size 720x360 with 1 Axes>"
      ]
     },
     "metadata": {
      "needs_background": "light"
     },
     "output_type": "display_data"
    }
   ],
   "source": [
    "# Оценим аналогичный график без двух крупных выбросов.\n",
    "plt.figure(figsize=(10,5))\n",
    "plt.ylim(0, 150000)\n",
    "plt.scatter(x_values, orders['revenue'])\n",
    "plt.title('Распределение стоимости заказов по пользователям')\n",
    "plt.show()"
   ]
  },
  {
   "cell_type": "markdown",
   "metadata": {},
   "source": [
    "Картина более ясная. Основнаячя масса заказов в пределах 20000."
   ]
  },
  {
   "cell_type": "markdown",
   "metadata": {},
   "source": [
    "9. *Посчитаем 95-й и 99-й перцентили стоимости заказов.*"
   ]
  },
  {
   "cell_type": "code",
   "execution_count": 31,
   "metadata": {},
   "outputs": [
    {
     "name": "stdout",
     "output_type": "stream",
     "text": [
      "[26785. 53904.]\n"
     ]
    }
   ],
   "source": [
    "print(np.percentile(orders['revenue'], [95, 99]))"
   ]
  },
  {
   "cell_type": "markdown",
   "metadata": {},
   "source": [
    "Выберим границу для определения аномальных заказов в 53904. "
   ]
  },
  {
   "cell_type": "markdown",
   "metadata": {},
   "source": [
    "10. *Посчитайте статистическую значимость различий в среднем количестве заказов на посетителя между группами по «сырым» данным.*\n",
    "\n",
    "Посчитаем статистическую значимость различий в среднем числе заказов на пользователя и среднем чеке между группами по «сырым» данным — без удаления аномальных пользователей.\n",
    "Сформулируем гипотезы. Нулевая: различий в среднем количестве заказов между группами нет. Альтернативная: различия в среднем между группами есть."
   ]
  },
  {
   "cell_type": "code",
   "execution_count": 32,
   "metadata": {},
   "outputs": [
    {
     "data": {
      "text/html": [
       "<div>\n",
       "<style scoped>\n",
       "    .dataframe tbody tr th:only-of-type {\n",
       "        vertical-align: middle;\n",
       "    }\n",
       "\n",
       "    .dataframe tbody tr th {\n",
       "        vertical-align: top;\n",
       "    }\n",
       "\n",
       "    .dataframe thead th {\n",
       "        text-align: right;\n",
       "    }\n",
       "</style>\n",
       "<table border=\"1\" class=\"dataframe\">\n",
       "  <thead>\n",
       "    <tr style=\"text-align: right;\">\n",
       "      <th></th>\n",
       "      <th>date</th>\n",
       "      <th>ordersPerDateA</th>\n",
       "      <th>revenuePerDateA</th>\n",
       "      <th>ordersPerDateB</th>\n",
       "      <th>revenuePerDateB</th>\n",
       "      <th>ordersCummulativeA</th>\n",
       "      <th>revenueCummulativeA</th>\n",
       "      <th>ordersCummulativeB</th>\n",
       "      <th>revenueCummulativeB</th>\n",
       "      <th>visitorsPerDateA</th>\n",
       "      <th>visitorsPerDateB</th>\n",
       "      <th>visitorsCummulativeA</th>\n",
       "      <th>visitorsCummulativeB</th>\n",
       "    </tr>\n",
       "  </thead>\n",
       "  <tbody>\n",
       "    <tr>\n",
       "      <th>0</th>\n",
       "      <td>2019-08-01</td>\n",
       "      <td>23</td>\n",
       "      <td>142779</td>\n",
       "      <td>17</td>\n",
       "      <td>59758</td>\n",
       "      <td>23</td>\n",
       "      <td>142779</td>\n",
       "      <td>17</td>\n",
       "      <td>59758</td>\n",
       "      <td>719</td>\n",
       "      <td>713</td>\n",
       "      <td>719</td>\n",
       "      <td>713</td>\n",
       "    </tr>\n",
       "    <tr>\n",
       "      <th>1</th>\n",
       "      <td>2019-08-02</td>\n",
       "      <td>19</td>\n",
       "      <td>91602</td>\n",
       "      <td>23</td>\n",
       "      <td>162043</td>\n",
       "      <td>42</td>\n",
       "      <td>234381</td>\n",
       "      <td>40</td>\n",
       "      <td>221801</td>\n",
       "      <td>619</td>\n",
       "      <td>581</td>\n",
       "      <td>1338</td>\n",
       "      <td>1294</td>\n",
       "    </tr>\n",
       "    <tr>\n",
       "      <th>2</th>\n",
       "      <td>2019-08-03</td>\n",
       "      <td>24</td>\n",
       "      <td>112473</td>\n",
       "      <td>14</td>\n",
       "      <td>67049</td>\n",
       "      <td>66</td>\n",
       "      <td>346854</td>\n",
       "      <td>54</td>\n",
       "      <td>288850</td>\n",
       "      <td>507</td>\n",
       "      <td>509</td>\n",
       "      <td>1845</td>\n",
       "      <td>1803</td>\n",
       "    </tr>\n",
       "    <tr>\n",
       "      <th>3</th>\n",
       "      <td>2019-08-04</td>\n",
       "      <td>11</td>\n",
       "      <td>41176</td>\n",
       "      <td>14</td>\n",
       "      <td>96890</td>\n",
       "      <td>77</td>\n",
       "      <td>388030</td>\n",
       "      <td>68</td>\n",
       "      <td>385740</td>\n",
       "      <td>717</td>\n",
       "      <td>770</td>\n",
       "      <td>2562</td>\n",
       "      <td>2573</td>\n",
       "    </tr>\n",
       "    <tr>\n",
       "      <th>4</th>\n",
       "      <td>2019-08-05</td>\n",
       "      <td>22</td>\n",
       "      <td>86383</td>\n",
       "      <td>21</td>\n",
       "      <td>89908</td>\n",
       "      <td>99</td>\n",
       "      <td>474413</td>\n",
       "      <td>89</td>\n",
       "      <td>475648</td>\n",
       "      <td>756</td>\n",
       "      <td>707</td>\n",
       "      <td>3318</td>\n",
       "      <td>3280</td>\n",
       "    </tr>\n",
       "  </tbody>\n",
       "</table>\n",
       "</div>"
      ],
      "text/plain": [
       "        date  ordersPerDateA  revenuePerDateA  ordersPerDateB  \\\n",
       "0 2019-08-01              23           142779              17   \n",
       "1 2019-08-02              19            91602              23   \n",
       "2 2019-08-03              24           112473              14   \n",
       "3 2019-08-04              11            41176              14   \n",
       "4 2019-08-05              22            86383              21   \n",
       "\n",
       "   revenuePerDateB  ordersCummulativeA  revenueCummulativeA  \\\n",
       "0            59758                  23               142779   \n",
       "1           162043                  42               234381   \n",
       "2            67049                  66               346854   \n",
       "3            96890                  77               388030   \n",
       "4            89908                  99               474413   \n",
       "\n",
       "   ordersCummulativeB  revenueCummulativeB  visitorsPerDateA  \\\n",
       "0                  17                59758               719   \n",
       "1                  40               221801               619   \n",
       "2                  54               288850               507   \n",
       "3                  68               385740               717   \n",
       "4                  89               475648               756   \n",
       "\n",
       "   visitorsPerDateB  visitorsCummulativeA  visitorsCummulativeB  \n",
       "0               713                   719                   713  \n",
       "1               581                  1338                  1294  \n",
       "2               509                  1845                  1803  \n",
       "3               770                  2562                  2573  \n",
       "4               707                  3318                  3280  "
      ]
     },
     "execution_count": 32,
     "metadata": {},
     "output_type": "execute_result"
    }
   ],
   "source": [
    "visitorsADaily = visitors[visitors['group'] == 'A'][['date', 'visitors']]\n",
    "visitorsADaily.columns = ['date', 'visitorsPerDateA']\n",
    "\n",
    "visitorsACummulative = visitorsADaily.apply(\n",
    "    lambda x: visitorsADaily[visitorsADaily['date'] <= x['date']].agg(\n",
    "        {'date': 'max', 'visitorsPerDateA': 'sum'}\n",
    "    ),\n",
    "    axis=1,\n",
    ")\n",
    "visitorsACummulative.columns = ['date', 'visitorsCummulativeA']\n",
    "\n",
    "visitorsBDaily = visitors[visitors['group'] == 'B'][['date', 'visitors']]\n",
    "visitorsBDaily.columns = ['date', 'visitorsPerDateB']\n",
    "\n",
    "visitorsBCummulative = visitorsBDaily.apply(\n",
    "    lambda x: visitorsBDaily[visitorsBDaily['date'] <= x['date']].agg(\n",
    "        {'date': 'max', 'visitorsPerDateB': 'sum'}\n",
    "    ),\n",
    "    axis=1,\n",
    ")\n",
    "visitorsBCummulative.columns = ['date', 'visitorsCummulativeB']\n",
    "\n",
    "ordersADaily = (\n",
    "    orders[orders['group'] == 'A'][['date', 'transactionId', 'visitorId', 'revenue']]\n",
    "    .groupby('date', as_index=False)\n",
    "    .agg({'transactionId': pd.Series.nunique, 'revenue': 'sum'})\n",
    ")\n",
    "ordersADaily.columns = ['date', 'ordersPerDateA', 'revenuePerDateA']\n",
    "\n",
    "ordersACummulative = ordersADaily.apply(\n",
    "    lambda x: ordersADaily[ordersADaily['date'] <= x['date']].agg(\n",
    "        {'date': 'max', 'ordersPerDateA': 'sum', 'revenuePerDateA': 'sum'}\n",
    "    ),\n",
    "    axis=1,\n",
    ").sort_values(by=['date'])\n",
    "ordersACummulative.columns = [\n",
    "    'date',\n",
    "    'ordersCummulativeA',\n",
    "    'revenueCummulativeA',\n",
    "]\n",
    "\n",
    "\n",
    "ordersBDaily = (\n",
    "    orders[orders['group'] == 'B'][['date', 'transactionId', 'visitorId', 'revenue']]\n",
    "    .groupby('date', as_index=False)\n",
    "    .agg({'transactionId': pd.Series.nunique, 'revenue': 'sum'})\n",
    ")\n",
    "ordersBDaily.columns = ['date', 'ordersPerDateB', 'revenuePerDateB']\n",
    "\n",
    "ordersBCummulative = ordersBDaily.apply(\n",
    "    lambda x: ordersBDaily[ordersBDaily['date'] <= x['date']].agg(\n",
    "        {'date': 'max', 'ordersPerDateB': 'sum', 'revenuePerDateB': 'sum'}\n",
    "    ),\n",
    "    axis=1,\n",
    ").sort_values(by=['date'])\n",
    "ordersBCummulative.columns = [\n",
    "    'date',\n",
    "    'ordersCummulativeB',\n",
    "    'revenueCummulativeB',\n",
    "]\n",
    "\n",
    "data = (\n",
    "    ordersADaily.merge(\n",
    "        ordersBDaily, left_on='date', right_on='date', how='left'\n",
    "    )\n",
    "    .merge(ordersACummulative, left_on='date', right_on='date', how='left')\n",
    "    .merge(ordersBCummulative, left_on='date', right_on='date', how='left')\n",
    "    .merge(visitorsADaily, left_on='date', right_on='date', how='left')\n",
    "    .merge(visitorsBDaily, left_on='date', right_on='date', how='left')\n",
    "    .merge(visitorsACummulative, left_on='date', right_on='date', how='left')\n",
    "    .merge(visitorsBCummulative, left_on='date', right_on='date', how='left')\n",
    ")\n",
    "\n",
    "data.head(5)\n"
   ]
  },
  {
   "cell_type": "markdown",
   "metadata": {},
   "source": [
    "Напомним названия столбцов данных:\n",
    "date — дата;\n",
    "\n",
    "ordersPerDateA — количество заказов в выбранную дату в группе A;\n",
    "\n",
    "revenuePerDateA — суммарная выручка в выбранную дату в группе A;\n",
    "\n",
    "ordersPerDateB — количество заказов в выбранную дату в группе B;\n",
    "\n",
    "revenuePerDateB — суммарная выручка в выбранную дату в группе B;\n",
    "\n",
    "ordersCummulativeA — суммарное число заказов до выбранной даты включительно в группе A;\n",
    "\n",
    "revenueCummulativeA — суммарная выручка до выбранной даты включительно в группе A;\n",
    "\n",
    "ordersCummulativeB — суммарное количество заказов до выбранной даты включительно в группе B;\n",
    "\n",
    "revenueCummulativeB — суммарная выручка до выбранной даты включительно в группе B;\n",
    "\n",
    "visitorsPerDateA — количество пользователей в выбранную дату в группе A;\n",
    "\n",
    "visitorsPerDateB — количество пользователей в выбранную дату в группе B;\n",
    "\n",
    "visitorsCummulativeA — количество пользователей до выбранной даты включительно в группе A;\n",
    "\n",
    "visitorsCummulativeB — количество пользователей до выбранной даты включительно в группе B.\n",
    "\n",
    "Посчитаем статистическую значимость различия в среднем количестве заказов между группами.\n",
    "\n",
    "Создадим переменные ordersByUsersA и ordersByUsersB со столбцами ['userId', 'orders']. В них для пользователей, которые заказывали хотя бы 1 раз, укажем число совершённых заказов. "
   ]
  },
  {
   "cell_type": "code",
   "execution_count": 33,
   "metadata": {},
   "outputs": [],
   "source": [
    "ordersByUsersA = (\n",
    "    orders[orders['group'] == 'A']\n",
    "    .groupby('visitorId', as_index=False)\n",
    "    .agg({'transactionId': pd.Series.nunique})\n",
    ")\n",
    "ordersByUsersA.columns = ['userId', 'orders']\n",
    "\n",
    "ordersByUsersB = (\n",
    "    orders[orders['group'] == 'B']\n",
    "    .groupby('visitorId', as_index=False)\n",
    "    .agg({'transactionId': pd.Series.nunique})\n",
    ")\n",
    "ordersByUsersB.columns = ['userId', 'orders'] "
   ]
  },
  {
   "cell_type": "markdown",
   "metadata": {},
   "source": [
    "Объявим переменные sampleA и sampleB, в которых пользователям из разных групп будет соответствовать количество заказов. Тем, кто ничего не заказал, будут соответствовать нули. Это нужно, чтобы подготовить выборки к проверке критерием Манна-Уитни."
   ]
  },
  {
   "cell_type": "code",
   "execution_count": 41,
   "metadata": {},
   "outputs": [
    {
     "data": {
      "text/plain": [
       "0        1\n",
       "1        1\n",
       "2        1\n",
       "3        1\n",
       "4        1\n",
       "        ..\n",
       "18286    0\n",
       "18287    0\n",
       "18288    0\n",
       "18289    0\n",
       "18290    0\n",
       "Name: orders, Length: 18736, dtype: int64"
      ]
     },
     "execution_count": 41,
     "metadata": {},
     "output_type": "execute_result"
    }
   ],
   "source": [
    "sampleA = pd.concat([ordersByUsersA['orders'],pd.Series(0, index=np.arange(data['visitorsPerDateA'].sum() - len(ordersByUsersA['orders'])), name='orders')],axis=0)\n",
    "\n",
    "sampleB = pd.concat([ordersByUsersB['orders'],pd.Series(0, index=np.arange(data['visitorsPerDateB'].sum() - len(ordersByUsersB['orders'])), name='orders')],axis=0)\n",
    "sampleA"
   ]
  },
  {
   "cell_type": "code",
   "execution_count": 35,
   "metadata": {},
   "outputs": [
    {
     "name": "stdout",
     "output_type": "stream",
     "text": [
      "P-value: 0.011\n",
      "Отвергаем нулевую гипотезу: между группами есть разница\n",
      "Относительный прирост В к А: 15.980%\n"
     ]
    }
   ],
   "source": [
    "alpha = 0.05\n",
    "p_value = stats.mannwhitneyu(sampleA, sampleB)[1]\n",
    "print(\"P-value: {0:.3f}\".format(p_value))\n",
    "\n",
    "if p_value < alpha:\n",
    "    print(\"Отвергаем нулевую гипотезу: между группами есть разница\")\n",
    "else:\n",
    "    print(\"Не получилось отвергнуть нулевую гипотезу, нет оснований считать группы разными\")\n",
    "    \n",
    "print(\"Относительный прирост В к А: {0:.3%}\".format(sampleB.mean() / sampleA.mean() - 1))"
   ]
  },
  {
   "cell_type": "markdown",
   "metadata": {},
   "source": [
    "11. *Посчитайте статистическую значимость различий в среднем чеке заказа между группами по «сырым» данным.*"
   ]
  },
  {
   "cell_type": "markdown",
   "metadata": {},
   "source": [
    "Посчитаем статистическую значимость различий в среднем чеке между группами по «сырым» данным — без удаления аномальных пользователей. Сформулируем гипотезы. Нулевая: различий в среднем чеке между группами нет. Альтернативная: различия в среднем чеке между группами есть."
   ]
  },
  {
   "cell_type": "code",
   "execution_count": 36,
   "metadata": {
    "scrolled": true
   },
   "outputs": [
    {
     "name": "stdout",
     "output_type": "stream",
     "text": [
      "P-value: 0.829\n",
      "Не получилось отвергнуть нулевую гипотезу, нет оснований считать группы разными\n",
      "Относительный прирост В к А: 28.660%\n"
     ]
    }
   ],
   "source": [
    "alpha = 0.05\n",
    "p_value = stats.mannwhitneyu(orders[orders['group']=='A']['revenue'], orders[orders['group']=='B']['revenue'])[1]\n",
    "print(\"P-value: {0:.3f}\".format(p_value))\n",
    "\n",
    "if (p_value < alpha):\n",
    "    print(\"Отвергаем нулевую гипотезу: между группами есть разница\")\n",
    "else:\n",
    "    print(\"Не получилось отвергнуть нулевую гипотезу, нет оснований считать группы разными\")\n",
    "    \n",
    "print(\"Относительный прирост В к А: {0:.3%}\".format(orders[orders['group']=='B']['revenue'].mean() / orders[orders['group']=='A']['revenue'].mean() - 1))"
   ]
  },
  {
   "cell_type": "markdown",
   "metadata": {},
   "source": [
    "Вывод: так как не получилось отвергнуть нулевую гипотезу о том, что различий в среднем чеке между группами нет, выходит что относительный прирост В к А в 28.660% не является статистически значимым."
   ]
  },
  {
   "cell_type": "markdown",
   "metadata": {},
   "source": [
    "12. *Посчитаем статистическую значимость различий в среднем количестве заказов на посетителя между группами по «очищенным» данным.*"
   ]
  },
  {
   "cell_type": "markdown",
   "metadata": {},
   "source": [
    "Примем за аномальных пользователей тех, кто совершил от 2 заказов или совершил заказ дороже 53 000 рублей. Так мы уберём 1% пользователей с наибольшим числом заказов и от 1% пользователей с дорогими заказами.\n",
    "\n",
    "Сделаем срезы пользователей с числом заказов больше 1 — usersWithManyOrders и пользователей, совершивших заказы дороже 53 904— usersWithExpensiveOrders. Объединим их в таблице abnormalUsers. "
   ]
  },
  {
   "cell_type": "code",
   "execution_count": 37,
   "metadata": {},
   "outputs": [
    {
     "name": "stdout",
     "output_type": "stream",
     "text": [
      "1099    148427295\n",
      "33      249864742\n",
      "36      366673373\n",
      "51      406208401\n",
      "67      522292794\n",
      "dtype: int64\n",
      "45\n"
     ]
    }
   ],
   "source": [
    "usersWithManyOrders = pd.concat(\n",
    "    [\n",
    "        ordersByUsersA[ordersByUsersA['orders'] > 1]['userId'],\n",
    "        ordersByUsersB[ordersByUsersB['orders'] > 1]['userId'],\n",
    "    ],\n",
    "    axis=0,\n",
    ")\n",
    "usersWithExpensiveOrders = orders[orders['revenue'] > 53904]['visitorId']\n",
    "abnormalUsers = (\n",
    "    pd.concat([usersWithManyOrders, usersWithExpensiveOrders], axis=0)\n",
    "    .drop_duplicates()\n",
    "    .sort_values()\n",
    ")\n",
    "print(abnormalUsers.head(5))\n",
    "print(abnormalUsers.shape[0]) "
   ]
  },
  {
   "cell_type": "markdown",
   "metadata": {},
   "source": [
    "Всего 45 аномальных пользователей. \n",
    "\n",
    "Узнаем, как их действия повлияли на результаты теста. Посчитаем статистическую значимость различий в среднем количестве заказов между группами теста по очищенным данным. Сначала подготовим выборки количества заказов по пользователям по группам теста:"
   ]
  },
  {
   "cell_type": "code",
   "execution_count": 38,
   "metadata": {},
   "outputs": [],
   "source": [
    "sampleAFiltered = pd.concat(\n",
    "    [\n",
    "        ordersByUsersA[\n",
    "            np.logical_not(ordersByUsersA['userId'].isin(abnormalUsers))\n",
    "        ]['orders'],\n",
    "        pd.Series(\n",
    "            0,\n",
    "            index=np.arange(\n",
    "                data['visitorsPerDateA'].sum() - len(ordersByUsersA['orders'])\n",
    "            ),\n",
    "            name='orders',\n",
    "        ),\n",
    "    ],\n",
    "    axis=0,\n",
    ")\n",
    "\n",
    "sampleBFiltered = pd.concat(\n",
    "    [\n",
    "        ordersByUsersB[\n",
    "            np.logical_not(ordersByUsersB['userId'].isin(abnormalUsers))\n",
    "        ]['orders'],\n",
    "        pd.Series(\n",
    "            0,\n",
    "            index=np.arange(\n",
    "                data['visitorsPerDateB'].sum() - len(ordersByUsersB['orders'])\n",
    "            ),\n",
    "            name='orders',\n",
    "        ),\n",
    "    ],\n",
    "    axis=0,\n",
    ") "
   ]
  },
  {
   "cell_type": "code",
   "execution_count": 39,
   "metadata": {
    "scrolled": false
   },
   "outputs": [
    {
     "name": "stdout",
     "output_type": "stream",
     "text": [
      "P-value: 0.008\n",
      "Отвергаем нулевую гипотезу: между группами есть разница\n",
      "Относительный прирост В к А: 18.757%\n"
     ]
    }
   ],
   "source": [
    "# Применим статистический критерий Манна-Уитни к полученным выборкам:\n",
    "alpha = 0.05\n",
    "p_value = stats.mannwhitneyu(sampleAFiltered, sampleBFiltered)[1]\n",
    "print(\"P-value: {0:.3f}\".format(p_value))\n",
    "\n",
    "if p_value < alpha:\n",
    "    print(\"Отвергаем нулевую гипотезу: между группами есть разница\")\n",
    "else:\n",
    "    print(\"Не получилось отвергнуть нулевую гипотезу, нет оснований считать группы разными\")\n",
    "    \n",
    "print(\"Относительный прирост В к А: {0:.3%}\".format(sampleBFiltered.mean()/sampleAFiltered.mean()-1))"
   ]
  },
  {
   "cell_type": "markdown",
   "metadata": {},
   "source": [
    "На очищенных данных разница в конверсии между группами есть, а относительный прирост конверсии группы В отнистельно группы А увеличился с 15.980% до 19.080%.\n",
    "\n",
    "Результаты по среднему количеству заказов практически не изменились. Произошло ли что-нибудь с результатами по среднему чеку?\n"
   ]
  },
  {
   "cell_type": "markdown",
   "metadata": {},
   "source": [
    "13. *Посчитайте статистическую значимость различий в среднем чеке заказа между группами по «очищенным» данным*"
   ]
  },
  {
   "cell_type": "code",
   "execution_count": 40,
   "metadata": {},
   "outputs": [
    {
     "name": "stdout",
     "output_type": "stream",
     "text": [
      "P-value: 0.969\n",
      "Не получилось отвергнуть нулевую гипотезу, нет оснований считать группы разными\n",
      "Относительный прирост В к А: 0.239%\n"
     ]
    }
   ],
   "source": [
    "alpha = 0.05\n",
    "p_value = stats.mannwhitneyu(orders[\n",
    "                np.logical_and(\n",
    "                    orders['group'] == 'A',\n",
    "                    np.logical_not(orders['visitorId'].isin(abnormalUsers)),\n",
    "                )\n",
    "            ]['revenue'],\n",
    "            orders[\n",
    "                np.logical_and(\n",
    "                    orders['group'] == 'B',\n",
    "                    np.logical_not(orders['visitorId'].isin(abnormalUsers)),\n",
    "                )\n",
    "            ]['revenue'],\n",
    "        )[1]\n",
    "print(\"P-value: {0:.3f}\".format(p_value))\n",
    "\n",
    "if p_value < alpha:\n",
    "    print(\"Отвергаем нулевую гипотезу: между группами есть разница\")\n",
    "else:\n",
    "    print(\"Не получилось отвергнуть нулевую гипотезу, нет оснований считать группы разными\")\n",
    "    \n",
    "print(\"Относительный прирост В к А: {0:.3%}\".format(orders[\n",
    "            np.logical_and(\n",
    "                orders['group'] == 'B',\n",
    "                np.logical_not(orders['visitorId'].isin(abnormalUsers)),\n",
    "            )\n",
    "        ]['revenue'].mean()\n",
    "        / orders[\n",
    "            np.logical_and(\n",
    "                orders['group'] == 'A',\n",
    "                np.logical_not(orders['visitorId'].isin(abnormalUsers)),\n",
    "            )\n",
    "        ]['revenue'].mean()\n",
    "        - 1\n",
    "    ))"
   ]
  },
  {
   "cell_type": "markdown",
   "metadata": {},
   "source": [
    "P-value вырос и составил 0.969, это позволяет нам не отвергнуть нулевую гипотезу о том что разлчий в среднем чеке между группами нет. Разница в среднем чеке между группами не является статистически зачимой."
   ]
  },
  {
   "cell_type": "markdown",
   "metadata": {},
   "source": [
    "*Вывод*\n",
    "\n",
    "На основании проведенного анализа можно сделать следующие заключения.\n",
    "\n",
    "Относительно приоретизации гипотез, больше внимания следует уделить гипотезам:\n",
    "\n",
    "- Запустить акцию, дающую скидку на товар в день рождения.\t\n",
    "- Добавить два новых канала привлечения трафика, что позволит привлекать на 30% больше пользователей.\n",
    "- Добавить форму подписки на все основные страницы, чтобы собрать базу клиентов для email-рассылок.\n",
    "\n",
    "Если при выборе гиптезы необходимо учесть то скольких пользователе она затронет, тогда следует отдать предпочтение следующим гипотезам:\n",
    "\n",
    "- Добавить форму подписки на все основные страницы, чтобы собрать базу клиентов для email-рассылокю\n",
    "- Добавить блоки рекомендаций товаров на сайт интернет магазина, чтобы повысить конверсию и средний чек заказаю\n",
    "- Добавить два новых канала привлечения трафика, что позволит привлекать на 30% больше пользователей.\n",
    "\n",
    "\n",
    "При анализе А/В теста было установленно что:\n",
    "\n",
    "- Есть статистически значимое различие по конверсии между группами как по сырым данным, так и после фильтрации аномалий.\n",
    "-  Нет статистически значимого различия по среднему чеку между группами как по сырым данным, так и после фильтрации аномалий.  \n",
    "- График Относительного прироста конверсии группы B относительно группы A показывает, что результаты группы В значительно лучше группы А.\n",
    "\n",
    "Принимаем решение остановить тест и принять победу группы В.\n"
   ]
  }
 ],
 "metadata": {
  "ExecuteTimeLog": [
   {
    "duration": 1347,
    "start_time": "2023-03-17T06:03:03.529Z"
   },
   {
    "duration": 85,
    "start_time": "2023-03-17T06:03:04.878Z"
   },
   {
    "duration": 22,
    "start_time": "2023-03-17T06:03:04.964Z"
   },
   {
    "duration": 5,
    "start_time": "2023-03-17T06:12:14.487Z"
   },
   {
    "duration": 1515,
    "start_time": "2023-03-17T06:12:16.493Z"
   },
   {
    "duration": 10,
    "start_time": "2023-03-17T06:13:17.363Z"
   },
   {
    "duration": 4,
    "start_time": "2023-03-17T06:16:03.179Z"
   },
   {
    "duration": 15,
    "start_time": "2023-03-17T06:16:12.483Z"
   },
   {
    "duration": 11,
    "start_time": "2023-03-17T06:16:33.007Z"
   },
   {
    "duration": 4,
    "start_time": "2023-03-17T06:19:36.021Z"
   },
   {
    "duration": 30,
    "start_time": "2023-03-17T06:19:37.760Z"
   },
   {
    "duration": 15,
    "start_time": "2023-03-17T06:19:38.008Z"
   },
   {
    "duration": 8,
    "start_time": "2023-03-17T06:19:39.544Z"
   },
   {
    "duration": 11,
    "start_time": "2023-03-17T06:19:43.893Z"
   },
   {
    "duration": 10,
    "start_time": "2023-03-17T06:21:07.958Z"
   },
   {
    "duration": 12,
    "start_time": "2023-03-17T06:23:33.130Z"
   },
   {
    "duration": 13,
    "start_time": "2023-03-17T06:23:56.278Z"
   },
   {
    "duration": 7,
    "start_time": "2023-03-17T06:26:27.577Z"
   },
   {
    "duration": 13,
    "start_time": "2023-03-17T06:26:28.018Z"
   },
   {
    "duration": 11,
    "start_time": "2023-03-17T06:43:35.362Z"
   },
   {
    "duration": 166,
    "start_time": "2023-03-17T06:43:41.738Z"
   },
   {
    "duration": 15,
    "start_time": "2023-03-17T06:43:42.215Z"
   },
   {
    "duration": 15,
    "start_time": "2023-03-17T06:44:04.742Z"
   },
   {
    "duration": 15,
    "start_time": "2023-03-17T06:52:09.006Z"
   },
   {
    "duration": 6,
    "start_time": "2023-03-17T06:52:18.113Z"
   },
   {
    "duration": 10,
    "start_time": "2023-03-17T06:56:37.872Z"
   },
   {
    "duration": 10,
    "start_time": "2023-03-17T06:58:52.270Z"
   },
   {
    "duration": 9,
    "start_time": "2023-03-17T06:59:05.268Z"
   },
   {
    "duration": 3,
    "start_time": "2023-03-17T06:59:49.307Z"
   },
   {
    "duration": 10,
    "start_time": "2023-03-17T06:59:59.049Z"
   },
   {
    "duration": 8,
    "start_time": "2023-03-17T07:00:17.934Z"
   },
   {
    "duration": 10,
    "start_time": "2023-03-17T07:00:44.497Z"
   },
   {
    "duration": 5,
    "start_time": "2023-03-17T07:02:33.679Z"
   },
   {
    "duration": 4,
    "start_time": "2023-03-17T07:03:07.121Z"
   },
   {
    "duration": 5,
    "start_time": "2023-03-17T07:19:56.180Z"
   },
   {
    "duration": 7,
    "start_time": "2023-03-17T07:24:51.011Z"
   },
   {
    "duration": 6,
    "start_time": "2023-03-17T07:27:39.184Z"
   },
   {
    "duration": 6,
    "start_time": "2023-03-17T07:30:44.590Z"
   },
   {
    "duration": 11,
    "start_time": "2023-03-17T07:30:57.358Z"
   },
   {
    "duration": 8,
    "start_time": "2023-03-17T07:32:24.842Z"
   },
   {
    "duration": 12,
    "start_time": "2023-03-17T07:32:58.938Z"
   },
   {
    "duration": 20,
    "start_time": "2023-03-17T07:46:55.303Z"
   },
   {
    "duration": 16,
    "start_time": "2023-03-17T07:47:13.585Z"
   },
   {
    "duration": 10,
    "start_time": "2023-03-17T07:47:46.419Z"
   },
   {
    "duration": 12,
    "start_time": "2023-03-17T07:48:40.524Z"
   },
   {
    "duration": 11,
    "start_time": "2023-03-17T07:50:19.499Z"
   },
   {
    "duration": 9,
    "start_time": "2023-03-17T07:51:30.688Z"
   },
   {
    "duration": 12,
    "start_time": "2023-03-17T07:52:42.497Z"
   },
   {
    "duration": 10,
    "start_time": "2023-03-17T07:52:51.489Z"
   },
   {
    "duration": 9,
    "start_time": "2023-03-17T07:53:07.945Z"
   },
   {
    "duration": 17,
    "start_time": "2023-03-17T07:54:13.014Z"
   },
   {
    "duration": 16,
    "start_time": "2023-03-17T07:54:29.208Z"
   },
   {
    "duration": 11,
    "start_time": "2023-03-17T07:54:58.155Z"
   },
   {
    "duration": 9,
    "start_time": "2023-03-17T07:59:28.864Z"
   },
   {
    "duration": 1260,
    "start_time": "2023-03-17T08:01:53.056Z"
   },
   {
    "duration": 17,
    "start_time": "2023-03-17T08:02:23.983Z"
   },
   {
    "duration": 22,
    "start_time": "2023-03-17T08:03:00.926Z"
   },
   {
    "duration": 17,
    "start_time": "2023-03-17T08:04:39.702Z"
   },
   {
    "duration": 81,
    "start_time": "2023-03-17T08:11:24.477Z"
   },
   {
    "duration": 14,
    "start_time": "2023-03-17T08:11:32.120Z"
   },
   {
    "duration": 14,
    "start_time": "2023-03-17T08:11:46.689Z"
   },
   {
    "duration": 196,
    "start_time": "2023-03-17T08:18:11.244Z"
   },
   {
    "duration": 75,
    "start_time": "2023-03-17T08:18:19.614Z"
   },
   {
    "duration": 73,
    "start_time": "2023-03-17T08:18:45.496Z"
   },
   {
    "duration": 119,
    "start_time": "2023-03-17T08:20:21.167Z"
   },
   {
    "duration": 73,
    "start_time": "2023-03-17T08:21:36.940Z"
   },
   {
    "duration": 18,
    "start_time": "2023-03-17T08:22:03.308Z"
   },
   {
    "duration": 20,
    "start_time": "2023-03-17T08:22:38.900Z"
   },
   {
    "duration": 1309,
    "start_time": "2023-03-17T08:31:15.113Z"
   },
   {
    "duration": 1500,
    "start_time": "2023-03-17T08:31:42.418Z"
   },
   {
    "duration": 1874,
    "start_time": "2023-03-17T08:35:02.414Z"
   },
   {
    "duration": 14,
    "start_time": "2023-03-17T08:36:23.930Z"
   },
   {
    "duration": 21,
    "start_time": "2023-03-17T08:38:06.860Z"
   },
   {
    "duration": 13,
    "start_time": "2023-03-17T08:45:12.893Z"
   },
   {
    "duration": 9,
    "start_time": "2023-03-17T08:45:52.033Z"
   },
   {
    "duration": 20,
    "start_time": "2023-03-17T08:45:59.287Z"
   },
   {
    "duration": 10,
    "start_time": "2023-03-17T08:46:00.263Z"
   },
   {
    "duration": 14,
    "start_time": "2023-03-17T08:46:22.525Z"
   },
   {
    "duration": 30,
    "start_time": "2023-03-17T08:53:06.093Z"
   },
   {
    "duration": 10,
    "start_time": "2023-03-17T08:53:44.948Z"
   },
   {
    "duration": 38,
    "start_time": "2023-03-17T08:54:50.115Z"
   },
   {
    "duration": 23,
    "start_time": "2023-03-17T08:54:56.765Z"
   },
   {
    "duration": 32,
    "start_time": "2023-03-17T08:54:58.431Z"
   },
   {
    "duration": 30,
    "start_time": "2023-03-17T08:55:10.915Z"
   },
   {
    "duration": 9,
    "start_time": "2023-03-17T08:55:13.501Z"
   },
   {
    "duration": 37,
    "start_time": "2023-03-17T08:55:13.973Z"
   },
   {
    "duration": 16,
    "start_time": "2023-03-17T08:55:33.619Z"
   },
   {
    "duration": 17,
    "start_time": "2023-03-17T09:04:32.312Z"
   },
   {
    "duration": 11,
    "start_time": "2023-03-17T09:05:21.314Z"
   },
   {
    "duration": 12,
    "start_time": "2023-03-17T09:08:45.251Z"
   },
   {
    "duration": 11,
    "start_time": "2023-03-17T09:08:58.697Z"
   },
   {
    "duration": 22,
    "start_time": "2023-03-17T09:12:27.686Z"
   },
   {
    "duration": 12,
    "start_time": "2023-03-17T09:14:41.358Z"
   },
   {
    "duration": 9,
    "start_time": "2023-03-17T09:16:35.548Z"
   },
   {
    "duration": 5,
    "start_time": "2023-03-17T09:18:58.158Z"
   },
   {
    "duration": 7,
    "start_time": "2023-03-17T09:19:36.552Z"
   },
   {
    "duration": 40,
    "start_time": "2023-03-17T09:20:23.200Z"
   },
   {
    "duration": 17,
    "start_time": "2023-03-17T09:20:45.636Z"
   },
   {
    "duration": 1449,
    "start_time": "2023-03-17T09:23:04.601Z"
   },
   {
    "duration": 5,
    "start_time": "2023-03-17T09:23:06.052Z"
   },
   {
    "duration": 33,
    "start_time": "2023-03-17T09:23:06.059Z"
   },
   {
    "duration": 28,
    "start_time": "2023-03-17T09:23:06.094Z"
   },
   {
    "duration": 10,
    "start_time": "2023-03-17T09:23:06.126Z"
   },
   {
    "duration": 16,
    "start_time": "2023-03-17T09:23:06.143Z"
   },
   {
    "duration": 16,
    "start_time": "2023-03-17T09:23:06.161Z"
   },
   {
    "duration": 14,
    "start_time": "2023-03-17T09:23:06.179Z"
   },
   {
    "duration": 53,
    "start_time": "2023-03-17T09:23:06.196Z"
   },
   {
    "duration": 18,
    "start_time": "2023-03-17T09:23:06.251Z"
   },
   {
    "duration": 19,
    "start_time": "2023-03-17T09:23:06.271Z"
   },
   {
    "duration": 22,
    "start_time": "2023-03-17T09:23:06.292Z"
   },
   {
    "duration": 30,
    "start_time": "2023-03-17T09:23:06.316Z"
   },
   {
    "duration": 10,
    "start_time": "2023-03-17T09:23:06.349Z"
   },
   {
    "duration": 17,
    "start_time": "2023-03-17T09:23:06.361Z"
   },
   {
    "duration": 90,
    "start_time": "2023-03-17T09:24:35.929Z"
   },
   {
    "duration": 9,
    "start_time": "2023-03-17T09:24:46.249Z"
   },
   {
    "duration": 107,
    "start_time": "2023-03-17T09:25:00.552Z"
   },
   {
    "duration": 6,
    "start_time": "2023-03-17T09:28:02.198Z"
   },
   {
    "duration": 14,
    "start_time": "2023-03-17T09:28:03.013Z"
   },
   {
    "duration": 5,
    "start_time": "2023-03-17T09:29:10.106Z"
   },
   {
    "duration": 7,
    "start_time": "2023-03-17T09:34:49.124Z"
   },
   {
    "duration": 35,
    "start_time": "2023-03-17T09:34:49.764Z"
   },
   {
    "duration": 151,
    "start_time": "2023-03-17T09:34:51.128Z"
   },
   {
    "duration": 175,
    "start_time": "2023-03-17T09:36:29.518Z"
   },
   {
    "duration": 133,
    "start_time": "2023-03-17T09:38:04.567Z"
   },
   {
    "duration": 123,
    "start_time": "2023-03-17T09:42:15.808Z"
   },
   {
    "duration": 11,
    "start_time": "2023-03-17T09:43:29.373Z"
   },
   {
    "duration": 254,
    "start_time": "2023-03-17T09:44:26.649Z"
   },
   {
    "duration": 285,
    "start_time": "2023-03-17T09:47:25.966Z"
   },
   {
    "duration": 230,
    "start_time": "2023-03-17T09:48:07.869Z"
   },
   {
    "duration": 13,
    "start_time": "2023-03-17T09:51:26.520Z"
   },
   {
    "duration": 15,
    "start_time": "2023-03-17T09:54:57.757Z"
   },
   {
    "duration": 18,
    "start_time": "2023-03-17T09:55:54.874Z"
   },
   {
    "duration": 15,
    "start_time": "2023-03-17T09:56:00.979Z"
   },
   {
    "duration": 14,
    "start_time": "2023-03-17T09:57:41.322Z"
   },
   {
    "duration": 13,
    "start_time": "2023-03-17T09:57:49.585Z"
   },
   {
    "duration": 7,
    "start_time": "2023-03-17T09:57:54.074Z"
   },
   {
    "duration": 14,
    "start_time": "2023-03-17T09:57:54.591Z"
   },
   {
    "duration": 10,
    "start_time": "2023-03-17T09:57:57.803Z"
   },
   {
    "duration": 6,
    "start_time": "2023-03-17T09:57:58.209Z"
   },
   {
    "duration": 14,
    "start_time": "2023-03-17T09:57:58.672Z"
   },
   {
    "duration": 1141,
    "start_time": "2023-03-17T09:58:22.067Z"
   },
   {
    "duration": 4,
    "start_time": "2023-03-17T09:58:23.210Z"
   },
   {
    "duration": 31,
    "start_time": "2023-03-17T09:58:23.216Z"
   },
   {
    "duration": 20,
    "start_time": "2023-03-17T09:58:23.249Z"
   },
   {
    "duration": 8,
    "start_time": "2023-03-17T09:58:23.272Z"
   },
   {
    "duration": 15,
    "start_time": "2023-03-17T09:58:23.282Z"
   },
   {
    "duration": 5,
    "start_time": "2023-03-17T09:58:23.298Z"
   },
   {
    "duration": 11,
    "start_time": "2023-03-17T09:58:23.304Z"
   },
   {
    "duration": 53,
    "start_time": "2023-03-17T09:58:23.317Z"
   },
   {
    "duration": 17,
    "start_time": "2023-03-17T09:58:23.372Z"
   },
   {
    "duration": 17,
    "start_time": "2023-03-17T09:58:23.391Z"
   },
   {
    "duration": 7,
    "start_time": "2023-03-17T09:58:23.409Z"
   },
   {
    "duration": 12,
    "start_time": "2023-03-17T09:58:23.418Z"
   },
   {
    "duration": 8,
    "start_time": "2023-03-17T09:58:23.433Z"
   },
   {
    "duration": 44,
    "start_time": "2023-03-17T09:58:23.442Z"
   },
   {
    "duration": 13,
    "start_time": "2023-03-17T09:58:23.488Z"
   },
   {
    "duration": 179,
    "start_time": "2023-03-17T09:58:23.503Z"
   },
   {
    "duration": 132,
    "start_time": "2023-03-17T09:58:23.684Z"
   },
   {
    "duration": 10,
    "start_time": "2023-03-17T09:58:23.817Z"
   },
   {
    "duration": 317,
    "start_time": "2023-03-17T09:58:23.829Z"
   },
   {
    "duration": 119,
    "start_time": "2023-03-17T10:45:42.292Z"
   },
   {
    "duration": 5,
    "start_time": "2023-03-17T10:53:57.786Z"
   },
   {
    "duration": 1382,
    "start_time": "2023-03-17T10:57:42.121Z"
   },
   {
    "duration": 1141,
    "start_time": "2023-03-17T10:59:45.852Z"
   },
   {
    "duration": 1183,
    "start_time": "2023-03-17T10:59:54.817Z"
   },
   {
    "duration": 3,
    "start_time": "2023-03-17T10:59:56.003Z"
   },
   {
    "duration": 54,
    "start_time": "2023-03-17T10:59:56.008Z"
   },
   {
    "duration": 23,
    "start_time": "2023-03-17T10:59:56.064Z"
   },
   {
    "duration": 34,
    "start_time": "2023-03-17T10:59:56.090Z"
   },
   {
    "duration": 38,
    "start_time": "2023-03-17T10:59:56.125Z"
   },
   {
    "duration": 4,
    "start_time": "2023-03-17T10:59:56.165Z"
   },
   {
    "duration": 17,
    "start_time": "2023-03-17T10:59:56.171Z"
   },
   {
    "duration": 63,
    "start_time": "2023-03-17T10:59:56.190Z"
   },
   {
    "duration": 24,
    "start_time": "2023-03-17T10:59:56.255Z"
   },
   {
    "duration": 20,
    "start_time": "2023-03-17T10:59:56.281Z"
   },
   {
    "duration": 31,
    "start_time": "2023-03-17T10:59:56.303Z"
   },
   {
    "duration": 29,
    "start_time": "2023-03-17T10:59:56.336Z"
   },
   {
    "duration": 29,
    "start_time": "2023-03-17T10:59:56.369Z"
   },
   {
    "duration": 1288,
    "start_time": "2023-03-17T10:59:56.400Z"
   },
   {
    "duration": 0,
    "start_time": "2023-03-17T10:59:57.690Z"
   },
   {
    "duration": 0,
    "start_time": "2023-03-17T10:59:57.691Z"
   },
   {
    "duration": 0,
    "start_time": "2023-03-17T10:59:57.692Z"
   },
   {
    "duration": 0,
    "start_time": "2023-03-17T10:59:57.693Z"
   },
   {
    "duration": 0,
    "start_time": "2023-03-17T10:59:57.694Z"
   },
   {
    "duration": 0,
    "start_time": "2023-03-17T10:59:57.695Z"
   },
   {
    "duration": 1249,
    "start_time": "2023-03-17T11:00:23.204Z"
   },
   {
    "duration": 88,
    "start_time": "2023-03-17T11:19:42.665Z"
   },
   {
    "duration": 84,
    "start_time": "2023-03-17T11:19:56.871Z"
   },
   {
    "duration": 1186,
    "start_time": "2023-03-17T11:20:12.319Z"
   },
   {
    "duration": 3,
    "start_time": "2023-03-17T11:20:13.507Z"
   },
   {
    "duration": 32,
    "start_time": "2023-03-17T11:20:13.512Z"
   },
   {
    "duration": 23,
    "start_time": "2023-03-17T11:20:13.545Z"
   },
   {
    "duration": 18,
    "start_time": "2023-03-17T11:20:13.572Z"
   },
   {
    "duration": 15,
    "start_time": "2023-03-17T11:20:13.592Z"
   },
   {
    "duration": 5,
    "start_time": "2023-03-17T11:20:13.608Z"
   },
   {
    "duration": 11,
    "start_time": "2023-03-17T11:20:13.615Z"
   },
   {
    "duration": 62,
    "start_time": "2023-03-17T11:20:13.628Z"
   },
   {
    "duration": 18,
    "start_time": "2023-03-17T11:20:13.692Z"
   },
   {
    "duration": 15,
    "start_time": "2023-03-17T11:20:13.712Z"
   },
   {
    "duration": 8,
    "start_time": "2023-03-17T11:20:13.729Z"
   },
   {
    "duration": 14,
    "start_time": "2023-03-17T11:20:13.739Z"
   },
   {
    "duration": 6,
    "start_time": "2023-03-17T11:20:13.756Z"
   },
   {
    "duration": 81,
    "start_time": "2023-03-17T11:20:13.775Z"
   },
   {
    "duration": 27,
    "start_time": "2023-03-17T11:20:13.858Z"
   },
   {
    "duration": 8,
    "start_time": "2023-03-17T11:20:13.889Z"
   },
   {
    "duration": 8,
    "start_time": "2023-03-17T11:20:13.899Z"
   },
   {
    "duration": 11,
    "start_time": "2023-03-17T11:20:13.908Z"
   },
   {
    "duration": 450,
    "start_time": "2023-03-17T11:20:13.920Z"
   },
   {
    "duration": 0,
    "start_time": "2023-03-17T11:20:14.372Z"
   },
   {
    "duration": 92,
    "start_time": "2023-03-17T11:21:14.090Z"
   },
   {
    "duration": 86,
    "start_time": "2023-03-17T11:21:17.432Z"
   },
   {
    "duration": 1156,
    "start_time": "2023-03-17T11:55:41.683Z"
   },
   {
    "duration": 3,
    "start_time": "2023-03-17T11:55:42.841Z"
   },
   {
    "duration": 36,
    "start_time": "2023-03-17T11:55:42.845Z"
   },
   {
    "duration": 21,
    "start_time": "2023-03-17T11:55:42.882Z"
   },
   {
    "duration": 8,
    "start_time": "2023-03-17T11:55:42.905Z"
   },
   {
    "duration": 12,
    "start_time": "2023-03-17T11:55:42.915Z"
   },
   {
    "duration": 5,
    "start_time": "2023-03-17T11:55:42.928Z"
   },
   {
    "duration": 12,
    "start_time": "2023-03-17T11:55:42.935Z"
   },
   {
    "duration": 53,
    "start_time": "2023-03-17T11:55:42.976Z"
   },
   {
    "duration": 17,
    "start_time": "2023-03-17T11:55:43.031Z"
   },
   {
    "duration": 17,
    "start_time": "2023-03-17T11:55:43.050Z"
   },
   {
    "duration": 8,
    "start_time": "2023-03-17T11:55:43.068Z"
   },
   {
    "duration": 18,
    "start_time": "2023-03-17T11:55:43.078Z"
   },
   {
    "duration": 16,
    "start_time": "2023-03-17T11:55:43.098Z"
   },
   {
    "duration": 77,
    "start_time": "2023-03-17T11:55:43.116Z"
   },
   {
    "duration": 13,
    "start_time": "2023-03-17T11:55:43.195Z"
   },
   {
    "duration": 17,
    "start_time": "2023-03-17T11:55:43.210Z"
   },
   {
    "duration": 98,
    "start_time": "2023-03-17T11:55:43.229Z"
   },
   {
    "duration": 68,
    "start_time": "2023-03-17T11:55:43.328Z"
   },
   {
    "duration": 9,
    "start_time": "2023-03-17T11:55:43.398Z"
   },
   {
    "duration": 295,
    "start_time": "2023-03-17T11:55:43.409Z"
   },
   {
    "duration": 1271,
    "start_time": "2023-03-17T11:56:07.797Z"
   },
   {
    "duration": 13,
    "start_time": "2023-03-17T11:56:28.489Z"
   },
   {
    "duration": 1258,
    "start_time": "2023-03-17T11:57:52.954Z"
   },
   {
    "duration": 6,
    "start_time": "2023-03-17T11:57:54.215Z"
   },
   {
    "duration": 37,
    "start_time": "2023-03-17T11:57:54.224Z"
   },
   {
    "duration": 34,
    "start_time": "2023-03-17T11:57:54.263Z"
   },
   {
    "duration": 13,
    "start_time": "2023-03-17T11:57:54.300Z"
   },
   {
    "duration": 30,
    "start_time": "2023-03-17T11:57:54.315Z"
   },
   {
    "duration": 5,
    "start_time": "2023-03-17T11:57:54.346Z"
   },
   {
    "duration": 26,
    "start_time": "2023-03-17T11:57:54.353Z"
   },
   {
    "duration": 63,
    "start_time": "2023-03-17T11:57:54.381Z"
   },
   {
    "duration": 19,
    "start_time": "2023-03-17T11:57:54.446Z"
   },
   {
    "duration": 28,
    "start_time": "2023-03-17T11:57:54.467Z"
   },
   {
    "duration": 11,
    "start_time": "2023-03-17T11:57:54.496Z"
   },
   {
    "duration": 23,
    "start_time": "2023-03-17T11:57:54.509Z"
   },
   {
    "duration": 11,
    "start_time": "2023-03-17T11:57:54.536Z"
   },
   {
    "duration": 14,
    "start_time": "2023-03-17T11:57:54.549Z"
   },
   {
    "duration": 18,
    "start_time": "2023-03-17T11:57:54.565Z"
   },
   {
    "duration": 9,
    "start_time": "2023-03-17T11:57:54.585Z"
   },
   {
    "duration": 187,
    "start_time": "2023-03-17T11:57:54.596Z"
   },
   {
    "duration": 138,
    "start_time": "2023-03-17T11:57:54.785Z"
   },
   {
    "duration": 12,
    "start_time": "2023-03-17T11:57:54.925Z"
   },
   {
    "duration": 290,
    "start_time": "2023-03-17T11:57:54.939Z"
   },
   {
    "duration": 1427,
    "start_time": "2023-03-20T06:04:31.435Z"
   },
   {
    "duration": 3,
    "start_time": "2023-03-20T06:04:32.864Z"
   },
   {
    "duration": 98,
    "start_time": "2023-03-20T06:04:32.869Z"
   },
   {
    "duration": 26,
    "start_time": "2023-03-20T06:04:32.969Z"
   },
   {
    "duration": 9,
    "start_time": "2023-03-20T06:04:32.998Z"
   },
   {
    "duration": 18,
    "start_time": "2023-03-20T06:04:33.009Z"
   },
   {
    "duration": 4,
    "start_time": "2023-03-20T06:04:33.030Z"
   },
   {
    "duration": 19,
    "start_time": "2023-03-20T06:04:33.036Z"
   },
   {
    "duration": 148,
    "start_time": "2023-03-20T06:04:33.057Z"
   },
   {
    "duration": 19,
    "start_time": "2023-03-20T06:04:33.207Z"
   },
   {
    "duration": 18,
    "start_time": "2023-03-20T06:04:33.227Z"
   },
   {
    "duration": 8,
    "start_time": "2023-03-20T06:04:33.247Z"
   },
   {
    "duration": 11,
    "start_time": "2023-03-20T06:04:33.257Z"
   },
   {
    "duration": 6,
    "start_time": "2023-03-20T06:04:33.291Z"
   },
   {
    "duration": 15,
    "start_time": "2023-03-20T06:04:33.299Z"
   },
   {
    "duration": 14,
    "start_time": "2023-03-20T06:04:33.316Z"
   },
   {
    "duration": 5,
    "start_time": "2023-03-20T06:04:33.332Z"
   },
   {
    "duration": 204,
    "start_time": "2023-03-20T06:04:33.339Z"
   },
   {
    "duration": 153,
    "start_time": "2023-03-20T06:04:33.545Z"
   },
   {
    "duration": 10,
    "start_time": "2023-03-20T06:04:33.700Z"
   },
   {
    "duration": 290,
    "start_time": "2023-03-20T06:04:33.711Z"
   },
   {
    "duration": 217,
    "start_time": "2023-03-20T06:06:39.381Z"
   },
   {
    "duration": 217,
    "start_time": "2023-03-20T06:07:00.292Z"
   },
   {
    "duration": 199,
    "start_time": "2023-03-20T06:07:13.776Z"
   },
   {
    "duration": 234,
    "start_time": "2023-03-20T06:15:37.383Z"
   },
   {
    "duration": 210,
    "start_time": "2023-03-20T06:16:02.664Z"
   },
   {
    "duration": 222,
    "start_time": "2023-03-20T06:16:37.033Z"
   },
   {
    "duration": 413,
    "start_time": "2023-03-20T06:25:26.336Z"
   },
   {
    "duration": 295,
    "start_time": "2023-03-20T06:25:47.397Z"
   },
   {
    "duration": 342,
    "start_time": "2023-03-20T06:26:27.767Z"
   },
   {
    "duration": 321,
    "start_time": "2023-03-20T06:26:44.749Z"
   },
   {
    "duration": 312,
    "start_time": "2023-03-20T06:35:24.817Z"
   },
   {
    "duration": 208,
    "start_time": "2023-03-20T06:40:55.259Z"
   },
   {
    "duration": 201,
    "start_time": "2023-03-20T06:41:27.923Z"
   },
   {
    "duration": 217,
    "start_time": "2023-03-20T06:41:48.993Z"
   },
   {
    "duration": 220,
    "start_time": "2023-03-20T06:42:01.860Z"
   },
   {
    "duration": 209,
    "start_time": "2023-03-20T06:42:10.996Z"
   },
   {
    "duration": 313,
    "start_time": "2023-03-20T06:42:31.450Z"
   },
   {
    "duration": 314,
    "start_time": "2023-03-20T06:50:24.277Z"
   },
   {
    "duration": 402,
    "start_time": "2023-03-20T06:51:05.777Z"
   },
   {
    "duration": 330,
    "start_time": "2023-03-20T06:51:25.406Z"
   },
   {
    "duration": 87,
    "start_time": "2023-03-20T06:52:23.339Z"
   },
   {
    "duration": 393,
    "start_time": "2023-03-20T06:52:37.362Z"
   },
   {
    "duration": 375,
    "start_time": "2023-03-20T06:57:02.471Z"
   },
   {
    "duration": 9,
    "start_time": "2023-03-20T07:02:31.166Z"
   },
   {
    "duration": 15,
    "start_time": "2023-03-20T07:07:58.495Z"
   },
   {
    "duration": 169,
    "start_time": "2023-03-20T07:08:11.610Z"
   },
   {
    "duration": 157,
    "start_time": "2023-03-20T07:09:08.383Z"
   },
   {
    "duration": 152,
    "start_time": "2023-03-20T07:12:07.990Z"
   },
   {
    "duration": 7,
    "start_time": "2023-03-20T07:15:30.934Z"
   },
   {
    "duration": 5,
    "start_time": "2023-03-20T07:16:08.769Z"
   },
   {
    "duration": 6,
    "start_time": "2023-03-20T07:18:08.491Z"
   },
   {
    "duration": 127,
    "start_time": "2023-03-20T07:21:49.913Z"
   },
   {
    "duration": 138,
    "start_time": "2023-03-20T07:22:11.033Z"
   },
   {
    "duration": 157,
    "start_time": "2023-03-20T07:24:27.193Z"
   },
   {
    "duration": 129,
    "start_time": "2023-03-20T07:24:51.539Z"
   },
   {
    "duration": 193,
    "start_time": "2023-03-20T07:25:17.340Z"
   },
   {
    "duration": 148,
    "start_time": "2023-03-20T07:25:27.973Z"
   },
   {
    "duration": 73,
    "start_time": "2023-03-20T07:29:36.924Z"
   },
   {
    "duration": 253,
    "start_time": "2023-03-20T07:29:55.781Z"
   },
   {
    "duration": 146,
    "start_time": "2023-03-20T07:30:11.387Z"
   },
   {
    "duration": 154,
    "start_time": "2023-03-20T07:32:01.710Z"
   },
   {
    "duration": 154,
    "start_time": "2023-03-20T07:32:07.766Z"
   },
   {
    "duration": 10,
    "start_time": "2023-03-20T07:34:48.768Z"
   },
   {
    "duration": 5,
    "start_time": "2023-03-20T07:35:00.679Z"
   },
   {
    "duration": 53,
    "start_time": "2023-03-20T07:43:24.276Z"
   },
   {
    "duration": 119,
    "start_time": "2023-03-20T07:46:48.143Z"
   },
   {
    "duration": 119,
    "start_time": "2023-03-20T07:49:10.226Z"
   },
   {
    "duration": 233,
    "start_time": "2023-03-20T07:50:41.075Z"
   },
   {
    "duration": 11,
    "start_time": "2023-03-20T07:56:29.047Z"
   },
   {
    "duration": 21,
    "start_time": "2023-03-20T07:56:42.359Z"
   },
   {
    "duration": 140,
    "start_time": "2023-03-20T07:57:52.737Z"
   },
   {
    "duration": 7,
    "start_time": "2023-03-20T07:57:56.363Z"
   },
   {
    "duration": 40,
    "start_time": "2023-03-20T07:59:37.809Z"
   },
   {
    "duration": 79,
    "start_time": "2023-03-20T08:01:03.457Z"
   },
   {
    "duration": 39,
    "start_time": "2023-03-20T08:02:59.756Z"
   },
   {
    "duration": 130,
    "start_time": "2023-03-20T08:04:25.609Z"
   },
   {
    "duration": 7,
    "start_time": "2023-03-20T08:04:26.980Z"
   },
   {
    "duration": 32,
    "start_time": "2023-03-20T08:04:29.210Z"
   },
   {
    "duration": 28,
    "start_time": "2023-03-20T08:05:51.275Z"
   },
   {
    "duration": 50,
    "start_time": "2023-03-20T12:19:57.094Z"
   },
   {
    "duration": 10,
    "start_time": "2023-03-20T12:21:40.462Z"
   },
   {
    "duration": 1407,
    "start_time": "2023-03-20T12:21:43.731Z"
   },
   {
    "duration": 3,
    "start_time": "2023-03-20T12:21:45.140Z"
   },
   {
    "duration": 99,
    "start_time": "2023-03-20T12:21:45.144Z"
   },
   {
    "duration": 20,
    "start_time": "2023-03-20T12:21:45.245Z"
   },
   {
    "duration": 10,
    "start_time": "2023-03-20T12:21:45.266Z"
   },
   {
    "duration": 24,
    "start_time": "2023-03-20T12:21:45.277Z"
   },
   {
    "duration": 4,
    "start_time": "2023-03-20T12:21:45.305Z"
   },
   {
    "duration": 10,
    "start_time": "2023-03-20T12:21:45.311Z"
   },
   {
    "duration": 154,
    "start_time": "2023-03-20T12:21:45.323Z"
   },
   {
    "duration": 17,
    "start_time": "2023-03-20T12:21:45.479Z"
   },
   {
    "duration": 15,
    "start_time": "2023-03-20T12:21:45.498Z"
   },
   {
    "duration": 6,
    "start_time": "2023-03-20T12:21:45.515Z"
   },
   {
    "duration": 12,
    "start_time": "2023-03-20T12:21:45.523Z"
   },
   {
    "duration": 7,
    "start_time": "2023-03-20T12:21:45.537Z"
   },
   {
    "duration": 12,
    "start_time": "2023-03-20T12:21:45.545Z"
   },
   {
    "duration": 11,
    "start_time": "2023-03-20T12:21:45.558Z"
   },
   {
    "duration": 33,
    "start_time": "2023-03-20T12:21:45.570Z"
   },
   {
    "duration": 170,
    "start_time": "2023-03-20T12:21:45.605Z"
   },
   {
    "duration": 138,
    "start_time": "2023-03-20T12:21:45.777Z"
   },
   {
    "duration": 11,
    "start_time": "2023-03-20T12:21:45.917Z"
   },
   {
    "duration": 327,
    "start_time": "2023-03-20T12:21:45.931Z"
   },
   {
    "duration": 224,
    "start_time": "2023-03-20T12:21:46.259Z"
   },
   {
    "duration": 356,
    "start_time": "2023-03-20T12:21:46.485Z"
   },
   {
    "duration": 240,
    "start_time": "2023-03-20T12:21:46.843Z"
   },
   {
    "duration": 363,
    "start_time": "2023-03-20T12:21:47.085Z"
   },
   {
    "duration": 149,
    "start_time": "2023-03-20T12:21:47.450Z"
   },
   {
    "duration": 162,
    "start_time": "2023-03-20T12:21:47.603Z"
   },
   {
    "duration": 4,
    "start_time": "2023-03-20T12:21:47.768Z"
   },
   {
    "duration": 232,
    "start_time": "2023-03-20T12:21:47.774Z"
   },
   {
    "duration": 166,
    "start_time": "2023-03-20T12:21:48.009Z"
   },
   {
    "duration": 4,
    "start_time": "2023-03-20T12:21:48.176Z"
   },
   {
    "duration": 266,
    "start_time": "2023-03-20T12:21:48.182Z"
   },
   {
    "duration": 155,
    "start_time": "2023-03-20T12:21:48.450Z"
   },
   {
    "duration": 8,
    "start_time": "2023-03-20T12:21:48.607Z"
   },
   {
    "duration": 25,
    "start_time": "2023-03-20T12:21:48.616Z"
   },
   {
    "duration": 134,
    "start_time": "2023-03-20T12:21:48.643Z"
   },
   {
    "duration": 15,
    "start_time": "2023-03-20T12:24:26.552Z"
   },
   {
    "duration": 14,
    "start_time": "2023-03-20T12:25:17.427Z"
   },
   {
    "duration": 1170,
    "start_time": "2023-03-20T12:25:46.439Z"
   },
   {
    "duration": 4,
    "start_time": "2023-03-20T12:25:47.615Z"
   },
   {
    "duration": 42,
    "start_time": "2023-03-20T12:25:47.621Z"
   },
   {
    "duration": 25,
    "start_time": "2023-03-20T12:25:47.666Z"
   },
   {
    "duration": 33,
    "start_time": "2023-03-20T12:25:47.694Z"
   },
   {
    "duration": 12,
    "start_time": "2023-03-20T12:25:47.729Z"
   },
   {
    "duration": 19,
    "start_time": "2023-03-20T12:25:47.743Z"
   },
   {
    "duration": 16,
    "start_time": "2023-03-20T12:25:47.764Z"
   },
   {
    "duration": 81,
    "start_time": "2023-03-20T12:25:47.782Z"
   },
   {
    "duration": 18,
    "start_time": "2023-03-20T12:25:47.864Z"
   },
   {
    "duration": 15,
    "start_time": "2023-03-20T12:25:47.884Z"
   },
   {
    "duration": 25,
    "start_time": "2023-03-20T12:25:47.902Z"
   },
   {
    "duration": 21,
    "start_time": "2023-03-20T12:25:47.929Z"
   },
   {
    "duration": 22,
    "start_time": "2023-03-20T12:25:47.953Z"
   },
   {
    "duration": 24,
    "start_time": "2023-03-20T12:25:47.977Z"
   },
   {
    "duration": 29,
    "start_time": "2023-03-20T12:25:48.010Z"
   },
   {
    "duration": 40,
    "start_time": "2023-03-20T12:25:48.040Z"
   },
   {
    "duration": 198,
    "start_time": "2023-03-20T12:25:48.083Z"
   },
   {
    "duration": 139,
    "start_time": "2023-03-20T12:25:48.283Z"
   },
   {
    "duration": 11,
    "start_time": "2023-03-20T12:25:48.424Z"
   },
   {
    "duration": 307,
    "start_time": "2023-03-20T12:25:48.437Z"
   },
   {
    "duration": 227,
    "start_time": "2023-03-20T12:25:48.746Z"
   },
   {
    "duration": 348,
    "start_time": "2023-03-20T12:25:48.975Z"
   },
   {
    "duration": 239,
    "start_time": "2023-03-20T12:25:49.325Z"
   },
   {
    "duration": 380,
    "start_time": "2023-03-20T12:25:49.566Z"
   },
   {
    "duration": 175,
    "start_time": "2023-03-20T12:25:49.948Z"
   },
   {
    "duration": 171,
    "start_time": "2023-03-20T12:25:50.125Z"
   },
   {
    "duration": 11,
    "start_time": "2023-03-20T12:25:50.298Z"
   },
   {
    "duration": 224,
    "start_time": "2023-03-20T12:25:50.312Z"
   },
   {
    "duration": 154,
    "start_time": "2023-03-20T12:25:50.538Z"
   },
   {
    "duration": 11,
    "start_time": "2023-03-20T12:25:50.694Z"
   },
   {
    "duration": 234,
    "start_time": "2023-03-20T12:25:50.707Z"
   },
   {
    "duration": 134,
    "start_time": "2023-03-20T12:25:50.943Z"
   },
   {
    "duration": 29,
    "start_time": "2023-03-20T12:25:51.080Z"
   },
   {
    "duration": 25,
    "start_time": "2023-03-20T12:25:51.116Z"
   },
   {
    "duration": 124,
    "start_time": "2023-03-20T12:25:51.142Z"
   },
   {
    "duration": 24,
    "start_time": "2023-03-20T12:26:01.257Z"
   },
   {
    "duration": 24,
    "start_time": "2023-03-20T12:26:07.263Z"
   },
   {
    "duration": 11,
    "start_time": "2023-03-20T12:30:03.581Z"
   },
   {
    "duration": 1140,
    "start_time": "2023-03-20T12:51:56.288Z"
   },
   {
    "duration": 1269,
    "start_time": "2023-03-20T12:52:59.784Z"
   },
   {
    "duration": 1162,
    "start_time": "2023-03-20T12:54:23.181Z"
   },
   {
    "duration": 1227,
    "start_time": "2023-03-20T12:54:34.894Z"
   },
   {
    "duration": 5,
    "start_time": "2023-03-20T12:54:36.124Z"
   },
   {
    "duration": 35,
    "start_time": "2023-03-20T12:54:36.131Z"
   },
   {
    "duration": 22,
    "start_time": "2023-03-20T12:54:36.168Z"
   },
   {
    "duration": 23,
    "start_time": "2023-03-20T12:54:36.192Z"
   },
   {
    "duration": 18,
    "start_time": "2023-03-20T12:54:36.217Z"
   },
   {
    "duration": 5,
    "start_time": "2023-03-20T12:54:36.238Z"
   },
   {
    "duration": 15,
    "start_time": "2023-03-20T12:54:36.245Z"
   },
   {
    "duration": 55,
    "start_time": "2023-03-20T12:54:36.262Z"
   },
   {
    "duration": 18,
    "start_time": "2023-03-20T12:54:36.319Z"
   },
   {
    "duration": 18,
    "start_time": "2023-03-20T12:54:36.339Z"
   },
   {
    "duration": 7,
    "start_time": "2023-03-20T12:54:36.359Z"
   },
   {
    "duration": 11,
    "start_time": "2023-03-20T12:54:36.368Z"
   },
   {
    "duration": 5,
    "start_time": "2023-03-20T12:54:36.382Z"
   },
   {
    "duration": 34,
    "start_time": "2023-03-20T12:54:36.389Z"
   },
   {
    "duration": 18,
    "start_time": "2023-03-20T12:54:36.425Z"
   },
   {
    "duration": 14,
    "start_time": "2023-03-20T12:54:36.445Z"
   },
   {
    "duration": 177,
    "start_time": "2023-03-20T12:54:36.461Z"
   },
   {
    "duration": 134,
    "start_time": "2023-03-20T12:54:36.640Z"
   },
   {
    "duration": 9,
    "start_time": "2023-03-20T12:54:36.776Z"
   },
   {
    "duration": 343,
    "start_time": "2023-03-20T12:54:36.802Z"
   },
   {
    "duration": 240,
    "start_time": "2023-03-20T12:54:37.147Z"
   },
   {
    "duration": 329,
    "start_time": "2023-03-20T12:54:37.389Z"
   },
   {
    "duration": 221,
    "start_time": "2023-03-20T12:54:37.720Z"
   },
   {
    "duration": 316,
    "start_time": "2023-03-20T12:54:37.942Z"
   },
   {
    "duration": 148,
    "start_time": "2023-03-20T12:54:38.259Z"
   },
   {
    "duration": 155,
    "start_time": "2023-03-20T12:54:38.409Z"
   },
   {
    "duration": 5,
    "start_time": "2023-03-20T12:54:38.566Z"
   },
   {
    "duration": 228,
    "start_time": "2023-03-20T12:54:38.572Z"
   },
   {
    "duration": 162,
    "start_time": "2023-03-20T12:54:38.803Z"
   },
   {
    "duration": 4,
    "start_time": "2023-03-20T12:54:38.967Z"
   },
   {
    "duration": 257,
    "start_time": "2023-03-20T12:54:38.972Z"
   },
   {
    "duration": 149,
    "start_time": "2023-03-20T12:54:39.231Z"
   },
   {
    "duration": 6,
    "start_time": "2023-03-20T12:54:39.381Z"
   },
   {
    "duration": 34,
    "start_time": "2023-03-20T12:54:39.389Z"
   },
   {
    "duration": 13,
    "start_time": "2023-03-20T12:54:39.425Z"
   },
   {
    "duration": 1244,
    "start_time": "2023-03-20T12:54:39.440Z"
   },
   {
    "duration": 128,
    "start_time": "2023-03-20T12:56:20.338Z"
   },
   {
    "duration": 6,
    "start_time": "2023-03-20T12:56:21.290Z"
   },
   {
    "duration": 25,
    "start_time": "2023-03-20T12:56:21.821Z"
   },
   {
    "duration": 11,
    "start_time": "2023-03-20T12:56:25.465Z"
   },
   {
    "duration": 1193,
    "start_time": "2023-03-20T12:56:32.187Z"
   },
   {
    "duration": 7,
    "start_time": "2023-03-20T12:59:35.702Z"
   },
   {
    "duration": 10,
    "start_time": "2023-03-20T13:01:10.027Z"
   },
   {
    "duration": 9,
    "start_time": "2023-03-20T13:06:38.293Z"
   },
   {
    "duration": 8,
    "start_time": "2023-03-20T13:06:44.747Z"
   },
   {
    "duration": 88,
    "start_time": "2023-03-20T13:09:03.390Z"
   },
   {
    "duration": 27,
    "start_time": "2023-03-20T13:09:18.768Z"
   },
   {
    "duration": 25,
    "start_time": "2023-03-20T13:14:19.683Z"
   },
   {
    "duration": 7,
    "start_time": "2023-03-20T13:14:36.230Z"
   },
   {
    "duration": 24,
    "start_time": "2023-03-20T13:14:37.061Z"
   },
   {
    "duration": 1391,
    "start_time": "2023-03-20T13:33:36.153Z"
   },
   {
    "duration": 15,
    "start_time": "2023-03-20T13:35:05.538Z"
   },
   {
    "duration": 60,
    "start_time": "2023-03-21T05:57:07.561Z"
   },
   {
    "duration": 1505,
    "start_time": "2023-03-21T05:57:18.178Z"
   },
   {
    "duration": 4,
    "start_time": "2023-03-21T05:57:19.685Z"
   },
   {
    "duration": 84,
    "start_time": "2023-03-21T05:57:19.691Z"
   },
   {
    "duration": 28,
    "start_time": "2023-03-21T05:57:19.777Z"
   },
   {
    "duration": 9,
    "start_time": "2023-03-21T05:57:19.807Z"
   },
   {
    "duration": 22,
    "start_time": "2023-03-21T05:57:19.818Z"
   },
   {
    "duration": 5,
    "start_time": "2023-03-21T05:57:19.842Z"
   },
   {
    "duration": 23,
    "start_time": "2023-03-21T05:57:19.849Z"
   },
   {
    "duration": 164,
    "start_time": "2023-03-21T05:57:19.875Z"
   },
   {
    "duration": 17,
    "start_time": "2023-03-21T05:57:20.042Z"
   },
   {
    "duration": 22,
    "start_time": "2023-03-21T05:57:20.061Z"
   },
   {
    "duration": 15,
    "start_time": "2023-03-21T05:57:20.086Z"
   },
   {
    "duration": 13,
    "start_time": "2023-03-21T05:57:20.103Z"
   },
   {
    "duration": 28,
    "start_time": "2023-03-21T05:57:20.118Z"
   },
   {
    "duration": 12,
    "start_time": "2023-03-21T05:57:20.147Z"
   },
   {
    "duration": 14,
    "start_time": "2023-03-21T05:57:20.161Z"
   },
   {
    "duration": 8,
    "start_time": "2023-03-21T05:57:20.176Z"
   },
   {
    "duration": 197,
    "start_time": "2023-03-21T05:57:20.186Z"
   },
   {
    "duration": 133,
    "start_time": "2023-03-21T05:57:20.385Z"
   },
   {
    "duration": 25,
    "start_time": "2023-03-21T05:57:20.520Z"
   },
   {
    "duration": 319,
    "start_time": "2023-03-21T05:57:20.547Z"
   },
   {
    "duration": 230,
    "start_time": "2023-03-21T05:57:20.868Z"
   },
   {
    "duration": 384,
    "start_time": "2023-03-21T05:57:21.100Z"
   },
   {
    "duration": 233,
    "start_time": "2023-03-21T05:57:21.486Z"
   },
   {
    "duration": 354,
    "start_time": "2023-03-21T05:57:21.721Z"
   },
   {
    "duration": 166,
    "start_time": "2023-03-21T05:57:22.077Z"
   },
   {
    "duration": 172,
    "start_time": "2023-03-21T05:57:22.245Z"
   },
   {
    "duration": 5,
    "start_time": "2023-03-21T05:57:22.420Z"
   },
   {
    "duration": 273,
    "start_time": "2023-03-21T05:57:22.427Z"
   },
   {
    "duration": 174,
    "start_time": "2023-03-21T05:57:22.703Z"
   },
   {
    "duration": 4,
    "start_time": "2023-03-21T05:57:22.879Z"
   },
   {
    "duration": 239,
    "start_time": "2023-03-21T05:57:22.885Z"
   },
   {
    "duration": 149,
    "start_time": "2023-03-21T05:57:23.126Z"
   },
   {
    "duration": 7,
    "start_time": "2023-03-21T05:57:23.277Z"
   },
   {
    "duration": 46,
    "start_time": "2023-03-21T05:57:23.286Z"
   },
   {
    "duration": 11,
    "start_time": "2023-03-21T05:57:23.334Z"
   },
   {
    "duration": 29,
    "start_time": "2023-03-21T05:57:23.347Z"
   },
   {
    "duration": 20,
    "start_time": "2023-03-21T05:57:23.378Z"
   },
   {
    "duration": 41,
    "start_time": "2023-03-21T05:57:23.399Z"
   },
   {
    "duration": 17,
    "start_time": "2023-03-21T05:57:23.442Z"
   },
   {
    "duration": 119,
    "start_time": "2023-03-21T05:58:53.785Z"
   },
   {
    "duration": 10,
    "start_time": "2023-03-21T05:59:08.178Z"
   },
   {
    "duration": 12,
    "start_time": "2023-03-21T06:00:38.507Z"
   },
   {
    "duration": 16,
    "start_time": "2023-03-21T06:08:36.208Z"
   },
   {
    "duration": 16,
    "start_time": "2023-03-21T06:08:43.245Z"
   },
   {
    "duration": 1237,
    "start_time": "2023-03-21T06:09:02.440Z"
   },
   {
    "duration": 3,
    "start_time": "2023-03-21T06:09:03.680Z"
   },
   {
    "duration": 34,
    "start_time": "2023-03-21T06:09:03.686Z"
   },
   {
    "duration": 25,
    "start_time": "2023-03-21T06:09:03.722Z"
   },
   {
    "duration": 9,
    "start_time": "2023-03-21T06:09:03.750Z"
   },
   {
    "duration": 23,
    "start_time": "2023-03-21T06:09:03.761Z"
   },
   {
    "duration": 12,
    "start_time": "2023-03-21T06:09:03.786Z"
   },
   {
    "duration": 14,
    "start_time": "2023-03-21T06:09:03.801Z"
   },
   {
    "duration": 58,
    "start_time": "2023-03-21T06:09:03.817Z"
   },
   {
    "duration": 19,
    "start_time": "2023-03-21T06:09:03.877Z"
   },
   {
    "duration": 26,
    "start_time": "2023-03-21T06:09:03.898Z"
   },
   {
    "duration": 8,
    "start_time": "2023-03-21T06:09:03.926Z"
   },
   {
    "duration": 20,
    "start_time": "2023-03-21T06:09:03.936Z"
   },
   {
    "duration": 122,
    "start_time": "2023-03-21T06:09:03.960Z"
   },
   {
    "duration": 0,
    "start_time": "2023-03-21T06:09:04.085Z"
   },
   {
    "duration": 0,
    "start_time": "2023-03-21T06:09:04.086Z"
   },
   {
    "duration": 0,
    "start_time": "2023-03-21T06:09:04.087Z"
   },
   {
    "duration": 0,
    "start_time": "2023-03-21T06:09:04.089Z"
   },
   {
    "duration": 0,
    "start_time": "2023-03-21T06:09:04.091Z"
   },
   {
    "duration": 0,
    "start_time": "2023-03-21T06:09:04.092Z"
   },
   {
    "duration": 0,
    "start_time": "2023-03-21T06:09:04.093Z"
   },
   {
    "duration": 0,
    "start_time": "2023-03-21T06:09:04.095Z"
   },
   {
    "duration": 0,
    "start_time": "2023-03-21T06:09:04.096Z"
   },
   {
    "duration": 0,
    "start_time": "2023-03-21T06:09:04.098Z"
   },
   {
    "duration": 0,
    "start_time": "2023-03-21T06:09:04.099Z"
   },
   {
    "duration": 0,
    "start_time": "2023-03-21T06:09:04.101Z"
   },
   {
    "duration": 0,
    "start_time": "2023-03-21T06:09:04.102Z"
   },
   {
    "duration": 0,
    "start_time": "2023-03-21T06:09:04.104Z"
   },
   {
    "duration": 0,
    "start_time": "2023-03-21T06:09:04.105Z"
   },
   {
    "duration": 0,
    "start_time": "2023-03-21T06:09:04.107Z"
   },
   {
    "duration": 0,
    "start_time": "2023-03-21T06:09:04.108Z"
   },
   {
    "duration": 0,
    "start_time": "2023-03-21T06:09:04.109Z"
   },
   {
    "duration": 0,
    "start_time": "2023-03-21T06:09:04.110Z"
   },
   {
    "duration": 0,
    "start_time": "2023-03-21T06:09:04.111Z"
   },
   {
    "duration": 0,
    "start_time": "2023-03-21T06:09:04.112Z"
   },
   {
    "duration": 0,
    "start_time": "2023-03-21T06:09:04.112Z"
   },
   {
    "duration": 0,
    "start_time": "2023-03-21T06:09:04.113Z"
   },
   {
    "duration": 0,
    "start_time": "2023-03-21T06:09:04.140Z"
   },
   {
    "duration": 0,
    "start_time": "2023-03-21T06:09:04.143Z"
   },
   {
    "duration": 0,
    "start_time": "2023-03-21T06:09:04.145Z"
   },
   {
    "duration": 19,
    "start_time": "2023-03-21T06:10:32.277Z"
   },
   {
    "duration": 14,
    "start_time": "2023-03-21T06:10:34.997Z"
   },
   {
    "duration": 102,
    "start_time": "2023-03-21T06:13:32.476Z"
   },
   {
    "duration": 58,
    "start_time": "2023-03-21T06:18:03.535Z"
   },
   {
    "duration": 7,
    "start_time": "2023-03-21T06:18:12.253Z"
   },
   {
    "duration": 9,
    "start_time": "2023-03-21T06:18:22.847Z"
   },
   {
    "duration": 18,
    "start_time": "2023-03-21T06:18:33.518Z"
   },
   {
    "duration": 14,
    "start_time": "2023-03-21T06:19:13.013Z"
   },
   {
    "duration": 6,
    "start_time": "2023-03-21T06:19:42.076Z"
   },
   {
    "duration": 6,
    "start_time": "2023-03-21T06:19:52.712Z"
   },
   {
    "duration": 21,
    "start_time": "2023-03-21T06:19:54.401Z"
   },
   {
    "duration": 17,
    "start_time": "2023-03-21T06:20:23.337Z"
   },
   {
    "duration": 1210,
    "start_time": "2023-03-21T06:20:28.278Z"
   },
   {
    "duration": 3,
    "start_time": "2023-03-21T06:20:29.491Z"
   },
   {
    "duration": 33,
    "start_time": "2023-03-21T06:20:29.496Z"
   },
   {
    "duration": 21,
    "start_time": "2023-03-21T06:20:29.531Z"
   },
   {
    "duration": 19,
    "start_time": "2023-03-21T06:20:29.554Z"
   },
   {
    "duration": 25,
    "start_time": "2023-03-21T06:20:29.575Z"
   },
   {
    "duration": 7,
    "start_time": "2023-03-21T06:20:29.602Z"
   },
   {
    "duration": 23,
    "start_time": "2023-03-21T06:20:29.611Z"
   },
   {
    "duration": 59,
    "start_time": "2023-03-21T06:20:29.635Z"
   },
   {
    "duration": 18,
    "start_time": "2023-03-21T06:20:29.696Z"
   },
   {
    "duration": 26,
    "start_time": "2023-03-21T06:20:29.716Z"
   },
   {
    "duration": 10,
    "start_time": "2023-03-21T06:20:29.744Z"
   },
   {
    "duration": 25,
    "start_time": "2023-03-21T06:20:29.756Z"
   },
   {
    "duration": 13,
    "start_time": "2023-03-21T06:20:29.784Z"
   },
   {
    "duration": 21,
    "start_time": "2023-03-21T06:20:29.799Z"
   },
   {
    "duration": 37,
    "start_time": "2023-03-21T06:20:29.822Z"
   },
   {
    "duration": 17,
    "start_time": "2023-03-21T06:20:29.862Z"
   },
   {
    "duration": 171,
    "start_time": "2023-03-21T06:20:29.882Z"
   },
   {
    "duration": 147,
    "start_time": "2023-03-21T06:20:30.055Z"
   },
   {
    "duration": 36,
    "start_time": "2023-03-21T06:20:30.205Z"
   },
   {
    "duration": 319,
    "start_time": "2023-03-21T06:20:30.244Z"
   },
   {
    "duration": 237,
    "start_time": "2023-03-21T06:20:30.566Z"
   },
   {
    "duration": 367,
    "start_time": "2023-03-21T06:20:30.805Z"
   },
   {
    "duration": 296,
    "start_time": "2023-03-21T06:20:31.174Z"
   },
   {
    "duration": 335,
    "start_time": "2023-03-21T06:20:31.472Z"
   },
   {
    "duration": 183,
    "start_time": "2023-03-21T06:20:31.809Z"
   },
   {
    "duration": 180,
    "start_time": "2023-03-21T06:20:31.994Z"
   },
   {
    "duration": 6,
    "start_time": "2023-03-21T06:20:32.177Z"
   },
   {
    "duration": 321,
    "start_time": "2023-03-21T06:20:32.185Z"
   },
   {
    "duration": 170,
    "start_time": "2023-03-21T06:20:32.507Z"
   },
   {
    "duration": 5,
    "start_time": "2023-03-21T06:20:32.679Z"
   },
   {
    "duration": 257,
    "start_time": "2023-03-21T06:20:32.686Z"
   },
   {
    "duration": 236,
    "start_time": "2023-03-21T06:20:32.944Z"
   },
   {
    "duration": 7,
    "start_time": "2023-03-21T06:20:33.183Z"
   },
   {
    "duration": 33,
    "start_time": "2023-03-21T06:20:33.192Z"
   },
   {
    "duration": 13,
    "start_time": "2023-03-21T06:20:33.242Z"
   },
   {
    "duration": 35,
    "start_time": "2023-03-21T06:20:33.257Z"
   },
   {
    "duration": 22,
    "start_time": "2023-03-21T06:20:33.294Z"
   },
   {
    "duration": 52,
    "start_time": "2023-03-21T06:20:33.318Z"
   },
   {
    "duration": 17,
    "start_time": "2023-03-21T06:20:33.372Z"
   },
   {
    "duration": 12,
    "start_time": "2023-03-21T06:21:17.883Z"
   },
   {
    "duration": 116,
    "start_time": "2023-03-21T06:21:33.355Z"
   },
   {
    "duration": 114,
    "start_time": "2023-03-21T06:22:53.371Z"
   },
   {
    "duration": 10,
    "start_time": "2023-03-21T06:22:56.863Z"
   },
   {
    "duration": 11,
    "start_time": "2023-03-21T06:24:03.638Z"
   },
   {
    "duration": 9,
    "start_time": "2023-03-21T06:24:47.643Z"
   },
   {
    "duration": 9,
    "start_time": "2023-03-21T06:25:09.728Z"
   },
   {
    "duration": 18,
    "start_time": "2023-03-21T06:25:10.328Z"
   },
   {
    "duration": 18,
    "start_time": "2023-03-21T06:26:50.714Z"
   },
   {
    "duration": 8,
    "start_time": "2023-03-21T06:28:57.197Z"
   },
   {
    "duration": 18,
    "start_time": "2023-03-21T06:29:05.789Z"
   },
   {
    "duration": 9,
    "start_time": "2023-03-21T06:29:16.021Z"
   },
   {
    "duration": 15,
    "start_time": "2023-03-21T06:30:14.988Z"
   },
   {
    "duration": 240,
    "start_time": "2023-03-21T06:32:54.538Z"
   },
   {
    "duration": 14,
    "start_time": "2023-03-21T06:33:06.092Z"
   },
   {
    "duration": 12,
    "start_time": "2023-03-21T06:33:37.599Z"
   },
   {
    "duration": 12,
    "start_time": "2023-03-21T06:38:53.675Z"
   },
   {
    "duration": 9,
    "start_time": "2023-03-21T06:38:57.516Z"
   },
   {
    "duration": 12,
    "start_time": "2023-03-21T06:38:57.976Z"
   },
   {
    "duration": 1478,
    "start_time": "2023-03-21T06:39:07.857Z"
   },
   {
    "duration": 5,
    "start_time": "2023-03-21T06:39:09.337Z"
   },
   {
    "duration": 75,
    "start_time": "2023-03-21T06:39:09.344Z"
   },
   {
    "duration": 25,
    "start_time": "2023-03-21T06:39:09.421Z"
   },
   {
    "duration": 23,
    "start_time": "2023-03-21T06:39:09.449Z"
   },
   {
    "duration": 33,
    "start_time": "2023-03-21T06:39:09.475Z"
   },
   {
    "duration": 13,
    "start_time": "2023-03-21T06:39:09.510Z"
   },
   {
    "duration": 38,
    "start_time": "2023-03-21T06:39:09.525Z"
   },
   {
    "duration": 167,
    "start_time": "2023-03-21T06:39:09.566Z"
   },
   {
    "duration": 21,
    "start_time": "2023-03-21T06:39:09.736Z"
   },
   {
    "duration": 29,
    "start_time": "2023-03-21T06:39:09.759Z"
   },
   {
    "duration": 12,
    "start_time": "2023-03-21T06:39:09.791Z"
   },
   {
    "duration": 14,
    "start_time": "2023-03-21T06:39:09.806Z"
   },
   {
    "duration": 10,
    "start_time": "2023-03-21T06:39:09.840Z"
   },
   {
    "duration": 32,
    "start_time": "2023-03-21T06:39:09.852Z"
   },
   {
    "duration": 13,
    "start_time": "2023-03-21T06:39:09.886Z"
   },
   {
    "duration": 202,
    "start_time": "2023-03-21T06:39:09.901Z"
   },
   {
    "duration": 141,
    "start_time": "2023-03-21T06:39:10.105Z"
   },
   {
    "duration": 15,
    "start_time": "2023-03-21T06:39:10.248Z"
   },
   {
    "duration": 327,
    "start_time": "2023-03-21T06:39:10.266Z"
   },
   {
    "duration": 217,
    "start_time": "2023-03-21T06:39:10.594Z"
   },
   {
    "duration": 331,
    "start_time": "2023-03-21T06:39:10.813Z"
   },
   {
    "duration": 247,
    "start_time": "2023-03-21T06:39:11.146Z"
   },
   {
    "duration": 326,
    "start_time": "2023-03-21T06:39:11.395Z"
   },
   {
    "duration": 170,
    "start_time": "2023-03-21T06:39:11.723Z"
   },
   {
    "duration": 168,
    "start_time": "2023-03-21T06:39:11.896Z"
   },
   {
    "duration": 5,
    "start_time": "2023-03-21T06:39:12.066Z"
   },
   {
    "duration": 269,
    "start_time": "2023-03-21T06:39:12.073Z"
   },
   {
    "duration": 158,
    "start_time": "2023-03-21T06:39:12.344Z"
   },
   {
    "duration": 5,
    "start_time": "2023-03-21T06:39:12.504Z"
   },
   {
    "duration": 247,
    "start_time": "2023-03-21T06:39:12.511Z"
   },
   {
    "duration": 162,
    "start_time": "2023-03-21T06:39:12.760Z"
   },
   {
    "duration": 20,
    "start_time": "2023-03-21T06:39:12.924Z"
   },
   {
    "duration": 40,
    "start_time": "2023-03-21T06:39:12.946Z"
   },
   {
    "duration": 15,
    "start_time": "2023-03-21T06:39:12.988Z"
   },
   {
    "duration": 13,
    "start_time": "2023-03-21T06:39:13.005Z"
   },
   {
    "duration": 23,
    "start_time": "2023-03-21T06:39:13.019Z"
   },
   {
    "duration": 31,
    "start_time": "2023-03-21T06:39:13.044Z"
   },
   {
    "duration": 14,
    "start_time": "2023-03-21T06:39:13.078Z"
   },
   {
    "duration": 12,
    "start_time": "2023-03-21T07:13:10.050Z"
   },
   {
    "duration": 16,
    "start_time": "2023-03-21T07:13:22.240Z"
   },
   {
    "duration": 4688,
    "start_time": "2023-03-21T07:13:56.293Z"
   },
   {
    "duration": 4,
    "start_time": "2023-03-21T07:14:00.983Z"
   },
   {
    "duration": 137,
    "start_time": "2023-03-21T07:14:00.990Z"
   },
   {
    "duration": 116,
    "start_time": "2023-03-21T07:14:01.130Z"
   },
   {
    "duration": 108,
    "start_time": "2023-03-21T07:14:01.248Z"
   },
   {
    "duration": 116,
    "start_time": "2023-03-21T07:14:01.358Z"
   },
   {
    "duration": 67,
    "start_time": "2023-03-21T07:14:01.476Z"
   },
   {
    "duration": 61,
    "start_time": "2023-03-21T07:14:01.546Z"
   },
   {
    "duration": 204,
    "start_time": "2023-03-21T07:14:01.610Z"
   },
   {
    "duration": 19,
    "start_time": "2023-03-21T07:14:01.817Z"
   },
   {
    "duration": 66,
    "start_time": "2023-03-21T07:14:01.838Z"
   },
   {
    "duration": 69,
    "start_time": "2023-03-21T07:14:01.906Z"
   },
   {
    "duration": 42,
    "start_time": "2023-03-21T07:14:01.977Z"
   },
   {
    "duration": 47,
    "start_time": "2023-03-21T07:14:02.021Z"
   },
   {
    "duration": 35,
    "start_time": "2023-03-21T07:14:02.069Z"
   },
   {
    "duration": 66,
    "start_time": "2023-03-21T07:14:02.106Z"
   },
   {
    "duration": 202,
    "start_time": "2023-03-21T07:14:02.175Z"
   },
   {
    "duration": 169,
    "start_time": "2023-03-21T07:14:02.379Z"
   },
   {
    "duration": 17,
    "start_time": "2023-03-21T07:14:02.551Z"
   },
   {
    "duration": 400,
    "start_time": "2023-03-21T07:14:02.570Z"
   },
   {
    "duration": 232,
    "start_time": "2023-03-21T07:14:02.972Z"
   },
   {
    "duration": 385,
    "start_time": "2023-03-21T07:14:03.207Z"
   },
   {
    "duration": 272,
    "start_time": "2023-03-21T07:14:03.594Z"
   },
   {
    "duration": 337,
    "start_time": "2023-03-21T07:14:03.869Z"
   },
   {
    "duration": 165,
    "start_time": "2023-03-21T07:14:04.208Z"
   },
   {
    "duration": 169,
    "start_time": "2023-03-21T07:14:04.375Z"
   },
   {
    "duration": 7,
    "start_time": "2023-03-21T07:14:04.546Z"
   },
   {
    "duration": 279,
    "start_time": "2023-03-21T07:14:04.559Z"
   },
   {
    "duration": 163,
    "start_time": "2023-03-21T07:14:04.841Z"
   },
   {
    "duration": 5,
    "start_time": "2023-03-21T07:14:05.006Z"
   },
   {
    "duration": 308,
    "start_time": "2023-03-21T07:14:05.014Z"
   },
   {
    "duration": 175,
    "start_time": "2023-03-21T07:14:05.324Z"
   },
   {
    "duration": 7,
    "start_time": "2023-03-21T07:14:05.501Z"
   },
   {
    "duration": 42,
    "start_time": "2023-03-21T07:14:05.509Z"
   },
   {
    "duration": 30,
    "start_time": "2023-03-21T07:14:05.553Z"
   },
   {
    "duration": 27,
    "start_time": "2023-03-21T07:14:05.586Z"
   },
   {
    "duration": 45,
    "start_time": "2023-03-21T07:14:05.615Z"
   },
   {
    "duration": 62,
    "start_time": "2023-03-21T07:14:05.662Z"
   },
   {
    "duration": 28,
    "start_time": "2023-03-21T07:14:05.727Z"
   },
   {
    "duration": 1380,
    "start_time": "2023-03-21T07:18:23.748Z"
   },
   {
    "duration": 10,
    "start_time": "2023-03-21T07:18:25.131Z"
   },
   {
    "duration": 56,
    "start_time": "2023-03-21T07:18:25.144Z"
   },
   {
    "duration": 31,
    "start_time": "2023-03-21T07:18:25.204Z"
   },
   {
    "duration": 23,
    "start_time": "2023-03-21T07:18:25.238Z"
   },
   {
    "duration": 39,
    "start_time": "2023-03-21T07:18:25.264Z"
   },
   {
    "duration": 13,
    "start_time": "2023-03-21T07:18:25.306Z"
   },
   {
    "duration": 18,
    "start_time": "2023-03-21T07:18:25.321Z"
   },
   {
    "duration": 74,
    "start_time": "2023-03-21T07:18:25.341Z"
   },
   {
    "duration": 26,
    "start_time": "2023-03-21T07:18:25.419Z"
   },
   {
    "duration": 25,
    "start_time": "2023-03-21T07:18:25.448Z"
   },
   {
    "duration": 20,
    "start_time": "2023-03-21T07:18:25.475Z"
   },
   {
    "duration": 44,
    "start_time": "2023-03-21T07:18:25.498Z"
   },
   {
    "duration": 11,
    "start_time": "2023-03-21T07:18:25.546Z"
   },
   {
    "duration": 46,
    "start_time": "2023-03-21T07:18:25.559Z"
   },
   {
    "duration": 8,
    "start_time": "2023-03-21T07:18:25.608Z"
   },
   {
    "duration": 259,
    "start_time": "2023-03-21T07:18:25.619Z"
   },
   {
    "duration": 256,
    "start_time": "2023-03-21T07:18:25.881Z"
   },
   {
    "duration": 17,
    "start_time": "2023-03-21T07:18:26.142Z"
   },
   {
    "duration": 455,
    "start_time": "2023-03-21T07:18:26.163Z"
   },
   {
    "duration": 269,
    "start_time": "2023-03-21T07:18:26.621Z"
   },
   {
    "duration": 390,
    "start_time": "2023-03-21T07:18:26.892Z"
   },
   {
    "duration": 268,
    "start_time": "2023-03-21T07:18:27.285Z"
   },
   {
    "duration": 388,
    "start_time": "2023-03-21T07:18:27.556Z"
   },
   {
    "duration": 213,
    "start_time": "2023-03-21T07:18:27.946Z"
   },
   {
    "duration": 183,
    "start_time": "2023-03-21T07:18:28.162Z"
   },
   {
    "duration": 6,
    "start_time": "2023-03-21T07:18:28.348Z"
   },
   {
    "duration": 318,
    "start_time": "2023-03-21T07:18:28.359Z"
   },
   {
    "duration": 185,
    "start_time": "2023-03-21T07:18:28.681Z"
   },
   {
    "duration": 6,
    "start_time": "2023-03-21T07:18:28.868Z"
   },
   {
    "duration": 1306,
    "start_time": "2023-03-21T08:53:30.905Z"
   },
   {
    "duration": 3,
    "start_time": "2023-03-21T08:53:32.213Z"
   },
   {
    "duration": 45,
    "start_time": "2023-03-21T08:53:32.217Z"
   },
   {
    "duration": 26,
    "start_time": "2023-03-21T08:53:32.263Z"
   },
   {
    "duration": 25,
    "start_time": "2023-03-21T08:53:32.292Z"
   },
   {
    "duration": 23,
    "start_time": "2023-03-21T08:53:32.319Z"
   },
   {
    "duration": 21,
    "start_time": "2023-03-21T08:53:32.344Z"
   },
   {
    "duration": 14,
    "start_time": "2023-03-21T08:53:32.367Z"
   },
   {
    "duration": 66,
    "start_time": "2023-03-21T08:53:32.383Z"
   },
   {
    "duration": 25,
    "start_time": "2023-03-21T08:53:32.451Z"
   },
   {
    "duration": 32,
    "start_time": "2023-03-21T08:53:32.478Z"
   },
   {
    "duration": 6,
    "start_time": "2023-03-21T08:53:32.512Z"
   },
   {
    "duration": 10,
    "start_time": "2023-03-21T08:53:32.519Z"
   },
   {
    "duration": 26,
    "start_time": "2023-03-21T08:53:32.533Z"
   },
   {
    "duration": 15,
    "start_time": "2023-03-21T08:53:32.561Z"
   },
   {
    "duration": 7,
    "start_time": "2023-03-21T08:53:32.578Z"
   },
   {
    "duration": 271,
    "start_time": "2023-03-21T08:53:32.587Z"
   },
   {
    "duration": 151,
    "start_time": "2023-03-21T08:53:32.861Z"
   },
   {
    "duration": 24,
    "start_time": "2023-03-21T08:53:33.013Z"
   },
   {
    "duration": 404,
    "start_time": "2023-03-21T08:53:33.039Z"
   },
   {
    "duration": 216,
    "start_time": "2023-03-21T08:53:33.445Z"
   },
   {
    "duration": 298,
    "start_time": "2023-03-21T08:53:33.663Z"
   },
   {
    "duration": 260,
    "start_time": "2023-03-21T08:53:33.963Z"
   },
   {
    "duration": 342,
    "start_time": "2023-03-21T08:53:34.226Z"
   },
   {
    "duration": 156,
    "start_time": "2023-03-21T08:53:34.569Z"
   },
   {
    "duration": 228,
    "start_time": "2023-03-21T08:53:34.727Z"
   },
   {
    "duration": 5,
    "start_time": "2023-03-21T08:53:34.957Z"
   },
   {
    "duration": 321,
    "start_time": "2023-03-21T08:53:34.964Z"
   },
   {
    "duration": 194,
    "start_time": "2023-03-21T08:53:35.288Z"
   },
   {
    "duration": 5,
    "start_time": "2023-03-21T08:53:35.483Z"
   },
   {
    "duration": 256,
    "start_time": "2023-03-21T08:53:35.491Z"
   },
   {
    "duration": 175,
    "start_time": "2023-03-21T08:53:35.749Z"
   },
   {
    "duration": 18,
    "start_time": "2023-03-21T08:53:35.927Z"
   },
   {
    "duration": 30,
    "start_time": "2023-03-21T08:53:35.949Z"
   },
   {
    "duration": 12,
    "start_time": "2023-03-21T08:53:35.981Z"
   },
   {
    "duration": 31,
    "start_time": "2023-03-21T08:53:35.994Z"
   },
   {
    "duration": 13,
    "start_time": "2023-03-21T08:53:36.028Z"
   },
   {
    "duration": 38,
    "start_time": "2023-03-21T08:53:36.043Z"
   },
   {
    "duration": 20,
    "start_time": "2023-03-21T08:53:36.084Z"
   },
   {
    "duration": 46,
    "start_time": "2023-03-22T05:57:20.026Z"
   },
   {
    "duration": 1421,
    "start_time": "2023-03-22T05:57:24.817Z"
   },
   {
    "duration": 3,
    "start_time": "2023-03-22T05:57:26.240Z"
   },
   {
    "duration": 89,
    "start_time": "2023-03-22T05:57:26.245Z"
   },
   {
    "duration": 22,
    "start_time": "2023-03-22T05:57:26.336Z"
   },
   {
    "duration": 8,
    "start_time": "2023-03-22T05:57:26.361Z"
   },
   {
    "duration": 19,
    "start_time": "2023-03-22T05:57:26.371Z"
   },
   {
    "duration": 5,
    "start_time": "2023-03-22T05:57:26.392Z"
   },
   {
    "duration": 15,
    "start_time": "2023-03-22T05:57:26.399Z"
   },
   {
    "duration": 148,
    "start_time": "2023-03-22T05:57:26.424Z"
   },
   {
    "duration": 18,
    "start_time": "2023-03-22T05:57:26.573Z"
   },
   {
    "duration": 24,
    "start_time": "2023-03-22T05:57:26.593Z"
   },
   {
    "duration": 10,
    "start_time": "2023-03-22T05:57:26.618Z"
   },
   {
    "duration": 12,
    "start_time": "2023-03-22T05:57:26.630Z"
   },
   {
    "duration": 9,
    "start_time": "2023-03-22T05:57:26.646Z"
   },
   {
    "duration": 14,
    "start_time": "2023-03-22T05:57:26.657Z"
   },
   {
    "duration": 7,
    "start_time": "2023-03-22T05:57:26.672Z"
   },
   {
    "duration": 5,
    "start_time": "2023-03-22T05:57:26.681Z"
   },
   {
    "duration": 229,
    "start_time": "2023-03-22T05:57:26.688Z"
   },
   {
    "duration": 140,
    "start_time": "2023-03-22T05:57:26.918Z"
   },
   {
    "duration": 11,
    "start_time": "2023-03-22T05:57:27.060Z"
   },
   {
    "duration": 309,
    "start_time": "2023-03-22T05:57:27.073Z"
   },
   {
    "duration": 223,
    "start_time": "2023-03-22T05:57:27.383Z"
   },
   {
    "duration": 359,
    "start_time": "2023-03-22T05:57:27.607Z"
   },
   {
    "duration": 212,
    "start_time": "2023-03-22T05:57:27.968Z"
   },
   {
    "duration": 344,
    "start_time": "2023-03-22T05:57:28.182Z"
   },
   {
    "duration": 142,
    "start_time": "2023-03-22T05:57:28.528Z"
   },
   {
    "duration": 159,
    "start_time": "2023-03-22T05:57:28.672Z"
   },
   {
    "duration": 4,
    "start_time": "2023-03-22T05:57:28.833Z"
   },
   {
    "duration": 227,
    "start_time": "2023-03-22T05:57:28.840Z"
   },
   {
    "duration": 145,
    "start_time": "2023-03-22T05:57:29.069Z"
   },
   {
    "duration": 5,
    "start_time": "2023-03-22T05:57:29.223Z"
   },
   {
    "duration": 234,
    "start_time": "2023-03-22T05:57:29.230Z"
   },
   {
    "duration": 144,
    "start_time": "2023-03-22T05:57:29.466Z"
   },
   {
    "duration": 14,
    "start_time": "2023-03-22T05:57:29.612Z"
   },
   {
    "duration": 22,
    "start_time": "2023-03-22T05:57:29.628Z"
   },
   {
    "duration": 11,
    "start_time": "2023-03-22T05:57:29.652Z"
   },
   {
    "duration": 8,
    "start_time": "2023-03-22T05:57:29.665Z"
   },
   {
    "duration": 7,
    "start_time": "2023-03-22T05:57:29.675Z"
   },
   {
    "duration": 53,
    "start_time": "2023-03-22T05:57:29.684Z"
   },
   {
    "duration": 14,
    "start_time": "2023-03-22T05:57:29.739Z"
   },
   {
    "duration": 9,
    "start_time": "2023-03-22T05:58:14.950Z"
   },
   {
    "duration": 8,
    "start_time": "2023-03-22T06:00:00.135Z"
   },
   {
    "duration": 71,
    "start_time": "2023-03-22T06:01:08.211Z"
   },
   {
    "duration": 232,
    "start_time": "2023-03-22T06:01:47.959Z"
   },
   {
    "duration": 213,
    "start_time": "2023-03-22T06:01:53.577Z"
   },
   {
    "duration": 12,
    "start_time": "2023-03-22T06:19:06.547Z"
   },
   {
    "duration": 1167,
    "start_time": "2023-03-22T06:19:22.865Z"
   },
   {
    "duration": 3,
    "start_time": "2023-03-22T06:19:24.034Z"
   },
   {
    "duration": 35,
    "start_time": "2023-03-22T06:19:24.038Z"
   },
   {
    "duration": 20,
    "start_time": "2023-03-22T06:19:24.075Z"
   },
   {
    "duration": 9,
    "start_time": "2023-03-22T06:19:24.097Z"
   },
   {
    "duration": 22,
    "start_time": "2023-03-22T06:19:24.107Z"
   },
   {
    "duration": 5,
    "start_time": "2023-03-22T06:19:24.130Z"
   },
   {
    "duration": 15,
    "start_time": "2023-03-22T06:19:24.137Z"
   },
   {
    "duration": 50,
    "start_time": "2023-03-22T06:19:24.154Z"
   },
   {
    "duration": 17,
    "start_time": "2023-03-22T06:19:24.206Z"
   },
   {
    "duration": 15,
    "start_time": "2023-03-22T06:19:24.225Z"
   },
   {
    "duration": 5,
    "start_time": "2023-03-22T06:19:24.243Z"
   },
   {
    "duration": 12,
    "start_time": "2023-03-22T06:19:24.250Z"
   },
   {
    "duration": 7,
    "start_time": "2023-03-22T06:19:24.266Z"
   },
   {
    "duration": 13,
    "start_time": "2023-03-22T06:19:24.275Z"
   },
   {
    "duration": 41,
    "start_time": "2023-03-22T06:19:24.289Z"
   },
   {
    "duration": 5,
    "start_time": "2023-03-22T06:19:24.331Z"
   },
   {
    "duration": 181,
    "start_time": "2023-03-22T06:19:24.338Z"
   },
   {
    "duration": 140,
    "start_time": "2023-03-22T06:19:24.521Z"
   },
   {
    "duration": 10,
    "start_time": "2023-03-22T06:19:24.662Z"
   },
   {
    "duration": 296,
    "start_time": "2023-03-22T06:19:24.673Z"
   },
   {
    "duration": 211,
    "start_time": "2023-03-22T06:19:24.971Z"
   },
   {
    "duration": 319,
    "start_time": "2023-03-22T06:19:25.184Z"
   },
   {
    "duration": 224,
    "start_time": "2023-03-22T06:19:25.506Z"
   },
   {
    "duration": 332,
    "start_time": "2023-03-22T06:19:25.731Z"
   },
   {
    "duration": 154,
    "start_time": "2023-03-22T06:19:26.065Z"
   },
   {
    "duration": 159,
    "start_time": "2023-03-22T06:19:26.221Z"
   },
   {
    "duration": 4,
    "start_time": "2023-03-22T06:19:26.382Z"
   },
   {
    "duration": 219,
    "start_time": "2023-03-22T06:19:26.388Z"
   },
   {
    "duration": 148,
    "start_time": "2023-03-22T06:19:26.609Z"
   },
   {
    "duration": 4,
    "start_time": "2023-03-22T06:19:26.759Z"
   },
   {
    "duration": 245,
    "start_time": "2023-03-22T06:19:26.765Z"
   },
   {
    "duration": 160,
    "start_time": "2023-03-22T06:19:27.011Z"
   },
   {
    "duration": 7,
    "start_time": "2023-03-22T06:19:27.173Z"
   },
   {
    "duration": 28,
    "start_time": "2023-03-22T06:19:27.181Z"
   },
   {
    "duration": 21,
    "start_time": "2023-03-22T06:19:27.211Z"
   },
   {
    "duration": 12,
    "start_time": "2023-03-22T06:19:27.234Z"
   },
   {
    "duration": 11,
    "start_time": "2023-03-22T06:19:27.248Z"
   },
   {
    "duration": 36,
    "start_time": "2023-03-22T06:19:27.261Z"
   },
   {
    "duration": 20,
    "start_time": "2023-03-22T06:19:27.324Z"
   },
   {
    "duration": 82,
    "start_time": "2023-03-22T06:25:34.648Z"
   },
   {
    "duration": 1097,
    "start_time": "2023-03-22T06:25:44.870Z"
   },
   {
    "duration": 9,
    "start_time": "2023-03-22T06:25:45.969Z"
   },
   {
    "duration": 30,
    "start_time": "2023-03-22T06:25:45.980Z"
   },
   {
    "duration": 20,
    "start_time": "2023-03-22T06:25:46.012Z"
   },
   {
    "duration": 8,
    "start_time": "2023-03-22T06:25:46.035Z"
   },
   {
    "duration": 25,
    "start_time": "2023-03-22T06:25:46.044Z"
   },
   {
    "duration": 4,
    "start_time": "2023-03-22T06:25:46.071Z"
   },
   {
    "duration": 14,
    "start_time": "2023-03-22T06:25:46.077Z"
   },
   {
    "duration": 59,
    "start_time": "2023-03-22T06:25:46.092Z"
   },
   {
    "duration": 18,
    "start_time": "2023-03-22T06:25:46.152Z"
   },
   {
    "duration": 20,
    "start_time": "2023-03-22T06:25:46.172Z"
   },
   {
    "duration": 16,
    "start_time": "2023-03-22T06:25:46.194Z"
   },
   {
    "duration": 11,
    "start_time": "2023-03-22T06:25:46.212Z"
   },
   {
    "duration": 26,
    "start_time": "2023-03-22T06:25:46.227Z"
   },
   {
    "duration": 29,
    "start_time": "2023-03-22T06:25:46.255Z"
   },
   {
    "duration": 17,
    "start_time": "2023-03-22T06:25:46.286Z"
   },
   {
    "duration": 6,
    "start_time": "2023-03-22T06:25:46.304Z"
   },
   {
    "duration": 166,
    "start_time": "2023-03-22T06:25:46.311Z"
   },
   {
    "duration": 130,
    "start_time": "2023-03-22T06:25:46.479Z"
   },
   {
    "duration": 23,
    "start_time": "2023-03-22T06:25:46.611Z"
   },
   {
    "duration": 319,
    "start_time": "2023-03-22T06:25:46.637Z"
   },
   {
    "duration": 206,
    "start_time": "2023-03-22T06:25:46.958Z"
   },
   {
    "duration": 279,
    "start_time": "2023-03-22T06:25:47.166Z"
   },
   {
    "duration": 204,
    "start_time": "2023-03-22T06:25:47.447Z"
   },
   {
    "duration": 305,
    "start_time": "2023-03-22T06:25:47.653Z"
   },
   {
    "duration": 149,
    "start_time": "2023-03-22T06:25:47.959Z"
   },
   {
    "duration": 157,
    "start_time": "2023-03-22T06:25:48.110Z"
   },
   {
    "duration": 4,
    "start_time": "2023-03-22T06:25:48.269Z"
   },
   {
    "duration": 225,
    "start_time": "2023-03-22T06:25:48.274Z"
   },
   {
    "duration": 151,
    "start_time": "2023-03-22T06:25:48.501Z"
   },
   {
    "duration": 4,
    "start_time": "2023-03-22T06:25:48.653Z"
   },
   {
    "duration": 281,
    "start_time": "2023-03-22T06:25:48.659Z"
   },
   {
    "duration": 151,
    "start_time": "2023-03-22T06:25:48.943Z"
   },
   {
    "duration": 6,
    "start_time": "2023-03-22T06:25:49.096Z"
   },
   {
    "duration": 42,
    "start_time": "2023-03-22T06:25:49.103Z"
   },
   {
    "duration": 11,
    "start_time": "2023-03-22T06:25:49.147Z"
   },
   {
    "duration": 13,
    "start_time": "2023-03-22T06:25:49.160Z"
   },
   {
    "duration": 14,
    "start_time": "2023-03-22T06:25:49.175Z"
   },
   {
    "duration": 40,
    "start_time": "2023-03-22T06:25:49.190Z"
   },
   {
    "duration": 14,
    "start_time": "2023-03-22T06:25:49.232Z"
   },
   {
    "duration": 1229,
    "start_time": "2023-03-22T09:34:13.711Z"
   },
   {
    "duration": 4,
    "start_time": "2023-03-22T09:34:14.942Z"
   },
   {
    "duration": 46,
    "start_time": "2023-03-22T09:34:14.948Z"
   },
   {
    "duration": 21,
    "start_time": "2023-03-22T09:34:14.996Z"
   },
   {
    "duration": 32,
    "start_time": "2023-03-22T09:34:15.019Z"
   },
   {
    "duration": 21,
    "start_time": "2023-03-22T09:34:15.053Z"
   },
   {
    "duration": 13,
    "start_time": "2023-03-22T09:34:15.075Z"
   },
   {
    "duration": 39,
    "start_time": "2023-03-22T09:34:15.089Z"
   },
   {
    "duration": 63,
    "start_time": "2023-03-22T09:34:15.130Z"
   },
   {
    "duration": 18,
    "start_time": "2023-03-22T09:34:15.195Z"
   },
   {
    "duration": 29,
    "start_time": "2023-03-22T09:34:15.215Z"
   },
   {
    "duration": 8,
    "start_time": "2023-03-22T09:34:15.246Z"
   },
   {
    "duration": 23,
    "start_time": "2023-03-22T09:34:15.256Z"
   },
   {
    "duration": 10,
    "start_time": "2023-03-22T09:34:15.283Z"
   },
   {
    "duration": 28,
    "start_time": "2023-03-22T09:34:15.295Z"
   },
   {
    "duration": 10,
    "start_time": "2023-03-22T09:34:15.325Z"
   },
   {
    "duration": 8,
    "start_time": "2023-03-22T09:34:15.336Z"
   },
   {
    "duration": 204,
    "start_time": "2023-03-22T09:34:15.346Z"
   },
   {
    "duration": 129,
    "start_time": "2023-03-22T09:34:15.552Z"
   },
   {
    "duration": 10,
    "start_time": "2023-03-22T09:34:15.683Z"
   },
   {
    "duration": 313,
    "start_time": "2023-03-22T09:34:15.695Z"
   },
   {
    "duration": 208,
    "start_time": "2023-03-22T09:34:16.010Z"
   },
   {
    "duration": 305,
    "start_time": "2023-03-22T09:34:16.224Z"
   },
   {
    "duration": 222,
    "start_time": "2023-03-22T09:34:16.531Z"
   },
   {
    "duration": 340,
    "start_time": "2023-03-22T09:34:16.755Z"
   },
   {
    "duration": 149,
    "start_time": "2023-03-22T09:34:17.097Z"
   },
   {
    "duration": 156,
    "start_time": "2023-03-22T09:34:17.248Z"
   },
   {
    "duration": 5,
    "start_time": "2023-03-22T09:34:17.406Z"
   },
   {
    "duration": 235,
    "start_time": "2023-03-22T09:34:17.412Z"
   },
   {
    "duration": 148,
    "start_time": "2023-03-22T09:34:17.649Z"
   },
   {
    "duration": 4,
    "start_time": "2023-03-22T09:34:17.798Z"
   },
   {
    "duration": 251,
    "start_time": "2023-03-22T09:34:17.804Z"
   },
   {
    "duration": 190,
    "start_time": "2023-03-22T09:34:18.057Z"
   },
   {
    "duration": 6,
    "start_time": "2023-03-22T09:34:18.249Z"
   },
   {
    "duration": 22,
    "start_time": "2023-03-22T09:34:18.257Z"
   },
   {
    "duration": 11,
    "start_time": "2023-03-22T09:34:18.281Z"
   },
   {
    "duration": 36,
    "start_time": "2023-03-22T09:34:18.294Z"
   },
   {
    "duration": 8,
    "start_time": "2023-03-22T09:34:18.332Z"
   },
   {
    "duration": 24,
    "start_time": "2023-03-22T09:34:18.342Z"
   },
   {
    "duration": 15,
    "start_time": "2023-03-22T09:34:18.367Z"
   },
   {
    "duration": 1343,
    "start_time": "2023-04-02T15:39:17.164Z"
   },
   {
    "duration": 3,
    "start_time": "2023-04-02T15:39:18.509Z"
   },
   {
    "duration": 113,
    "start_time": "2023-04-02T15:39:18.514Z"
   },
   {
    "duration": 20,
    "start_time": "2023-04-02T15:39:18.629Z"
   },
   {
    "duration": 9,
    "start_time": "2023-04-02T15:39:18.652Z"
   },
   {
    "duration": 13,
    "start_time": "2023-04-02T15:39:18.663Z"
   },
   {
    "duration": 5,
    "start_time": "2023-04-02T15:39:18.678Z"
   },
   {
    "duration": 43,
    "start_time": "2023-04-02T15:39:18.684Z"
   },
   {
    "duration": 155,
    "start_time": "2023-04-02T15:39:18.729Z"
   },
   {
    "duration": 22,
    "start_time": "2023-04-02T15:39:18.886Z"
   },
   {
    "duration": 16,
    "start_time": "2023-04-02T15:39:18.910Z"
   },
   {
    "duration": 9,
    "start_time": "2023-04-02T15:39:18.928Z"
   },
   {
    "duration": 14,
    "start_time": "2023-04-02T15:39:18.938Z"
   },
   {
    "duration": 40,
    "start_time": "2023-04-02T15:39:18.955Z"
   },
   {
    "duration": 15,
    "start_time": "2023-04-02T15:39:18.997Z"
   },
   {
    "duration": 10,
    "start_time": "2023-04-02T15:39:19.015Z"
   },
   {
    "duration": 7,
    "start_time": "2023-04-02T15:39:19.027Z"
   },
   {
    "duration": 215,
    "start_time": "2023-04-02T15:39:19.035Z"
   },
   {
    "duration": 151,
    "start_time": "2023-04-02T15:39:19.251Z"
   },
   {
    "duration": 12,
    "start_time": "2023-04-02T15:39:19.404Z"
   },
   {
    "duration": 317,
    "start_time": "2023-04-02T15:39:19.418Z"
   },
   {
    "duration": 261,
    "start_time": "2023-04-02T15:39:19.738Z"
   },
   {
    "duration": 302,
    "start_time": "2023-04-02T15:39:20.002Z"
   },
   {
    "duration": 289,
    "start_time": "2023-04-02T15:39:20.305Z"
   },
   {
    "duration": 383,
    "start_time": "2023-04-02T15:39:20.597Z"
   },
   {
    "duration": 171,
    "start_time": "2023-04-02T15:39:20.988Z"
   },
   {
    "duration": 180,
    "start_time": "2023-04-02T15:39:21.161Z"
   },
   {
    "duration": 4,
    "start_time": "2023-04-02T15:39:21.344Z"
   },
   {
    "duration": 260,
    "start_time": "2023-04-02T15:39:21.350Z"
   },
   {
    "duration": 207,
    "start_time": "2023-04-02T15:39:21.612Z"
   },
   {
    "duration": 4,
    "start_time": "2023-04-02T15:39:21.821Z"
   },
   {
    "duration": 352,
    "start_time": "2023-04-02T15:39:21.827Z"
   },
   {
    "duration": 240,
    "start_time": "2023-04-02T15:39:22.181Z"
   },
   {
    "duration": 7,
    "start_time": "2023-04-02T15:39:22.423Z"
   },
   {
    "duration": 28,
    "start_time": "2023-04-02T15:39:22.432Z"
   },
   {
    "duration": 37,
    "start_time": "2023-04-02T15:39:22.461Z"
   },
   {
    "duration": 11,
    "start_time": "2023-04-02T15:39:22.506Z"
   },
   {
    "duration": 8,
    "start_time": "2023-04-02T15:39:22.518Z"
   },
   {
    "duration": 28,
    "start_time": "2023-04-02T15:39:22.528Z"
   },
   {
    "duration": 46,
    "start_time": "2023-04-02T15:39:22.558Z"
   },
   {
    "duration": 10,
    "start_time": "2023-04-02T15:40:01.316Z"
   }
  ],
  "kernelspec": {
   "display_name": "Python 3 (ipykernel)",
   "language": "python",
   "name": "python3"
  },
  "language_info": {
   "codemirror_mode": {
    "name": "ipython",
    "version": 3
   },
   "file_extension": ".py",
   "mimetype": "text/x-python",
   "name": "python",
   "nbconvert_exporter": "python",
   "pygments_lexer": "ipython3",
   "version": "3.10.7"
  },
  "toc": {
   "base_numbering": 1,
   "nav_menu": {},
   "number_sections": true,
   "sideBar": true,
   "skip_h1_title": true,
   "title_cell": "Table of Contents",
   "title_sidebar": "Contents",
   "toc_cell": false,
   "toc_position": {
    "height": "calc(100% - 180px)",
    "left": "10px",
    "top": "150px",
    "width": "165px"
   },
   "toc_section_display": true,
   "toc_window_display": true
  }
 },
 "nbformat": 4,
 "nbformat_minor": 2
}
